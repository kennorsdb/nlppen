{
 "cells": [
  {
   "cell_type": "markdown",
   "id": "fcf72447-ad27-4e2d-8578-b2f119a042e1",
   "metadata": {
    "tags": []
   },
   "source": [
    "# Sentencias Estructurales"
   ]
  },
  {
   "cell_type": "code",
   "execution_count": 1,
   "id": "593d7eea-d66e-4c6c-ac74-7cd183ea9366",
   "metadata": {
    "tags": [
     "remove_cell"
    ]
   },
   "outputs": [
    {
     "name": "stderr",
     "output_type": "stream",
     "text": [
      "21/10/19 16:38:25 WARN NativeCodeLoader: Unable to load native-hadoop library for your platform... using builtin-java classes where applicable\n",
      "Using Spark's default log4j profile: org/apache/spark/log4j-defaults.properties\n",
      "Setting default log level to \"WARN\".\n",
      "To adjust logging level use sc.setLogLevel(newLevel). For SparkR, use setLogLevel(newLevel).\n",
      "                                                                                \r"
     ]
    }
   ],
   "source": [
    "%%capture --no-display\n",
    "%load_ext autoreload\n",
    "%autoreload 2\n",
    "from reporte import *\n",
    "from IPython.display import Latex\n",
    "\n",
    "import sys\n",
    "sys.path.insert(0, '../../')\n",
    "from nlppen.descripcion import *\n",
    "\n",
    "# Inicialización y Carga de datos\n",
    "spark, sc = init_spark()\n",
    "estructurales = cargar_datos(spark)"
   ]
  },
  {
   "cell_type": "code",
   "execution_count": 52,
   "id": "978e2ee7-cbc0-4823-9bf1-148f6a78ae68",
   "metadata": {},
   "outputs": [
    {
     "ename": "AnalysisException",
     "evalue": "cannot resolve '`1970-01-01`' given input columns: [Cantón_ents, CitaSentencias_ents, Constitución_ents, EntidadPublica_ents, FechaSolicitud, Fecha_ents, Fechahora_ents, Ley_ents, Magistrado_ents, Recurrente_ents, Recurrido_ents, Redactor_ents, Reglamento_ents, _id, anno, archivo, cleanText, dias_tramite, expediente, extension_por_lo_tanto, extension_sentencia, fechahora_ext, num, plan, plazo, plazosDefinidos, redactor_ext, se_ordena, se_ordena_Ent_Pub, se_ordena_GPE, se_ordena_LOC, se_ordena_MISC, se_ordena_ORG, se_ordena_PER, seguimiento, tema, tema_prob, termino_ext, termino_lst, tipoResolucion_ext, txt, voto_salvado];\n'Project [archivo#54, txt#55, cleanText#56, num#57L, fechahora_ext#58, redactor_ext#59, tipoResolucion_ext#60, termino_ext#61, voto_salvado#62, tema#63, Recurrente_ents#64, Cantón_ents#65, Fecha_ents#66, Constitución_ents#67, Redactor_ents#68, Ley_ents#69, EntidadPublica_ents#70, tema_prob#71, termino_lst#72, expediente#73, Fechahora_ents#74, CitaSentencias_ents#75, Recurrido_ents#76, Reglamento_ents#77, ... 18 more fields]\n+- Project [archivo#54, txt#55, cleanText#56, num#57L, fechahora_ext#58, redactor_ext#59, tipoResolucion_ext#60, termino_ext#61, voto_salvado#62, tema#63, Recurrente_ents#64, Cantón_ents#65, Fecha_ents#66, Constitución_ents#67, Redactor_ents#68, Ley_ents#69, EntidadPublica_ents#70, tema_prob#71, termino_lst#72, expediente#73, Fechahora_ents#74, CitaSentencias_ents#75, Recurrido_ents#76, Reglamento_ents#77, ... 18 more fields]\n   +- Filter (anno#94 < 2019)\n      +- Filter (anno#94 < 2019)\n         +- Relation[archivo#54,txt#55,cleanText#56,num#57L,fechahora_ext#58,redactor_ext#59,tipoResolucion_ext#60,termino_ext#61,voto_salvado#62,tema#63,Recurrente_ents#64,Cantón_ents#65,Fecha_ents#66,Constitución_ents#67,Redactor_ents#68,Ley_ents#69,EntidadPublica_ents#70,tema_prob#71,termino_lst#72,expediente#73,Fechahora_ents#74,CitaSentencias_ents#75,Recurrido_ents#76,Reglamento_ents#77,... 17 more fields] parquet\n",
     "output_type": "error",
     "traceback": [
      "\u001b[0;31m---------------------------------------------------------------------------\u001b[0m",
      "\u001b[0;31mAnalysisException\u001b[0m                         Traceback (most recent call last)",
      "\u001b[0;32m/tmp/ipykernel_4535/2529032001.py\u001b[0m in \u001b[0;36m<module>\u001b[0;34m\u001b[0m\n\u001b[0;32m----> 1\u001b[0;31m (estructurales.seleccion.sdf\n\u001b[0m\u001b[1;32m      2\u001b[0m                                 \u001b[0;34m.\u001b[0m\u001b[0mwhere\u001b[0m\u001b[0;34m(\u001b[0m\u001b[0;34m'anno < 2019'\u001b[0m\u001b[0;34m)\u001b[0m\u001b[0;34m\u001b[0m\u001b[0;34m\u001b[0m\u001b[0m\n\u001b[1;32m      3\u001b[0m                                 \u001b[0;34m.\u001b[0m\u001b[0mwithColumn\u001b[0m\u001b[0;34m(\u001b[0m\u001b[0;34m'dias_tramite'\u001b[0m\u001b[0;34m,\u001b[0m \u001b[0mF\u001b[0m\u001b[0;34m.\u001b[0m\u001b[0mdatediff\u001b[0m\u001b[0;34m(\u001b[0m\u001b[0;34m'fechahora_ext'\u001b[0m\u001b[0;34m,\u001b[0m \u001b[0;34m'FechaSolicitud'\u001b[0m\u001b[0;34m)\u001b[0m\u001b[0;34m)\u001b[0m\u001b[0;34m\u001b[0m\u001b[0;34m\u001b[0m\u001b[0m\n\u001b[1;32m      4\u001b[0m                                 \u001b[0;34m.\u001b[0m\u001b[0mwithColumn\u001b[0m\u001b[0;34m(\u001b[0m\u001b[0;34m'plazosDefinidos'\u001b[0m\u001b[0;34m,\u001b[0m \u001b[0mF\u001b[0m\u001b[0;34m.\u001b[0m\u001b[0mdatediff\u001b[0m\u001b[0;34m(\u001b[0m\u001b[0;34m'plazosDefinidos'\u001b[0m\u001b[0;34m,\u001b[0m \u001b[0;34m'1970-01-01'\u001b[0m\u001b[0;34m)\u001b[0m\u001b[0;34m)\u001b[0m\u001b[0;34m\u001b[0m\u001b[0;34m\u001b[0m\u001b[0m\n\u001b[1;32m      5\u001b[0m                                 )\n",
      "\u001b[0;32m/opt/conda/lib/python3.9/site-packages/pyspark/sql/dataframe.py\u001b[0m in \u001b[0;36mwithColumn\u001b[0;34m(self, colName, col)\u001b[0m\n\u001b[1;32m   2453\u001b[0m         \"\"\"\n\u001b[1;32m   2454\u001b[0m         \u001b[0;32massert\u001b[0m \u001b[0misinstance\u001b[0m\u001b[0;34m(\u001b[0m\u001b[0mcol\u001b[0m\u001b[0;34m,\u001b[0m \u001b[0mColumn\u001b[0m\u001b[0;34m)\u001b[0m\u001b[0;34m,\u001b[0m \u001b[0;34m\"col should be Column\"\u001b[0m\u001b[0;34m\u001b[0m\u001b[0;34m\u001b[0m\u001b[0m\n\u001b[0;32m-> 2455\u001b[0;31m         \u001b[0;32mreturn\u001b[0m \u001b[0mDataFrame\u001b[0m\u001b[0;34m(\u001b[0m\u001b[0mself\u001b[0m\u001b[0;34m.\u001b[0m\u001b[0m_jdf\u001b[0m\u001b[0;34m.\u001b[0m\u001b[0mwithColumn\u001b[0m\u001b[0;34m(\u001b[0m\u001b[0mcolName\u001b[0m\u001b[0;34m,\u001b[0m \u001b[0mcol\u001b[0m\u001b[0;34m.\u001b[0m\u001b[0m_jc\u001b[0m\u001b[0;34m)\u001b[0m\u001b[0;34m,\u001b[0m \u001b[0mself\u001b[0m\u001b[0;34m.\u001b[0m\u001b[0msql_ctx\u001b[0m\u001b[0;34m)\u001b[0m\u001b[0;34m\u001b[0m\u001b[0;34m\u001b[0m\u001b[0m\n\u001b[0m\u001b[1;32m   2456\u001b[0m \u001b[0;34m\u001b[0m\u001b[0m\n\u001b[1;32m   2457\u001b[0m     \u001b[0;32mdef\u001b[0m \u001b[0mwithColumnRenamed\u001b[0m\u001b[0;34m(\u001b[0m\u001b[0mself\u001b[0m\u001b[0;34m,\u001b[0m \u001b[0mexisting\u001b[0m\u001b[0;34m,\u001b[0m \u001b[0mnew\u001b[0m\u001b[0;34m)\u001b[0m\u001b[0;34m:\u001b[0m\u001b[0;34m\u001b[0m\u001b[0;34m\u001b[0m\u001b[0m\n",
      "\u001b[0;32m/opt/conda/lib/python3.9/site-packages/py4j/java_gateway.py\u001b[0m in \u001b[0;36m__call__\u001b[0;34m(self, *args)\u001b[0m\n\u001b[1;32m   1302\u001b[0m \u001b[0;34m\u001b[0m\u001b[0m\n\u001b[1;32m   1303\u001b[0m         \u001b[0manswer\u001b[0m \u001b[0;34m=\u001b[0m \u001b[0mself\u001b[0m\u001b[0;34m.\u001b[0m\u001b[0mgateway_client\u001b[0m\u001b[0;34m.\u001b[0m\u001b[0msend_command\u001b[0m\u001b[0;34m(\u001b[0m\u001b[0mcommand\u001b[0m\u001b[0;34m)\u001b[0m\u001b[0;34m\u001b[0m\u001b[0;34m\u001b[0m\u001b[0m\n\u001b[0;32m-> 1304\u001b[0;31m         return_value = get_return_value(\n\u001b[0m\u001b[1;32m   1305\u001b[0m             answer, self.gateway_client, self.target_id, self.name)\n\u001b[1;32m   1306\u001b[0m \u001b[0;34m\u001b[0m\u001b[0m\n",
      "\u001b[0;32m/opt/conda/lib/python3.9/site-packages/pyspark/sql/utils.py\u001b[0m in \u001b[0;36mdeco\u001b[0;34m(*a, **kw)\u001b[0m\n\u001b[1;32m    115\u001b[0m                 \u001b[0;31m# Hide where the exception came from that shows a non-Pythonic\u001b[0m\u001b[0;34m\u001b[0m\u001b[0;34m\u001b[0m\u001b[0;34m\u001b[0m\u001b[0m\n\u001b[1;32m    116\u001b[0m                 \u001b[0;31m# JVM exception message.\u001b[0m\u001b[0;34m\u001b[0m\u001b[0;34m\u001b[0m\u001b[0;34m\u001b[0m\u001b[0m\n\u001b[0;32m--> 117\u001b[0;31m                 \u001b[0;32mraise\u001b[0m \u001b[0mconverted\u001b[0m \u001b[0;32mfrom\u001b[0m \u001b[0;32mNone\u001b[0m\u001b[0;34m\u001b[0m\u001b[0;34m\u001b[0m\u001b[0m\n\u001b[0m\u001b[1;32m    118\u001b[0m             \u001b[0;32melse\u001b[0m\u001b[0;34m:\u001b[0m\u001b[0;34m\u001b[0m\u001b[0;34m\u001b[0m\u001b[0m\n\u001b[1;32m    119\u001b[0m                 \u001b[0;32mraise\u001b[0m\u001b[0;34m\u001b[0m\u001b[0;34m\u001b[0m\u001b[0m\n",
      "\u001b[0;31mAnalysisException\u001b[0m: cannot resolve '`1970-01-01`' given input columns: [Cantón_ents, CitaSentencias_ents, Constitución_ents, EntidadPublica_ents, FechaSolicitud, Fecha_ents, Fechahora_ents, Ley_ents, Magistrado_ents, Recurrente_ents, Recurrido_ents, Redactor_ents, Reglamento_ents, _id, anno, archivo, cleanText, dias_tramite, expediente, extension_por_lo_tanto, extension_sentencia, fechahora_ext, num, plan, plazo, plazosDefinidos, redactor_ext, se_ordena, se_ordena_Ent_Pub, se_ordena_GPE, se_ordena_LOC, se_ordena_MISC, se_ordena_ORG, se_ordena_PER, seguimiento, tema, tema_prob, termino_ext, termino_lst, tipoResolucion_ext, txt, voto_salvado];\n'Project [archivo#54, txt#55, cleanText#56, num#57L, fechahora_ext#58, redactor_ext#59, tipoResolucion_ext#60, termino_ext#61, voto_salvado#62, tema#63, Recurrente_ents#64, Cantón_ents#65, Fecha_ents#66, Constitución_ents#67, Redactor_ents#68, Ley_ents#69, EntidadPublica_ents#70, tema_prob#71, termino_lst#72, expediente#73, Fechahora_ents#74, CitaSentencias_ents#75, Recurrido_ents#76, Reglamento_ents#77, ... 18 more fields]\n+- Project [archivo#54, txt#55, cleanText#56, num#57L, fechahora_ext#58, redactor_ext#59, tipoResolucion_ext#60, termino_ext#61, voto_salvado#62, tema#63, Recurrente_ents#64, Cantón_ents#65, Fecha_ents#66, Constitución_ents#67, Redactor_ents#68, Ley_ents#69, EntidadPublica_ents#70, tema_prob#71, termino_lst#72, expediente#73, Fechahora_ents#74, CitaSentencias_ents#75, Recurrido_ents#76, Reglamento_ents#77, ... 18 more fields]\n   +- Filter (anno#94 < 2019)\n      +- Filter (anno#94 < 2019)\n         +- Relation[archivo#54,txt#55,cleanText#56,num#57L,fechahora_ext#58,redactor_ext#59,tipoResolucion_ext#60,termino_ext#61,voto_salvado#62,tema#63,Recurrente_ents#64,Cantón_ents#65,Fecha_ents#66,Constitución_ents#67,Redactor_ents#68,Ley_ents#69,EntidadPublica_ents#70,tema_prob#71,termino_lst#72,expediente#73,Fechahora_ents#74,CitaSentencias_ents#75,Recurrido_ents#76,Reglamento_ents#77,... 17 more fields] parquet\n"
     ]
    }
   ],
   "source": [
    "from datetime import date\n",
    "(estructurales.seleccion.sdf\n",
    "                                .where('anno < 2019')\n",
    "                                .withColumn('dias_tramite', F.datediff('fechahora_ext', 'FechaSolicitud'))\n",
    "                                .withColumn('plazosDefinidos', F.datediff('plazosDefinidos', '1970-01-01'))\n",
    "                                )"
   ]
  },
  {
   "cell_type": "code",
   "execution_count": 2,
   "id": "afd33235-b842-4982-8395-d50ae481b1a8",
   "metadata": {},
   "outputs": [
    {
     "name": "stderr",
     "output_type": "stream",
     "text": [
      "/opt/conda/lib/python3.9/site-packages/pyspark/sql/pandas/conversion.py:87: UserWarning: toPandas attempted Arrow optimization because 'spark.sql.execution.arrow.pyspark.enabled' is set to true; however, failed by the reason below:\n",
      "  Unsupported type in conversion to Arrow: ArrayType(TimestampType,true)\n",
      "Attempting non-optimization as 'spark.sql.execution.arrow.pyspark.fallback.enabled' is set to true.\n",
      "  warnings.warn(msg)\n",
      "                                                                                \r"
     ]
    }
   ],
   "source": [
    "estructurales.seleccion.sdf = (estructurales.seleccion.sdf\n",
    "                                .where('anno < 2019')\n",
    "                                .withColumn('dias_tramite', F.datediff('fechahora_ext', 'FechaSolicitud'))\n",
    "                                .withColumn('plazosDefinidos', F.datediff('plazosDefinidos', '1970-01-01'))\n",
    "                                )\n",
    "\n",
    "columnas = ['archivo',\n",
    "            'expediente',\n",
    "            'anno',\n",
    "            'fechahora_ext',\n",
    "            'redactor_ext',\n",
    "            'tipoResolucion_ext',\n",
    "            'termino_ext',\n",
    "            'voto_salvado',\n",
    "            'tema',\n",
    "            'tema_prob',\n",
    "            'Recurrente_ents',\n",
    "            'Cantón_ents',\n",
    "            'Fecha_ents',\n",
    "            'Constitución_ents',\n",
    "            'Redactor_ents',\n",
    "            'Ley_ents',\n",
    "            'EntidadPublica_ents',\n",
    "            'Fechahora_ents',\n",
    "            'CitaSentencias_ents',\n",
    "            'Recurrido_ents',\n",
    "            'Reglamento_ents',\n",
    "            'Magistrado_ents',\n",
    "            'seguimiento',\n",
    "            'se_ordena',\n",
    "            'plan',\n",
    "            'plazo',\n",
    "            'se_ordena_PER',\n",
    "            'se_ordena_LOC',\n",
    "            'se_ordena_ORG',\n",
    "            'se_ordena_MISC',\n",
    "            'se_ordena_GPE',\n",
    "            'se_ordena_Ent_Pub',\n",
    "            'extension_sentencia',\n",
    "            'extension_por_lo_tanto',\n",
    "            'plazosDefinidos',\n",
    "            'FechaSolicitud']\n",
    "\n",
    "descr = Descripcion(estructurales.seleccion, './extraccion')\n",
    "descr.guardar_lista(columnas, sheet='Lista de Sentencias con lugar')"
   ]
  },
  {
   "cell_type": "markdown",
   "id": "22a9949a-18f0-4f77-86c5-7087adcd7580",
   "metadata": {
    "tags": []
   },
   "source": [
    "## Introducción\n",
    "\n",
    "En este reporte se exploran resultados preliminares de la aplicación de los criterios de clasificación de sentencias estructurales en el corpus de resoluciones de la Sala Constitucional de Costa Rica. Estos criterios están definidos en el documento de trabajo _\"Propuesta de definición y operacionalización de sentencias estructurales\"_ (Estado de la Justicia, 2021), donde se agrupan las tres dimensiones Contenido, Forma y Calidad:"
   ]
  },
  {
   "cell_type": "markdown",
   "id": "9302e934-1c3b-4c48-ac5d-bcd42ceae0da",
   "metadata": {
    "tags": []
   },
   "source": [
    "### Dimensión Contenido\n",
    " \n",
    " \n",
    "| Num. | Característica                                                                | Operacionalización               | Unidad de registro                               |\n",
    "| ---- |:------------------------------------------------------------------------------|:----------------------------------|:--------------------------------------------------|\n",
    "| CO01  | Busca solucionar un problema estructural, reiterado y serio                   | Problema estructural que atiende | Listado de problemas estructurales a identificar |\n",
    "| CO02  | Se centra en la protección de temáticas relacionados con los derechos humanos | 1. Se menciona un derecho humano afectado? <br> 2. Cuál? | 1. Sí y no.  <br> 2. Listado de derechos humanos a identificar |\n",
    "| CO03  | Afecta a un grupo de personas, más allá de quién (es) presentaron el recurso | 1. En la sección general hay más de un demandante (un nombre). <br> 2. Por lo tanto menciona un grupo de la población específico | 1. Sí o no.  | Contien la palabra indígenas, personas con discapacidad, privados de libertad, vecinos, estudiantes, pacientes, etc. |\n",
    "| CO04  | Sirve como referente en la resolución de un elevado número de casos similares o idénticos |  1. Es citado en otras resoluciones. <br> 2. ¿Cuáles? | 1.Número de veces que se cita en otras resoluciones. <br> 2.Expedientes en los cuales se cita. |\n",
    "| ~~CO05~~  | Establece como una condición dar seguimiento para verificar el cumplimiento efectivo de dicha sentencia | Contiene la palabra \"Seguimiento\" | 1. Sí o no. <br> 2. (Informes??, planificación??) |\n",
    " \n",
    " "
   ]
  },
  {
   "cell_type": "markdown",
   "id": "e7e5dff8-5068-433b-a7ce-b24aca971444",
   "metadata": {
    "tags": []
   },
   "source": [
    "### Dimensión Forma\n",
    "\n",
    "| Num. | Característica  | Operacionalización | Unidad de registro   |\n",
    "| ---- |:----------------|--------------------|----------------------|\n",
    "| FO01 | Implica órdenes/disposiciones de cumplimiento obligatorio  | Contiene un \"Se ordena\" <br> (?? Con un plazo)  | Sí o no.   |\n",
    "| FO02 | Señala qué debe hacerse y a quién (persona o ente) le corresponde realizar dicha acción  | Después de la palabra “se ordena” se menciona un nombre de la persona o institución  | Extraer el nombre completo.   |\n",
    "| FO03 | Define plazos para el cumplimiento de las órdenes/disposiciones emitidas  | En el Por Tanto se menciona la palabra “meses”  | Extraer las palabras o números antes de meses.   |\n",
    "| FO04 | Se registran declaraciones/pronunciamientos repetidos por parte de la Sala Constitucional  | Cantidad de referencia a otras sentencias similares o iguales  | Número de referencias <br> Número de expediente de las sentencias a las cuales se hace referencia  |\n",
    "| FO05 | Señala que para el cumplimiento del problema estructural se debe elaborar un plan  | Aparece la palabra “plan”  | Sí o no  |\n",
    "| FO06 | Hay más de una institución involucrada en la ejecución y supervisión del cumplimiento de la sentencias  | ¿Cuántas instituciones están involucradas en la ejecución y supervisión del cumplimiento de la sentencias?  | Sí o no <br> Número de instituciones  |"
   ]
  },
  {
   "cell_type": "markdown",
   "id": "e0f4856a-914f-4d2f-82a9-9c663cdfb721",
   "metadata": {
    "tags": []
   },
   "source": [
    "### Dimensión Calidad\n",
    "| Característica   | Operacionalización | Unidad de registro   |\n",
    "|:-----------------|--------------------|----------------------|\n",
    "| Extensión de la sentencia  | Cantidad de palabras (entre X y Y)  | Números absolutos  |\n",
    "| Tiempo que tomó emitir la resolución  | Meses que tomó emitir la resolución (entre X y Y)  | Fecha de presentación del recurso y fecha del voto  |\n",
    "| Uso de lenguaje jurídico y técnico  | Cantidad de términos jurídicos y técnicos únicos citados  | Términos únicos en el texto.  |\n",
    "| Profundidad de las argumentaciones expuestas  |    |   |\n",
    "| Cantidad de fuentes/autores citados  | En el Considerando: se mencionan autores, líneas filosóficas o literatura   | Incluye las palabras doctrina, literatura,  |\n",
    "| Jurisprudencia citada  | En el Considerando se citan instrumentos internacionales referidos, u organismos internacionales, incluyendo cortes internacionales, otros tribunales constitucionales  | Cantidad de instrumentos. <br> <br>Listado de instrumentos citados. <br> <br>Listado de organizaciones citadas  |\n",
    "| Redactada por los magistrados y magistradas propietarios  | Redacta un propietario. <br> <br> <br>Votación la realizan  magistrados (as) propietarios (as)   | Si o no.  <br> <br>Cantidad de magistrados (as) propietarios (as) que votan  |"
   ]
  },
  {
   "cell_type": "markdown",
   "id": "3bb5712b-c4ca-42f4-bcf3-44d893c26abd",
   "metadata": {
    "tags": []
   },
   "source": [
    "# Dimensión Contenido"
   ]
  },
  {
   "cell_type": "markdown",
   "id": "d34f1f7f-63e2-4a68-ae73-743c009df7f9",
   "metadata": {},
   "source": [
    "## Criterio CO5. Seguimiento"
   ]
  },
  {
   "cell_type": "code",
   "execution_count": 3,
   "id": "fcea41df-0f22-43db-9fcb-ab48de40e238",
   "metadata": {
    "tags": [
     "hide_input"
    ]
   },
   "outputs": [
    {
     "data": {
      "text/latex": [
       "\n",
       "El objetivo es identificar si en el portanto de la sentencia se hace referencia\n",
       "a alguna estrategia de seguimiento, ya sea por la misma Sala o por un tercero.\n",
       "\n",
       "\n",
       "Para obtener la información, se realiza una búsqueda de la palabra seguimiento\n",
       "en el portanto pero no se obtienen resultados concluyentes: solo se obtienen\n",
       "192 sentencias con la palabra, pero la mayor parte no hacen\n",
       "referencia a un plan de seguimiento en particular.\n",
       "\n"
      ],
      "text/plain": [
       "<IPython.core.display.Latex object>"
      ]
     },
     "execution_count": 3,
     "metadata": {},
     "output_type": "execute_result"
    }
   ],
   "source": [
    "seguimiento_total = estructurales.seleccion.sdf.where('seguimiento != 0').count()\n",
    "\n",
    "Latex(f'''\n",
    "El objetivo es identificar si en el portanto de la sentencia se hace referencia\n",
    "a alguna estrategia de seguimiento, ya sea por la misma Sala o por un tercero.\n",
    "\n",
    "\n",
    "Para obtener la información, se realiza una búsqueda de la palabra seguimiento\n",
    "en el portanto pero no se obtienen resultados concluyentes: solo se obtienen\n",
    "{seguimiento_total} sentencias con la palabra, pero la mayor parte no hacen\n",
    "referencia a un plan de seguimiento en particular.\n",
    "\n",
    "''')"
   ]
  },
  {
   "cell_type": "markdown",
   "id": "6b4c20c8-49a6-48ac-8fb0-97da70801975",
   "metadata": {},
   "source": [
    "# Dimensión Forma"
   ]
  },
  {
   "cell_type": "markdown",
   "id": "2a834c7f-95f8-4294-9362-bad34725ccbd",
   "metadata": {
    "tags": []
   },
   "source": [
    "## FO01. Se ordena"
   ]
  },
  {
   "cell_type": "code",
   "execution_count": 4,
   "id": "071760ec-2253-4b11-b1aa-1bb940e17198",
   "metadata": {
    "tags": [
     "remove_cell"
    ]
   },
   "outputs": [],
   "source": [
    "se_ordena_total = (estructurales\n",
    "                    .seleccion.sdf\n",
    "                    .where('se_ordena != 0')\n",
    "                    .count())\n",
    "\n",
    "\n",
    "con_lugar_total = (estructurales\n",
    "                     .seleccion.sdf\n",
    "                     .where('termino_ext == \"Con lugar\" OR  termino_ext == \"Con lugar parcial\" ')\n",
    "                     .count())\n",
    "\n",
    "porcentaje_seordena = 100*se_ordena_total/con_lugar_total"
   ]
  },
  {
   "cell_type": "code",
   "execution_count": 5,
   "id": "dae93b22-fad9-452f-811e-eab29743f6fa",
   "metadata": {},
   "outputs": [
    {
     "data": {
      "text/plain": [
       "62.965837683809845"
      ]
     },
     "execution_count": 5,
     "metadata": {},
     "output_type": "execute_result"
    }
   ],
   "source": [
    "porcentaje_seordena"
   ]
  },
  {
   "cell_type": "markdown",
   "id": "e007dfcd-7da2-43ff-800d-0d6a3e550250",
   "metadata": {},
   "source": [
    "En las sentencias \"con lugar\", normalmente se le ordena a los recurridos alguna acción relacionada a la naturaleza de la sentencia. Esta orden se da a personas particulares, en puestos públicos o pertenecientes a alguna institución o entidad. "
   ]
  },
  {
   "cell_type": "code",
   "execution_count": 6,
   "id": "de0de947-1123-473e-aa7f-6611e660622c",
   "metadata": {
    "tags": [
     "hide_input"
    ]
   },
   "outputs": [
    {
     "data": {
      "text/latex": [
       "\n",
       "Del total de sentencias _\"con lugar\"_ o _\"con lugar parcial\"_, el 62.97%, manteniendo un comportamiento homgéneo durante todos los años (Figura 1).\n"
      ],
      "text/plain": [
       "<IPython.core.display.Latex object>"
      ]
     },
     "execution_count": 6,
     "metadata": {},
     "output_type": "execute_result"
    }
   ],
   "source": [
    "Latex(f'''\n",
    "Del total de sentencias _\"con lugar\"_ o _\"con lugar parcial\"_, el {porcentaje_seordena:1.2f}%, manteniendo un comportamiento homgéneo durante todos los años (Figura 1).\n",
    "''')"
   ]
  },
  {
   "cell_type": "code",
   "execution_count": 7,
   "id": "b9cfedac-a13f-4ca2-a8f7-4a90afdba7ab",
   "metadata": {
    "tags": []
   },
   "outputs": [
    {
     "data": {
      "text/plain": [
       "<AxesSubplot:title={'center':\"Sentencias 'Con lugar' con los términos 'Se ordena'\"}, xlabel='Año', ylabel='Cantidad'>"
      ]
     },
     "execution_count": 7,
     "metadata": {},
     "output_type": "execute_result"
    },
    {
     "data": {
      "image/png": "[encoded data removed]",
      "text/plain": [
       "<Figure size 1152x576 with 1 Axes>"
      ]
     },
     "metadata": {
      "needs_background": "light"
     },
     "output_type": "display_data"
    }
   ],
   "source": [
    "grafico_se_ordena_anno(estructurales)"
   ]
  },
  {
   "cell_type": "markdown",
   "id": "ddd397bf-1822-4ae8-bdc1-58311acb1a1b",
   "metadata": {},
   "source": [
    "## FO02. Se señala qué debe hacerse y a quién"
   ]
  },
  {
   "cell_type": "markdown",
   "id": "1396e66f-907b-40e1-97d6-f0502d90aa43",
   "metadata": {},
   "source": [
    "Instituciones que aparecen en se ordena"
   ]
  },
  {
   "cell_type": "code",
   "execution_count": 8,
   "id": "3cf5e3ea-df1e-46b5-9916-7ebdfae5b75a",
   "metadata": {},
   "outputs": [
    {
     "name": "stderr",
     "output_type": "stream",
     "text": [
      "                                                                                \r"
     ]
    },
    {
     "data": {
      "text/html": [
       "<div>\n",
       "<style scoped>\n",
       "    .dataframe tbody tr th:only-of-type {\n",
       "        vertical-align: middle;\n",
       "    }\n",
       "\n",
       "    .dataframe tbody tr th {\n",
       "        vertical-align: top;\n",
       "    }\n",
       "\n",
       "    .dataframe thead th {\n",
       "        text-align: right;\n",
       "    }\n",
       "</style>\n",
       "<table border=\"1\" class=\"dataframe\">\n",
       "  <thead>\n",
       "    <tr style=\"text-align: right;\">\n",
       "      <th></th>\n",
       "      <th>se_ordena_LOC</th>\n",
       "      <th>count</th>\n",
       "    </tr>\n",
       "  </thead>\n",
       "  <tbody>\n",
       "    <tr>\n",
       "      <th>0</th>\n",
       "      <td>Ministerio de Educación Pública</td>\n",
       "      <td>7159</td>\n",
       "    </tr>\n",
       "    <tr>\n",
       "      <th>1</th>\n",
       "      <td>Sala</td>\n",
       "      <td>2461</td>\n",
       "    </tr>\n",
       "    <tr>\n",
       "      <th>2</th>\n",
       "      <td>Ministerio Público</td>\n",
       "      <td>2098</td>\n",
       "    </tr>\n",
       "    <tr>\n",
       "      <th>3</th>\n",
       "      <td>Hospital Dr. Rafael Ángel Calderón Guardia</td>\n",
       "      <td>1532</td>\n",
       "    </tr>\n",
       "    <tr>\n",
       "      <th>4</th>\n",
       "      <td>Zona de Menor Desarrollo</td>\n",
       "      <td>1367</td>\n",
       "    </tr>\n",
       "    <tr>\n",
       "      <th>...</th>\n",
       "      <td>...</td>\n",
       "      <td>...</td>\n",
       "    </tr>\n",
       "    <tr>\n",
       "      <th>95</th>\n",
       "      <td>Farmacoepidemiología</td>\n",
       "      <td>43</td>\n",
       "    </tr>\n",
       "    <tr>\n",
       "      <th>96</th>\n",
       "      <td>Directora del Área</td>\n",
       "      <td>42</td>\n",
       "    </tr>\n",
       "    <tr>\n",
       "      <th>97</th>\n",
       "      <td>Alcalde Municipal de Puntarenas</td>\n",
       "      <td>42</td>\n",
       "    </tr>\n",
       "    <tr>\n",
       "      <th>98</th>\n",
       "      <td>Guanacaste</td>\n",
       "      <td>42</td>\n",
       "    </tr>\n",
       "    <tr>\n",
       "      <th>99</th>\n",
       "      <td>Sala Constitucional</td>\n",
       "      <td>41</td>\n",
       "    </tr>\n",
       "  </tbody>\n",
       "</table>\n",
       "<p>100 rows × 2 columns</p>\n",
       "</div>"
      ],
      "text/latex": [
       "\\begin{tabular}{llr}\n",
       "\\toprule\n",
       "{} &                                    se\\_ordena\\_LOC &  count \\\\\n",
       "\\midrule\n",
       "0  &                  Ministerio de Educación Pública &   7159 \\\\\n",
       "1  &                                             Sala &   2461 \\\\\n",
       "2  &                               Ministerio Público &   2098 \\\\\n",
       "3  &       Hospital Dr. Rafael Ángel Calderón Guardia &   1532 \\\\\n",
       "4  &                         Zona de Menor Desarrollo &   1367 \\\\\n",
       "5  &                    Ministro de Educación Pública &   1099 \\\\\n",
       "6  &                                         Alajuela &    968 \\\\\n",
       "7  &                           Hospital San Rafael de &    838 \\\\\n",
       "8  &                        Hospital San Juan de Dios &    726 \\\\\n",
       "9  &                                           la Ley &    639 \\\\\n",
       "10 &                                        Directora &    577 \\\\\n",
       "11 &                Ministerio de Trabajo y Seguridad &    559 \\\\\n",
       "12 &            Directora del Área de Carrera Docente &    540 \\\\\n",
       "13 &                                  Hospital México &    500 \\\\\n",
       "14 &                 Hospital Dr. Max Peralta Jiménez &    493 \\\\\n",
       "15 &                              Ministerio de Salud &    492 \\\\\n",
       "16 &                                         Ministro &    439 \\\\\n",
       "17 &         Hospital Dr. Fernando Escalante Pradilla &    403 \\\\\n",
       "18 &       Ministerio de Obras Públicas y Transportes &    389 \\\\\n",
       "19 &             Hospital Dr. Rafael Calderón Guardia &    358 \\\\\n",
       "20 &                                          Cartago &    343 \\\\\n",
       "21 &                                Alcalde Municipal &    339 \\\\\n",
       "22 &                                         Tribunal &    226 \\\\\n",
       "23 &                          Área de Carrera Docente &    213 \\\\\n",
       "24 &                                       Ministerio &    200 \\\\\n",
       "25 &         Ministro de Obras Públicas y Transportes &    198 \\\\\n",
       "26 &                  Ministerio de Seguridad Pública &    197 \\\\\n",
       "27 &                                Directora General &    187 \\\\\n",
       "28 &                     Hospital San Vicente de Paúl &    174 \\\\\n",
       "29 &                        Departamento de Planillas &    165 \\\\\n",
       "30 &                  Instituto de Desarrollo Agrario &    160 \\\\\n",
       "31 &                  Hospital San Rafael de Alajuela &    154 \\\\\n",
       "32 &       Instituto Nacional de Vivienda y Urbanismo &    151 \\\\\n",
       "33 &                     Hospital Max Peralta Jiménez &    148 \\\\\n",
       "34 &                Dirección de Farmacoepidemiología &    147 \\\\\n",
       "35 &                    Hospital Dr. Calderón Guardia &    147 \\\\\n",
       "36 &                 Presidente del Concejo Municipal &    146 \\\\\n",
       "37 &                        Corte Suprema de Justicia &    137 \\\\\n",
       "38 &                  Pleno de la Sala Constitucional &    137 \\\\\n",
       "39 &                                Concejo Municipal &    136 \\\\\n",
       "40 &                    Directora de Recursos Humanos &    134 \\\\\n",
       "41 &                        Municipalidad de San José &    129 \\\\\n",
       "42 &                                       Puntarenas &    121 \\\\\n",
       "43 &                                          Alcalde &    121 \\\\\n",
       "44 &                             Ministro de Hacienda &    113 \\\\\n",
       "45 &                        Universidad de Costa Rica &    113 \\\\\n",
       "46 &                     Directora deRecursos Humanos &    111 \\\\\n",
       "47 &                                         Hospital &    109 \\\\\n",
       "48 &           Hospital Rafael Ángel Calderón Guardia &     99 \\\\\n",
       "49 &                        Municipalidad de Alajuela &     98 \\\\\n",
       "50 &                             Recursos Humanos del &     97 \\\\\n",
       "51 &                           Ministerio de Hacienda &     96 \\\\\n",
       "52 &                             Hospital Max Peralta &     95 \\\\\n",
       "53 &                     Hospital San Vicente de Paul &     92 \\\\\n",
       "54 &                                        Turrialba &     90 \\\\\n",
       "55 &                       Alcalde Municipal de Tibás &     84 \\\\\n",
       "56 &  Directora General del Hospital San Juan de Dios &     79 \\\\\n",
       "57 &                                        Ortopedia &     78 \\\\\n",
       "58 &                    Alcalde Municipal de Alajuela &     77 \\\\\n",
       "59 &                  Hospital Dr. Fernando Escalante &     76 \\\\\n",
       "60 &                                         Director &     75 \\\\\n",
       "61 &                   Hospital Dr. Tony Facio Castro &     74 \\\\\n",
       "62 &                    Ministra de Educación Pública &     69 \\\\\n",
       "63 &                                          Heredia &     69 \\\\\n",
       "64 &                    Instituto Nacional de Seguros &     68 \\\\\n",
       "65 &                                             CAIS &     66 \\\\\n",
       "66 &                                 Recursos Humanos &     65 \\\\\n",
       "67 &                         Hospital Dr. Max Peralta &     65 \\\\\n",
       "68 &                     Banco Nacional de Costa Rica &     64 \\\\\n",
       "69 &                                        Encargada &     63 \\\\\n",
       "70 &                   Ministro de Ambiente y Energía &     61 \\\\\n",
       "71 &                    Alcalde Municipal de San José &     61 \\\\\n",
       "72 &                 Ministerio de Ambiente y Energía &     60 \\\\\n",
       "73 &                                           Estado &     59 \\\\\n",
       "74 &                              Alcaldesa Municipal &     58 \\\\\n",
       "75 &         Ministra de Obras Públicas y Transportes &     58 \\\\\n",
       "76 &                              Banco de Costa Rica &     57 \\\\\n",
       "77 &                                           Centro &     57 \\\\\n",
       "78 &                                         Ministra &     55 \\\\\n",
       "79 &                                           Gracia &     55 \\\\\n",
       "80 &                         Municipalidad de Cartago &     52 \\\\\n",
       "81 &                      Hospital Escalante Pradilla &     51 \\\\\n",
       "82 &                                      Obstetricia &     51 \\\\\n",
       "83 &                           Municipalidad de Limón &     51 \\\\\n",
       "84 &                          Ministerio de Educación &     51 \\\\\n",
       "85 &                                    Pérez Zeledón &     49 \\\\\n",
       "86 &                              Centro Hospitalario &     49 \\\\\n",
       "87 &                                    J.A.H]y[S.Q.A &     48 \\\\\n",
       "88 &                  Ministro del Ambiente y Energía &     47 \\\\\n",
       "89 &                                      Coordinador &     47 \\\\\n",
       "90 &           Hospital Dr. Carlos Luis Valverde Vega &     45 \\\\\n",
       "91 &           Hospital Dr. Enrique Baltodano Briceño &     44 \\\\\n",
       "92 &                  Hospital Dr. Escalante Pradilla &     43 \\\\\n",
       "93 &                              Directora Ejecutiva &     43 \\\\\n",
       "94 &                       Hospital Monseñor Sanabria &     43 \\\\\n",
       "95 &                             Farmacoepidemiología &     43 \\\\\n",
       "96 &                             Directora del Área   &     42 \\\\\n",
       "97 &                  Alcalde Municipal de Puntarenas &     42 \\\\\n",
       "98 &                                       Guanacaste &     42 \\\\\n",
       "99 &                              Sala Constitucional &     41 \\\\\n",
       "\\bottomrule\n",
       "\\end{tabular}\n"
      ],
      "text/plain": [
       "                                 se_ordena_LOC  count\n",
       "0              Ministerio de Educación Pública   7159\n",
       "1                                         Sala   2461\n",
       "2                           Ministerio Público   2098\n",
       "3   Hospital Dr. Rafael Ángel Calderón Guardia   1532\n",
       "4                     Zona de Menor Desarrollo   1367\n",
       "..                                         ...    ...\n",
       "95                        Farmacoepidemiología     43\n",
       "96                        Directora del Área       42\n",
       "97             Alcalde Municipal de Puntarenas     42\n",
       "98                                  Guanacaste     42\n",
       "99                         Sala Constitucional     41\n",
       "\n",
       "[100 rows x 2 columns]"
      ]
     },
     "execution_count": 8,
     "metadata": {},
     "output_type": "execute_result"
    }
   ],
   "source": [
    "from pyspark.sql import functions as F\n",
    "\n",
    "df_se_ordena_LOC = (estructurales.seleccion.sdf\n",
    " .where(estructurales.seleccion.sdf.se_ordena_LOC.isNotNull())\n",
    " .select(F.explode('se_ordena_LOC').alias('se_ordena_LOC'), 'anno')\n",
    " .groupby('se_ordena_LOC')\n",
    " .count()\n",
    " .sort(F.desc('count'))\n",
    ").toPandas()\n",
    "descr.guardar_df(df_se_ordena_LOC, sheet='Se Ordena LOC (Sin limpiar)')\n",
    "df_se_ordena_LOC[:100]\n"
   ]
  },
  {
   "cell_type": "markdown",
   "id": "0b498411-36ba-4023-9ee0-38ce97956d34",
   "metadata": {},
   "source": [
    "Plazo en el cumplimiento de la orden"
   ]
  },
  {
   "cell_type": "code",
   "execution_count": 9,
   "id": "b28602c6-5566-4d66-aa59-3fb08e89dd4d",
   "metadata": {},
   "outputs": [
    {
     "data": {
      "text/html": [
       "<div>\n",
       "<style scoped>\n",
       "    .dataframe tbody tr th:only-of-type {\n",
       "        vertical-align: middle;\n",
       "    }\n",
       "\n",
       "    .dataframe tbody tr th {\n",
       "        vertical-align: top;\n",
       "    }\n",
       "\n",
       "    .dataframe thead th {\n",
       "        text-align: right;\n",
       "    }\n",
       "</style>\n",
       "<table border=\"1\" class=\"dataframe\">\n",
       "  <thead>\n",
       "    <tr style=\"text-align: right;\">\n",
       "      <th></th>\n",
       "      <th>se_ordena_Ent_Pub</th>\n",
       "      <th>count</th>\n",
       "    </tr>\n",
       "  </thead>\n",
       "  <tbody>\n",
       "    <tr>\n",
       "      <th>0</th>\n",
       "      <td>Ministerio de Educacion Publica</td>\n",
       "      <td>9577</td>\n",
       "    </tr>\n",
       "    <tr>\n",
       "      <th>1</th>\n",
       "      <td>Caja Costarricense de Seguro Social</td>\n",
       "      <td>3863</td>\n",
       "    </tr>\n",
       "    <tr>\n",
       "      <th>2</th>\n",
       "      <td>Direccion General Del Servicio Civil</td>\n",
       "      <td>1222</td>\n",
       "    </tr>\n",
       "    <tr>\n",
       "      <th>3</th>\n",
       "      <td>Ministerio de Salud</td>\n",
       "      <td>512</td>\n",
       "    </tr>\n",
       "    <tr>\n",
       "      <th>4</th>\n",
       "      <td>Instituto de Desarrollo Agrario</td>\n",
       "      <td>361</td>\n",
       "    </tr>\n",
       "    <tr>\n",
       "      <th>5</th>\n",
       "      <td>Instituto Nacional de Seguros</td>\n",
       "      <td>358</td>\n",
       "    </tr>\n",
       "    <tr>\n",
       "      <th>6</th>\n",
       "      <td>Fondo Nacional de Becas</td>\n",
       "      <td>253</td>\n",
       "    </tr>\n",
       "    <tr>\n",
       "      <th>7</th>\n",
       "      <td>Ministerio de Seguridad Publica</td>\n",
       "      <td>230</td>\n",
       "    </tr>\n",
       "    <tr>\n",
       "      <th>8</th>\n",
       "      <td>Instituto Costarricense de Electricidad</td>\n",
       "      <td>216</td>\n",
       "    </tr>\n",
       "    <tr>\n",
       "      <th>9</th>\n",
       "      <td>Instituto Mixto de Ayuda Social</td>\n",
       "      <td>205</td>\n",
       "    </tr>\n",
       "  </tbody>\n",
       "</table>\n",
       "</div>"
      ],
      "text/latex": [
       "\\begin{tabular}{llr}\n",
       "\\toprule\n",
       "{} &                        se\\_ordena\\_Ent\\_Pub &  count \\\\\n",
       "\\midrule\n",
       "0 &          Ministerio de Educacion Publica &   9577 \\\\\n",
       "1 &      Caja Costarricense de Seguro Social &   3863 \\\\\n",
       "2 &     Direccion General Del Servicio Civil &   1222 \\\\\n",
       "3 &                      Ministerio de Salud &    512 \\\\\n",
       "4 &          Instituto de Desarrollo Agrario &    361 \\\\\n",
       "5 &            Instituto Nacional de Seguros &    358 \\\\\n",
       "6 &                  Fondo Nacional de Becas &    253 \\\\\n",
       "7 &          Ministerio de Seguridad Publica &    230 \\\\\n",
       "8 &  Instituto Costarricense de Electricidad &    216 \\\\\n",
       "9 &          Instituto Mixto de Ayuda Social &    205 \\\\\n",
       "\\bottomrule\n",
       "\\end{tabular}\n"
      ],
      "text/plain": [
       "                         se_ordena_Ent_Pub  count\n",
       "0          Ministerio de Educacion Publica   9577\n",
       "1      Caja Costarricense de Seguro Social   3863\n",
       "2     Direccion General Del Servicio Civil   1222\n",
       "3                      Ministerio de Salud    512\n",
       "4          Instituto de Desarrollo Agrario    361\n",
       "5            Instituto Nacional de Seguros    358\n",
       "6                  Fondo Nacional de Becas    253\n",
       "7          Ministerio de Seguridad Publica    230\n",
       "8  Instituto Costarricense de Electricidad    216\n",
       "9          Instituto Mixto de Ayuda Social    205"
      ]
     },
     "execution_count": 9,
     "metadata": {},
     "output_type": "execute_result"
    }
   ],
   "source": [
    "df_se_ordena_Ent_Pub = (estructurales.seleccion.sdf\n",
    " .where(estructurales.seleccion.sdf.se_ordena_Ent_Pub.isNotNull())\n",
    " .select(F.explode('se_ordena_Ent_Pub').alias('se_ordena_Ent_Pub'), 'anno')\n",
    " .groupby('se_ordena_Ent_Pub')\n",
    " .count()\n",
    " .sort(F.desc('count'))\n",
    ").toPandas()\n",
    "\n",
    "descr.guardar_df(df_se_ordena_Ent_Pub, sheet='Se Ordena Entidades Públicas')\n",
    "df_se_ordena_Ent_Pub[:10]\n"
   ]
  },
  {
   "cell_type": "code",
   "execution_count": 10,
   "id": "d09c23f1-dd8c-4ef4-b36d-dcccda8ac9d5",
   "metadata": {},
   "outputs": [
    {
     "data": {
      "text/plain": [
       "<AxesSubplot:ylabel='Frequency'>"
      ]
     },
     "execution_count": 10,
     "metadata": {},
     "output_type": "execute_result"
    },
    {
     "data": {
      "image/png": "[encoded data removed]",
      "text/plain": [
       "<Figure size 432x288 with 1 Axes>"
      ]
     },
     "metadata": {
      "needs_background": "light"
     },
     "output_type": "display_data"
    },
    {
     "data": {
      "image/png": "[encoded data removed]",
      "text/plain": [
       "<Figure size 432x288 with 1 Axes>"
      ]
     },
     "metadata": {
      "needs_background": "light"
     },
     "output_type": "display_data"
    },
    {
     "data": {
      "image/png": "[encoded data removed]",
      "text/plain": [
       "<Figure size 432x288 with 1 Axes>"
      ]
     },
     "metadata": {
      "needs_background": "light"
     },
     "output_type": "display_data"
    }
   ],
   "source": [
    "import numpy as np\n",
    "\n",
    "(estructurales.seleccion.sdf.select('extension_sentencia')\n",
    ").toPandas().plot.hist(bins=1000, xlim=(0,100000))\n",
    "\n",
    "(estructurales\n",
    " .seleccion.sdf\n",
    " .where('termino_ext == \"Con lugar\" OR  termino_ext == \"Con lugar parcial\" ')\n",
    " .select('extension_sentencia')\n",
    ").toPandas().plot.hist(bins=1000, xlim=(0,100000))\n",
    "\n",
    "(estructurales\n",
    " .seleccion.sdf\n",
    " .where('termino_ext == \"Con lugar\" OR  termino_ext == \"Con lugar parcial\" ')\n",
    " .where('se_ordena == 1')\n",
    " .select('extension_sentencia')\n",
    ").toPandas().plot.hist(bins=1000, xlim=(0,100000))"
   ]
  },
  {
   "cell_type": "code",
   "execution_count": 11,
   "id": "c4be7113-ad2b-4944-b9ad-62b6179d0c55",
   "metadata": {},
   "outputs": [
    {
     "data": {
      "text/plain": [
       "<AxesSubplot:ylabel='Frequency'>"
      ]
     },
     "execution_count": 11,
     "metadata": {},
     "output_type": "execute_result"
    },
    {
     "data": {
      "image/png": "[encoded data removed]",
      "text/plain": [
       "<Figure size 432x288 with 1 Axes>"
      ]
     },
     "metadata": {
      "needs_background": "light"
     },
     "output_type": "display_data"
    },
    {
     "data": {
      "image/png": "[encoded data removed]",
      "text/plain": [
       "<Figure size 432x288 with 1 Axes>"
      ]
     },
     "metadata": {
      "needs_background": "light"
     },
     "output_type": "display_data"
    },
    {
     "data": {
      "image/png": "[encoded data removed]",
      "text/plain": [
       "<Figure size 432x288 with 1 Axes>"
      ]
     },
     "metadata": {
      "needs_background": "light"
     },
     "output_type": "display_data"
    }
   ],
   "source": [
    "import numpy as np\n",
    "\n",
    "(estructurales\n",
    " .seleccion.sdf\n",
    " .select('extension_por_lo_tanto')\n",
    " .where('extension_por_lo_tanto < 10000')\n",
    ").toPandas().plot.hist(bins=1000, xlim=(0,6000))\n",
    "\n",
    "(estructurales\n",
    " .seleccion.sdf\n",
    " .where('termino_ext == \"Con lugar\" OR  termino_ext == \"Con lugar parcial\" ')\n",
    " .select('extension_por_lo_tanto')\n",
    " .where('extension_por_lo_tanto < 10000')\n",
    ").toPandas().plot.hist(bins=1000, xlim=(0,6000))\n",
    "\n",
    "(estructurales\n",
    " .seleccion.sdf\n",
    " .where('termino_ext == \"Con lugar\" OR  termino_ext == \"Con lugar parcial\" ')\n",
    " .where('se_ordena == 1')\n",
    " .where('extension_por_lo_tanto < 10000')\n",
    " .select('extension_por_lo_tanto')\n",
    ").toPandas().plot.hist(bins=1000, xlim=(0,6000))"
   ]
  },
  {
   "cell_type": "code",
   "execution_count": null,
   "id": "c6641680-e1f0-4297-8eb9-eb8d0396d544",
   "metadata": {},
   "outputs": [],
   "source": []
  },
  {
   "cell_type": "code",
   "execution_count": 12,
   "id": "53e5e2bf-a9fb-4693-bdef-aff586c21e46",
   "metadata": {
    "tags": [
     "hide_input"
    ]
   },
   "outputs": [],
   "source": [
    "from pyspark.sql.functions import explode, desc\n",
    "from pyspark.sql import functions as F\n",
    "import pandas as pd\n",
    "pd.set_option('display.max_rows', None)\n",
    "pd.set_option('display.max_columns', None)\n",
    "pd.set_option('display.width', None)\n",
    "pd.set_option('display.max_colwidth', None)\n",
    "\n"
   ]
  },
  {
   "cell_type": "code",
   "execution_count": 13,
   "id": "b285a83e-529c-4935-a0ad-c802f3062d95",
   "metadata": {
    "tags": [
     "hide_input"
    ]
   },
   "outputs": [
    {
     "name": "stderr",
     "output_type": "stream",
     "text": [
      "/opt/conda/lib/python3.9/site-packages/pyspark/sql/pandas/conversion.py:87: UserWarning: toPandas attempted Arrow optimization because 'spark.sql.execution.arrow.pyspark.enabled' is set to true; however, failed by the reason below:\n",
      "  Unsupported type in conversion to Arrow: ArrayType(TimestampType,true)\n",
      "Attempting non-optimization as 'spark.sql.execution.arrow.pyspark.fallback.enabled' is set to true.\n",
      "  warnings.warn(msg)\n",
      "                                                                                \r"
     ]
    },
    {
     "data": {
      "text/plain": [
       "0.3022728519446324"
      ]
     },
     "execution_count": 13,
     "metadata": {},
     "output_type": "execute_result"
    }
   ],
   "source": [
    "cant_con_plazo = (estructurales\n",
    " .seleccion.sdf             \n",
    " .where('plazosDefinidos is not Null')\n",
    " .where('se_ordena == 1')\n",
    " .where('termino_ext == \"Con lugar\" OR  termino_ext == \"Con lugar parcial\" ')\n",
    ").toPandas()\n",
    "\n",
    "cant_con_lugar = (estructurales\n",
    " .seleccion.sdf             \n",
    " .where('se_ordena == 1')\n",
    " .where('termino_ext == \"Con lugar\" OR  termino_ext == \"Con lugar parcial\" ')\n",
    ").count()\n",
    "\n",
    "\n",
    "cant_con_plazo.shape[0]/cant_con_lugar\n"
   ]
  },
  {
   "cell_type": "code",
   "execution_count": 14,
   "id": "a1ef177b-548e-498c-97c3-11d959e1c0ea",
   "metadata": {},
   "outputs": [
    {
     "data": {
      "image/png": "[encoded data removed]",
      "text/plain": [
       "<Figure size 432x288 with 1 Axes>"
      ]
     },
     "metadata": {
      "needs_background": "light"
     },
     "output_type": "display_data"
    }
   ],
   "source": [
    "#cant_con_plazo.plazosDefinidos  - \n",
    "timedeltas_plazo = (cant_con_plazo.plazosDefinidos.apply(lambda x: x[0]) -  pd.to_datetime('1970-01-01')).dt.days\n",
    "timedeltas_plazo.plot.hist(bins=100)\n",
    "plt.yscale('log')\n",
    "\n",
    "cant_con_plazo['plazo_en_dias'] = timedeltas_plazo\n",
    "descr.guardar_df(cant_con_plazo[columnas], sheet='Plazo \"Con Lugar\"')"
   ]
  },
  {
   "cell_type": "code",
   "execution_count": 22,
   "id": "3fba082b-e2b0-402c-9f23-d9bdc8ef06cc",
   "metadata": {},
   "outputs": [
    {
     "name": "stderr",
     "output_type": "stream",
     "text": [
      "/opt/conda/lib/python3.9/site-packages/pyspark/sql/pandas/conversion.py:87: UserWarning: toPandas attempted Arrow optimization because 'spark.sql.execution.arrow.pyspark.enabled' is set to true; however, failed by the reason below:\n",
      "  Unsupported type in conversion to Arrow: ArrayType(TimestampType,true)\n",
      "Attempting non-optimization as 'spark.sql.execution.arrow.pyspark.fallback.enabled' is set to true.\n",
      "  warnings.warn(msg)\n",
      "                                                                                \r"
     ]
    },
    {
     "name": "stdout",
     "output_type": "stream",
     "text": [
      "77963\n",
      "94051\n"
     ]
    }
   ],
   "source": [
    "# FechaSolicitud\n",
    "\n",
    "cant_con_plazo = (estructurales\n",
    " .seleccion.sdf             \n",
    " .where('FechaSolicitud is not Null')\n",
    " .where('termino_ext == \"Con lugar\" OR  termino_ext == \"Con lugar parcial\" ')\n",
    ").toPandas()\n",
    "\n",
    "cant_con_lugar = (estructurales\n",
    " .seleccion.sdf             \n",
    " .where('termino_ext == \"Con lugar\" OR  termino_ext == \"Con lugar parcial\" ')\n",
    ").count()\n",
    "\n",
    "\n",
    "print(cant_con_plazo.shape[0])\n",
    "print(cant_con_lugar)"
   ]
  },
  {
   "cell_type": "code",
   "execution_count": 51,
   "id": "e8d8630e-10a3-48d2-be98-5b0d77f4d62e",
   "metadata": {
    "tags": []
   },
   "outputs": [
    {
     "name": "stderr",
     "output_type": "stream",
     "text": [
      "                                                                                \r"
     ]
    },
    {
     "data": {
      "text/plain": [
       "<AxesSubplot:ylabel='Frequency'>"
      ]
     },
     "execution_count": 51,
     "metadata": {},
     "output_type": "execute_result"
    },
    {
     "data": {
      "image/png": "[encoded data removed]",
      "text/plain": [
       "<Figure size 432x288 with 1 Axes>"
      ]
     },
     "metadata": {
      "needs_background": "light"
     },
     "output_type": "display_data"
    }
   ],
   "source": [
    "# cant_con_plazo.FechaSolicitud\n",
    "cant_con_plazo.fechahora_ext[:10]\n",
    "\n",
    "t_tramite = (estructurales\n",
    " .seleccion.sdf             \n",
    " .where('termino_ext == \"Con lugar\" OR  termino_ext == \"Con lugar parcial\" ')\n",
    " .withColumn('dias_tramite', F.datediff('fechahora_ext', 'FechaSolicitud'))\n",
    ").toPandas()\n",
    "\n",
    "# t_tramite.dias_tramite.plot.hist(bins=100)\n",
    "\n",
    "\n",
    "t_tramite.dias_tramite.plot.hist(bins=10000, xlim=(0,500))\n"
   ]
  },
  {
   "cell_type": "code",
   "execution_count": 16,
   "id": "87c480bd-55c2-4f07-a0d4-a1085ebed653",
   "metadata": {},
   "outputs": [],
   "source": [
    "descr.export.guardar('estructurales_crudo[18-10-21].xlsx')"
   ]
  }
 ],
 "metadata": {
  "kernelspec": {
   "display_name": "Python 3 (ipykernel)",
   "language": "python",
   "name": "python3"
  },
  "language_info": {
   "codemirror_mode": {
    "name": "ipython",
    "version": 3
   },
   "file_extension": ".py",
   "mimetype": "text/x-python",
   "name": "python",
   "nbconvert_exporter": "python",
   "pygments_lexer": "ipython3",
   "version": "3.9.6"
  },
  "latex_metadata": {
   "address": "San José",
   "annoinforme": "2021",
   "antetitulo": "Mesa de Ciencia de Datos. Documento de trabajo",
   "autoria": "Kenneth Obando",
   "bib": "referencias.bib",
   "date": "2021",
   "tipo_autoria": "Investigadores",
   "tipodocumento": "Insumos de Investigación. Borrador",
   "title": "Sentencias Estructurales"
  }
 },
 "nbformat": 4,
 "nbformat_minor": 5
}
