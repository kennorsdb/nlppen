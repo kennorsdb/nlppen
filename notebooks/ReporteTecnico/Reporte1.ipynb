{
 "cells": [
  {
   "cell_type": "markdown",
   "id": "fcf72447-ad27-4e2d-8578-b2f119a042e1",
   "metadata": {
    "tags": []
   },
   "source": [
    "# Sentencias Estructurales"
   ]
  },
  {
   "cell_type": "markdown",
   "id": "4a1a9d10-1d33-4569-88d1-0c55672cc78e",
   "metadata": {},
   "source": [
    "\n",
    "Tablas:\n",
    "\n",
    "[ ] 1.      Cantidad de sentencias por año\n",
    "\n",
    "[ ] 2.      Cantidad de sentencias por tema y por año\n",
    "\n",
    "[ ] 3.      Cantidad de sentencias por subtema y por año\n",
    "\n",
    "[ ] 4.      Cantidad de sentencias por clase de asunto y por año\n",
    "\n",
    "[ ] 5.      Cantidad de sentencias por magistrad@ que redacta\n",
    "\n",
    "[ ] 6.      Recurrentes de sentencias por tema y por año\n",
    "\n",
    "[ ] 7.      Recurridos de sentencias por tema y por año\n",
    "\n",
    "[ ] 8.      Artículos citados en las sentencias por tema y por año\n",
    "\n",
    "[ ] 9.      Leyes citadas en las sentencias por tema y por año\n",
    "\n",
    "[ ] 10. Reglamentos citados en las sentencias por tema y por año\n",
    "\n",
    "[ ] 11.  Instrumentos internacionales citados en las sentencias por tema y por año\n",
    "\n",
    "[ ] 12.  Cantidad de sentencias que referencian otras sentencias por año\n",
    "\n",
    "[ ] 13. Derechos fundamentales citados en las sentencias por tema y por año\n",
    "\n",
    "[ ] 14. Resultado de las sentencias por año y por tema\n",
    "\n",
    "[ ] 15. Cantidad de sentencias que determinan órdenes por año y por tema\n",
    "\n",
    "[ ] 16.  Cantidad de sentencias que determinan plazos por año y por tema\n",
    "\n",
    "[ ] 17.  Cantidad de sentencias que determinan dar seguimiento por año y por tema\n",
    "\n",
    "[ ] 18.  Cantidad de sentencias que determinan condenas por año y por tema\n",
    "\n",
    "[ ] 19.  Instituciones (personas y/o entes a los que la SC le ordena) por año y por tema\n",
    "\n",
    "[ ] 20.  Sentencias por plazos definidos para su cumplimiento y por tema\n"
   ]
  },
  {
   "cell_type": "code",
   "execution_count": 1,
   "id": "3bacff28-c554-470c-aad7-793ba82a2cb0",
   "metadata": {
    "tags": [
     "remove_cell"
    ]
   },
   "outputs": [
    {
     "name": "stderr",
     "output_type": "stream",
     "text": [
      "22/01/25 20:28:24 WARN NativeCodeLoader: Unable to load native-hadoop library for your platform... using builtin-java classes where applicable\n",
      "Using Spark's default log4j profile: org/apache/spark/log4j-defaults.properties\n",
      "Setting default log level to \"WARN\".\n",
      "To adjust logging level use sc.setLogLevel(newLevel). For SparkR, use setLogLevel(newLevel).\n",
      "                                                                                \r"
     ]
    }
   ],
   "source": [
    "%%capture --no-display\n",
    "%load_ext autoreload\n",
    "%autoreload 2\n",
    "import os\n",
    "from pathlib import Path\n",
    "import os\n",
    "os.chdir('/home/jovyan/Work/ej/paquetes/nlppen/notebooks/ReporteTecnico')\n",
    "\n",
    "from reporte import *\n",
    "from IPython.display import Latex\n",
    "\n",
    "\n",
    "import sys\n",
    "sys.path.insert(0, '../../')\n",
    "from nlppen.descripcion import *\n",
    "from pyspark.sql import functions as F\n",
    "\n",
    "\n",
    "\n",
    "# Inicialización y Carga de datos\n",
    "spark, sc = init_spark()\n",
    "estructurales = cargar_datos(spark)"
   ]
  },
  {
   "cell_type": "code",
   "execution_count": 2,
   "id": "2169b875-94a9-43e7-ab63-cd62c2e6365a",
   "metadata": {
    "tags": [
     "remove_cell"
    ]
   },
   "outputs": [
    {
     "data": {
      "text/plain": [
       "507951"
      ]
     },
     "execution_count": 2,
     "metadata": {},
     "output_type": "execute_result"
    }
   ],
   "source": [
    "estructurales.seleccion.sdf.count()"
   ]
  },
  {
   "cell_type": "code",
   "execution_count": 3,
   "id": "bcc32860-77b5-49b9-8778-0a5a5726bbf6",
   "metadata": {},
   "outputs": [],
   "source": [
    "from pyspark.sql import functions as F\n",
    "\n"
   ]
  },
  {
   "cell_type": "code",
   "execution_count": 4,
   "id": "ddeb5c80-fa9b-4964-bb3c-d279134a7b18",
   "metadata": {},
   "outputs": [],
   "source": [
    "estructurales.seleccion.sdf #= pre_sdf\n",
    "temas_sdf = spark.read.parquet('/home/jovyan/Work/ej/src/datasets/complete_prev').select('archivo','anno','tema', 'tema_prob', 'termino_ext', 'subtema', 'subtema_prob')\n",
    "temas_df = estructurales.seleccion.sdf.withColumnRenamed('tema', 'tema_malo').withColumnRenamed('tema_prob', 'tema_prob_malo').join(temas_sdf.select('archivo','tema', 'tema_prob'), 'archivo')"
   ]
  },
  {
   "cell_type": "code",
   "execution_count": 5,
   "id": "0e55a471-9878-4cbc-926d-eb6dd93b3bee",
   "metadata": {},
   "outputs": [],
   "source": [
    "pre_sdf = estructurales.seleccion.sdf\n",
    "estructurales.seleccion.sdf = (pre_sdf\n",
    "                               .withColumnRenamed('tema', 'tema_malo')\n",
    "                               .withColumnRenamed('tema_prob', 'tema_prob_malo')\n",
    "                               .withColumnRenamed('subtema', 'subtema_malo')\n",
    "                               .withColumnRenamed('subtema_prob', 'subtema_prob_malo')\n",
    "                               .join(temas_sdf.select('archivo','tema', 'tema_prob'), 'archivo')\n",
    "                               .persist())"
   ]
  },
  {
   "cell_type": "code",
   "execution_count": 6,
   "id": "faefb62b-4ef5-4053-9c2e-48875695d4fe",
   "metadata": {},
   "outputs": [
    {
     "data": {
      "text/plain": [
       "356687"
      ]
     },
     "execution_count": 6,
     "metadata": {},
     "output_type": "execute_result"
    }
   ],
   "source": [
    "temas_sdf.count()"
   ]
  },
  {
   "cell_type": "code",
   "execution_count": 15,
   "id": "bdf878e8-2e84-427e-a702-482173862727",
   "metadata": {},
   "outputs": [
    {
     "name": "stderr",
     "output_type": "stream",
     "text": [
      "                                                                                \r"
     ]
    },
    {
     "data": {
      "text/html": [
       "<div>\n",
       "<style scoped>\n",
       "    .dataframe tbody tr th:only-of-type {\n",
       "        vertical-align: middle;\n",
       "    }\n",
       "\n",
       "    .dataframe tbody tr th {\n",
       "        vertical-align: top;\n",
       "    }\n",
       "\n",
       "    .dataframe thead th {\n",
       "        text-align: right;\n",
       "    }\n",
       "</style>\n",
       "<table border=\"1\" class=\"dataframe\">\n",
       "  <thead>\n",
       "    <tr style=\"text-align: right;\">\n",
       "      <th></th>\n",
       "      <th>Archivo</th>\n",
       "      <th>id_sentencia</th>\n",
       "      <th>num_doc_oficial</th>\n",
       "      <th>Fecha</th>\n",
       "      <th>Año</th>\n",
       "      <th>Fecha_solicitud</th>\n",
       "      <th>expediente</th>\n",
       "      <th>Magistrado (a) redacta</th>\n",
       "      <th>Clase_asunto</th>\n",
       "      <th>Voto_salvado</th>\n",
       "      <th>Extension_sentencia</th>\n",
       "      <th>Extensión_por tanto</th>\n",
       "      <th>Tema</th>\n",
       "      <th>Plazo (días)</th>\n",
       "    </tr>\n",
       "  </thead>\n",
       "  <tbody>\n",
       "    <tr>\n",
       "      <th>0</th>\n",
       "      <td>14d28.html</td>\n",
       "      <td>sen-1-0007-85288</td>\n",
       "      <td>790</td>\n",
       "      <td>1990-07-12 09:05:00</td>\n",
       "      <td>1990</td>\n",
       "      <td>1978-05-28</td>\n",
       "      <td>24090</td>\n",
       "      <td>Mora Mora MIGRACION Obligación de otorgar stat...</td>\n",
       "      <td>Recurso de Amparo</td>\n",
       "      <td>False</td>\n",
       "      <td>5857</td>\n",
       "      <td>225</td>\n",
       "      <td>MIGRACION</td>\n",
       "      <td>0</td>\n",
       "    </tr>\n",
       "    <tr>\n",
       "      <th>1</th>\n",
       "      <td>1558b.html</td>\n",
       "      <td>sen-1-0007-87435</td>\n",
       "      <td>2546</td>\n",
       "      <td>1991-11-27 16:15:00</td>\n",
       "      <td>1991</td>\n",
       "      <td>NaT</td>\n",
       "      <td>1798B91</td>\n",
       "      <td>Baudrit- y</td>\n",
       "      <td>Recurso de Amparo</td>\n",
       "      <td>False</td>\n",
       "      <td>2983</td>\n",
       "      <td>543</td>\n",
       "      <td>PETICION</td>\n",
       "      <td>0</td>\n",
       "    </tr>\n",
       "    <tr>\n",
       "      <th>2</th>\n",
       "      <td>15a45.html</td>\n",
       "      <td>sen-1-0007-88645</td>\n",
       "      <td>1713</td>\n",
       "      <td>1992-06-24 14:39:00</td>\n",
       "      <td>1992</td>\n",
       "      <td>NaT</td>\n",
       "      <td>2152B91</td>\n",
       "      <td>Baudrit- y</td>\n",
       "      <td>Recurso de Amparo</td>\n",
       "      <td>False</td>\n",
       "      <td>4919</td>\n",
       "      <td>1026</td>\n",
       "      <td>TRABAJO</td>\n",
       "      <td>1</td>\n",
       "    </tr>\n",
       "    <tr>\n",
       "      <th>3</th>\n",
       "      <td>161f4.html</td>\n",
       "      <td>sen-1-0007-90612</td>\n",
       "      <td>500</td>\n",
       "      <td>1993-01-29 10:09:00</td>\n",
       "      <td>1993</td>\n",
       "      <td>NaT</td>\n",
       "      <td>3874E92</td>\n",
       "      <td>Sancho González</td>\n",
       "      <td>Recurso de Amparo</td>\n",
       "      <td>False</td>\n",
       "      <td>4282</td>\n",
       "      <td>632</td>\n",
       "      <td>TRABAJO</td>\n",
       "      <td>0</td>\n",
       "    </tr>\n",
       "    <tr>\n",
       "      <th>4</th>\n",
       "      <td>17094.html</td>\n",
       "      <td>None</td>\n",
       "      <td>None</td>\n",
       "      <td>1994-02-02 17:57:00</td>\n",
       "      <td>1994</td>\n",
       "      <td>1993-08-31</td>\n",
       "      <td>4845A93</td>\n",
       "      <td>Arguedas Ramírez</td>\n",
       "      <td>Recurso de Amparo</td>\n",
       "      <td>False</td>\n",
       "      <td>6468</td>\n",
       "      <td>627</td>\n",
       "      <td>PETICION</td>\n",
       "      <td>1</td>\n",
       "    </tr>\n",
       "  </tbody>\n",
       "</table>\n",
       "</div>"
      ],
      "text/latex": [
       "\\begin{tabular}{lllllrlllllrrlr}\n",
       "\\toprule\n",
       "{} &     Archivo &      id\\_sentencia & num\\_doc\\_oficial &               Fecha &   Año & Fecha\\_solicitud & expediente &                             Magistrado (a) redacta &       Clase\\_asunto &  Voto\\_salvado &  Extension\\_sentencia &  Extensión\\_por tanto &       Tema &  Plazo (días) \\\\\n",
       "\\midrule\n",
       "0 &  14d28.html &  sen-1-0007-85288 &             790 & 1990-07-12 09:05:00 &  1990 &      1978-05-28 &      24090 &  Mora Mora MIGRACION Obligación de otorgar stat... &  Recurso de Amparo &         False &                 5857 &                  225 &  MIGRACION &             0 \\\\\n",
       "1 &  1558b.html &  sen-1-0007-87435 &            2546 & 1991-11-27 16:15:00 &  1991 &             NaT &    1798B91 &                                         Baudrit- y &  Recurso de Amparo &         False &                 2983 &                  543 &   PETICION &             0 \\\\\n",
       "2 &  15a45.html &  sen-1-0007-88645 &            1713 & 1992-06-24 14:39:00 &  1992 &             NaT &    2152B91 &                                         Baudrit- y &  Recurso de Amparo &         False &                 4919 &                 1026 &    TRABAJO &             1 \\\\\n",
       "3 &  161f4.html &  sen-1-0007-90612 &             500 & 1993-01-29 10:09:00 &  1993 &             NaT &    3874E92 &                                    Sancho González &  Recurso de Amparo &         False &                 4282 &                  632 &    TRABAJO &             0 \\\\\n",
       "4 &  17094.html &              None &            None & 1994-02-02 17:57:00 &  1994 &      1993-08-31 &    4845A93 &                                   Arguedas Ramírez &  Recurso de Amparo &         False &                 6468 &                  627 &   PETICION &             1 \\\\\n",
       "\\bottomrule\n",
       "\\end{tabular}\n"
      ],
      "text/plain": [
       "      Archivo      id_sentencia num_doc_oficial               Fecha   Año  \\\n",
       "0  14d28.html  sen-1-0007-85288             790 1990-07-12 09:05:00  1990   \n",
       "1  1558b.html  sen-1-0007-87435            2546 1991-11-27 16:15:00  1991   \n",
       "2  15a45.html  sen-1-0007-88645            1713 1992-06-24 14:39:00  1992   \n",
       "3  161f4.html  sen-1-0007-90612             500 1993-01-29 10:09:00  1993   \n",
       "4  17094.html              None            None 1994-02-02 17:57:00  1994   \n",
       "\n",
       "  Fecha_solicitud expediente  \\\n",
       "0      1978-05-28      24090   \n",
       "1             NaT    1798B91   \n",
       "2             NaT    2152B91   \n",
       "3             NaT    3874E92   \n",
       "4      1993-08-31    4845A93   \n",
       "\n",
       "                              Magistrado (a) redacta       Clase_asunto  \\\n",
       "0  Mora Mora MIGRACION Obligación de otorgar stat...  Recurso de Amparo   \n",
       "1                                         Baudrit- y  Recurso de Amparo   \n",
       "2                                         Baudrit- y  Recurso de Amparo   \n",
       "3                                    Sancho González  Recurso de Amparo   \n",
       "4                                   Arguedas Ramírez  Recurso de Amparo   \n",
       "\n",
       "   Voto_salvado  Extension_sentencia  Extensión_por tanto       Tema  \\\n",
       "0         False                 5857                  225  MIGRACION   \n",
       "1         False                 2983                  543   PETICION   \n",
       "2         False                 4919                 1026    TRABAJO   \n",
       "3         False                 4282                  632    TRABAJO   \n",
       "4         False                 6468                  627   PETICION   \n",
       "\n",
       "   Plazo (días)  \n",
       "0             0  \n",
       "1             0  \n",
       "2             1  \n",
       "3             0  \n",
       "4             1  "
      ]
     },
     "execution_count": 15,
     "metadata": {},
     "output_type": "execute_result"
    }
   ],
   "source": [
    "(estructurales.seleccion.sdf\n",
    "       .filter('termino_ext == \"Con lugar\" OR termino_ext == \"Con lugar parcial\"')\n",
    "       .select(F.col('archivo').alias('Archivo'),\n",
    "               F.col('id_sentencia').alias('id_sentencia'),\n",
    "               F.col('num_doc_oficial').alias('num_doc_oficial'),\n",
    "               F.col('fechahora_ext').alias('Fecha'),\n",
    "               F.col('anno').alias('Año'),\n",
    "               F.col('FechaSolicitud').alias('Fecha_solicitud'),\n",
    "               F.col('expediente').alias('expediente'),\n",
    "               F.col('redactor_ext').alias('Magistrado (a) redacta'),\n",
    "               F.col('tipoResolucion_ext').alias('Clase_asunto'),\n",
    "               F.col('voto_salvado').alias('Voto_salvado'),\n",
    "               F.col('extension_sentencia').alias('Extension_sentencia'),\n",
    "               F.col('extension_por_lo_tanto').alias('Extensión_por tanto'),\n",
    "               F.col('tema').alias('Tema'),\n",
    "#                F.col('subtema').alias('Subtema'),\n",
    "#                F.col('FechaSolicitud').alias('Problema que busca solucionar'),\n",
    "#                F.col('FechaSolicitud').alias('Grupo de personas afectado'),\n",
    "#                F.col('FechaSolicitud').alias('Detalle \"Se ordena\"'),\n",
    "               F.col('plazo').alias('Plazo (días)'),\n",
    "#                F.col('seguimiento').alias('Detalle seguimiento'),\n",
    "              )\n",
    "\n",
    "       ).persist().limit(5).toPandas()"
   ]
  },
  {
   "cell_type": "code",
   "execution_count": 15,
   "id": "7a8f8f84-25d6-494e-8ac1-789ad8d88a9c",
   "metadata": {},
   "outputs": [],
   "source": [
    "columnas_sencillas = ['archivo',\n",
    "            'expediente',\n",
    "            'num_resolucion',\n",
    "            'id_sentencia',\n",
    "            'num_doc_oficial',\n",
    "             'anno',\n",
    "             'fechahora_ext',\n",
    "                         'FechaSolicitud',\n",
    "             'redactor_ext',\n",
    "             'tipoResolucion_ext',\n",
    "             'termino_ext',\n",
    "             'voto_salvado',\n",
    "             'tema',\n",
    "             'tema_prob',\n",
    "             # Listas 1 elemento\n",
    "             'Recurrente_ents',\n",
    "             'Recurrido_ents',\n",
    "             'extension_sentencia',\n",
    "             'extension_por_lo_tanto',\n",
    "             'seguimientoValue',\n",
    "             'seguimiento',\n",
    "             'se_ordena',\n",
    "             'se_condena',\n",
    "             'plan',\n",
    "             'plazo',\n",
    "]\n",
    "\n",
    "columnas_listas = [\n",
    "            # LISTAS \n",
    "#              'seguimientoExt',\n",
    "             'Reglamento_ents',\n",
    "             'Constitucion_ents',\n",
    "             'Ley_ents',\n",
    "             'EntidadPublica_ents',\n",
    "             'plazosDefinidos',\n",
    "             'se_ordena_Ent_Pub',\n",
    "             'se_condena_Ent_Pub',\n",
    "             'inst_internacionales',\n",
    "             'derechos_Norm',\n",
    "             'derechos_GenXPat',\n",
    "             'derechos_Acotados',\n",
    "             'derechos_General',\n",
    "             'derechos_Fundamental',\n",
    "             'derechos_Humano',\n",
    "             'citasVotDate',\n",
    "]\n",
    "  \n",
    "# Variables no incluídas    \n",
    "#              'citasFechas',            \n",
    "#              'expediente_oficial',            \n",
    "#              'citasIDVoto',            \n",
    "#              'Magistrado_ents',\n",
    "#              'se_ordena_PER',\n",
    "#              'se_ordena_LOC',\n",
    "#              'se_ordena_ORG',\n",
    "#              'se_ordena_MISC',\n",
    "#              'se_ordena_GPE',\n",
    "#              'se_condena_PER',\n",
    "#              'se_condena_LOC',\n",
    "#              'se_condena_ORG',\n",
    "#              'se_condena_MISC',\n",
    "#              'se_condena_GPE',\n",
    "#              'termino_lst',\n",
    "#              'CitaSentencias_ents',\n",
    "#              'Redactor_ents',\n",
    "#              'Fechahora_ents',\n",
    "#              '_id',\n",
    "#              'Cantón_ents',\n",
    "#              'Fecha_ents',\n",
    "\n",
    "\n",
    "sdf = (estructurales.seleccion.sdf\n",
    "       .filter('termino_ext == \"Con lugar\" OR termino_ext == \"Con lugar parcial\"')\n",
    "       .withColumn('Recurrente_ents', F.col(\"Recurrente_ents\").getItem(0))\n",
    "       .withColumn('Recurrido_ents', F.col(\"Recurrido_ents\").getItem(0))\n",
    "       .withColumnRenamed('Constitución_ents', 'Constitucion_ents')\n",
    "       ).persist()"
   ]
  },
  {
   "cell_type": "code",
   "execution_count": 17,
   "id": "cc736594-ac81-4500-b6e2-70ed5ed65373",
   "metadata": {},
   "outputs": [
    {
     "name": "stderr",
     "output_type": "stream",
     "text": [
      "                                                                                \r"
     ]
    }
   ],
   "source": [
    "sdf.select(columnas_sencillas).coalesce(1).write.mode('overwrite').csv('SentEstruct_individuales.csv', header=True, sep=';')"
   ]
  },
  {
   "cell_type": "code",
   "execution_count": 5,
   "id": "a3f43842-278f-41fd-b338-ccee1831fbfd",
   "metadata": {},
   "outputs": [
    {
     "data": {
      "application/vnd.jupyter.widget-view+json": {
       "model_id": "c6db8193a24d4cc3885a070f37571236",
       "version_major": 2,
       "version_minor": 0
      },
      "text/plain": [
       "  0%|          | 0/15 [00:00<?, ?it/s]"
      ]
     },
     "metadata": {},
     "output_type": "display_data"
    },
    {
     "name": "stderr",
     "output_type": "stream",
     "text": [
      "                                                                                \r"
     ]
    },
    {
     "ename": "AnalysisException",
     "evalue": "The number of aliases supplied in the AS clause does not match the number of columns output by the UDTF expected 2 aliases but got citasVotDate ",
     "output_type": "error",
     "traceback": [
      "\u001b[0;31m---------------------------------------------------------------------------\u001b[0m",
      "\u001b[0;31mAnalysisException\u001b[0m                         Traceback (most recent call last)",
      "\u001b[0;32m/tmp/ipykernel_274/2303777310.py\u001b[0m in \u001b[0;36m<module>\u001b[0;34m\u001b[0m\n\u001b[1;32m      6\u001b[0m \u001b[0;34m\u001b[0m\u001b[0m\n\u001b[1;32m      7\u001b[0m \u001b[0;32mfor\u001b[0m \u001b[0mcolumna\u001b[0m \u001b[0;32min\u001b[0m \u001b[0mtqdm\u001b[0m\u001b[0;34m(\u001b[0m\u001b[0mcolumnas_listas\u001b[0m\u001b[0;34m)\u001b[0m\u001b[0;34m:\u001b[0m\u001b[0;34m\u001b[0m\u001b[0;34m\u001b[0m\u001b[0m\n\u001b[0;32m----> 8\u001b[0;31m     elems_selecc = (sdf\n\u001b[0m\u001b[1;32m      9\u001b[0m                     \u001b[0;34m.\u001b[0m\u001b[0mselect\u001b[0m\u001b[0;34m(\u001b[0m\u001b[0mcolumna\u001b[0m\u001b[0;34m)\u001b[0m\u001b[0;34m\u001b[0m\u001b[0;34m\u001b[0m\u001b[0m\n\u001b[1;32m     10\u001b[0m                     \u001b[0;34m.\u001b[0m\u001b[0mfilter\u001b[0m\u001b[0;34m(\u001b[0m\u001b[0;34mf'{columna} is not Null'\u001b[0m\u001b[0;34m)\u001b[0m\u001b[0;34m\u001b[0m\u001b[0;34m\u001b[0m\u001b[0m\n",
      "\u001b[0;32m/opt/conda/lib/python3.9/site-packages/pyspark/sql/dataframe.py\u001b[0m in \u001b[0;36mselect\u001b[0;34m(self, *cols)\u001b[0m\n\u001b[1;32m   1667\u001b[0m         \u001b[0;34m[\u001b[0m\u001b[0mRow\u001b[0m\u001b[0;34m(\u001b[0m\u001b[0mname\u001b[0m\u001b[0;34m=\u001b[0m\u001b[0;34m'Alice'\u001b[0m\u001b[0;34m,\u001b[0m \u001b[0mage\u001b[0m\u001b[0;34m=\u001b[0m\u001b[0;36m12\u001b[0m\u001b[0;34m)\u001b[0m\u001b[0;34m,\u001b[0m \u001b[0mRow\u001b[0m\u001b[0;34m(\u001b[0m\u001b[0mname\u001b[0m\u001b[0;34m=\u001b[0m\u001b[0;34m'Bob'\u001b[0m\u001b[0;34m,\u001b[0m \u001b[0mage\u001b[0m\u001b[0;34m=\u001b[0m\u001b[0;36m15\u001b[0m\u001b[0;34m)\u001b[0m\u001b[0;34m]\u001b[0m\u001b[0;34m\u001b[0m\u001b[0;34m\u001b[0m\u001b[0m\n\u001b[1;32m   1668\u001b[0m         \"\"\"\n\u001b[0;32m-> 1669\u001b[0;31m         \u001b[0mjdf\u001b[0m \u001b[0;34m=\u001b[0m \u001b[0mself\u001b[0m\u001b[0;34m.\u001b[0m\u001b[0m_jdf\u001b[0m\u001b[0;34m.\u001b[0m\u001b[0mselect\u001b[0m\u001b[0;34m(\u001b[0m\u001b[0mself\u001b[0m\u001b[0;34m.\u001b[0m\u001b[0m_jcols\u001b[0m\u001b[0;34m(\u001b[0m\u001b[0;34m*\u001b[0m\u001b[0mcols\u001b[0m\u001b[0;34m)\u001b[0m\u001b[0;34m)\u001b[0m\u001b[0;34m\u001b[0m\u001b[0;34m\u001b[0m\u001b[0m\n\u001b[0m\u001b[1;32m   1670\u001b[0m         \u001b[0;32mreturn\u001b[0m \u001b[0mDataFrame\u001b[0m\u001b[0;34m(\u001b[0m\u001b[0mjdf\u001b[0m\u001b[0;34m,\u001b[0m \u001b[0mself\u001b[0m\u001b[0;34m.\u001b[0m\u001b[0msql_ctx\u001b[0m\u001b[0;34m)\u001b[0m\u001b[0;34m\u001b[0m\u001b[0;34m\u001b[0m\u001b[0m\n\u001b[1;32m   1671\u001b[0m \u001b[0;34m\u001b[0m\u001b[0m\n",
      "\u001b[0;32m/opt/conda/lib/python3.9/site-packages/py4j/java_gateway.py\u001b[0m in \u001b[0;36m__call__\u001b[0;34m(self, *args)\u001b[0m\n\u001b[1;32m   1302\u001b[0m \u001b[0;34m\u001b[0m\u001b[0m\n\u001b[1;32m   1303\u001b[0m         \u001b[0manswer\u001b[0m \u001b[0;34m=\u001b[0m \u001b[0mself\u001b[0m\u001b[0;34m.\u001b[0m\u001b[0mgateway_client\u001b[0m\u001b[0;34m.\u001b[0m\u001b[0msend_command\u001b[0m\u001b[0;34m(\u001b[0m\u001b[0mcommand\u001b[0m\u001b[0;34m)\u001b[0m\u001b[0;34m\u001b[0m\u001b[0;34m\u001b[0m\u001b[0m\n\u001b[0;32m-> 1304\u001b[0;31m         return_value = get_return_value(\n\u001b[0m\u001b[1;32m   1305\u001b[0m             answer, self.gateway_client, self.target_id, self.name)\n\u001b[1;32m   1306\u001b[0m \u001b[0;34m\u001b[0m\u001b[0m\n",
      "\u001b[0;32m/opt/conda/lib/python3.9/site-packages/pyspark/sql/utils.py\u001b[0m in \u001b[0;36mdeco\u001b[0;34m(*a, **kw)\u001b[0m\n\u001b[1;32m    115\u001b[0m                 \u001b[0;31m# Hide where the exception came from that shows a non-Pythonic\u001b[0m\u001b[0;34m\u001b[0m\u001b[0;34m\u001b[0m\u001b[0;34m\u001b[0m\u001b[0m\n\u001b[1;32m    116\u001b[0m                 \u001b[0;31m# JVM exception message.\u001b[0m\u001b[0;34m\u001b[0m\u001b[0;34m\u001b[0m\u001b[0;34m\u001b[0m\u001b[0m\n\u001b[0;32m--> 117\u001b[0;31m                 \u001b[0;32mraise\u001b[0m \u001b[0mconverted\u001b[0m \u001b[0;32mfrom\u001b[0m \u001b[0;32mNone\u001b[0m\u001b[0;34m\u001b[0m\u001b[0;34m\u001b[0m\u001b[0m\n\u001b[0m\u001b[1;32m    118\u001b[0m             \u001b[0;32melse\u001b[0m\u001b[0;34m:\u001b[0m\u001b[0;34m\u001b[0m\u001b[0;34m\u001b[0m\u001b[0m\n\u001b[1;32m    119\u001b[0m                 \u001b[0;32mraise\u001b[0m\u001b[0;34m\u001b[0m\u001b[0;34m\u001b[0m\u001b[0m\n",
      "\u001b[0;31mAnalysisException\u001b[0m: The number of aliases supplied in the AS clause does not match the number of columns output by the UDTF expected 2 aliases but got citasVotDate "
     ]
    }
   ],
   "source": [
    "from pyspark.sql import Row\n",
    "from collections import Counter\n",
    "from datetime import datetime\n",
    "from tqdm.auto import tqdm\n",
    "\n",
    "\n",
    "for columna in tqdm(columnas_listas):\n",
    "    elems_selecc = (sdf\n",
    "                    .select(columna)\n",
    "                    .filter(f'{columna} is not Null')\n",
    "                    .filter('termino_ext == \"Con lugar\" OR termino_ext == \"Con lugar parcial\"')\n",
    "                    .select(F.explode(columna).alias(columna))\n",
    "                    .groupby(columna)\n",
    "                    .count()\n",
    "                    .sort(F.desc('count'))\n",
    "                    .filter('count > 5')\n",
    "                    ).toPandas()\n",
    "\n",
    "    elems_selecc['count'] = 0\n",
    "    elems_selecc = elems_selecc.set_index(columna).to_dict('dict')['count']\n",
    "\n",
    "    (sdf\n",
    "     .select(*columnas_sencillas, columna)\n",
    "     .filter(f'{columna} is not Null')\n",
    "     .filter('termino_ext == \"Con lugar\" OR termino_ext == \"Con lugar parcial\"')\n",
    "     .select('archivo', F.explode(columna).alias(columna))\n",
    "     .filter(F.col(columna).isin(list(elems_selecc.keys())))\n",
    "     ).toPandas().to_excel(f'SentEstructurales_{columna}_{datetime.now().strftime(\"%Y-%m-%d\")}.xlsx')"
   ]
  },
  {
   "cell_type": "code",
   "execution_count": null,
   "id": "bff42d8f-96c1-4027-849c-30c4062e8b4e",
   "metadata": {},
   "outputs": [],
   "source": [
    "    \n",
    "    def func(row):\n",
    "        result = elems_selecc.copy()\n",
    "        for elem in row[columna]:\n",
    "            if elem in result:\n",
    "                result[elem] += 1 \n",
    "        return Row(archivo=row.archivo, **result)\n",
    "\n",
    "    df = (sdf\n",
    "     .select('archivo',columna)\n",
    "     .filter(f'{columna} is not Null')\n",
    "     .filter('termino_ext == \"Con lugar\" OR termino_ext == \"Con lugar parcial\"')\n",
    "     .rdd\n",
    "     .map(func)\n",
    "    ).toDF().coalesce(1).write.mode('overwrite').csv(columna,header = 'true')#.toPandas()#.to_excel('Prueba2.xlsx')"
   ]
  },
  {
   "cell_type": "code",
   "execution_count": null,
   "id": "44246bd6-1b9d-4c62-a09b-7e66d65cdf50",
   "metadata": {},
   "outputs": [],
   "source": []
  },
  {
   "cell_type": "code",
   "execution_count": null,
   "id": "afd33235-b842-4982-8395-d50ae481b1a8",
   "metadata": {
    "tags": [
     "remove_cell"
    ]
   },
   "outputs": [],
   "source": [
    "# Lista General de sentencias para el excel\n",
    "columnas = ['archivo',\n",
    "            'expediente', 'anno', 'fechahora_ext', 'redactor_ext', 'tipoResolucion_ext',\n",
    "            'termino_ext', 'voto_salvado', 'tema', 'tema_prob', 'Recurrente_ents',\n",
    "            'Cantón_ents', 'Fecha_ents', 'Constitución_ents', 'Redactor_ents','Ley_ents',\n",
    "            'EntidadPublica_ents', 'Fechahora_ents', 'CitaSentencias_ents',\n",
    "            'Recurrido_ents', 'Reglamento_ents', 'Magistrado_ents', 'seguimiento',\n",
    "            'se_ordena', 'plan', 'plazo', 'se_ordena_PER', 'se_ordena_LOC', \n",
    "            'se_ordena_ORG', 'se_ordena_MISC', 'se_ordena_GPE', 'se_ordena_Ent_Pub',\n",
    "            'extension_sentencia', 'extension_por_lo_tanto', 'plazosDefinidos',\n",
    "            'FechaSolicitud', 'plazosDefinidos', 'dias_tramite', 'num_resolucion'\n",
    "            ]\n",
    "\n",
    "preprocesar_plazos(estructurales)\n",
    "descr = Descripcion(estructurales.seleccion, './extraccion')\n",
    "descr.guardar_lista(columnas, sheet='Lista de Sentencias con lugar')"
   ]
  },
  {
   "cell_type": "code",
   "execution_count": null,
   "id": "456b0bc9-0043-4da3-b8da-5111b729aafd",
   "metadata": {},
   "outputs": [],
   "source": [
    "columnas = ['archivo',\n",
    "            'expediente', 'anno', 'fechahora_ext', 'seguimiento',\n",
    "            'se_ordena', 'plan', 'plazo', 'se_ordena_PER', 'se_ordena_LOC', \n",
    "            'se_ordena_ORG', 'se_ordena_MISC', 'se_ordena_GPE', 'se_ordena_Ent_Pub',\n",
    "            'extension_sentencia', 'extension_por_lo_tanto', 'plazosDefinidos',\n",
    "            'FechaSolicitud', 'plazosDefinidos', 'dias_tramite', 'num_resolucion'\n",
    "            ]\n",
    "\n",
    "\n",
    "# estructurales.seleccion.sdf.where('termino_ext == \"Con lugar\" OR  termino_ext == \"Con lugar parcial\" ').select(*columnas).toPandas().to_excel('datos02.xlsx')"
   ]
  },
  {
   "cell_type": "markdown",
   "id": "22a9949a-18f0-4f77-86c5-7087adcd7580",
   "metadata": {
    "tags": []
   },
   "source": [
    "## Introducción\n",
    "\n",
    "En este reporte se exploran resultados preliminares de la aplicación de los criterios de clasificación de sentencias estructurales en el corpus de resoluciones de la Sala Constitucional de Costa Rica. Estos criterios están definidos en el documento de trabajo _\"Propuesta de definición y operacionalización de sentencias estructurales\"_ (Estado de la Justicia, 2021), en donde los criterios se agrupan las tres dimensiones: contenido, forma y calidad."
   ]
  },
  {
   "cell_type": "markdown",
   "id": "9302e934-1c3b-4c48-ac5d-bcd42ceae0da",
   "metadata": {
    "tags": []
   },
   "source": [
    "### Dimensión Contenido\n",
    " \n",
    " \n",
    "| Num. | Característica                                                                | Operacionalización               | Unidad de registro                               |\n",
    "| ---- |:------------------------------------------------------------------------------|:----------------------------------|:--------------------------------------------------|\n",
    "| CO01  | Busca solucionar un problema estructural, reiterado y serio                   | Problema estructural que atiende | Listado de problemas estructurales a identificar |\n",
    "| CO02  | Se centra en la protección de temáticas relacionados con los derechos humanos | 1. Se menciona un derecho humano afectado? <br> 2. ¿Cuál? | 1. Sí y no.  <br> 2. Listado de derechos humanos a identificar |\n",
    "| CO03  | Afecta a un grupo de personas, más allá de quién (es) presentaron el recurso | 1. En la sección general hay más de un demandante (un nombre). <br> 2. Por lo tanto menciona un grupo de la población específico | 1. Sí o no.  | Contien la palabra indígenas, personas con discapacidad, privados de libertad, vecinos, estudiantes, pacientes, etc. |\n",
    "| CO04  | Sirve como referente en la resolución de un elevado número de casos similares o idénticos |  1. Es citado en otras resoluciones. <br> 2. ¿Cuáles? | 1.Número de veces que se cita en otras resoluciones. <br> 2.Expedientes en los cuales se cita. |\n",
    "| CO05  | Establece como una condición dar seguimiento para verificar el cumplimiento efectivo de dicha sentencia | Contiene la palabra \"Seguimiento\" | 1. Sí o no. <br> 2. (Informes??, planificación??) |\n",
    " \n",
    " "
   ]
  },
  {
   "cell_type": "markdown",
   "id": "e7e5dff8-5068-433b-a7ce-b24aca971444",
   "metadata": {
    "tags": []
   },
   "source": [
    "### Dimensión Forma\n",
    "\n",
    "| Num. | Característica  | Operacionalización | Unidad de registro   |\n",
    "| ---- |:----------------|--------------------|----------------------|\n",
    "| FO01 | Implica órdenes/disposiciones de cumplimiento obligatorio  | Contiene un \"Se ordena\" <br> (?? Con un plazo)  | Sí o no.   |\n",
    "| FO02 | Señala qué debe hacerse y a quién (persona o ente) le corresponde realizar dicha acción  | Después de la palabra “se ordena” se menciona un nombre de la persona o institución  | Extraer el nombre completo.   |\n",
    "| FO03 | Define plazos para el cumplimiento de las órdenes/disposiciones emitidas  | En el Por Tanto se menciona la palabra “meses”  | Extraer las palabras o números antes de meses.   |\n",
    "| FO04 | Se registran declaraciones/pronunciamientos repetidos por parte de la Sala Constitucional  | Cantidad de referencia a otras sentencias similares o iguales  | Número de referencias <br> Número de expediente de las sentencias a las cuales se hace referencia  |\n",
    "| FO05 | Señala que para el cumplimiento del problema estructural se debe elaborar un plan  | Aparece la palabra “plan”  | Sí o no  |\n",
    "| FO06 | Hay más de una institución involucrada en la ejecución y supervisión del cumplimiento de la sentencias  | ¿Cuántas instituciones están involucradas en la ejecución y supervisión del cumplimiento de la sentencias?  | Sí o no <br> Número de instituciones  |"
   ]
  },
  {
   "cell_type": "markdown",
   "id": "e0f4856a-914f-4d2f-82a9-9c663cdfb721",
   "metadata": {
    "tags": []
   },
   "source": [
    "### Dimensión Calidad\n",
    "| Característica   | Operacionalización | Unidad de registro   |\n",
    "|:-----------------|--------------------|----------------------|\n",
    "| Extensión de la sentencia  | Cantidad de palabras (entre X y Y)  | Números absolutos  |\n",
    "| Tiempo que tomó emitir la resolución  | Meses que tomó emitir la resolución (entre X y Y)  | Fecha de presentación del recurso y fecha del voto  |\n",
    "| Uso de lenguaje jurídico y técnico  | Cantidad de términos jurídicos y técnicos únicos citados  | Términos únicos en el texto.  |\n",
    "| Profundidad de las argumentaciones expuestas  |    |   |\n",
    "| Cantidad de fuentes/autores citados  | En el Considerando: se mencionan autores, líneas filosóficas o literatura   | Incluye las palabras doctrina, literatura,  |\n",
    "| Jurisprudencia citada  | En el Considerando se citan instrumentos internacionales referidos, u organismos internacionales, incluyendo cortes internacionales, otros tribunales constitucionales  | Cantidad de instrumentos. <br> <br>Listado de instrumentos citados. <br> <br>Listado de organizaciones citadas  |\n",
    "| Redactada por los magistrados y magistradas propietarios  | Redacta un propietario. <br> <br> <br>Votación la realizan  magistrados (as) propietarios (as)   | Si o no.  <br> <br>Cantidad de magistrados (as) propietarios (as) que votan  |"
   ]
  },
  {
   "cell_type": "markdown",
   "id": "3bb5712b-c4ca-42f4-bcf3-44d893c26abd",
   "metadata": {
    "tags": []
   },
   "source": [
    "# Dimensión Contenido"
   ]
  },
  {
   "cell_type": "markdown",
   "id": "d34f1f7f-63e2-4a68-ae73-743c009df7f9",
   "metadata": {},
   "source": [
    "## Criterio CO5. Seguimiento"
   ]
  },
  {
   "cell_type": "code",
   "execution_count": null,
   "id": "fcea41df-0f22-43db-9fcb-ab48de40e238",
   "metadata": {
    "tags": [
     "hide_input"
    ]
   },
   "outputs": [],
   "source": [
    "seguimiento_total = estructurales.seleccion.sdf.where('seguimiento != 0').count()\n",
    "\n",
    "Latex(f'''\n",
    "El objetivo es identificar si en el portanto de la sentencia se hace referencia\n",
    "a alguna estrategia de seguimiento, ya sea por la misma Sala o por un tercero.\n",
    "\n",
    "\n",
    "Para obtener la información, se realiza una búsqueda de la palabra seguimiento\n",
    "en el portanto pero no se obtienen resultados concluyentes: solo se obtienen\n",
    "{seguimiento_total} sentencias con la palabra, pero la mayor parte no hacen\n",
    "referencia a un plan de seguimiento en particular.\n",
    "\n",
    "''')"
   ]
  },
  {
   "cell_type": "markdown",
   "id": "6b4c20c8-49a6-48ac-8fb0-97da70801975",
   "metadata": {},
   "source": [
    "# Dimensión Forma"
   ]
  },
  {
   "cell_type": "markdown",
   "id": "2a834c7f-95f8-4294-9362-bad34725ccbd",
   "metadata": {
    "tags": []
   },
   "source": [
    "## FO01. Se ordena"
   ]
  },
  {
   "cell_type": "code",
   "execution_count": null,
   "id": "071760ec-2253-4b11-b1aa-1bb940e17198",
   "metadata": {
    "tags": [
     "remove_cell"
    ]
   },
   "outputs": [],
   "source": [
    "se_ordena_total = (estructurales\n",
    "                    .seleccion.sdf\n",
    "                    .where('se_ordena != 0')\n",
    "                    .count())\n",
    "\n",
    "\n",
    "con_lugar_total = (estructurales\n",
    "                     .seleccion.sdf\n",
    "                     .where('termino_ext == \"Con lugar\" OR  termino_ext == \"Con lugar parcial\" ')\n",
    "                     .count())\n",
    "\n",
    "porcentaje_seordena = 100*se_ordena_total/con_lugar_total"
   ]
  },
  {
   "cell_type": "code",
   "execution_count": null,
   "id": "dae93b22-fad9-452f-811e-eab29743f6fa",
   "metadata": {},
   "outputs": [],
   "source": [
    "porcentaje_seordena"
   ]
  },
  {
   "cell_type": "markdown",
   "id": "e007dfcd-7da2-43ff-800d-0d6a3e550250",
   "metadata": {},
   "source": [
    "En las sentencias \"con lugar\", normalmente se le ordena a los recurridos alguna acción relacionada a la naturaleza de la sentencia. Esta orden se da a personas particulares, en puestos públicos o pertenecientes a alguna institución o entidad. "
   ]
  },
  {
   "cell_type": "code",
   "execution_count": null,
   "id": "de0de947-1123-473e-aa7f-6611e660622c",
   "metadata": {
    "tags": [
     "hide_input"
    ]
   },
   "outputs": [],
   "source": [
    "Latex(f'''\n",
    "Del total de sentencias \"con lugar\" o \"con lugar parcial\", el {porcentaje_seordena:1.2f}%, manteniendo un comportamiento homogéneo durante todos los años (Figura 1).\n",
    "''')"
   ]
  },
  {
   "cell_type": "code",
   "execution_count": null,
   "id": "b9cfedac-a13f-4ca2-a8f7-4a90afdba7ab",
   "metadata": {
    "tags": []
   },
   "outputs": [],
   "source": [
    "grafico_se_ordena_anno(estructurales)"
   ]
  },
  {
   "cell_type": "markdown",
   "id": "ddd397bf-1822-4ae8-bdc1-58311acb1a1b",
   "metadata": {},
   "source": [
    "## FO02. Se señala qué debe hacerse y a quién"
   ]
  },
  {
   "cell_type": "markdown",
   "id": "1396e66f-907b-40e1-97d6-f0502d90aa43",
   "metadata": {},
   "source": [
    "Instituciones que aparecen en se ordena"
   ]
  },
  {
   "cell_type": "code",
   "execution_count": null,
   "id": "3cf5e3ea-df1e-46b5-9916-7ebdfae5b75a",
   "metadata": {
    "tags": [
     "remove_cell"
    ]
   },
   "outputs": [],
   "source": [
    "df_se_ordena_LOC = (estructurales.seleccion.sdf\n",
    " .where(estructurales.seleccion.sdf.se_ordena_LOC.isNotNull())\n",
    " .select(F.explode('se_ordena_LOC').alias('se_ordena_LOC'), 'anno')\n",
    " .groupby('se_ordena_LOC')\n",
    " .count()\n",
    " .sort('count')\n",
    ").toPandas()\n",
    "descr.guardar_df(df_se_ordena_LOC, sheet='Se Ordena LOC (Sin limpiar)')\n",
    "df_se_ordena_LOC[:50]\n"
   ]
  },
  {
   "cell_type": "markdown",
   "id": "0b498411-36ba-4023-9ee0-38ce97956d34",
   "metadata": {},
   "source": [
    "Plazo en el cumplimiento de la orden"
   ]
  },
  {
   "cell_type": "code",
   "execution_count": null,
   "id": "b28602c6-5566-4d66-aa59-3fb08e89dd4d",
   "metadata": {
    "tags": [
     "remove_cell"
    ]
   },
   "outputs": [],
   "source": [
    "df_se_ordena_Ent_Pub = (estructurales.seleccion.sdf\n",
    " .where(estructurales.seleccion.sdf.se_ordena_Ent_Pub.isNotNull())\n",
    " .select(F.explode('se_ordena_Ent_Pub').alias('se_ordena_Ent_Pub'), 'anno')\n",
    " .groupby('se_ordena_Ent_Pub')\n",
    " .count()\n",
    " .sort('count')\n",
    ").toPandas()\n",
    "\n",
    "descr.guardar_df(df_se_ordena_Ent_Pub, sheet='Se Ordena Entidades Públicas')\n",
    "df_se_ordena_Ent_Pub.columns = ['Instituciones', 'Cantidad de menciones']\n",
    "df_se_ordena_Ent_Pub[:20].set_index('Instituciones').plot.barh(figsize=(14,10), title=\"Instituciones mencionadas junto a 'Se ordena'\")\n",
    "df_se_ordena_Ent_Pub.to_excel('EntidadesPublicas.xlsx')"
   ]
  },
  {
   "cell_type": "code",
   "execution_count": null,
   "id": "d09c23f1-dd8c-4ef4-b36d-dcccda8ac9d5",
   "metadata": {
    "tags": [
     "hide_input"
    ]
   },
   "outputs": [],
   "source": [
    "import numpy as np\n",
    "import matplotlib.pyplot as plt\n",
    "import matplotlib.ticker as ticker\n",
    "\n",
    "fig = plt.figure( figsize=(14,10))\n",
    "fig.suptitle('Histograma de la extención de las sentencias')\n",
    "\n",
    "ax1 = fig.add_subplot(221)\n",
    "(estructurales.seleccion.sdf.select('extension_sentencia')\n",
    ").toPandas().plot.hist(bins=1000, xlim=(0,100000), ax=ax1, title=\"Sentencias sin filtrar\", ylabel='Frecuencia', xlabel='Cantidad de palabras' )\n",
    "\n",
    "ax2 = fig.add_subplot(222)\n",
    "(estructurales\n",
    " .seleccion.sdf\n",
    " .where('termino_ext == \"Con lugar\" OR  termino_ext == \"Con lugar parcial\" ')\n",
    " .select('extension_sentencia')\n",
    ").toPandas().plot.hist(bins=1000, xlim=(0,100000), ax=ax2, title=\"Solo sentencas 'con lugar' y 'con lugar parcial'\" , ylabel='Frecuencia', xlabel='Cantidad de palabras')\n",
    "\n",
    "\n",
    "ax3 = fig.add_subplot(223)\n",
    "(estructurales\n",
    " .seleccion.sdf\n",
    " .where('termino_ext == \"Con lugar\" OR  termino_ext == \"Con lugar parcial\" ')\n",
    " .where('se_ordena == 1')\n",
    " .select('extension_sentencia')\n",
    ").toPandas().plot.hist(bins=1000, xlim=(0,100000), ax=ax3,  title=\"Sentencias con órdenes en el portanto\" , ylabel='Frecuencia', xlabel='Cantidad de palabras')\n",
    "\n",
    "fig.show()"
   ]
  },
  {
   "cell_type": "code",
   "execution_count": null,
   "id": "14b0c682-75ad-4669-8d15-d2ff9f46c093",
   "metadata": {},
   "outputs": [],
   "source": [
    "ax = (estructurales\n",
    " .seleccion.sdf\n",
    " .where('termino_ext == \"Con lugar\" OR  termino_ext == \"Con lugar parcial\" ')\n",
    " .select('extension_sentencia')\n",
    " .where('extension_sentencia < 100000')\n",
    ").toPandas().plot.hist(bins=70, \n",
    "                       figsize=(12,6),\n",
    "                       xlim=(0,60000),\n",
    "                      legend=False)\n",
    "ax.set_xlabel('Cantidad de palabras')\n",
    "ax.set_ylabel('Frecuencia')\n",
    "ax.xaxis.set_major_formatter(ticker.FuncFormatter(lambda x, pos: '{:,}'.format(int(x)).replace(',','.')))\n",
    "ax.yaxis.set_major_formatter(ticker.FuncFormatter(lambda x, pos: '{:,}'.format(int(x)).replace(',','.')))"
   ]
  },
  {
   "cell_type": "code",
   "execution_count": null,
   "id": "c4be7113-ad2b-4944-b9ad-62b6179d0c55",
   "metadata": {
    "tags": [
     "hide_input"
    ]
   },
   "outputs": [],
   "source": [
    "\n",
    "\n",
    "import numpy as np\n",
    "import matplotlib.pyplot as plt\n",
    "import seaborn as sns\n",
    "import numpy as np\n",
    "import matplotlib.ticker as ticker\n",
    "\n",
    "sns.set(font='Franklin Gothic Book', rc={\n",
    " 'axes.axisbelow': False,\n",
    " 'axes.grid': False,\n",
    " 'axes.edgecolor': 'lightgrey',\n",
    " 'axes.facecolor': 'None',\n",
    " 'axes.labelcolor': 'dimgrey',\n",
    " 'axes.spines.right': False,\n",
    " 'axes.spines.top': False,\n",
    " 'figure.facecolor': 'white',\n",
    " 'lines.solid_capstyle': 'round',\n",
    " 'patch.edgecolor': 'w',\n",
    " 'patch.force_edgecolor': True,\n",
    " 'text.color': 'dimgrey',\n",
    " 'xtick.bottom': False,\n",
    " 'xtick.color': 'dimgrey',\n",
    " 'xtick.direction': 'out',\n",
    " 'xtick.top': False,\n",
    " 'ytick.color': 'dimgrey',\n",
    " 'ytick.direction': 'out',\n",
    " 'ytick.left': False,\n",
    " 'ytick.right': False})\n",
    "sns.set_context(\"notebook\", rc={\"font.size\":16,\n",
    "                                \"axes.titlesize\":16,\n",
    "                                \"axes.labelsize\":10})\n",
    "\n",
    "\n",
    "# fig = plt.figure( figsize=(14,10))\n",
    "# fig.suptitle('Histograma de la extención de los portanto')\n",
    "\n",
    "# ax1 = fig.add_subplot(221)\n",
    "# (estructurales\n",
    "#  .seleccion.sdf\n",
    "#  .select('extension_por_lo_tanto')\n",
    "#  .where('extension_por_lo_tanto < 10000')\n",
    "# ).toPandas().plot.hist(bins=1000, xlim=(0,6000), ax=ax1, title=\"Sentencias sin filtrar\", ylabel='Frecuencia', xlabel='Cantidad de palabras')\n",
    "\n",
    "\n",
    "ax = (estructurales\n",
    " .seleccion.sdf\n",
    " .where('termino_ext == \"Con lugar\" OR  termino_ext == \"Con lugar parcial\" ')\n",
    " .select('extension_por_lo_tanto')\n",
    " .where('extension_por_lo_tanto < 10000')\n",
    ").toPandas().plot.hist(bins=70, \n",
    "                       figsize=(12,6),\n",
    "                       xlim=(0,4000),\n",
    "                      legend=False)\n",
    "ax.set_xlabel('Cantidad de palabras')\n",
    "ax.set_ylabel('Frecuencia')\n",
    "ax.xaxis.set_major_formatter(ticker.FuncFormatter(lambda x, pos: '{:,}'.format(int(x)).replace(',','.')))\n",
    "ax.yaxis.set_major_formatter(ticker.FuncFormatter(lambda x, pos: '{:,}'.format(int(x)).replace(',','.')))\n",
    "\n",
    "\n",
    "\n",
    "# ax3 = fig.add_subplot(223)\n",
    "# (estructurales\n",
    "#  .seleccion.sdf\n",
    "#  .where('termino_ext == \"Con lugar\" OR  termino_ext == \"Con lugar parcial\" ')\n",
    "#  .where('se_ordena == 1')\n",
    "#  .where('extension_por_lo_tanto < 10000')\n",
    "#  .select('extension_por_lo_tanto')\n",
    "# ).toPandas().plot.hist(bins=1000, xlim=(0,6000), ax=ax3,  title=\"Sentencias con órdenes en el portanto\" , ylabel='Frecuencia', xlabel='Cantidad de palabras')"
   ]
  },
  {
   "cell_type": "code",
   "execution_count": null,
   "id": "b285a83e-529c-4935-a0ad-c802f3062d95",
   "metadata": {
    "tags": [
     "hide_input",
     "remove_cell"
    ]
   },
   "outputs": [],
   "source": [
    "cant_con_plazo = (estructurales\n",
    " .seleccion.sdf             \n",
    " .where('plazosDefinidos is not Null')\n",
    " .where('se_ordena == 1')\n",
    " .where('termino_ext == \"Con lugar\" OR  termino_ext == \"Con lugar parcial\" ')\n",
    ").toPandas()\n",
    "\n",
    "cant_con_lugar = (estructurales\n",
    " .seleccion.sdf             \n",
    " .where('se_ordena == 1')\n",
    " .where('termino_ext == \"Con lugar\" OR  termino_ext == \"Con lugar parcial\" ')\n",
    ").count()\n",
    "\n",
    "\n",
    "cant_con_plazo.shape[0]/cant_con_lugar\n"
   ]
  },
  {
   "cell_type": "code",
   "execution_count": null,
   "id": "746f663d-fc12-48cb-a0e9-8dcaaa7dfc5c",
   "metadata": {},
   "outputs": [],
   "source": [
    "plazo = (estructurales\n",
    " .seleccion.sdf             \n",
    " .where('termino_ext == \"Con lugar\" OR  termino_ext == \"Con lugar parcial\" ')\n",
    " .select('anno','plazosDefinidos')\n",
    ").toPandas()\n",
    "\n",
    "datos = (plazo.reset_index()\n",
    " .groupby('anno')\n",
    " .agg({'index':'count', 'plazosDefinidos': 'count'})\n",
    " .rename(columns={'index':'Cantidad con lugar y con lugar parcial', 'plazosDefinidos': 'Sentencias con plazos'}))\n",
    "ax = (datos\n",
    " .plot.bar(figsize=(16,8), xlabel='Años', ylabel='Cantidad', width=0.8))\n",
    "ax.yaxis.set_major_formatter(ticker.FuncFormatter(lambda x, pos: '{:,}'.format(int(x)).replace(',','.')))\n",
    "\n",
    "(plazo.reset_index()\n",
    " .groupby('anno')\n",
    " .agg({'index':'count', 'plazosDefinidos': 'count'})\n",
    " .rename(columns={'index':'Cantidad con lugar y con lugar parcial', 'plazosDefinidos': 'Sentencias con plazos'})\n",
    " .to_excel('Datos_plazos.xlsx'))\n",
    "\n",
    "datos"
   ]
  },
  {
   "cell_type": "code",
   "execution_count": null,
   "id": "8a2d6188-a90f-48f0-aefe-7c20feffa8d7",
   "metadata": {},
   "outputs": [],
   "source": [
    "(estructurales\n",
    " .seleccion.sdf             \n",
    " .where('termino_ext == \"Con lugar\" OR  termino_ext == \"Con lugar parcial\" ')\n",
    " .where('se_ordena != 0 ')\n",
    " .where('plazosDefinidos is not NULL ')\n",
    " .select('anno', 'se_ordena', 'plazosDefinidos')\n",
    " .groupby('anno').count()\n",
    " .sort('anno')\n",
    ").toPandas()"
   ]
  },
  {
   "cell_type": "code",
   "execution_count": null,
   "id": "1b4f6d38-39cf-4553-9c8a-7e854a150184",
   "metadata": {},
   "outputs": [],
   "source": [
    "\n",
    "t_tramite = estructurales.seleccion.sdf.where('termino_ext == \"Con lugar\" OR  termino_ext == \"Con lugar parcial\" ').select('dias_tramite').dropna().toPandas()"
   ]
  },
  {
   "cell_type": "code",
   "execution_count": null,
   "id": "954ea527-b62b-4447-9495-39eace91a2cb",
   "metadata": {
    "tags": [
     "remove_cell"
    ]
   },
   "outputs": [],
   "source": [
    "import seaborn as sns\n",
    "import numpy as np\n",
    "\n",
    "sns.set(font='Franklin Gothic Book', rc={\n",
    " 'axes.axisbelow': False,\n",
    " 'axes.grid': False,\n",
    " 'axes.edgecolor': 'lightgrey',\n",
    " 'axes.facecolor': 'None',\n",
    " 'axes.labelcolor': 'dimgrey',\n",
    " 'axes.spines.right': False,\n",
    " 'axes.spines.top': False,\n",
    " 'figure.facecolor': 'white',\n",
    " 'lines.solid_capstyle': 'round',\n",
    " 'patch.edgecolor': 'w',\n",
    " 'patch.force_edgecolor': True,\n",
    " 'text.color': 'dimgrey',\n",
    " 'xtick.bottom': False,\n",
    " 'xtick.color': 'dimgrey',\n",
    " 'xtick.direction': 'out',\n",
    " 'xtick.top': False,\n",
    " 'ytick.color': 'dimgrey',\n",
    " 'ytick.direction': 'out',\n",
    " 'ytick.left': False,\n",
    " 'ytick.right': False})\n",
    "sns.set_context(\"notebook\", rc={\"font.size\":16,\n",
    "                                \"axes.titlesize\":20,\n",
    "                                \"axes.labelsize\":10})\n",
    "\n",
    "def show_values_on_bars(axs, h_v=\"v\", space=0.4):\n",
    "    def _show_on_single_plot(ax):\n",
    "        if h_v == \"v\":\n",
    "            for p in ax.patches:\n",
    "                _x = p.get_x() + p.get_width() / 2\n",
    "                _y = p.get_y() + p.get_height()\n",
    "                value = int(p.get_height())\n",
    "                ax.text(_x, _y, value, ha=\"center\") \n",
    "        elif h_v == \"h\":\n",
    "            for p in ax.patches:\n",
    "                _x = p.get_x() + p.get_width() + float(space)\n",
    "                _y = p.get_y() + p.get_height()/2 - 0.05\n",
    "                value = int(p.get_width())\n",
    "                ax.text(_x, _y, '{:,}'.format(int(value)), ha=\"left\", size=12 )\n",
    "\n",
    "    if isinstance(axs, np.ndarray):\n",
    "        for idx, ax in np.ndenumerate(axs):\n",
    "            _show_on_single_plot(ax)\n",
    "    else:\n",
    "        _show_on_single_plot(axs)\n",
    "        \n",
    "\n",
    "import matplotlib.ticker as ticker\n",
    "\n",
    "\n",
    "datos = pd.DataFrame([{\n",
    "    'Más de 4 años': t_tramite.query(f'dias_tramite > {365*4}  ').shape[0],\n",
    "    'De 2 años a 4 años': t_tramite.query(f'dias_tramite > {365*2} and dias_tramite <= {365*4} ').shape[0],\n",
    "    'De 1 año a 2 años': t_tramite.query(f'dias_tramite > {365} and dias_tramite <= {365*2} ').shape[0],\n",
    "    'De 120 días a 1 año': t_tramite.query('dias_tramite > 120 and dias_tramite <= 365 ').shape[0],\n",
    "    'De 60 días a 120 días': t_tramite.query('dias_tramite > 60 and dias_tramite <= 120').shape[0],\n",
    "    'Menos de 60 días': t_tramite.query('dias_tramite > 30 and dias_tramite <= 60').shape[0],\n",
    "    'Menos de 30 días': t_tramite.query('dias_tramite <= 30').shape[0],\n",
    "}]).T\n",
    "ax = datos.plot.barh(legend=False, figsize=(12,8))\n",
    "\n",
    "show_values_on_bars(ax, h_v=\"h\", space=4)\n",
    "\n",
    "ax.xaxis.set_major_formatter(ticker.FuncFormatter(lambda x, pos: '{:,}'.format(int(x))))\n",
    "ax.set_xlabel('Cantidad de Sentencias')\n",
    "t_tramite.shape[0]\n",
    "datos"
   ]
  },
  {
   "cell_type": "code",
   "execution_count": null,
   "id": "0f31a026-9a1c-4b08-98fc-a120ed5a2e9c",
   "metadata": {
    "tags": [
     "remove_cell"
    ]
   },
   "outputs": [],
   "source": [
    "descr.export.guardar('estructurales_crudo[28-10-21]-corret')"
   ]
  },
  {
   "cell_type": "code",
   "execution_count": null,
   "id": "8196ad12-e05e-45c3-bd91-b2d44abafb35",
   "metadata": {},
   "outputs": [],
   "source": [
    "redactores = (estructurales.seleccion.sdf\n",
    " .where('termino_ext == \"Con lugar\" OR  termino_ext == \"Con lugar parcial\" ')\n",
    " .select('redactor_ext')\n",
    " .groupby('redactor_ext')\n",
    " .count()\n",
    "#  .withColumn('Magistrado', F.explode('Redactor_ents'))\n",
    ").toPandas()\n",
    "\n",
    "redactores.to_excel('lista_redactores.xlsx')"
   ]
  },
  {
   "cell_type": "markdown",
   "id": "0948a453-63fb-49e1-a56d-6334d86c22d5",
   "metadata": {},
   "source": [
    "# Red de Citas"
   ]
  },
  {
   "cell_type": "code",
   "execution_count": null,
   "id": "7b73eeb9-99ad-4879-a8d8-88f54746af12",
   "metadata": {},
   "outputs": [],
   "source": [
    "s = estructurales.seleccion.sdf\n",
    "\n",
    "edgelist = (s\n",
    " .select( 'id_sentencia', 'tema', 'tema_prob', 'fechahora_ext', F.year('fechahora_ext').alias('anno'), F.explode_outer(s.citasIDVoto).alias(\"Target\", \"cita_num_voto\"))\n",
    " .filter(s.id_sentencia.isNotNull())\n",
    " .filter(s.fechahora_ext.isNotNull())\n",
    " .filter(s.citasIDVoto.isNotNull())\n",
    " .withColumnRenamed('id_sentencia', 'Source')\n",
    ").toPandas()#.to_csv('RED_COMPLETA.csv', index=False)\n",
    "\n",
    "edgelist.count()"
   ]
  },
  {
   "cell_type": "code",
   "execution_count": null,
   "id": "7ae99d74-345e-4c7b-b4ec-1e22e903f723",
   "metadata": {
    "tags": [
     "remove_cell"
    ]
   },
   "outputs": [],
   "source": [
    "# edgelist = (estructurales.seleccion.sdf\n",
    "#             .where('termino_ext == \"Con lugar\" OR  termino_ext == \"Con lugar parcial\" ')\n",
    "#             .select('CitaSentencias_ents', 'num_resolucion', 'anno', 'fechahora_ext')\n",
    "#  .withColumn('citador', F.explode('CitaSentencias_ents'))\n",
    "#  .withColumn('citador', F.regexp_replace('citador', \"[^\\d]\", \"\"))\n",
    "#  .withColumnRenamed('num_resolucion', 'citada')\n",
    "#  .select('citador', 'citada', 'anno', 'fechahora_ext')\n",
    "# ).toPandas()"
   ]
  },
  {
   "cell_type": "code",
   "execution_count": null,
   "id": "a8773bb7-8421-4cee-8fbe-f9b1d83d4497",
   "metadata": {},
   "outputs": [],
   "source": [
    "edgelist = (estructurales.seleccion.sdf\n",
    "            .where('termino_ext == \"Con lugar\" OR  termino_ext == \"Con lugar parcial\" ')\n",
    "            .select('CitaSentencias_ents', 'num_resolucion', 'anno', 'fechahora_ext')\n",
    " .withColumn('citada', F.explode('CitaSentencias_ents'))\n",
    " .withColumn('citada', F.regexp_replace('citada', \"[^\\d]\", \"\"))\n",
    " .withColumnRenamed('num_resolucion', 'citador')\n",
    " .select('citador', 'citada', 'anno', 'fechahora_ext')\n",
    ").toPandas()\n",
    "\n"
   ]
  },
  {
   "cell_type": "code",
   "execution_count": null,
   "id": "9f993a86-51c6-4db6-b841-cedf8103884f",
   "metadata": {
    "tags": [
     "remove_cell"
    ]
   },
   "outputs": [],
   "source": [
    "edgelist.citada.value_counts().to_frame().to_excel('Lista_sentencias_citadas.xlsx')"
   ]
  },
  {
   "cell_type": "code",
   "execution_count": null,
   "id": "bc2a38e6-bc36-40a1-b89e-2f7e13bdd8f8",
   "metadata": {},
   "outputs": [],
   "source": []
  },
  {
   "cell_type": "code",
   "execution_count": null,
   "id": "3a07468d-3cee-4106-bfd0-6ad1cbfb4e07",
   "metadata": {
    "tags": [
     "remove_cell"
    ]
   },
   "outputs": [],
   "source": [
    "import networkx as nx\n",
    "\n",
    "G = nx.DiGraph()\n",
    "for i, elrow in edgelist.iterrows():\n",
    "    G.add_edge(elrow['Source'], elrow['Target'])\n",
    "\n",
    "edgelist['fechahora_ext'] = edgelist['fechahora_ext'].astype(str)\n",
    "edgelist['order'] = edgelist.anno - 1989 \n",
    "att = edgelist[['Source','tema', 'tema_prob', 'fechahora_ext', 'anno', 'order']].drop_duplicates().set_index('Source').T.to_dict()\n",
    "nx.set_node_attributes(G, att)"
   ]
  },
  {
   "cell_type": "code",
   "execution_count": null,
   "id": "59ef1da3-ef98-4eef-9bef-1ea4c819a604",
   "metadata": {
    "tags": [
     "remove_cell"
    ]
   },
   "outputs": [],
   "source": [
    "G.number_of_nodes()"
   ]
  },
  {
   "cell_type": "code",
   "execution_count": null,
   "id": "2d90817a-53b5-44c4-9faa-c6f8e209565c",
   "metadata": {
    "tags": [
     "remove_cell"
    ]
   },
   "outputs": [],
   "source": [
    "nx.write_gexf(G, \"RED_COMPLETA_SENTENCIAS.gexf\")"
   ]
  }
 ],
 "metadata": {
  "kernelspec": {
   "display_name": "Python 3 (ipykernel)",
   "language": "python",
   "name": "python3"
  },
  "language_info": {
   "codemirror_mode": {
    "name": "ipython",
    "version": 3
   },
   "file_extension": ".py",
   "mimetype": "text/x-python",
   "name": "python",
   "nbconvert_exporter": "python",
   "pygments_lexer": "ipython3",
   "version": "3.9.6"
  },
  "latex_metadata": {
   "address": "San José",
   "annoinforme": "2021",
   "antetitulo": "Mesa de Ciencia de Datos. Documento de trabajo",
   "autoria": "Kenneth Obando",
   "bib": "referencias.bib",
   "date": "2021",
   "tipo_autoria": "Investigadores",
   "tipodocumento": "Insumos de Investigación. Borrador",
   "title": "Sentencias Estructurales"
  }
 },
 "nbformat": 4,
 "nbformat_minor": 5
}
