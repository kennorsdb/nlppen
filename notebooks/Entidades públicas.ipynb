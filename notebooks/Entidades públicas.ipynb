{
 "cells": [
  {
   "cell_type": "code",
   "execution_count": 8,
   "id": "feb3e45b-9d80-42b5-9a34-30f8e45c0995",
   "metadata": {},
   "outputs": [
    {
     "name": "stdout",
     "output_type": "stream",
     "text": [
      "The autoreload extension is already loaded. To reload it, use:\n",
      "  %reload_ext autoreload\n"
     ]
    }
   ],
   "source": [
    "txt = \"\"\"Se declara CON LUGAR el recurso. Se anula  el acuerdo del Consejo de Gobierno \n",
    "         que consta en el artículo tercero del acta de la sesión ordinaria número siete, \n",
    "         celebrada el veintiuno de junio de dos mil seis.  Se le ordena a Oscar Arias Sánchez, \n",
    "         en su calidad de Presidente de la República y Rodrigo Arias Sánchez, en calidad de Ministro de la Presidencia o a quienes ocupen el cargo, \n",
    "         que en el término improrrogable de QUINCE DÍAS, contado a partir de la COMUNICACIÓN de esta resolución, \n",
    "         procedan a realizar un nuevo nombramiento de los miembros de la \n",
    "         Junta Directiva del Servicio Nacional de Aguas Subterráneas, Riego y Avenamiento (SENARA), \n",
    "         entre los cuales deberá contarse con un número significativo de mujeres.  \n",
    "         Se le advierte a Oscar Arias Sánchez, en su calidad de Presidente de la República y Rodrigo Arias Sánchez, \n",
    "         en calidad de Ministro de la Presidencia  o a quienes ocupen el cargo, que de no acatar la orden dicha, \n",
    "         incurrirá en el delito de desobediencia y, que de conformidad con el artículo 71 de la Ley de esta jurisdicción, \n",
    "         se le impondrá prisión de tres meses a dos años, o de veinte a sesenta días multa, \n",
    "         a quien recibiere una orden que deba cumplir o hacer cumplir, dictada en un recurso de amparo \n",
    "         y no la cumpliere o no la hiciere cumplir, siempre que el delito no esté más gravemente penado. \n",
    "         Se condena al Estado al pago de las costas, daños y perjuicios causados con los hechos que sirven \n",
    "         de base a esta declaratoria, los que se liquidarán en ejecución de sentencia de lo contencioso administrativo. \n",
    "         Notifíquese la presente resolución a  Oscar Arias Sánchez, en su calidad de Presidente de la República y Rodrigo Arias Sánchez, \n",
    "         en calidad de Ministro de la Presidencia o a quienes ocupe el cargo de Presidente de la República y de Ministro de la Presidencia, \n",
    "         en forma personal.\"\"\"\n",
    "\n",
    "%load_ext autoreload\n",
    "%autoreload 2\n",
    "import sys\n",
    "sys.path.insert(0, \"/home/jovyan/Work/ej/paquetes/nlppen/\")\n",
    "\n",
    "from nlppen.extraccion.utils.Txt2Numbers import Txt2Numbers\n",
    "from nlppen.analisis import Analisis\n",
    "from nlppen.seleccion import Seleccion\n",
    "from nlppen.spacy_entities import nlp_test\n",
    "from nlppen.spark_udfs import solo_portanto, spark_get_spacy\n",
    "from nlppen.sentencias_estructurales import SentenciasEstructurales\n",
    "from pyspark.sql import SparkSession\n",
    "from pyspark.sql.functions import length\n",
    "import seaborn as sns\n",
    "sns.set_theme(style=\"white\")"
   ]
  },
  {
   "cell_type": "code",
   "execution_count": 9,
   "id": "49ec8bdb-13a8-4c69-83a5-9a53a27a0ae4",
   "metadata": {},
   "outputs": [],
   "source": [
    "doc = nlp_test(txt)"
   ]
  },
  {
   "cell_type": "code",
   "execution_count": 10,
   "id": "62a96836-cb5a-4fcc-ad75-f822564cd700",
   "metadata": {},
   "outputs": [
    {
     "name": "stdout",
     "output_type": "stream",
     "text": [
      "Entidad Pública Acrónimo SENARA\n"
     ]
    }
   ],
   "source": [
    "for ent in doc.ents:\n",
    "    print(ent.label_, ent.text)"
   ]
  }
 ],
 "metadata": {
  "kernelspec": {
   "display_name": "Python 3 (ipykernel)",
   "language": "python",
   "name": "python3"
  },
  "language_info": {
   "codemirror_mode": {
    "name": "ipython",
    "version": 3
   },
   "file_extension": ".py",
   "mimetype": "text/x-python",
   "name": "python",
   "nbconvert_exporter": "python",
   "pygments_lexer": "ipython3",
   "version": "3.9.6"
  }
 },
 "nbformat": 4,
 "nbformat_minor": 5
}
