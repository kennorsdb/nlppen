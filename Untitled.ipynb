{
 "cells": [
  {
   "cell_type": "code",
   "execution_count": null,
   "id": "e7229fec-18f4-4cc0-b9a3-7dac2a352954",
   "metadata": {},
   "outputs": [],
   "source": [
    "def ejercicio():\n",
    "    T  = int(input())\n",
    "    for i in range(0, T):\n",
    "        N = int(input())\n",
    "        dias = [[] for i in range(0, N)]\n",
    "        print(dias)\n",
    "        for j in range(0, N):\n",
    "            l = int(input())\n",
    "            r = int(input())\n",
    "            if l == r:\n",
    "                dias[l-1].append(j)\n",
    "            else:\n",
    "                for k in range (int(l)-1, int(r)):\n",
    "                    print(\"Indice\", k)\n",
    "                    dias[k].append(j)\n",
    "        \n",
    "        print(\"Dias\", dias)\n",
    "        for i in range(0, N):\n",
    "            imposible = True\n",
    "            for j in range(0, len(dias)):\n",
    "                if i in dias[j]:\n",
    "                    dias[i] = [i]\n",
    "                    imposible = False\n",
    "                    break\n",
    "            if imposible:\n",
    "                print(\"impossible\")\n",
    "                break\n",
    "        resultado = \"\"\n",
    "        if imposible == False:\n",
    "            for dia in dias:\n",
    "                resultado += str(dia[0] + 1) + \" \"\n",
    "            resultado = resultado[:-1]\n",
    "            print(resultado)"
   ]
  },
  {
   "cell_type": "code",
   "execution_count": 7,
   "id": "2264442a-c12d-4d94-9156-eba72514b8bb",
   "metadata": {
    "execution": {
     "iopub.execute_input": "2021-10-23T08:19:54.153590Z",
     "iopub.status.busy": "2021-10-23T08:19:54.153179Z",
     "iopub.status.idle": "2021-10-23T08:19:54.157811Z",
     "shell.execute_reply": "2021-10-23T08:19:54.157349Z",
     "shell.execute_reply.started": "2021-10-23T08:19:54.153574Z"
    },
    "tags": []
   },
   "outputs": [],
   "source": [
    "def ejercicio():\n",
    "    T  = int(input())\n",
    "    for i in range(0, T):\n",
    "        N = int(input())\n",
    "        dias = [[] for i in range(0, N)]\n",
    "        for j in range(0, N):\n",
    "            lr = input()\n",
    "            splitt = lr.split(\" \")\n",
    "            l = int(splitt[0])\n",
    "            r = int(splitt[1])\n",
    "            if l == r:\n",
    "                dias[l-1].append(j)\n",
    "            else:\n",
    "                for k in range (int(l)-1, int(r)):\n",
    "                    dias[k].append(j)\n",
    "        \n",
    "        for l in range(0, N):\n",
    "            imposible = True\n",
    "            for j in range(0, len(dias)):\n",
    "                print(\"0, \", dias)\n",
    "                if l in dias[j]:\n",
    "                    dias[l] = [l]\n",
    "                    imposible = False\n",
    "                    break\n",
    "                print(\"1, \", dias)\n",
    "            if imposible:\n",
    "                print(\"impossible\")\n",
    "                break\n",
    "        resultado = \"\"\n",
    "        if imposible == False:\n",
    "            for dia in dias:\n",
    "                resultado += str(dia[0] + 1) + \" \"\n",
    "            resultado = resultado[:-1]\n",
    "            print(resultado)"
   ]
  },
  {
   "cell_type": "code",
   "execution_count": 8,
   "id": "6d7c53f2-b145-4e55-86d7-01b03393cdde",
   "metadata": {
    "execution": {
     "iopub.execute_input": "2021-10-23T08:19:55.285157Z",
     "iopub.status.busy": "2021-10-23T08:19:55.284722Z",
     "iopub.status.idle": "2021-10-23T08:20:04.291422Z",
     "shell.execute_reply": "2021-10-23T08:20:04.290987Z",
     "shell.execute_reply.started": "2021-10-23T08:19:55.285140Z"
    },
    "tags": []
   },
   "outputs": [
    {
     "name": "stdin",
     "output_type": "stream",
     "text": [
      " 1\n",
      " 3\n",
      " 1 2\n",
      " 1 3\n",
      " 2 2\n"
     ]
    },
    {
     "name": "stdout",
     "output_type": "stream",
     "text": [
      "0,  [[0, 1], [0, 1, 2], [1]]\n",
      "0,  [[0], [0, 1, 2], [1]]\n",
      "1,  [[0], [0, 1, 2], [1]]\n",
      "0,  [[0], [0, 1, 2], [1]]\n",
      "0,  [[0], [1], [1]]\n",
      "1,  [[0], [1], [1]]\n",
      "0,  [[0], [1], [1]]\n",
      "1,  [[0], [1], [1]]\n",
      "0,  [[0], [1], [1]]\n",
      "1,  [[0], [1], [1]]\n",
      "impossible\n"
     ]
    }
   ],
   "source": [
    "ejercicio()"
   ]
  },
  {
   "cell_type": "code",
   "execution_count": 5,
   "id": "4a9f7d3c-251e-4183-93b6-1d22d2139842",
   "metadata": {
    "execution": {
     "iopub.execute_input": "2021-10-23T06:32:10.569922Z",
     "iopub.status.busy": "2021-10-23T06:32:10.569506Z",
     "iopub.status.idle": "2021-10-23T06:32:10.572584Z",
     "shell.execute_reply": "2021-10-23T06:32:10.572171Z",
     "shell.execute_reply.started": "2021-10-23T06:32:10.569898Z"
    },
    "tags": []
   },
   "outputs": [
    {
     "name": "stdout",
     "output_type": "stream",
     "text": [
      "[5, 6, 8]\n"
     ]
    }
   ],
   "source": [
    "a = [5, 6]\n",
    "a.append(8)\n",
    "print(a)"
   ]
  },
  {
   "cell_type": "code",
   "execution_count": 24,
   "id": "b427e37d-fce7-466d-83c4-e81e81112844",
   "metadata": {
    "execution": {
     "iopub.execute_input": "2021-10-23T07:37:23.277831Z",
     "iopub.status.busy": "2021-10-23T07:37:23.277601Z",
     "iopub.status.idle": "2021-10-23T07:37:23.280691Z",
     "shell.execute_reply": "2021-10-23T07:37:23.280202Z",
     "shell.execute_reply.started": "2021-10-23T07:37:23.277816Z"
    },
    "tags": []
   },
   "outputs": [],
   "source": [
    "dadoCargado = {1:1/7, 2:1/7, 3:1/7, 4:1/7, 5:1/7, 6:2/7}\n",
    "dado = {1:1/6, 2:1/6, 3:1/6, 4:1/6, 5:1/6, 6:1/6}"
   ]
  },
  {
   "cell_type": "code",
   "execution_count": 29,
   "id": "ed02575c-b246-41eb-ad26-f98cb13062ab",
   "metadata": {
    "execution": {
     "iopub.execute_input": "2021-10-23T07:40:22.966122Z",
     "iopub.status.busy": "2021-10-23T07:40:22.965729Z",
     "iopub.status.idle": "2021-10-23T07:40:22.969965Z",
     "shell.execute_reply": "2021-10-23T07:40:22.969420Z",
     "shell.execute_reply.started": "2021-10-23T07:40:22.966099Z"
    },
    "tags": []
   },
   "outputs": [
    {
     "name": "stdout",
     "output_type": "stream",
     "text": [
      "A\n",
      "0.7142857142857142\n",
      "0.6666666666666666\n",
      "B\n",
      "0.5714285714285714\n",
      "0.6666666666666666\n"
     ]
    }
   ],
   "source": [
    "def dados():\n",
    "    "
   ]
  },
  {
   "cell_type": "code",
   "execution_count": 30,
   "id": "6f5ade9f-aa78-4834-bb23-214a3a97f5bf",
   "metadata": {
    "execution": {
     "iopub.execute_input": "2021-10-23T07:41:21.140440Z",
     "iopub.status.busy": "2021-10-23T07:41:21.140026Z",
     "iopub.status.idle": "2021-10-23T07:41:21.143974Z",
     "shell.execute_reply": "2021-10-23T07:41:21.143528Z",
     "shell.execute_reply.started": "2021-10-23T07:41:21.140424Z"
    }
   },
   "outputs": [
    {
     "name": "stdout",
     "output_type": "stream",
     "text": [
      "A\n",
      "0.5714285714285714\n",
      "0.6666666666666666\n",
      "B\n",
      "0.5714285714285714\n",
      "0.6666666666666666\n"
     ]
    }
   ],
   "source": []
  },
  {
   "cell_type": "code",
   "execution_count": 6,
   "id": "16636676-8f07-4db1-9765-0b93c2a9181c",
   "metadata": {
    "execution": {
     "iopub.execute_input": "2021-10-23T08:19:02.245789Z",
     "iopub.status.busy": "2021-10-23T08:19:02.245592Z",
     "iopub.status.idle": "2021-10-23T08:19:02.249015Z",
     "shell.execute_reply": "2021-10-23T08:19:02.248537Z",
     "shell.execute_reply.started": "2021-10-23T08:19:02.245774Z"
    },
    "tags": []
   },
   "outputs": [
    {
     "data": {
      "text/plain": [
       "False"
      ]
     },
     "execution_count": 6,
     "metadata": {},
     "output_type": "execute_result"
    }
   ],
   "source": [
    "1 in [4, 2]"
   ]
  },
  {
   "cell_type": "code",
   "execution_count": null,
   "id": "446c0d50-9043-4161-bdac-95ccf508eb74",
   "metadata": {},
   "outputs": [],
   "source": [
    "lista = [[1,2],[1,3],[2,2]\n",
    "priorizada = []\n",
    "conteo = 0 \n",
    "         \n",
    "while lista != []:\n",
    "     for i in range(0, len(lista)):\n",
    "         if (lista[i][0] - lista[i][1]) == conteo:\n",
    "             priorizada.append(lista[i])\n",
    "             lista.pop(i)\n",
    "     conteo += 1\n",
    "print(priorizada)"
   ]
  },
  {
   "cell_type": "code",
   "execution_count": 11,
   "id": "d950b202-ba27-45b4-a672-c6288c455c10",
   "metadata": {
    "execution": {
     "iopub.execute_input": "2021-10-23T08:56:10.334445Z",
     "iopub.status.busy": "2021-10-23T08:56:10.334109Z",
     "iopub.status.idle": "2021-10-23T08:56:10.338565Z",
     "shell.execute_reply": "2021-10-23T08:56:10.337967Z",
     "shell.execute_reply.started": "2021-10-23T08:56:10.334421Z"
    },
    "tags": []
   },
   "outputs": [
    {
     "name": "stdout",
     "output_type": "stream",
     "text": [
      "0.5714285714285714\n",
      "0.7142857142857142\n"
     ]
    }
   ],
   "source": [
    "a = [1, 3, 3, 3]\n",
    "b = [4, 6, 3, 2]\n",
    "\n",
    "Alice = 0\n",
    "Bob = 0\n",
    "for A in a:\n",
    "    if(A == 6):\n",
    "        Alice += 2/7\n",
    "    else:\n",
    "        Alice += 1/7\n",
    "for B in b:\n",
    "    if(B == 6):\n",
    "        Bob += 2/7\n",
    "    else:\n",
    "        Bob += 1/7\n",
    "print(Alice)\n",
    "print(Bob)"
   ]
  },
  {
   "cell_type": "code",
   "execution_count": 4,
   "id": "4983b731-ac0b-477f-ac00-b3726cb16662",
   "metadata": {
    "execution": {
     "iopub.execute_input": "2021-10-23T09:59:38.741213Z",
     "iopub.status.busy": "2021-10-23T09:59:38.740956Z",
     "iopub.status.idle": "2021-10-23T09:59:38.744238Z",
     "shell.execute_reply": "2021-10-23T09:59:38.743757Z",
     "shell.execute_reply.started": "2021-10-23T09:59:38.741199Z"
    },
    "tags": []
   },
   "outputs": [],
   "source": [
    "def priorizar(lista):\n",
    "    priorizada = []\n",
    "    conteo = 0 \n",
    "\n",
    "    while lista != []:\n",
    "         for i in range(0, len(lista)):\n",
    "             if (lista[i][0] - lista[i][1]) == conteo:\n",
    "                 priorizada.append(lista[i])\n",
    "                 lista.pop(i)\n",
    "         conteo += 1\n",
    "    print(priorizada)"
   ]
  },
  {
   "cell_type": "code",
   "execution_count": null,
   "id": "0b878728-ada3-48fd-98e2-092e2e2df2d9",
   "metadata": {
    "tags": []
   },
   "outputs": [],
   "source": [
    "priorizar([[1,2],[1,3],[2,2]])"
   ]
  },
  {
   "cell_type": "code",
   "execution_count": 7,
   "id": "e2ea1179-3cfd-4afb-80c1-15d4d1898c16",
   "metadata": {
    "execution": {
     "iopub.execute_input": "2021-10-23T11:16:45.025965Z",
     "iopub.status.busy": "2021-10-23T11:16:45.025557Z",
     "iopub.status.idle": "2021-10-23T11:16:50.734705Z",
     "shell.execute_reply": "2021-10-23T11:16:50.734219Z",
     "shell.execute_reply.started": "2021-10-23T11:16:45.025948Z"
    },
    "tags": []
   },
   "outputs": [
    {
     "name": "stdin",
     "output_type": "stream",
     "text": [
      " 1\n",
      " 3\n",
      " 1 2\n",
      " 1 3\n",
      " 2 2\n"
     ]
    },
    {
     "name": "stdout",
     "output_type": "stream",
     "text": [
      "Antes for [[0, 1], [0, 1, 2], [1]]\n",
      "Casos [[1, 2], [1, 3], [2, 2]]\n",
      "impossible\n"
     ]
    }
   ],
   "source": [
    "def ejercicio():\n",
    "    T  = int(input())\n",
    "    for i in range(0, T):\n",
    "        N = int(input())\n",
    "        dias = [[] for i in range(0, N)]\n",
    "        casosPaciente = []\n",
    "        for j in range(0, N):\n",
    "            lr = input()\n",
    "            splitt = lr.split(\" \")\n",
    "            l = int(splitt[0])\n",
    "            r = int(splitt[1])\n",
    "            casosPaciente.append([l, r])\n",
    "            if l == r:\n",
    "                dias[l-1].append(j)\n",
    "            else:\n",
    "                for k in range (int(l)-1, int(r)):\n",
    "                    dias[k].append(j)\n",
    "        \n",
    "        ####\n",
    "        print(\"Antes for\", dias)\n",
    "        print(\"Casos\", casosPaciente)\n",
    "        \n",
    "        \n",
    "        ####\n",
    "        pacientes = [0,1,2]\n",
    "        for i in pacientes:\n",
    "            imposible = True\n",
    "            for j in range(0, len(dias)):\n",
    "                if i in dias[j]:\n",
    "                    dias[i] = [i]\n",
    "                    imposible = False\n",
    "                    break\n",
    "            if imposible:\n",
    "                print(\"impossible\")\n",
    "                break\n",
    "        resultado = \"\"\n",
    "        if imposible == False:\n",
    "            for dia in dias:\n",
    "                resultado += str(dia[0] + 1) + \" \"\n",
    "            resultado = resultado[:-1]\n",
    "            print(resultado)\n",
    "ejercicio()"
   ]
  },
  {
   "cell_type": "code",
   "execution_count": 9,
   "id": "b3bbf8f5-103e-4773-a754-09b1a05b4675",
   "metadata": {
    "execution": {
     "iopub.execute_input": "2021-10-23T11:33:23.955523Z",
     "iopub.status.busy": "2021-10-23T11:33:23.955323Z",
     "iopub.status.idle": "2021-10-23T11:33:34.580427Z",
     "shell.execute_reply": "2021-10-23T11:33:34.579920Z",
     "shell.execute_reply.started": "2021-10-23T11:33:23.955509Z"
    },
    "tags": []
   },
   "outputs": [
    {
     "name": "stdin",
     "output_type": "stream",
     "text": [
      " 1\n",
      " 3\n",
      " 1 2\n",
      " 1 2\n",
      " 3 3\n"
     ]
    },
    {
     "name": "stdout",
     "output_type": "stream",
     "text": [
      "Antes for [[0, 1], [0, 1], [2]]\n",
      "Casos [[1, 2], [1, 2], [3, 3]]\n",
      "[[3, 3], [1, 2], [1, 2]]\n",
      "[2, 0, 1]\n",
      "1 2 3\n"
     ]
    }
   ],
   "source": [
    "def ejercicio():\n",
    "    T  = int(input())\n",
    "    for i in range(0, T):\n",
    "        N = int(input())\n",
    "        dias = [[] for i in range(0, N)]\n",
    "        casosPaciente = []\n",
    "        for j in range(0, N):\n",
    "            lr = input()\n",
    "            splitt = lr.split(\" \")\n",
    "            l = int(splitt[0])\n",
    "            r = int(splitt[1])\n",
    "            casosPaciente.append([l, r])\n",
    "            if l == r:\n",
    "                dias[l-1].append(j)\n",
    "            else:\n",
    "                for k in range (int(l)-1, int(r)):\n",
    "                    dias[k].append(j)\n",
    "        \n",
    "        ####\n",
    "        print(\"Antes for\", dias)\n",
    "        print(\"Casos\", casosPaciente)\n",
    "        \n",
    "        priorizada = []\n",
    "        pPriorizar = []\n",
    "        conteo = 0\n",
    "\n",
    "        while len(priorizada) != len(casosPaciente):\n",
    "            it = 0\n",
    "            for i in casosPaciente:\n",
    "                if (abs(i[0] - i[1])) == conteo:\n",
    "                    pPriorizar.append(it)\n",
    "                    priorizada.append(i)\n",
    "                it += 1\n",
    "            conteo += 1\n",
    "        print(priorizada)\n",
    "        print(pPriorizar)\n",
    "        \n",
    "        ####\n",
    "        for i in pPriorizar:\n",
    "            imposible = True\n",
    "            for j in range(0, len(dias)):\n",
    "                if i in dias[j]:\n",
    "                    dias[i] = [i]\n",
    "                    imposible = False\n",
    "                    break\n",
    "            if imposible:\n",
    "                print(\"impossible\")\n",
    "                break\n",
    "        resultado = \"\"\n",
    "        if imposible == False:\n",
    "            for dia in dias:\n",
    "                resultado += str(dia[0] + 1) + \" \"\n",
    "            resultado = resultado[:-1]\n",
    "            print(resultado)\n",
    "ejercicio()"
   ]
  },
  {
   "cell_type": "code",
   "execution_count": 1,
   "id": "6c4b29d2-ba8a-4364-96ba-c6efcd3154ea",
   "metadata": {
    "execution": {
     "iopub.execute_input": "2021-10-23T11:38:12.731350Z",
     "iopub.status.busy": "2021-10-23T11:38:12.731046Z",
     "iopub.status.idle": "2021-10-23T11:38:39.906225Z",
     "shell.execute_reply": "2021-10-23T11:38:39.905792Z",
     "shell.execute_reply.started": "2021-10-23T11:38:12.731302Z"
    },
    "tags": []
   },
   "outputs": [
    {
     "name": "stdin",
     "output_type": "stream",
     "text": [
      " 3\n",
      " 3\n",
      " 1 1\n",
      " 1 2\n",
      " 2 3\n"
     ]
    },
    {
     "name": "stdout",
     "output_type": "stream",
     "text": [
      "1 2 3\n"
     ]
    },
    {
     "name": "stdin",
     "output_type": "stream",
     "text": [
      " 2\n",
      " 1 2\n",
      " 1 2\n"
     ]
    },
    {
     "name": "stdout",
     "output_type": "stream",
     "text": [
      "1 2\n"
     ]
    },
    {
     "name": "stdin",
     "output_type": "stream",
     "text": [
      " 2\n",
      " 1 1\n",
      " 1 1\n"
     ]
    },
    {
     "name": "stdout",
     "output_type": "stream",
     "text": [
      "impossible\n"
     ]
    }
   ],
   "source": [
    "def ejercicio():\n",
    "    T  = int(input())\n",
    "    for i in range(0, T):\n",
    "        N = int(input())\n",
    "        dias = [[] for i in range(0, N)]\n",
    "        casosPaciente = []\n",
    "        for j in range(0, N):\n",
    "            lr = input()\n",
    "            splitt = lr.split(\" \")\n",
    "            l = int(splitt[0])\n",
    "            r = int(splitt[1])\n",
    "            casosPaciente.append([l, r])\n",
    "            if l == r:\n",
    "                dias[l-1].append(j)\n",
    "            else:\n",
    "                for k in range (int(l)-1, int(r)):\n",
    "                    dias[k].append(j)\n",
    "        \n",
    "        ####\n",
    "        \n",
    "        priorizada = []\n",
    "        pPriorizar = []\n",
    "        conteo = 0\n",
    "\n",
    "        while len(priorizada) != len(casosPaciente):\n",
    "            it = 0\n",
    "            for i in casosPaciente:\n",
    "                if (abs(i[0] - i[1])) == conteo:\n",
    "                    pPriorizar.append(it)\n",
    "                    priorizada.append(i)\n",
    "                it += 1\n",
    "            conteo += 1\n",
    "        \n",
    "        ####\n",
    "        for i in pPriorizar:\n",
    "            imposible = True\n",
    "            for j in range(0, len(dias)):\n",
    "                if i in dias[j]:\n",
    "                    dias[i] = [i]\n",
    "                    imposible = False\n",
    "                    break\n",
    "            if imposible:\n",
    "                print(\"impossible\")\n",
    "                break\n",
    "        resultado = \"\"\n",
    "        if imposible == False:\n",
    "            for dia in dias:\n",
    "                resultado += str(dia[0] + 1) + \" \"\n",
    "            resultado = resultado[:-1]\n",
    "            print(resultado)\n",
    "ejercicio()"
   ]
  },
  {
   "cell_type": "code",
   "execution_count": 7,
   "id": "15394e58-e1ae-4434-9e8d-0779a301c231",
   "metadata": {
    "execution": {
     "iopub.execute_input": "2021-10-23T12:47:08.839291Z",
     "iopub.status.busy": "2021-10-23T12:47:08.839064Z",
     "iopub.status.idle": "2021-10-23T12:47:14.378868Z",
     "shell.execute_reply": "2021-10-23T12:47:14.378291Z",
     "shell.execute_reply.started": "2021-10-23T12:47:08.839277Z"
    },
    "tags": []
   },
   "outputs": [
    {
     "name": "stdin",
     "output_type": "stream",
     "text": [
      " 1\n",
      " 1+2*3+4\n"
     ]
    },
    {
     "name": "stdout",
     "output_type": "stream",
     "text": [
      "['1', '+', '2', '*', '3', '+', '4']\n",
      "6\n"
     ]
    },
    {
     "ename": "TypeError",
     "evalue": "'str' object cannot be interpreted as an integer",
     "output_type": "error",
     "traceback": [
      "\u001b[0;31m---------------------------------------------------------------------------\u001b[0m",
      "\u001b[0;31mTypeError\u001b[0m                                 Traceback (most recent call last)",
      "\u001b[0;32m/tmp/ipykernel_2849/2727134368.py\u001b[0m in \u001b[0;36m<module>\u001b[0;34m\u001b[0m\n\u001b[1;32m     48\u001b[0m             \u001b[0mrAsterisk\u001b[0m\u001b[0;34m=\u001b[0m\u001b[0mint\u001b[0m\u001b[0;34m(\u001b[0m\u001b[0mlista\u001b[0m\u001b[0;34m[\u001b[0m\u001b[0masterisk\u001b[0m\u001b[0;34m-\u001b[0m\u001b[0;36m1\u001b[0m\u001b[0;34m]\u001b[0m\u001b[0;34m)\u001b[0m\u001b[0;34m*\u001b[0m\u001b[0mint\u001b[0m\u001b[0;34m(\u001b[0m\u001b[0mlista\u001b[0m\u001b[0;34m[\u001b[0m\u001b[0masterisk\u001b[0m\u001b[0;34m+\u001b[0m\u001b[0;36m1\u001b[0m\u001b[0;34m]\u001b[0m\u001b[0;34m)\u001b[0m\u001b[0;34m\u001b[0m\u001b[0;34m\u001b[0m\u001b[0m\n\u001b[1;32m     49\u001b[0m             \u001b[0mprint\u001b[0m\u001b[0;34m(\u001b[0m\u001b[0mrAsterisk\u001b[0m\u001b[0;34m)\u001b[0m\u001b[0;34m\u001b[0m\u001b[0;34m\u001b[0m\u001b[0m\n\u001b[0;32m---> 50\u001b[0;31m             \u001b[0mlista\u001b[0m\u001b[0;34m.\u001b[0m\u001b[0mpop\u001b[0m\u001b[0;34m(\u001b[0m\u001b[0mlista\u001b[0m\u001b[0;34m[\u001b[0m\u001b[0masterisk\u001b[0m\u001b[0;34m-\u001b[0m\u001b[0;36m1\u001b[0m\u001b[0;34m]\u001b[0m\u001b[0;34m)\u001b[0m\u001b[0;34m\u001b[0m\u001b[0;34m\u001b[0m\u001b[0m\n\u001b[0m\u001b[1;32m     51\u001b[0m             \u001b[0mlista\u001b[0m\u001b[0;34m.\u001b[0m\u001b[0mpop\u001b[0m\u001b[0;34m(\u001b[0m\u001b[0mlista\u001b[0m\u001b[0;34m[\u001b[0m\u001b[0masterisk\u001b[0m\u001b[0;34m+\u001b[0m\u001b[0;36m1\u001b[0m\u001b[0;34m]\u001b[0m\u001b[0;34m)\u001b[0m\u001b[0;34m\u001b[0m\u001b[0;34m\u001b[0m\u001b[0m\n\u001b[1;32m     52\u001b[0m             \u001b[0mlista\u001b[0m\u001b[0;34m[\u001b[0m\u001b[0masterisk\u001b[0m\u001b[0;34m]\u001b[0m \u001b[0;34m=\u001b[0m \u001b[0mrAsterisk\u001b[0m\u001b[0;34m\u001b[0m\u001b[0;34m\u001b[0m\u001b[0m\n",
      "\u001b[0;31mTypeError\u001b[0m: 'str' object cannot be interpreted as an integer"
     ]
    }
   ],
   "source": [
    "# a simple parser for python. use get_number() and get_word() to read\n",
    "def parser():\n",
    "    while 1:\n",
    "        data = list(input().split(' '))\n",
    "        for number in data:\n",
    "            if len(number) > 0:\n",
    "                yield(number)   \n",
    "\n",
    "input_parser = parser()\n",
    "\n",
    "def get_word():\n",
    "    global input_parser\n",
    "    return next(input_parser)\n",
    "\n",
    "def get_number():\n",
    "    data = get_word()\n",
    "    try:\n",
    "        return int(data)\n",
    "    except ValueError:\n",
    "        return float(data)\n",
    "\n",
    "# numpy and scipy are available for use\n",
    "import numpy\n",
    "import scipy\n",
    "\n",
    "T = get_number()\n",
    "for i in range(0, T):\n",
    "    c = get_word()\n",
    "    asterisk = c.find('*')\n",
    "    dividee = c.find('/')\n",
    "    summ = c.find('+')\n",
    "    substract = c.find('-')\n",
    "    \n",
    "    if(abs(asterisk-dividee)==1 or \n",
    "        abs(asterisk-summ)==1 or \n",
    "        abs(asterisk-substract)==1 or \n",
    "        abs(dividee-summ)==1 or\n",
    "        abs(dividee-substract)==1 or\n",
    "        abs(summ-substract)==1):\n",
    "            print(\"invalid\")\n",
    "            break\n",
    "    \n",
    "    lista = [i for i in c]\n",
    "    print(lista)\n",
    "\n",
    "    while True:\n",
    "        if asterisk != -1:\n",
    "            rAsterisk=int(lista[asterisk-1])*int(lista[asterisk+1])\n",
    "            print(rAsterisk)\n",
    "            lista.pop(asterisk-1)\n",
    "            lista.pop(asterisk+1)\n",
    "            lista[asterisk] = rAsterisk\n",
    "            print(lista)\n",
    "            break\n",
    "        else:\n",
    "            print(c)\n",
    "            break"
   ]
  }
 ],
 "metadata": {
  "kernelspec": {
   "display_name": "Python 3 (ipykernel)",
   "language": "python",
   "name": "python3"
  },
  "language_info": {
   "codemirror_mode": {
    "name": "ipython",
    "version": 3
   },
   "file_extension": ".py",
   "mimetype": "text/x-python",
   "name": "python",
   "nbconvert_exporter": "python",
   "pygments_lexer": "ipython3",
   "version": "3.9.6"
  }
 },
 "nbformat": 4,
 "nbformat_minor": 5
}
