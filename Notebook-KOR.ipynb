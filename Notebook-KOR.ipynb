{
 "cells": [
  {
   "cell_type": "code",
   "execution_count": null,
   "id": "28f56ce3-6a94-4fc2-a051-945ebfb32480",
   "metadata": {},
   "outputs": [],
   "source": []
  },
  {
   "cell_type": "markdown",
   "id": "6a834852-b9fd-483c-93e6-3b80f3e879c5",
   "metadata": {},
   "source": [
    "# Imports"
   ]
  },
  {
   "cell_type": "code",
   "execution_count": 1,
   "id": "cc2ec801-fdee-413e-aca9-8ee8e77e0cac",
   "metadata": {
    "tags": []
   },
   "outputs": [],
   "source": [
    "%load_ext autoreload\n",
    "%autoreload 2\n",
    "import sys\n",
    "from nlppen.extraccion.utils.Txt2Numbers import Txt2Numbers\n",
    "from nlppen.analisis import Analisis\n",
    "from nlppen.seleccion import Seleccion\n",
    "from nlppen.spark_udfs import solo_portanto, spark_get_spacy\n",
    "from nlppen.sentencias_estructurales import SentenciasEstructurales\n",
    "from pyspark.sql import SparkSession\n",
    "from pyspark.sql.functions import length\n",
    "\n",
    "import pandas as pd"
   ]
  },
  {
   "cell_type": "markdown",
   "id": "3106f23a-2bb1-483d-bc31-aa48b9a7db2a",
   "metadata": {
    "tags": []
   },
   "source": [
    "## Initialize spark context"
   ]
  },
  {
   "cell_type": "code",
   "execution_count": 2,
   "id": "b819481b-6ee8-42c7-9add-c19ceba43563",
   "metadata": {
    "tags": []
   },
   "outputs": [
    {
     "name": "stderr",
     "output_type": "stream",
     "text": [
      "21/11/30 22:16:20 WARN NativeCodeLoader: Unable to load native-hadoop library for your platform... using builtin-java classes where applicable\n",
      "Using Spark's default log4j profile: org/apache/spark/log4j-defaults.properties\n",
      "Setting default log level to \"WARN\".\n",
      "To adjust logging level use sc.setLogLevel(newLevel). For SparkR, use setLogLevel(newLevel).\n"
     ]
    },
    {
     "data": {
      "text/plain": [
       "'http://69abb479a5e1:4040'"
      ]
     },
     "execution_count": 2,
     "metadata": {},
     "output_type": "execute_result"
    }
   ],
   "source": [
    "spark = (SparkSession\n",
    "         .builder\n",
    "         .appName(\"Transforming sentences\")\n",
    "         .config(\"spark.num.executors\", \"1\")\n",
    "         .config(\"spark.executor.memory\", \"12g\")\n",
    "         .config(\"spark.executor.cores\", \"2\")\n",
    "         .config(\"spark.driver.memory\", \"10g\")\n",
    "         .config(\"spark.memory.offHeap.enabled\", True)\n",
    "         .config(\"spark.memory.offHeap.size\", \"64g\")\n",
    "         .config(\"spark.sql.execution.arrow.pyspark.enabled\", \"true\")\n",
    "         .config(\"spark.sql.legacy.timeParserPolicy\", \"LEGACY\")\n",
    "         .config(\"spark.sql.legacy.parquet.int96RebaseModeInWrite\", \"CORRECTED\")\n",
    "         .getOrCreate())\n",
    "\n",
    "\n",
    "sc = spark.sparkContext\n",
    "sc.addFile('/home/jovyan/Work/ej/paquetes/nlppen/nlppen.zip')\n",
    "sc.uiWebUrl"
   ]
  },
  {
   "cell_type": "markdown",
   "id": "4ab75fdc-6e47-4671-b06b-4109f7a2bc66",
   "metadata": {},
   "source": [
    "# Buscar terminos en la sección de por lo tanto de la sentencia y aplicar filtro del dataset"
   ]
  },
  {
   "cell_type": "code",
   "execution_count": 3,
   "id": "2a92cddd-4b24-4bdf-85d7-ceabe68d009d",
   "metadata": {
    "tags": []
   },
   "outputs": [
    {
     "name": "stderr",
     "output_type": "stream",
     "text": [
      "                                                                                \r"
     ]
    },
    {
     "data": {
      "text/plain": [
       "507951"
      ]
     },
     "execution_count": 3,
     "metadata": {},
     "output_type": "execute_result"
    }
   ],
   "source": [
    "\n",
    "anno_inf = 2010\n",
    "anno_sup = 2022\n",
    "\n",
    "terminos = {\n",
    "    'se ordena': [r'\\bse ordena\\b', r'\\bse le ordena\\b', r'\\bse les ordena\\b'],\n",
    "    'se condena': [r'\\bse condena\\b', r'\\bse le condena\\b', r'\\bse les condena\\b'],\n",
    "    'plan': [r'\\bplan\\b']\n",
    "}\n",
    "\n",
    "# seleccion = Seleccion(terminos, spark, parquet_path='../../src/datasets/complete', datasets_path='./datasets/estructurales2', filtro=f'anno >= {anno_inf} AND anno < {anno_sup}')\n",
    "seleccion = Seleccion(terminos, spark, parquet_path='./datasets/estructurales2/extracciones2', datasets_path='./datasets/estructurales3')\n",
    "# seleccion.filtrar_sentencias(preprocess=solo_portanto, keepRowEmpty=True, partition_cols=['anno'], precargar=False)\n",
    "\n",
    "estructurales = SentenciasEstructurales(seleccion)\n",
    "\n",
    "seleccion.sdf.count()"
   ]
  },
  {
   "cell_type": "code",
   "execution_count": 10,
   "id": "3b108727-4f70-4ec4-b389-4eb10908e167",
   "metadata": {},
   "outputs": [
    {
     "data": {
      "text/plain": [
       "96773"
      ]
     },
     "execution_count": 10,
     "metadata": {},
     "output_type": "execute_result"
    }
   ],
   "source": [
    "spark.read.parquet('../../src/datasets/complete').filter('termino_ext == \"Con lugar\" OR  termino_ext == \"Con lugar parcial\" ').count()"
   ]
  },
  {
   "cell_type": "code",
   "execution_count": null,
   "id": "2283e2de-42e6-4fd5-84ba-031847b86f33",
   "metadata": {},
   "outputs": [],
   "source": [
    "seleccion.sdf.columns"
   ]
  },
  {
   "cell_type": "markdown",
   "id": "d77b9686-78ed-4c53-9cf9-694c588b45e6",
   "metadata": {
    "tags": []
   },
   "source": [
    "# Formar dataset de sentencias estructurales"
   ]
  },
  {
   "cell_type": "code",
   "execution_count": 4,
   "id": "04f4588f-3661-4f06-bcdd-d5b1720c3e92",
   "metadata": {
    "collapsed": true,
    "jupyter": {
     "outputs_hidden": true
    },
    "tags": []
   },
   "outputs": [
    {
     "name": "stderr",
     "output_type": "stream",
     "text": [
      "21/11/30 16:23:49 WARN package: Truncated the string representation of a plan since it was too large. This behavior can be adjusted by setting 'spark.sql.debug.maxToStringFields'.\n",
      "ERROR:root:Internal Python error in the inspect module.\n",
      "Below is the traceback from this internal error.\n",
      "\n"
     ]
    },
    {
     "name": "stdout",
     "output_type": "stream",
     "text": [
      "Traceback (most recent call last):\n",
      "  File \"/opt/conda/lib/python3.9/site-packages/IPython/core/interactiveshell.py\", line 3441, in run_code\n",
      "    exec(code_obj, self.user_global_ns, self.user_ns)\n",
      "  File \"/tmp/ipykernel_4786/4238448357.py\", line 43, in <module>\n",
      "    estructurales.extraerNumeroSentencia(columnas, True)\n",
      "  File \"/home/jovyan/Work/ej/paquetes/nlppen/nlppen/sentencias_estructurales.py\", line 110, in extraerNumeroSentencia\n",
      "    resultado = (self.seleccion.sdf.rdd\n",
      "  File \"/opt/conda/lib/python3.9/site-packages/pyspark/sql/dataframe.py\", line 85, in rdd\n",
      "    jrdd = self._jdf.javaToPython()\n",
      "  File \"/opt/conda/lib/python3.9/site-packages/py4j/java_gateway.py\", line 1303, in __call__\n",
      "    answer = self.gateway_client.send_command(command)\n",
      "  File \"/opt/conda/lib/python3.9/site-packages/py4j/java_gateway.py\", line 1033, in send_command\n",
      "    response = connection.send_command(command)\n",
      "  File \"/opt/conda/lib/python3.9/site-packages/py4j/java_gateway.py\", line 1200, in send_command\n",
      "    answer = smart_decode(self.stream.readline()[:-1])\n",
      "  File \"/opt/conda/lib/python3.9/socket.py\", line 704, in readinto\n",
      "    return self._sock.recv_into(b)\n",
      "KeyboardInterrupt\n",
      "\n",
      "During handling of the above exception, another exception occurred:\n",
      "\n",
      "Traceback (most recent call last):\n",
      "  File \"/opt/conda/lib/python3.9/site-packages/IPython/core/interactiveshell.py\", line 2061, in showtraceback\n",
      "    stb = value._render_traceback_()\n",
      "AttributeError: 'KeyboardInterrupt' object has no attribute '_render_traceback_'\n",
      "\n",
      "During handling of the above exception, another exception occurred:\n",
      "\n",
      "Traceback (most recent call last):\n",
      "  File \"/opt/conda/lib/python3.9/site-packages/IPython/core/ultratb.py\", line 1101, in get_records\n",
      "    return _fixed_getinnerframes(etb, number_of_lines_of_context, tb_offset)\n",
      "  File \"/opt/conda/lib/python3.9/site-packages/IPython/core/ultratb.py\", line 248, in wrapped\n",
      "    return f(*args, **kwargs)\n",
      "  File \"/opt/conda/lib/python3.9/site-packages/IPython/core/ultratb.py\", line 281, in _fixed_getinnerframes\n",
      "    records = fix_frame_records_filenames(inspect.getinnerframes(etb, context))\n",
      "  File \"/opt/conda/lib/python3.9/inspect.py\", line 1541, in getinnerframes\n",
      "    frameinfo = (tb.tb_frame,) + getframeinfo(tb, context)\n",
      "  File \"/opt/conda/lib/python3.9/inspect.py\", line 1503, in getframeinfo\n",
      "    lines, lnum = findsource(frame)\n",
      "  File \"/opt/conda/lib/python3.9/site-packages/IPython/core/ultratb.py\", line 170, in findsource\n",
      "    file = getsourcefile(object) or getfile(object)\n",
      "  File \"/opt/conda/lib/python3.9/inspect.py\", line 709, in getsourcefile\n",
      "    if getattr(getmodule(object, filename), '__loader__', None) is not None:\n",
      "  File \"/opt/conda/lib/python3.9/inspect.py\", line 745, in getmodule\n",
      "    for modname, module in sys.modules.copy().items():\n",
      "KeyboardInterrupt\n"
     ]
    },
    {
     "ename": "TypeError",
     "evalue": "object of type 'NoneType' has no len()",
     "output_type": "error",
     "traceback": [
      "\u001b[0;31m---------------------------------------------------------------------------\u001b[0m",
      "\u001b[0;31mKeyboardInterrupt\u001b[0m                         Traceback (most recent call last)",
      "    \u001b[0;31m[... skipping hidden 1 frame]\u001b[0m\n",
      "\u001b[0;32m/tmp/ipykernel_4786/4238448357.py\u001b[0m in \u001b[0;36m<module>\u001b[0;34m\u001b[0m\n\u001b[1;32m     42\u001b[0m \u001b[0;34m\u001b[0m\u001b[0m\n\u001b[0;32m---> 43\u001b[0;31m \u001b[0mestructurales\u001b[0m\u001b[0;34m.\u001b[0m\u001b[0mextraerNumeroSentencia\u001b[0m\u001b[0;34m(\u001b[0m\u001b[0mcolumnas\u001b[0m\u001b[0;34m,\u001b[0m \u001b[0;32mTrue\u001b[0m\u001b[0;34m)\u001b[0m\u001b[0;34m\u001b[0m\u001b[0;34m\u001b[0m\u001b[0m\n\u001b[0m\u001b[1;32m     44\u001b[0m \u001b[0;34m\u001b[0m\u001b[0m\n",
      "\u001b[0;32m~/Work/ej/paquetes/nlppen/nlppen/sentencias_estructurales.py\u001b[0m in \u001b[0;36mextraerNumeroSentencia\u001b[0;34m(self, addColumns, actualizar_sdf, overwriteColumns)\u001b[0m\n\u001b[1;32m    109\u001b[0m         \u001b[0;34m(\u001b[0m\u001b[0mschema\u001b[0m\u001b[0;34m,\u001b[0m \u001b[0mnewColumns\u001b[0m\u001b[0;34m)\u001b[0m \u001b[0;34m=\u001b[0m \u001b[0mself\u001b[0m\u001b[0;34m.\u001b[0m\u001b[0m__agregarColumnasSchema\u001b[0m\u001b[0;34m(\u001b[0m\u001b[0maddColumns\u001b[0m\u001b[0;34m,\u001b[0m \u001b[0moverwriteColumns\u001b[0m\u001b[0;34m)\u001b[0m\u001b[0;34m\u001b[0m\u001b[0;34m\u001b[0m\u001b[0m\n\u001b[0;32m--> 110\u001b[0;31m         resultado = (self.seleccion.sdf.rdd\n\u001b[0m\u001b[1;32m    111\u001b[0m                     \u001b[0;34m.\u001b[0m\u001b[0mmap\u001b[0m\u001b[0;34m(\u001b[0m \u001b[0;32mlambda\u001b[0m \u001b[0mrow\u001b[0m \u001b[0;34m:\u001b[0m \u001b[0mspark_extraer_numero_sentencia\u001b[0m\u001b[0;34m(\u001b[0m\u001b[0mrow\u001b[0m\u001b[0;34m,\u001b[0m \u001b[0mnewColumns\u001b[0m\u001b[0;34m,\u001b[0m \u001b[0msolo_encabezado\u001b[0m\u001b[0;34m)\u001b[0m\u001b[0;34m)\u001b[0m\u001b[0;34m\u001b[0m\u001b[0;34m\u001b[0m\u001b[0m\n",
      "\u001b[0;32m/opt/conda/lib/python3.9/site-packages/pyspark/sql/dataframe.py\u001b[0m in \u001b[0;36mrdd\u001b[0;34m(self)\u001b[0m\n\u001b[1;32m     84\u001b[0m         \u001b[0;32mif\u001b[0m \u001b[0mself\u001b[0m\u001b[0;34m.\u001b[0m\u001b[0m_lazy_rdd\u001b[0m \u001b[0;32mis\u001b[0m \u001b[0;32mNone\u001b[0m\u001b[0;34m:\u001b[0m\u001b[0;34m\u001b[0m\u001b[0;34m\u001b[0m\u001b[0m\n\u001b[0;32m---> 85\u001b[0;31m             \u001b[0mjrdd\u001b[0m \u001b[0;34m=\u001b[0m \u001b[0mself\u001b[0m\u001b[0;34m.\u001b[0m\u001b[0m_jdf\u001b[0m\u001b[0;34m.\u001b[0m\u001b[0mjavaToPython\u001b[0m\u001b[0;34m(\u001b[0m\u001b[0;34m)\u001b[0m\u001b[0;34m\u001b[0m\u001b[0;34m\u001b[0m\u001b[0m\n\u001b[0m\u001b[1;32m     86\u001b[0m             \u001b[0mself\u001b[0m\u001b[0;34m.\u001b[0m\u001b[0m_lazy_rdd\u001b[0m \u001b[0;34m=\u001b[0m \u001b[0mRDD\u001b[0m\u001b[0;34m(\u001b[0m\u001b[0mjrdd\u001b[0m\u001b[0;34m,\u001b[0m \u001b[0mself\u001b[0m\u001b[0;34m.\u001b[0m\u001b[0msql_ctx\u001b[0m\u001b[0;34m.\u001b[0m\u001b[0m_sc\u001b[0m\u001b[0;34m,\u001b[0m \u001b[0mBatchedSerializer\u001b[0m\u001b[0;34m(\u001b[0m\u001b[0mPickleSerializer\u001b[0m\u001b[0;34m(\u001b[0m\u001b[0;34m)\u001b[0m\u001b[0;34m)\u001b[0m\u001b[0;34m)\u001b[0m\u001b[0;34m\u001b[0m\u001b[0;34m\u001b[0m\u001b[0m\n",
      "\u001b[0;32m/opt/conda/lib/python3.9/site-packages/py4j/java_gateway.py\u001b[0m in \u001b[0;36m__call__\u001b[0;34m(self, *args)\u001b[0m\n\u001b[1;32m   1302\u001b[0m \u001b[0;34m\u001b[0m\u001b[0m\n\u001b[0;32m-> 1303\u001b[0;31m         \u001b[0manswer\u001b[0m \u001b[0;34m=\u001b[0m \u001b[0mself\u001b[0m\u001b[0;34m.\u001b[0m\u001b[0mgateway_client\u001b[0m\u001b[0;34m.\u001b[0m\u001b[0msend_command\u001b[0m\u001b[0;34m(\u001b[0m\u001b[0mcommand\u001b[0m\u001b[0;34m)\u001b[0m\u001b[0;34m\u001b[0m\u001b[0;34m\u001b[0m\u001b[0m\n\u001b[0m\u001b[1;32m   1304\u001b[0m         return_value = get_return_value(\n",
      "\u001b[0;32m/opt/conda/lib/python3.9/site-packages/py4j/java_gateway.py\u001b[0m in \u001b[0;36msend_command\u001b[0;34m(self, command, retry, binary)\u001b[0m\n\u001b[1;32m   1032\u001b[0m         \u001b[0;32mtry\u001b[0m\u001b[0;34m:\u001b[0m\u001b[0;34m\u001b[0m\u001b[0;34m\u001b[0m\u001b[0m\n\u001b[0;32m-> 1033\u001b[0;31m             \u001b[0mresponse\u001b[0m \u001b[0;34m=\u001b[0m \u001b[0mconnection\u001b[0m\u001b[0;34m.\u001b[0m\u001b[0msend_command\u001b[0m\u001b[0;34m(\u001b[0m\u001b[0mcommand\u001b[0m\u001b[0;34m)\u001b[0m\u001b[0;34m\u001b[0m\u001b[0;34m\u001b[0m\u001b[0m\n\u001b[0m\u001b[1;32m   1034\u001b[0m             \u001b[0;32mif\u001b[0m \u001b[0mbinary\u001b[0m\u001b[0;34m:\u001b[0m\u001b[0;34m\u001b[0m\u001b[0;34m\u001b[0m\u001b[0m\n",
      "\u001b[0;32m/opt/conda/lib/python3.9/site-packages/py4j/java_gateway.py\u001b[0m in \u001b[0;36msend_command\u001b[0;34m(self, command)\u001b[0m\n\u001b[1;32m   1199\u001b[0m         \u001b[0;32mtry\u001b[0m\u001b[0;34m:\u001b[0m\u001b[0;34m\u001b[0m\u001b[0;34m\u001b[0m\u001b[0m\n\u001b[0;32m-> 1200\u001b[0;31m             \u001b[0manswer\u001b[0m \u001b[0;34m=\u001b[0m \u001b[0msmart_decode\u001b[0m\u001b[0;34m(\u001b[0m\u001b[0mself\u001b[0m\u001b[0;34m.\u001b[0m\u001b[0mstream\u001b[0m\u001b[0;34m.\u001b[0m\u001b[0mreadline\u001b[0m\u001b[0;34m(\u001b[0m\u001b[0;34m)\u001b[0m\u001b[0;34m[\u001b[0m\u001b[0;34m:\u001b[0m\u001b[0;34m-\u001b[0m\u001b[0;36m1\u001b[0m\u001b[0;34m]\u001b[0m\u001b[0;34m)\u001b[0m\u001b[0;34m\u001b[0m\u001b[0;34m\u001b[0m\u001b[0m\n\u001b[0m\u001b[1;32m   1201\u001b[0m             \u001b[0mlogger\u001b[0m\u001b[0;34m.\u001b[0m\u001b[0mdebug\u001b[0m\u001b[0;34m(\u001b[0m\u001b[0;34m\"Answer received: {0}\"\u001b[0m\u001b[0;34m.\u001b[0m\u001b[0mformat\u001b[0m\u001b[0;34m(\u001b[0m\u001b[0manswer\u001b[0m\u001b[0;34m)\u001b[0m\u001b[0;34m)\u001b[0m\u001b[0;34m\u001b[0m\u001b[0;34m\u001b[0m\u001b[0m\n",
      "\u001b[0;32m/opt/conda/lib/python3.9/socket.py\u001b[0m in \u001b[0;36mreadinto\u001b[0;34m(self, b)\u001b[0m\n\u001b[1;32m    703\u001b[0m             \u001b[0;32mtry\u001b[0m\u001b[0;34m:\u001b[0m\u001b[0;34m\u001b[0m\u001b[0;34m\u001b[0m\u001b[0m\n\u001b[0;32m--> 704\u001b[0;31m                 \u001b[0;32mreturn\u001b[0m \u001b[0mself\u001b[0m\u001b[0;34m.\u001b[0m\u001b[0m_sock\u001b[0m\u001b[0;34m.\u001b[0m\u001b[0mrecv_into\u001b[0m\u001b[0;34m(\u001b[0m\u001b[0mb\u001b[0m\u001b[0;34m)\u001b[0m\u001b[0;34m\u001b[0m\u001b[0;34m\u001b[0m\u001b[0m\n\u001b[0m\u001b[1;32m    705\u001b[0m             \u001b[0;32mexcept\u001b[0m \u001b[0mtimeout\u001b[0m\u001b[0;34m:\u001b[0m\u001b[0;34m\u001b[0m\u001b[0;34m\u001b[0m\u001b[0m\n",
      "\u001b[0;31mKeyboardInterrupt\u001b[0m: ",
      "\nDuring handling of the above exception, another exception occurred:\n",
      "\u001b[0;31mAttributeError\u001b[0m                            Traceback (most recent call last)",
      "\u001b[0;32m/opt/conda/lib/python3.9/site-packages/IPython/core/interactiveshell.py\u001b[0m in \u001b[0;36mshowtraceback\u001b[0;34m(self, exc_tuple, filename, tb_offset, exception_only, running_compiled_code)\u001b[0m\n\u001b[1;32m   2060\u001b[0m                         \u001b[0;31m# in the engines. This should return a list of strings.\u001b[0m\u001b[0;34m\u001b[0m\u001b[0;34m\u001b[0m\u001b[0;34m\u001b[0m\u001b[0m\n\u001b[0;32m-> 2061\u001b[0;31m                         \u001b[0mstb\u001b[0m \u001b[0;34m=\u001b[0m \u001b[0mvalue\u001b[0m\u001b[0;34m.\u001b[0m\u001b[0m_render_traceback_\u001b[0m\u001b[0;34m(\u001b[0m\u001b[0;34m)\u001b[0m\u001b[0;34m\u001b[0m\u001b[0;34m\u001b[0m\u001b[0m\n\u001b[0m\u001b[1;32m   2062\u001b[0m                     \u001b[0;32mexcept\u001b[0m \u001b[0mException\u001b[0m\u001b[0;34m:\u001b[0m\u001b[0;34m\u001b[0m\u001b[0;34m\u001b[0m\u001b[0m\n",
      "\u001b[0;31mAttributeError\u001b[0m: 'KeyboardInterrupt' object has no attribute '_render_traceback_'",
      "\nDuring handling of the above exception, another exception occurred:\n",
      "\u001b[0;31mTypeError\u001b[0m                                 Traceback (most recent call last)",
      "    \u001b[0;31m[... skipping hidden 1 frame]\u001b[0m\n",
      "\u001b[0;32m/opt/conda/lib/python3.9/site-packages/IPython/core/interactiveshell.py\u001b[0m in \u001b[0;36mshowtraceback\u001b[0;34m(self, exc_tuple, filename, tb_offset, exception_only, running_compiled_code)\u001b[0m\n\u001b[1;32m   2061\u001b[0m                         \u001b[0mstb\u001b[0m \u001b[0;34m=\u001b[0m \u001b[0mvalue\u001b[0m\u001b[0;34m.\u001b[0m\u001b[0m_render_traceback_\u001b[0m\u001b[0;34m(\u001b[0m\u001b[0;34m)\u001b[0m\u001b[0;34m\u001b[0m\u001b[0;34m\u001b[0m\u001b[0m\n\u001b[1;32m   2062\u001b[0m                     \u001b[0;32mexcept\u001b[0m \u001b[0mException\u001b[0m\u001b[0;34m:\u001b[0m\u001b[0;34m\u001b[0m\u001b[0;34m\u001b[0m\u001b[0m\n\u001b[0;32m-> 2063\u001b[0;31m                         stb = self.InteractiveTB.structured_traceback(etype,\n\u001b[0m\u001b[1;32m   2064\u001b[0m                                             value, tb, tb_offset=tb_offset)\n\u001b[1;32m   2065\u001b[0m \u001b[0;34m\u001b[0m\u001b[0m\n",
      "\u001b[0;32m/opt/conda/lib/python3.9/site-packages/IPython/core/ultratb.py\u001b[0m in \u001b[0;36mstructured_traceback\u001b[0;34m(self, etype, value, tb, tb_offset, number_of_lines_of_context)\u001b[0m\n\u001b[1;32m   1365\u001b[0m         \u001b[0;32melse\u001b[0m\u001b[0;34m:\u001b[0m\u001b[0;34m\u001b[0m\u001b[0;34m\u001b[0m\u001b[0m\n\u001b[1;32m   1366\u001b[0m             \u001b[0mself\u001b[0m\u001b[0;34m.\u001b[0m\u001b[0mtb\u001b[0m \u001b[0;34m=\u001b[0m \u001b[0mtb\u001b[0m\u001b[0;34m\u001b[0m\u001b[0;34m\u001b[0m\u001b[0m\n\u001b[0;32m-> 1367\u001b[0;31m         return FormattedTB.structured_traceback(\n\u001b[0m\u001b[1;32m   1368\u001b[0m             self, etype, value, tb, tb_offset, number_of_lines_of_context)\n\u001b[1;32m   1369\u001b[0m \u001b[0;34m\u001b[0m\u001b[0m\n",
      "\u001b[0;32m/opt/conda/lib/python3.9/site-packages/IPython/core/ultratb.py\u001b[0m in \u001b[0;36mstructured_traceback\u001b[0;34m(self, etype, value, tb, tb_offset, number_of_lines_of_context)\u001b[0m\n\u001b[1;32m   1265\u001b[0m         \u001b[0;32mif\u001b[0m \u001b[0mmode\u001b[0m \u001b[0;32min\u001b[0m \u001b[0mself\u001b[0m\u001b[0;34m.\u001b[0m\u001b[0mverbose_modes\u001b[0m\u001b[0;34m:\u001b[0m\u001b[0;34m\u001b[0m\u001b[0;34m\u001b[0m\u001b[0m\n\u001b[1;32m   1266\u001b[0m             \u001b[0;31m# Verbose modes need a full traceback\u001b[0m\u001b[0;34m\u001b[0m\u001b[0;34m\u001b[0m\u001b[0;34m\u001b[0m\u001b[0m\n\u001b[0;32m-> 1267\u001b[0;31m             return VerboseTB.structured_traceback(\n\u001b[0m\u001b[1;32m   1268\u001b[0m                 \u001b[0mself\u001b[0m\u001b[0;34m,\u001b[0m \u001b[0metype\u001b[0m\u001b[0;34m,\u001b[0m \u001b[0mvalue\u001b[0m\u001b[0;34m,\u001b[0m \u001b[0mtb\u001b[0m\u001b[0;34m,\u001b[0m \u001b[0mtb_offset\u001b[0m\u001b[0;34m,\u001b[0m \u001b[0mnumber_of_lines_of_context\u001b[0m\u001b[0;34m\u001b[0m\u001b[0;34m\u001b[0m\u001b[0m\n\u001b[1;32m   1269\u001b[0m             )\n",
      "\u001b[0;32m/opt/conda/lib/python3.9/site-packages/IPython/core/ultratb.py\u001b[0m in \u001b[0;36mstructured_traceback\u001b[0;34m(self, etype, evalue, etb, tb_offset, number_of_lines_of_context)\u001b[0m\n\u001b[1;32m   1122\u001b[0m         \u001b[0;34m\"\"\"Return a nice text document describing the traceback.\"\"\"\u001b[0m\u001b[0;34m\u001b[0m\u001b[0;34m\u001b[0m\u001b[0m\n\u001b[1;32m   1123\u001b[0m \u001b[0;34m\u001b[0m\u001b[0m\n\u001b[0;32m-> 1124\u001b[0;31m         formatted_exception = self.format_exception_as_a_whole(etype, evalue, etb, number_of_lines_of_context,\n\u001b[0m\u001b[1;32m   1125\u001b[0m                                                                tb_offset)\n\u001b[1;32m   1126\u001b[0m \u001b[0;34m\u001b[0m\u001b[0m\n",
      "\u001b[0;32m/opt/conda/lib/python3.9/site-packages/IPython/core/ultratb.py\u001b[0m in \u001b[0;36mformat_exception_as_a_whole\u001b[0;34m(self, etype, evalue, etb, number_of_lines_of_context, tb_offset)\u001b[0m\n\u001b[1;32m   1080\u001b[0m \u001b[0;34m\u001b[0m\u001b[0m\n\u001b[1;32m   1081\u001b[0m \u001b[0;34m\u001b[0m\u001b[0m\n\u001b[0;32m-> 1082\u001b[0;31m         \u001b[0mlast_unique\u001b[0m\u001b[0;34m,\u001b[0m \u001b[0mrecursion_repeat\u001b[0m \u001b[0;34m=\u001b[0m \u001b[0mfind_recursion\u001b[0m\u001b[0;34m(\u001b[0m\u001b[0morig_etype\u001b[0m\u001b[0;34m,\u001b[0m \u001b[0mevalue\u001b[0m\u001b[0;34m,\u001b[0m \u001b[0mrecords\u001b[0m\u001b[0;34m)\u001b[0m\u001b[0;34m\u001b[0m\u001b[0;34m\u001b[0m\u001b[0m\n\u001b[0m\u001b[1;32m   1083\u001b[0m \u001b[0;34m\u001b[0m\u001b[0m\n\u001b[1;32m   1084\u001b[0m         \u001b[0mframes\u001b[0m \u001b[0;34m=\u001b[0m \u001b[0mself\u001b[0m\u001b[0;34m.\u001b[0m\u001b[0mformat_records\u001b[0m\u001b[0;34m(\u001b[0m\u001b[0mrecords\u001b[0m\u001b[0;34m,\u001b[0m \u001b[0mlast_unique\u001b[0m\u001b[0;34m,\u001b[0m \u001b[0mrecursion_repeat\u001b[0m\u001b[0;34m)\u001b[0m\u001b[0;34m\u001b[0m\u001b[0;34m\u001b[0m\u001b[0m\n",
      "\u001b[0;32m/opt/conda/lib/python3.9/site-packages/IPython/core/ultratb.py\u001b[0m in \u001b[0;36mfind_recursion\u001b[0;34m(etype, value, records)\u001b[0m\n\u001b[1;32m    380\u001b[0m     \u001b[0;31m# first frame (from in to out) that looks different.\u001b[0m\u001b[0;34m\u001b[0m\u001b[0;34m\u001b[0m\u001b[0;34m\u001b[0m\u001b[0m\n\u001b[1;32m    381\u001b[0m     \u001b[0;32mif\u001b[0m \u001b[0;32mnot\u001b[0m \u001b[0mis_recursion_error\u001b[0m\u001b[0;34m(\u001b[0m\u001b[0metype\u001b[0m\u001b[0;34m,\u001b[0m \u001b[0mvalue\u001b[0m\u001b[0;34m,\u001b[0m \u001b[0mrecords\u001b[0m\u001b[0;34m)\u001b[0m\u001b[0;34m:\u001b[0m\u001b[0;34m\u001b[0m\u001b[0;34m\u001b[0m\u001b[0m\n\u001b[0;32m--> 382\u001b[0;31m         \u001b[0;32mreturn\u001b[0m \u001b[0mlen\u001b[0m\u001b[0;34m(\u001b[0m\u001b[0mrecords\u001b[0m\u001b[0;34m)\u001b[0m\u001b[0;34m,\u001b[0m \u001b[0;36m0\u001b[0m\u001b[0;34m\u001b[0m\u001b[0;34m\u001b[0m\u001b[0m\n\u001b[0m\u001b[1;32m    383\u001b[0m \u001b[0;34m\u001b[0m\u001b[0m\n\u001b[1;32m    384\u001b[0m     \u001b[0;31m# Select filename, lineno, func_name to track frames with\u001b[0m\u001b[0;34m\u001b[0m\u001b[0;34m\u001b[0m\u001b[0;34m\u001b[0m\u001b[0m\n",
      "\u001b[0;31mTypeError\u001b[0m: object of type 'NoneType' has no len()"
     ]
    }
   ],
   "source": [
    "from pyspark.sql.types import *\n",
    "columnas = {\n",
    "    'se ordena PER' : ArrayType(StringType()),\n",
    "    'se ordena LOC' : ArrayType(StringType()),\n",
    "    'se ordena ORG' : ArrayType(StringType()),\n",
    "    'se ordena MISC' : ArrayType(StringType()),\n",
    "    'se ordena GPE' : ArrayType(StringType()),\n",
    "    'se ordena Ent Pub' : ArrayType(StringType())\n",
    "}\n",
    "estructurales.separarSeOrdena(columnas, True, True)\n",
    "\n",
    "columnas = {\n",
    "    'se condena PER' : ArrayType(StringType()),\n",
    "    'se condena LOC' : ArrayType(StringType()),\n",
    "    'se condena ORG' : ArrayType(StringType()),\n",
    "    'se condena MISC' : ArrayType(StringType()),\n",
    "    'se condena GPE' : ArrayType(StringType()),\n",
    "    'se condena Ent Pub' : ArrayType(StringType())\n",
    "}\n",
    "estructurales.separarSeCondena(columnas, True, True)\n",
    "\n",
    "columnas = {\n",
    "    'extension sentencia' : IntegerType(),\n",
    "    'extension por lo tanto' : IntegerType()\n",
    "}\n",
    "estructurales.extraerExtension(columnas, True)\n",
    "\n",
    "columnas = {\n",
    "        'plazosDefinidos' : ArrayType(TimestampType())\n",
    "    }\n",
    "estructurales.plazosDefinidos(columnas, True)\n",
    "\n",
    "columnas = {\n",
    "    'FechaSolicitud' : TimestampType(),\n",
    "}\n",
    "\n",
    "estructurales.extrarFechaRecibido(columnas, True)\n",
    "\n",
    "columnas = {\n",
    "    'num resolucion' : StringType()\n",
    "}\n",
    "\n",
    "estructurales.extraerNumeroSentencia(columnas, True)\n",
    "\n",
    "columnas = {\n",
    "    'inst internacionales' : ArrayType(StringType())\n",
    "}\n",
    "\n",
    "estructurales.extraerInstrumentosInternacionales(columnas, True)\n",
    "\n",
    "columnas = {\n",
    "    'derechos Norm' : ArrayType(StringType()),\n",
    "    'derechos GenXPat' : ArrayType(StringType())\n",
    "}\n",
    "estructurales.extraerDerechos(columnas, True)\n",
    "\n",
    "columnas = {\n",
    "    'derechos Acotados' : ArrayType(StringType()),\n",
    "    'derechos General' : ArrayType(StringType()),\n",
    "    'derechos Fundamental' : ArrayType(StringType()),\n",
    "    'derechos Humano' : ArrayType(StringType())\n",
    "}\n",
    "\n",
    "estructurales.extraerDerechosSinNormalizar(columnas, True)\n",
    "\n",
    "columnas = {\n",
    "    'citasFechas' : MapType(StringType(), TimestampType())\n",
    "}\n",
    "estructurales.extrarCitaSentenciasFecha(columnas, True)\n",
    "\n",
    "sentencias = pd.read_csv(\"listaSentencias.csv\", sep=';', encoding='latin-1')\n",
    "columnas = {\n",
    "    'id_sentencia' : StringType(),\n",
    "    'num_doc_oficial' : StringType(),\n",
    "    'expediente_oficial' : StringType()\n",
    "}\n",
    "estructurales.agregarIDSentencia(columnas, sentencias, True)\n"
   ]
  },
  {
   "cell_type": "code",
   "execution_count": 5,
   "id": "162175ab-56bb-46f0-a87a-dd98911a34ce",
   "metadata": {},
   "outputs": [
    {
     "name": "stderr",
     "output_type": "stream",
     "text": [
      "21/11/30 16:32:49 WARN package: Truncated the string representation of a plan since it was too large. This behavior can be adjusted by setting 'spark.sql.debug.maxToStringFields'.\n"
     ]
    },
    {
     "data": {
      "text/plain": [
       "DataFrame[archivo: string, txt: string, cleanText: string, num: bigint, fechahora_ext: timestamp, redactor_ext: string, tipoResolucion_ext: string, termino_ext: string, voto_salvado: boolean, tema: string, Recurrente_ents: array<string>, Cantón_ents: array<string>, Fecha_ents: array<string>, Constitución_ents: array<bigint>, Redactor_ents: array<string>, Ley_ents: array<string>, EntidadPublica_ents: array<string>, tema_prob: double, termino_lst: array<string>, expediente: string, Fechahora_ents: array<string>, CitaSentencias_ents: array<string>, Recurrido_ents: array<string>, Reglamento_ents: array<string>, Magistrado_ents: array<string>, _id: string, seguimiento: int, se_ordena: int, se_condena: int, plan: int, plazo: int, se_ordena_PER: array<string>, se_ordena_LOC: array<string>, se_ordena_ORG: array<string>, se_ordena_MISC: array<string>, se_ordena_GPE: array<string>, se_ordena_Ent_Pub: array<string>, se_condena_PER: array<string>, se_condena_LOC: array<string>, se_condena_ORG: array<string>, se_condena_MISC: array<string>, se_condena_GPE: array<string>, se_condena_Ent_Pub: array<string>, extension_sentencia: int, extension_por_lo_tanto: int, plazosDefinidos: array<timestamp>, FechaSolicitud: timestamp, num_resolucion: string, inst_internacionales: array<string>, derechos_Norm: array<string>, derechos_GenXPat: array<string>, derechos_Acotados: array<string>, derechos_General: array<string>, derechos_Fundamental: array<string>, derechos_Humano: array<string>, citasFechas: map<string,timestamp>, id_sentencia: string, num_doc_oficial: string, expediente_oficial: string, anno: int, citasVotDate: map<string,timestamp>, citasIDVoto: map<string,string>]"
      ]
     },
     "execution_count": 5,
     "metadata": {},
     "output_type": "execute_result"
    }
   ],
   "source": [
    "from pyspark.sql.types import *\n",
    "sentencias = pd.read_csv(\"listaSentencias.csv\", sep=';', encoding='latin-1')\n",
    "columnas = {\n",
    "        'citasVotDate' : MapType(StringType(), TimestampType()),\n",
    "        'citasIDVoto' : MapType(StringType(), StringType())\n",
    "    }\n",
    "estructurales.extrarCitaSentenciasFecha(columnas, sentencias, True)"
   ]
  },
  {
   "cell_type": "code",
   "execution_count": 6,
   "id": "2b1980ab-4927-40aa-abb2-7ec76b0e20c3",
   "metadata": {},
   "outputs": [
    {
     "data": {
      "text/plain": [
       "DataFrame[archivo: string, txt: string, cleanText: string, num: bigint, fechahora_ext: timestamp, redactor_ext: string, tipoResolucion_ext: string, termino_ext: string, voto_salvado: boolean, tema: string, Recurrente_ents: array<string>, Cantón_ents: array<string>, Fecha_ents: array<string>, Constitución_ents: array<bigint>, Redactor_ents: array<string>, Ley_ents: array<string>, EntidadPublica_ents: array<string>, tema_prob: double, termino_lst: array<string>, expediente: string, Fechahora_ents: array<string>, CitaSentencias_ents: array<string>, Recurrido_ents: array<string>, Reglamento_ents: array<string>, Magistrado_ents: array<string>, _id: string, seguimiento: int, se_ordena: int, se_condena: int, plan: int, plazo: int, se_ordena_PER: array<string>, se_ordena_LOC: array<string>, se_ordena_ORG: array<string>, se_ordena_MISC: array<string>, se_ordena_GPE: array<string>, se_ordena_Ent_Pub: array<string>, se_condena_PER: array<string>, se_condena_LOC: array<string>, se_condena_ORG: array<string>, se_condena_MISC: array<string>, se_condena_GPE: array<string>, se_condena_Ent_Pub: array<string>, extension_sentencia: int, extension_por_lo_tanto: int, plazosDefinidos: array<timestamp>, FechaSolicitud: timestamp, num_resolucion: string, inst_internacionales: array<string>, derechos_Norm: array<string>, derechos_GenXPat: array<string>, derechos_Acotados: array<string>, derechos_General: array<string>, derechos_Fundamental: array<string>, derechos_Humano: array<string>, citasFechas: map<string,timestamp>, id_sentencia: string, num_doc_oficial: string, expediente_oficial: string, anno: int, citasVotDate: map<string,timestamp>, citasIDVoto: map<string,string>, seguimientoExt: string, seguimientoValue: int]"
      ]
     },
     "execution_count": 6,
     "metadata": {},
     "output_type": "execute_result"
    }
   ],
   "source": [
    "#Palabras de seeguimiento de acuerdo al correo de Eve.\n",
    "columnas = {\n",
    "        'seguimientoExt' : StringType(), #Texto extraido de seguimiento\n",
    "        'seguimientoValue' : IntegerType() #Cantidad de ocurrencias\n",
    "    }\n",
    "estructurales.extraerSeguimiento(columnas, True)\n"
   ]
  },
  {
   "cell_type": "code",
   "execution_count": 4,
   "id": "576c47b4-c583-444c-a90e-0475532a1b2f",
   "metadata": {},
   "outputs": [
    {
     "name": "stderr",
     "output_type": "stream",
     "text": [
      "21/11/30 15:16:44 WARN package: Truncated the string representation of a plan since it was too large. This behavior can be adjusted by setting 'spark.sql.debug.maxToStringFields'.\n"
     ]
    },
    {
     "data": {
      "text/plain": [
       "DataFrame[archivo: string, txt: string, cleanText: string, num: bigint, fechahora_ext: timestamp, redactor_ext: string, tipoResolucion_ext: string, termino_ext: string, voto_salvado: boolean, tema: string, Recurrente_ents: array<string>, Cantón_ents: array<string>, Fecha_ents: array<string>, Constitución_ents: array<bigint>, Redactor_ents: array<string>, Ley_ents: array<string>, EntidadPublica_ents: array<string>, tema_prob: double, termino_lst: array<string>, expediente: string, Fechahora_ents: array<string>, CitaSentencias_ents: array<string>, Recurrido_ents: array<string>, Reglamento_ents: array<string>, Magistrado_ents: array<string>, _id: string, seguimiento: int, se_ordena: int, se_condena: int, plan: int, plazo: int, se_ordena_PER: array<string>, se_ordena_LOC: array<string>, se_ordena_ORG: array<string>, se_ordena_MISC: array<string>, se_ordena_GPE: array<string>, se_ordena_Ent_Pub: array<string>, se_condena_PER: array<string>, se_condena_LOC: array<string>, se_condena_ORG: array<string>, se_condena_MISC: array<string>, se_condena_GPE: array<string>, se_condena_Ent_Pub: array<string>, extension_sentencia: int, extension_por_lo_tanto: int, plazosDefinidos: array<timestamp>, FechaSolicitud: timestamp, num_resolucion: string, inst_internacionales: array<string>, derechos_Norm: array<string>, derechos_GenXPat: array<string>, derechos_Acotados: array<string>, derechos_General: array<string>, derechos_Fundamental: array<string>, derechos_Humano: array<string>, citasFechas: map<string,timestamp>, id_sentencia: string, num_doc_oficial: string, expediente_oficial: string, anno: int]"
      ]
     },
     "execution_count": 4,
     "metadata": {},
     "output_type": "execute_result"
    }
   ],
   "source": [
    "from pyspark.sql.types import *\n",
    "\n",
    "#NOTA IMPORTANTE PARA KENNETH\n",
    "#Plazos hay que correrlo de nuevo, las lines de abajo sobreescriben la columna 'plazosDefinidos' que se corrió previamente\n",
    "columnas = {\n",
    "        'plazosDefinidos' : ArrayType(TimestampType()) #Correción día 27-11-2021. Correr de nuevo\n",
    "    }\n",
    "estructurales.plazosDefinidos(columnas, actualizar_sdf=True, overwriteColumns=True)\n",
    "    "
   ]
  },
  {
   "cell_type": "code",
   "execution_count": 7,
   "id": "997e42d6-6815-4ebb-ab20-de50bd08ce4b",
   "metadata": {
    "tags": []
   },
   "outputs": [
    {
     "name": "stderr",
     "output_type": "stream",
     "text": [
      "21/11/30 18:16:58 WARN MemoryStore: Not enough space to cache rdd_33_19 in memory! (computed 133.0 MiB so far)\n",
      "21/11/30 18:16:58 WARN BlockManager: Persisting block rdd_33_19 to disk instead.\n",
      "21/11/30 18:18:47 WARN MemoryStore: Not enough space to cache rdd_33_23 in memory! (computed 134.9 MiB so far)\n",
      "21/11/30 18:18:47 WARN BlockManager: Persisting block rdd_33_23 to disk instead.\n",
      "21/11/30 18:19:32 WARN MemoryStore: Not enough space to cache rdd_33_20 in memory! (computed 69.3 MiB so far)\n",
      "21/11/30 18:19:32 WARN BlockManager: Persisting block rdd_33_20 to disk instead.\n",
      "21/11/30 18:24:34 WARN MemoryStore: Not enough space to cache rdd_33_17 in memory! (computed 4.0 MiB so far)\n",
      "21/11/30 18:24:34 WARN BlockManager: Persisting block rdd_33_17 to disk instead.\n",
      "21/11/30 18:39:38 WARN MemoryStore: Not enough space to cache rdd_20_7 in memory! (computed 263.5 MiB so far)\n",
      "21/11/30 18:39:38 WARN BlockManager: Persisting block rdd_20_7 to disk instead.\n",
      "21/11/30 18:40:26 WARN MemoryStore: Not enough space to cache rdd_20_11 in memory! (computed 262.7 MiB so far)\n",
      "21/11/30 18:40:26 WARN BlockManager: Persisting block rdd_20_11 to disk instead.\n",
      "21/11/30 18:41:59 WARN MemoryStore: Not enough space to cache rdd_20_3 in memory! (computed 266.3 MiB so far)\n",
      "21/11/30 18:41:59 WARN BlockManager: Persisting block rdd_20_3 to disk instead.\n",
      "21/11/30 18:43:00 WARN MemoryStore: Not enough space to cache rdd_20_1 in memory! (computed 263.2 MiB so far)\n",
      "21/11/30 18:43:00 WARN BlockManager: Persisting block rdd_20_1 to disk instead.\n",
      "21/11/30 18:43:40 WARN MemoryStore: Not enough space to cache rdd_20_11 in memory! (computed 262.7 MiB so far)\n",
      "21/11/30 19:02:57 WARN MemoryStore: Not enough space to cache rdd_33_7 in memory! (computed 263.6 MiB so far)\n",
      "21/11/30 19:02:57 WARN BlockManager: Persisting block rdd_33_7 to disk instead.\n",
      "21/11/30 19:03:20 WARN MemoryStore: Not enough space to cache rdd_33_3 in memory! (computed 135.0 MiB so far)\n",
      "21/11/30 19:03:20 WARN BlockManager: Persisting block rdd_33_3 to disk instead.\n",
      "                                                                                \r"
     ]
    }
   ],
   "source": [
    "#Sobreescribir el dataset de filtro de sentencias con las nuevas columnas\n",
    "estructurales.seleccion.guardarDatos(parquet_file='extracciones3', partition_cols=['anno'], borrar=False)"
   ]
  },
  {
   "cell_type": "code",
   "execution_count": 6,
   "id": "8213bb82-e5ad-44f9-a563-86c1706d8989",
   "metadata": {
    "collapsed": true,
    "jupyter": {
     "outputs_hidden": true
    },
    "tags": []
   },
   "outputs": [
    {
     "name": "stderr",
     "output_type": "stream",
     "text": [
      "21/11/30 15:37:53 WARN MemoryStore: Not enough space to cache rdd_20_8 in memory! (computed 69.0 MiB so far)\n",
      "21/11/30 15:37:53 WARN MemoryStore: Not enough space to cache rdd_20_14 in memory! (computed 68.6 MiB so far)\n",
      "21/11/30 15:37:53 WARN MemoryStore: Not enough space to cache rdd_20_5 in memory! (computed 68.8 MiB so far)\n",
      "21/11/30 15:37:53 WARN MemoryStore: Not enough space to cache rdd_20_3 in memory! (computed 69.4 MiB so far)\n",
      "21/11/30 15:37:53 WARN MemoryStore: Not enough space to cache rdd_20_26 in memory! (computed 68.4 MiB so far)\n",
      "21/11/30 15:37:53 WARN MemoryStore: Not enough space to cache rdd_20_28 in memory! (computed 68.5 MiB so far)\n",
      "21/11/30 15:37:53 WARN MemoryStore: Not enough space to cache rdd_20_27 in memory! (computed 68.7 MiB so far)\n",
      "21/11/30 15:37:53 WARN MemoryStore: Not enough space to cache rdd_20_25 in memory! (computed 69.1 MiB so far)\n",
      "21/11/30 15:37:53 WARN MemoryStore: Not enough space to cache rdd_20_29 in memory! (computed 68.3 MiB so far)\n",
      "21/11/30 15:37:53 WARN MemoryStore: Not enough space to cache rdd_20_30 in memory! (computed 68.8 MiB so far)\n",
      "21/11/30 15:37:53 WARN MemoryStore: Not enough space to cache rdd_20_6 in memory! (computed 133.4 MiB so far)\n",
      "21/11/30 15:37:53 WARN MemoryStore: Not enough space to cache rdd_20_32 in memory! (computed 67.9 MiB so far)\n",
      "21/11/30 15:37:54 WARN MemoryStore: Not enough space to cache rdd_20_7 in memory! (computed 263.3 MiB so far)\n",
      "                                                                                \r"
     ]
    },
    {
     "data": {
      "text/plain": [
       "63446"
      ]
     },
     "execution_count": 6,
     "metadata": {},
     "output_type": "execute_result"
    }
   ],
   "source": [
    "s = estructurales.seleccion.sdf\n",
    "\n",
    "s.filter(s.plazosDefinidos.isNotNull()).count()\n",
    "# s.select('plazosDefinidos').dropna().count()\n",
    "# Cantidad anterior 30856\n",
    "# Cantidad con el reprocesamiento 63446"
   ]
  },
  {
   "cell_type": "code",
   "execution_count": 6,
   "id": "93e5746d-00f6-4d44-84ca-e4237537a989",
   "metadata": {},
   "outputs": [
    {
     "data": {
      "text/plain": [
       "Index(['archivo', 'txt', 'cleanText', 'num', 'fechahora_ext', 'redactor_ext',\n",
       "       'tipoResolucion_ext', 'termino_ext', 'voto_salvado', 'tema',\n",
       "       'Recurrente_ents', 'Cantón_ents', 'Fecha_ents', 'Constitución_ents',\n",
       "       'Redactor_ents', 'Ley_ents', 'EntidadPublica_ents', 'tema_prob',\n",
       "       'termino_lst', 'expediente', 'Fechahora_ents', 'CitaSentencias_ents',\n",
       "       'Recurrido_ents', 'Reglamento_ents', 'Magistrado_ents', '_id', 'anno',\n",
       "       'seguimiento', 'se_ordena', 'se_condena', 'plan', 'plazo'],\n",
       "      dtype='object')"
      ]
     },
     "execution_count": 6,
     "metadata": {},
     "output_type": "execute_result"
    }
   ],
   "source": [
    "estructurales.seleccion.sdf.limit(10).toPandas().columns"
   ]
  },
  {
   "cell_type": "code",
   "execution_count": 4,
   "id": "245b25ca-6d90-41da-9438-08e2d8a2969c",
   "metadata": {},
   "outputs": [],
   "source": [
    "columns = ['archivo',\n",
    " 'num',\n",
    " 'fechahora_ext',\n",
    " 'redactor_ext',\n",
    " 'tipoResolucion_ext',\n",
    " 'termino_ext',\n",
    " 'voto_salvado',\n",
    " 'tema',\n",
    " 'Recurrente_ents',\n",
    " 'Cantón_ents',\n",
    " 'Fecha_ents',\n",
    " 'Constitución_ents',\n",
    " 'Redactor_ents',\n",
    " 'Ley_ents',\n",
    " 'EntidadPublica_ents',\n",
    " 'tema_prob',\n",
    " 'termino_lst',\n",
    " 'expediente',\n",
    " 'Fechahora_ents',\n",
    " 'CitaSentencias_ents',\n",
    " 'Recurrido_ents',\n",
    " 'Reglamento_ents',\n",
    " 'Magistrado_ents',\n",
    " '_id',\n",
    " 'seguimiento',\n",
    " 'se_ordena',\n",
    " 'se_condena',\n",
    " 'plan',\n",
    " 'plazo',\n",
    " 'se_ordena_PER',\n",
    " 'se_ordena_LOC',\n",
    " 'se_ordena_ORG',\n",
    " 'se_ordena_MISC',\n",
    " 'se_ordena_GPE',\n",
    " 'se_ordena_Ent_Pub',\n",
    " 'se_condena_PER',\n",
    " 'se_condena_LOC',\n",
    " 'se_condena_ORG',\n",
    " 'se_condena_MISC',\n",
    " 'se_condena_GPE',\n",
    " 'se_condena_Ent_Pub',\n",
    " 'extension_sentencia',\n",
    " 'extension_por_lo_tanto',\n",
    " 'plazosDefinidos',\n",
    " 'FechaSolicitud',\n",
    " 'num_resolucion',\n",
    " 'inst_internacionales',\n",
    " 'derechos_Norm',\n",
    " 'derechos_GenXPat',\n",
    " 'derechos_Acotados',\n",
    " 'derechos_General',\n",
    " 'derechos_Fundamental',\n",
    " 'derechos_Humano',\n",
    " 'citasFechas',\n",
    " 'id_sentencia',\n",
    " 'num_doc_oficial',\n",
    " 'expediente_oficial',\n",
    " 'citasVotDate',\n",
    " 'citasIDVoto',\n",
    " 'seguimientoExt',\n",
    " 'seguimientoValue',\n",
    " 'anno']"
   ]
  },
  {
   "cell_type": "code",
   "execution_count": 6,
   "id": "70ca9a82-cad9-4054-a5bb-44de72710053",
   "metadata": {},
   "outputs": [
    {
     "name": "stderr",
     "output_type": "stream",
     "text": [
      "/opt/conda/lib/python3.9/site-packages/pyspark/sql/pandas/conversion.py:87: UserWarning: toPandas attempted Arrow optimization because 'spark.sql.execution.arrow.pyspark.enabled' is set to true; however, failed by the reason below:\n",
      "  Unsupported type in conversion to Arrow: ArrayType(TimestampType,true)\n",
      "Attempting non-optimization as 'spark.sql.execution.arrow.pyspark.fallback.enabled' is set to true.\n",
      "  warnings.warn(msg)\n",
      "                                                                                \r"
     ]
    }
   ],
   "source": [
    "# temp = spark.read.parquet('./datasets/estructurales3/extracciones3').filter('termino_ext == \"Con lugar\" OR  termino_ext == \"Con lugar parcial\" ')\n",
    "# temp = temp.filter('tema_prob > 0.90').filter('se_ordena != 0').sample(100/temp.count())\n",
    "\n",
    "# temp.select(*columns).toPandas().to_csv('muestra de sentencias estructurales.csv')\n",
    "temp.select(*columns).toPandas().to_parquet('muestra de sentencias estructurales.parquet')"
   ]
  },
  {
   "cell_type": "markdown",
   "id": "be285599-df3e-4e3e-9a91-8e9e594e6386",
   "metadata": {},
   "source": [
    "# Cargar procesamiento de sentencias estructurales."
   ]
  },
  {
   "cell_type": "code",
   "execution_count": 14,
   "id": "b59d71cb-5bc5-46d5-ac7f-76320998da41",
   "metadata": {
    "tags": []
   },
   "outputs": [
    {
     "data": {
      "text/plain": [
       "['archivo',\n",
       " 'txt',\n",
       " 'cleanText',\n",
       " 'num',\n",
       " 'fechahora_ext',\n",
       " 'redactor_ext',\n",
       " 'tipoResolucion_ext',\n",
       " 'termino_ext',\n",
       " 'voto_salvado',\n",
       " 'tema',\n",
       " 'Recurrente_ents',\n",
       " 'Cantón_ents',\n",
       " 'Fecha_ents',\n",
       " 'Constitución_ents',\n",
       " 'Redactor_ents',\n",
       " 'Ley_ents',\n",
       " 'EntidadPublica_ents',\n",
       " 'tema_prob',\n",
       " 'termino_lst',\n",
       " 'expediente',\n",
       " 'Fechahora_ents',\n",
       " 'CitaSentencias_ents',\n",
       " 'Recurrido_ents',\n",
       " 'Reglamento_ents',\n",
       " 'Magistrado_ents',\n",
       " '_id',\n",
       " 'anno']"
      ]
     },
     "execution_count": 14,
     "metadata": {},
     "output_type": "execute_result"
    }
   ],
   "source": [
    "terminos = {\n",
    "    'seguimiento': [r'\\bseguimiento\\b'],\n",
    "    'se ordena': [r'\\bse ordena\\b'],\n",
    "    'plan': [r'\\bplan\\b'],\n",
    "    'plazo': [r'\\bplazo\\b']\n",
    "}\n",
    "seleccion = Seleccion(terminos, spark, parquet_path='../../src/datasets/complete', datasets_path='./datasets/estructurales2/extracciones2')\n",
    "seleccion.cargarPreprocesados()\n",
    "\n",
    "estructurales = SentenciasEstructurales(seleccion)\n",
    "seleccion.sdf.columns"
   ]
  },
  {
   "cell_type": "code",
   "execution_count": null,
   "id": "e9425b42-ff43-44ab-951b-b9c77e6f2999",
   "metadata": {},
   "outputs": [],
   "source": [
    "from pyspark.sql.types import *\n",
    "columnas = {\n",
    "    'num resolucion' : StringType()\n",
    "}\n",
    "\n",
    "estructurales.extraerNumeroSentencia(columnas, True)"
   ]
  },
  {
   "cell_type": "markdown",
   "id": "d5da6726-dbb8-407a-a037-531bad558316",
   "metadata": {},
   "source": [
    "# Zona de trabajo (ignorar)"
   ]
  },
  {
   "cell_type": "code",
   "execution_count": null,
   "id": "ea9a5164-38c6-4f26-9f4b-91fd49fe2816",
   "metadata": {
    "tags": []
   },
   "outputs": [],
   "source": [
    "s = estructurales.seleccion.sdf\n",
    "#print(solo_portanto(s.where(s.plazosDefinidos.isNotNull()).limit(15).toPandas().loc[1,'txt']))"
   ]
  },
  {
   "cell_type": "code",
   "execution_count": null,
   "id": "4f2324dd-cf90-417b-85c3-22582484236d",
   "metadata": {
    "tags": []
   },
   "outputs": [],
   "source": [
    "#print(s.where(s.plazosDefinidos.isNotNull()).limit(15).toPandas().loc[1,'se_ordena_PER'])"
   ]
  },
  {
   "cell_type": "code",
   "execution_count": null,
   "id": "78981adc-3160-46a4-9c1b-d8a7b3e687c1",
   "metadata": {
    "tags": []
   },
   "outputs": [],
   "source": [
    "#print(s.where(s.plazosDefinidos.isNotNull()).limit(15).toPandas().loc[1,'plazosDefinidos'])"
   ]
  },
  {
   "cell_type": "code",
   "execution_count": null,
   "id": "0d5752b7-7af0-4dd9-b9ea-e3923e87fe8d",
   "metadata": {
    "tags": []
   },
   "outputs": [],
   "source": [
    "#print(s.where(s.plazosDefinidos.isNotNull()).limit(15).toPandas().loc[1])"
   ]
  },
  {
   "cell_type": "code",
   "execution_count": null,
   "id": "76042dbb-d914-4836-8bbe-06c9aef7bddb",
   "metadata": {},
   "outputs": [],
   "source": []
  }
 ],
 "metadata": {
  "kernelspec": {
   "display_name": "Python 3 (ipykernel)",
   "language": "python",
   "name": "python3"
  },
  "language_info": {
   "codemirror_mode": {
    "name": "ipython",
    "version": 3
   },
   "file_extension": ".py",
   "mimetype": "text/x-python",
   "name": "python",
   "nbconvert_exporter": "python",
   "pygments_lexer": "ipython3",
   "version": "3.9.6"
  }
 },
 "nbformat": 4,
 "nbformat_minor": 5
}
