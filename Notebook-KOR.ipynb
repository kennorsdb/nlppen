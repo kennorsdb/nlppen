{
 "cells": [
  {
   "cell_type": "code",
   "execution_count": null,
   "id": "28f56ce3-6a94-4fc2-a051-945ebfb32480",
   "metadata": {},
   "outputs": [],
   "source": []
  },
  {
   "cell_type": "markdown",
   "id": "6a834852-b9fd-483c-93e6-3b80f3e879c5",
   "metadata": {},
   "source": [
    "# Imports"
   ]
  },
  {
   "cell_type": "code",
   "execution_count": 3,
   "id": "cc2ec801-fdee-413e-aca9-8ee8e77e0cac",
   "metadata": {
    "tags": []
   },
   "outputs": [
    {
     "name": "stdout",
     "output_type": "stream",
     "text": [
      "The autoreload extension is already loaded. To reload it, use:\n",
      "  %reload_ext autoreload\n",
      "ERROR! Session/line number was not unique in database. History logging moved to new session 818\n"
     ]
    }
   ],
   "source": [
    "%load_ext autoreload\n",
    "%autoreload 2\n",
    "import sys\n",
    "from nlppen.extraccion.utils.Txt2Numbers import Txt2Numbers\n",
    "from nlppen.analisis import Analisis\n",
    "from nlppen.seleccion import Seleccion\n",
    "from nlppen.spark_udfs import solo_portanto, spark_get_spacy\n",
    "from nlppen.sentencias_estructurales import SentenciasEstructurales\n",
    "from pyspark.sql import SparkSession\n",
    "from pyspark.sql.functions import length"
   ]
  },
  {
   "cell_type": "markdown",
   "id": "3106f23a-2bb1-483d-bc31-aa48b9a7db2a",
   "metadata": {
    "tags": []
   },
   "source": [
    "## Initialize spark context"
   ]
  },
  {
   "cell_type": "code",
   "execution_count": 4,
   "id": "b819481b-6ee8-42c7-9add-c19ceba43563",
   "metadata": {
    "tags": []
   },
   "outputs": [
    {
     "name": "stderr",
     "output_type": "stream",
     "text": [
      "21/10/14 20:16:56 WARN SparkContext: The path /home/jovyan/Work/ej/paquetes/nlppen/nlppen.zip has been added already. Overwriting of added paths is not supported in the current version.\n"
     ]
    },
    {
     "data": {
      "text/plain": [
       "'http://69abb479a5e1:4040'"
      ]
     },
     "execution_count": 4,
     "metadata": {},
     "output_type": "execute_result"
    }
   ],
   "source": [
    "spark = (SparkSession\n",
    "         .builder\n",
    "         .appName(\"Transforming sentences\")\n",
    "         .config(\"spark.num.executors\", \"1\")\n",
    "         .config(\"spark.executor.memory\", \"12g\")\n",
    "         .config(\"spark.executor.cores\", \"2\")\n",
    "         .config(\"spark.driver.memory\", \"10g\")\n",
    "         .config(\"spark.memory.offHeap.enabled\", True)\n",
    "         .config(\"spark.memory.offHeap.size\", \"64g\")\n",
    "         .config(\"spark.sql.execution.arrow.pyspark.enabled\", \"true\")\n",
    "         .config(\"spark.sql.legacy.timeParserPolicy\", \"LEGACY\")\n",
    "         .config(\"spark.sql.legacy.parquet.int96RebaseModeInWrite\", \"CORRECTED\")\n",
    "         .getOrCreate())\n",
    "\n",
    "\n",
    "sc = spark.sparkContext\n",
    "sc.addFile('/home/jovyan/Work/ej/paquetes/nlppen/nlppen.zip')\n",
    "sc.uiWebUrl"
   ]
  },
  {
   "cell_type": "markdown",
   "id": "4ab75fdc-6e47-4671-b06b-4109f7a2bc66",
   "metadata": {},
   "source": [
    "# Buscar terminos en la sección de por lo tanto de la sentencia y aplicar filtro del dataset"
   ]
  },
  {
   "cell_type": "code",
   "execution_count": 5,
   "id": "2a92cddd-4b24-4bdf-85d7-ceabe68d009d",
   "metadata": {
    "tags": []
   },
   "outputs": [
    {
     "name": "stderr",
     "output_type": "stream",
     "text": [
      "                                                                                \r"
     ]
    },
    {
     "data": {
      "text/plain": [
       "151269"
      ]
     },
     "execution_count": 5,
     "metadata": {},
     "output_type": "execute_result"
    }
   ],
   "source": [
    "\n",
    "anno_inf = 2010\n",
    "anno_sup = 2021\n",
    "\n",
    "terminos = {\n",
    "    'seguimiento': [r'\\bseguimiento\\b'],\n",
    "    'se ordena': [r'\\bse ordena\\b'],\n",
    "    'plan': [r'\\bplan\\b'],\n",
    "    'plazo': [r'\\bplazo\\b']\n",
    "}\n",
    "\n",
    "\n",
    "seleccion = Seleccion(terminos, spark, parquet_path='../../src/datasets/complete', datasets_path='./datasets/estructurales', filtro=f'anno >= {anno_inf} AND anno < {anno_sup}')\n",
    "seleccion.filtrar_sentencias(preprocess=solo_portanto, keepRowEmpty=True, partition_cols=['anno'], precargar=False)\n",
    "\n",
    "estructurales = SentenciasEstructurales(seleccion)\n",
    "\n",
    "seleccion.sdf.count()"
   ]
  },
  {
   "cell_type": "markdown",
   "id": "d77b9686-78ed-4c53-9cf9-694c588b45e6",
   "metadata": {
    "tags": []
   },
   "source": [
    "# Formar dataset de sentencias estructurales"
   ]
  },
  {
   "cell_type": "code",
   "execution_count": 6,
   "id": "87f24ed5-2a71-442a-b40e-af45934cf108",
   "metadata": {
    "tags": []
   },
   "outputs": [
    {
     "data": {
      "text/plain": [
       "DataFrame[archivo: string, txt: string, cleanText: string, num: bigint, fechahora_ext: timestamp, redactor_ext: string, tipoResolucion_ext: string, termino_ext: string, voto_salvado: boolean, tema: string, Recurrente_ents: array<string>, Cantón_ents: array<string>, Fecha_ents: array<string>, Constitución_ents: array<bigint>, Redactor_ents: array<string>, Ley_ents: array<string>, EntidadPublica_ents: array<string>, tema_prob: double, termino_lst: array<string>, expediente: string, Fechahora_ents: array<string>, CitaSentencias_ents: array<string>, Recurrido_ents: array<string>, Reglamento_ents: array<string>, Magistrado_ents: array<string>, _id: string, anno: int, seguimiento: int, se_ordena: int, plan: int, plazo: int, se_ordena_PER: array<string>, se_ordena_LOC: array<string>, se_ordena_ORG: array<string>, se_ordena_MISC: array<string>, se_ordena_GPE: array<string>, se_ordena_Ent_Pub: array<string>, extension_sentencia: int, extension_por_lo_tanto: int, plazosDefinidos: array<timestamp>, FechaSolicitud: timestamp]"
      ]
     },
     "execution_count": 6,
     "metadata": {},
     "output_type": "execute_result"
    }
   ],
   "source": [
    "from pyspark.sql.types import *\n",
    "\n",
    "columnas = {\n",
    "    'se ordena PER' : ArrayType(StringType()),\n",
    "    'se ordena LOC' : ArrayType(StringType()),\n",
    "    'se ordena ORG' : ArrayType(StringType()),\n",
    "    'se ordena MISC' : ArrayType(StringType()),\n",
    "    'se ordena GPE' : ArrayType(StringType()),\n",
    "    'se ordena Ent Pub' : ArrayType(StringType())\n",
    "}\n",
    "estructurales.separarSeOrdena(columnas, True, True)\n",
    "\n",
    "columnas = {\n",
    "    'extension sentencia' : IntegerType(),\n",
    "    'extension por lo tanto' : IntegerType()\n",
    "}\n",
    "estructurales.extraerExtension(columnas, True)\n",
    "\n",
    "columnas = {\n",
    "    'plazosDefinidos' : ArrayType(TimestampType())\n",
    "}\n",
    "estructurales.plazosDefinidos(columnas, True)\n",
    "\n",
    "columnas = {\n",
    "    'FechaSolicitud' : TimestampType(),\n",
    "}\n",
    "\n",
    "estructurales.extrarFechaRecibido(columnas, True)\n",
    "#Sobreescribir el dataset de filtro de sentencias con las nuevas columnas"
   ]
  },
  {
   "cell_type": "code",
   "execution_count": 7,
   "id": "6e158ac6-bbd8-4773-b327-29d2fba6f25c",
   "metadata": {
    "tags": []
   },
   "outputs": [
    {
     "name": "stderr",
     "output_type": "stream",
     "text": [
      "21/10/14 20:26:47 WARN MemoryStore: Not enough space to cache rdd_68_6 in memory! (computed 263.3 MiB so far)\n",
      "21/10/14 20:26:47 WARN BlockManager: Persisting block rdd_68_6 to disk instead.\n",
      "                                                                                \r"
     ]
    }
   ],
   "source": [
    "estructurales.seleccion.guardarDatos(parquet_file='extracciones', partition_cols=['anno'], borrar=False)"
   ]
  },
  {
   "cell_type": "code",
   "execution_count": null,
   "id": "93e5746d-00f6-4d44-84ca-e4237537a989",
   "metadata": {},
   "outputs": [],
   "source": [
    "estructurales.seleccion.sdf.sample(10).toPandas()"
   ]
  },
  {
   "cell_type": "code",
   "execution_count": null,
   "id": "dc7c6e7a-358d-4e10-ab15-31162736cee8",
   "metadata": {},
   "outputs": [],
   "source": [
    "estructurales.seleccion.sdf.dropNull('FechaSolicitud').groupby('anno').count()"
   ]
  },
  {
   "cell_type": "code",
   "execution_count": null,
   "id": "e4691309-2cb2-4bce-9325-532aba01ad54",
   "metadata": {},
   "outputs": [],
   "source": [
    "estructurales.seleccion.sdf.select('FechaSolicitud', 'anno').filter('FechaSolicitud is not Null').toPandas().count()"
   ]
  },
  {
   "cell_type": "code",
   "execution_count": null,
   "id": "3311da56-481f-47eb-be25-f5db561e0408",
   "metadata": {
    "tags": []
   },
   "outputs": [],
   "source": [
    "estructurales.seleccion.sdf.limit(15).toPandas()"
   ]
  },
  {
   "cell_type": "markdown",
   "id": "be285599-df3e-4e3e-9a91-8e9e594e6386",
   "metadata": {},
   "source": [
    "# Cargar procesamiento de sentencias estructurales."
   ]
  },
  {
   "cell_type": "code",
   "execution_count": null,
   "id": "b59d71cb-5bc5-46d5-ac7f-76320998da41",
   "metadata": {
    "tags": []
   },
   "outputs": [],
   "source": [
    "# terminos = \n",
    "#     'seguimiento': [r'\\bseguimiento\\b'],\n",
    "#     'se ordena': [r'\\bse ordena\\b'],\n",
    "#     'plan': [r'\\bplan\\b'],\n",
    "#     'plazo': [r'\\bplazo\\b']\n",
    "# }\n",
    "# seleccion = Seleccion(terminos, spark, parquet_path='./datasets', datasets_path='./datasets/estructurales')\n",
    "# seleccion.cargarPreprocesados()\n",
    "\n",
    "# estructurales = SentenciasEstructurales(seleccion)"
   ]
  },
  {
   "cell_type": "code",
   "execution_count": null,
   "id": "e9425b42-ff43-44ab-951b-b9c77e6f2999",
   "metadata": {},
   "outputs": [],
   "source": []
  },
  {
   "cell_type": "markdown",
   "id": "d5da6726-dbb8-407a-a037-531bad558316",
   "metadata": {},
   "source": [
    "# Zona de trabajo (ignorar)"
   ]
  },
  {
   "cell_type": "code",
   "execution_count": null,
   "id": "ea9a5164-38c6-4f26-9f4b-91fd49fe2816",
   "metadata": {
    "tags": []
   },
   "outputs": [],
   "source": [
    "s = estructurales.seleccion.sdf\n",
    "#print(solo_portanto(s.where(s.plazosDefinidos.isNotNull()).limit(15).toPandas().loc[1,'txt']))"
   ]
  },
  {
   "cell_type": "code",
   "execution_count": null,
   "id": "4f2324dd-cf90-417b-85c3-22582484236d",
   "metadata": {
    "tags": []
   },
   "outputs": [],
   "source": [
    "#print(s.where(s.plazosDefinidos.isNotNull()).limit(15).toPandas().loc[1,'se_ordena_PER'])"
   ]
  },
  {
   "cell_type": "code",
   "execution_count": null,
   "id": "78981adc-3160-46a4-9c1b-d8a7b3e687c1",
   "metadata": {
    "tags": []
   },
   "outputs": [],
   "source": [
    "#print(s.where(s.plazosDefinidos.isNotNull()).limit(15).toPandas().loc[1,'plazosDefinidos'])"
   ]
  },
  {
   "cell_type": "code",
   "execution_count": null,
   "id": "0d5752b7-7af0-4dd9-b9ea-e3923e87fe8d",
   "metadata": {
    "tags": []
   },
   "outputs": [],
   "source": [
    "#print(s.where(s.plazosDefinidos.isNotNull()).limit(15).toPandas().loc[1])"
   ]
  },
  {
   "cell_type": "code",
   "execution_count": null,
   "id": "76042dbb-d914-4836-8bbe-06c9aef7bddb",
   "metadata": {},
   "outputs": [],
   "source": []
  }
 ],
 "metadata": {
  "kernelspec": {
   "display_name": "Python 3 (ipykernel)",
   "language": "python",
   "name": "python3"
  },
  "language_info": {
   "codemirror_mode": {
    "name": "ipython",
    "version": 3
   },
   "file_extension": ".py",
   "mimetype": "text/x-python",
   "name": "python",
   "nbconvert_exporter": "python",
   "pygments_lexer": "ipython3",
   "version": "3.9.6"
  }
 },
 "nbformat": 4,
 "nbformat_minor": 5
}
