{
 "cells": [
  {
   "cell_type": "code",
   "execution_count": null,
   "id": "28f56ce3-6a94-4fc2-a051-945ebfb32480",
   "metadata": {},
   "outputs": [],
   "source": []
  },
  {
   "cell_type": "markdown",
   "id": "6a834852-b9fd-483c-93e6-3b80f3e879c5",
   "metadata": {},
   "source": [
    "# Imports"
   ]
  },
  {
   "cell_type": "code",
   "execution_count": 2,
   "id": "cc2ec801-fdee-413e-aca9-8ee8e77e0cac",
   "metadata": {
    "tags": []
   },
   "outputs": [],
   "source": [
    "%load_ext autoreload\n",
    "%autoreload 2\n",
    "import sys\n",
    "from nlppen.extraccion.utils.Txt2Numbers import Txt2Numbers\n",
    "from nlppen.analisis import Analisis\n",
    "from nlppen.seleccion import Seleccion\n",
    "from nlppen.spark_udfs import solo_portanto, spark_get_spacy\n",
    "from nlppen.sentencias_estructurales import SentenciasEstructurales\n",
    "from pyspark.sql import SparkSession\n",
    "from pyspark.sql.functions import length"
   ]
  },
  {
   "cell_type": "markdown",
   "id": "3106f23a-2bb1-483d-bc31-aa48b9a7db2a",
   "metadata": {
    "tags": []
   },
   "source": [
    "## Initialize spark context"
   ]
  },
  {
   "cell_type": "code",
   "execution_count": 3,
   "id": "b819481b-6ee8-42c7-9add-c19ceba43563",
   "metadata": {
    "tags": []
   },
   "outputs": [
    {
     "name": "stderr",
     "output_type": "stream",
     "text": [
      "21/10/28 16:10:10 WARN NativeCodeLoader: Unable to load native-hadoop library for your platform... using builtin-java classes where applicable\n",
      "Using Spark's default log4j profile: org/apache/spark/log4j-defaults.properties\n",
      "Setting default log level to \"WARN\".\n",
      "To adjust logging level use sc.setLogLevel(newLevel). For SparkR, use setLogLevel(newLevel).\n"
     ]
    },
    {
     "data": {
      "text/plain": [
       "'http://69abb479a5e1:4040'"
      ]
     },
     "execution_count": 3,
     "metadata": {},
     "output_type": "execute_result"
    }
   ],
   "source": [
    "spark = (SparkSession\n",
    "         .builder\n",
    "         .appName(\"Transforming sentences\")\n",
    "         .config(\"spark.num.executors\", \"1\")\n",
    "         .config(\"spark.executor.memory\", \"12g\")\n",
    "         .config(\"spark.executor.cores\", \"2\")\n",
    "         .config(\"spark.driver.memory\", \"10g\")\n",
    "         .config(\"spark.memory.offHeap.enabled\", True)\n",
    "         .config(\"spark.memory.offHeap.size\", \"64g\")\n",
    "         .config(\"spark.sql.execution.arrow.pyspark.enabled\", \"true\")\n",
    "         .config(\"spark.sql.legacy.timeParserPolicy\", \"LEGACY\")\n",
    "         .config(\"spark.sql.legacy.parquet.int96RebaseModeInWrite\", \"CORRECTED\")\n",
    "         .getOrCreate())\n",
    "\n",
    "\n",
    "sc = spark.sparkContext\n",
    "sc.addFile('/home/jovyan/Work/ej/paquetes/nlppen/nlppen.zip')\n",
    "sc.uiWebUrl"
   ]
  },
  {
   "cell_type": "markdown",
   "id": "4ab75fdc-6e47-4671-b06b-4109f7a2bc66",
   "metadata": {},
   "source": [
    "# Buscar terminos en la sección de por lo tanto de la sentencia y aplicar filtro del dataset"
   ]
  },
  {
   "cell_type": "code",
   "execution_count": 4,
   "id": "2a92cddd-4b24-4bdf-85d7-ceabe68d009d",
   "metadata": {
    "tags": []
   },
   "outputs": [
    {
     "name": "stderr",
     "output_type": "stream",
     "text": [
      "21/10/21 16:41:26 WARN package: Truncated the string representation of a plan since it was too large. This behavior can be adjusted by setting 'spark.sql.debug.maxToStringFields'.\n",
      "[Stage 2:================================================>        (22 + 4) / 26]\r"
     ]
    },
    {
     "ename": "KeyboardInterrupt",
     "evalue": "",
     "output_type": "error",
     "traceback": [
      "\u001b[0;31m---------------------------------------------------------------------------\u001b[0m",
      "\u001b[0;31mKeyboardInterrupt\u001b[0m                         Traceback (most recent call last)",
      "\u001b[0;32m/tmp/ipykernel_922/2233223948.py\u001b[0m in \u001b[0;36m<module>\u001b[0;34m\u001b[0m\n\u001b[1;32m     11\u001b[0m \u001b[0;34m\u001b[0m\u001b[0m\n\u001b[1;32m     12\u001b[0m \u001b[0mseleccion\u001b[0m \u001b[0;34m=\u001b[0m \u001b[0mSeleccion\u001b[0m\u001b[0;34m(\u001b[0m\u001b[0mterminos\u001b[0m\u001b[0;34m,\u001b[0m \u001b[0mspark\u001b[0m\u001b[0;34m,\u001b[0m \u001b[0mparquet_path\u001b[0m\u001b[0;34m=\u001b[0m\u001b[0;34m'../../src/datasets/complete'\u001b[0m\u001b[0;34m,\u001b[0m \u001b[0mdatasets_path\u001b[0m\u001b[0;34m=\u001b[0m\u001b[0;34m'./datasets/estructurales'\u001b[0m\u001b[0;34m,\u001b[0m \u001b[0mfiltro\u001b[0m\u001b[0;34m=\u001b[0m\u001b[0;34mf'anno >= {anno_inf} AND anno < {anno_sup}'\u001b[0m\u001b[0;34m)\u001b[0m\u001b[0;34m\u001b[0m\u001b[0;34m\u001b[0m\u001b[0m\n\u001b[0;32m---> 13\u001b[0;31m \u001b[0mseleccion\u001b[0m\u001b[0;34m.\u001b[0m\u001b[0mfiltrar_sentencias\u001b[0m\u001b[0;34m(\u001b[0m\u001b[0mpreprocess\u001b[0m\u001b[0;34m=\u001b[0m\u001b[0msolo_portanto\u001b[0m\u001b[0;34m,\u001b[0m \u001b[0mkeepRowEmpty\u001b[0m\u001b[0;34m=\u001b[0m\u001b[0;32mTrue\u001b[0m\u001b[0;34m,\u001b[0m \u001b[0mpartition_cols\u001b[0m\u001b[0;34m=\u001b[0m\u001b[0;34m[\u001b[0m\u001b[0;34m'anno'\u001b[0m\u001b[0;34m]\u001b[0m\u001b[0;34m,\u001b[0m \u001b[0mprecargar\u001b[0m\u001b[0;34m=\u001b[0m\u001b[0;32mFalse\u001b[0m\u001b[0;34m)\u001b[0m\u001b[0;34m\u001b[0m\u001b[0;34m\u001b[0m\u001b[0m\n\u001b[0m\u001b[1;32m     14\u001b[0m \u001b[0;34m\u001b[0m\u001b[0m\n\u001b[1;32m     15\u001b[0m \u001b[0mestructurales\u001b[0m \u001b[0;34m=\u001b[0m \u001b[0mSentenciasEstructurales\u001b[0m\u001b[0;34m(\u001b[0m\u001b[0mseleccion\u001b[0m\u001b[0;34m)\u001b[0m\u001b[0;34m\u001b[0m\u001b[0;34m\u001b[0m\u001b[0m\n",
      "\u001b[0;32m~/Work/ej/paquetes/nlppen/nlppen/seleccion.py\u001b[0m in \u001b[0;36mfiltrar_sentencias\u001b[0;34m(self, parquet_file, precargar, preprocess, save, keepRowEmpty, partition_cols)\u001b[0m\n\u001b[1;32m    105\u001b[0m             \u001b[0mself\u001b[0m\u001b[0;34m.\u001b[0m\u001b[0m__busqueda_terminos\u001b[0m\u001b[0;34m(\u001b[0m\u001b[0mpreprocess\u001b[0m\u001b[0;34m,\u001b[0m \u001b[0mkeepRowEmpty\u001b[0m\u001b[0;34m)\u001b[0m\u001b[0;34m\u001b[0m\u001b[0;34m\u001b[0m\u001b[0m\n\u001b[1;32m    106\u001b[0m             \u001b[0;32mif\u001b[0m \u001b[0msave\u001b[0m\u001b[0;34m:\u001b[0m\u001b[0;34m\u001b[0m\u001b[0;34m\u001b[0m\u001b[0m\n\u001b[0;32m--> 107\u001b[0;31m                 \u001b[0mself\u001b[0m\u001b[0;34m.\u001b[0m\u001b[0mguardarDatos\u001b[0m\u001b[0;34m(\u001b[0m\u001b[0mparquet_file\u001b[0m\u001b[0;34m,\u001b[0m \u001b[0mpartition_cols\u001b[0m\u001b[0;34m=\u001b[0m\u001b[0mpartition_cols\u001b[0m\u001b[0;34m)\u001b[0m\u001b[0;34m\u001b[0m\u001b[0;34m\u001b[0m\u001b[0m\n\u001b[0m\u001b[1;32m    108\u001b[0m \u001b[0;34m\u001b[0m\u001b[0m\n\u001b[1;32m    109\u001b[0m         \u001b[0;32mreturn\u001b[0m \u001b[0mself\u001b[0m\u001b[0;34m.\u001b[0m\u001b[0msdf\u001b[0m\u001b[0;34m\u001b[0m\u001b[0;34m\u001b[0m\u001b[0m\n",
      "\u001b[0;32m~/Work/ej/paquetes/nlppen/nlppen/seleccion.py\u001b[0m in \u001b[0;36mguardarDatos\u001b[0;34m(self, parquet_file, partition_cols, borrar)\u001b[0m\n\u001b[1;32m     77\u001b[0m                 \u001b[0mself\u001b[0m\u001b[0;34m.\u001b[0m\u001b[0msdf\u001b[0m\u001b[0;34m.\u001b[0m\u001b[0mwrite\u001b[0m\u001b[0;34m.\u001b[0m\u001b[0mparquet\u001b[0m\u001b[0;34m(\u001b[0m\u001b[0mparquet_path\u001b[0m\u001b[0;34m)\u001b[0m\u001b[0;34m\u001b[0m\u001b[0;34m\u001b[0m\u001b[0m\n\u001b[1;32m     78\u001b[0m             \u001b[0;32melse\u001b[0m\u001b[0;34m:\u001b[0m\u001b[0;34m\u001b[0m\u001b[0;34m\u001b[0m\u001b[0m\n\u001b[0;32m---> 79\u001b[0;31m                 (self.sdf.repartition(*partition_cols)\n\u001b[0m\u001b[1;32m     80\u001b[0m                 .write.mode('append').partitionBy(*partition_cols).parquet(parquet_path))\n\u001b[1;32m     81\u001b[0m \u001b[0;34m\u001b[0m\u001b[0m\n",
      "\u001b[0;32m/opt/conda/lib/python3.9/site-packages/pyspark/sql/readwriter.py\u001b[0m in \u001b[0;36mparquet\u001b[0;34m(self, path, mode, partitionBy, compression)\u001b[0m\n\u001b[1;32m   1248\u001b[0m             \u001b[0mself\u001b[0m\u001b[0;34m.\u001b[0m\u001b[0mpartitionBy\u001b[0m\u001b[0;34m(\u001b[0m\u001b[0mpartitionBy\u001b[0m\u001b[0;34m)\u001b[0m\u001b[0;34m\u001b[0m\u001b[0;34m\u001b[0m\u001b[0m\n\u001b[1;32m   1249\u001b[0m         \u001b[0mself\u001b[0m\u001b[0;34m.\u001b[0m\u001b[0m_set_opts\u001b[0m\u001b[0;34m(\u001b[0m\u001b[0mcompression\u001b[0m\u001b[0;34m=\u001b[0m\u001b[0mcompression\u001b[0m\u001b[0;34m)\u001b[0m\u001b[0;34m\u001b[0m\u001b[0;34m\u001b[0m\u001b[0m\n\u001b[0;32m-> 1250\u001b[0;31m         \u001b[0mself\u001b[0m\u001b[0;34m.\u001b[0m\u001b[0m_jwrite\u001b[0m\u001b[0;34m.\u001b[0m\u001b[0mparquet\u001b[0m\u001b[0;34m(\u001b[0m\u001b[0mpath\u001b[0m\u001b[0;34m)\u001b[0m\u001b[0;34m\u001b[0m\u001b[0;34m\u001b[0m\u001b[0m\n\u001b[0m\u001b[1;32m   1251\u001b[0m \u001b[0;34m\u001b[0m\u001b[0m\n\u001b[1;32m   1252\u001b[0m     \u001b[0;32mdef\u001b[0m \u001b[0mtext\u001b[0m\u001b[0;34m(\u001b[0m\u001b[0mself\u001b[0m\u001b[0;34m,\u001b[0m \u001b[0mpath\u001b[0m\u001b[0;34m,\u001b[0m \u001b[0mcompression\u001b[0m\u001b[0;34m=\u001b[0m\u001b[0;32mNone\u001b[0m\u001b[0;34m,\u001b[0m \u001b[0mlineSep\u001b[0m\u001b[0;34m=\u001b[0m\u001b[0;32mNone\u001b[0m\u001b[0;34m)\u001b[0m\u001b[0;34m:\u001b[0m\u001b[0;34m\u001b[0m\u001b[0;34m\u001b[0m\u001b[0m\n",
      "\u001b[0;32m/opt/conda/lib/python3.9/site-packages/py4j/java_gateway.py\u001b[0m in \u001b[0;36m__call__\u001b[0;34m(self, *args)\u001b[0m\n\u001b[1;32m   1301\u001b[0m             \u001b[0mproto\u001b[0m\u001b[0;34m.\u001b[0m\u001b[0mEND_COMMAND_PART\u001b[0m\u001b[0;34m\u001b[0m\u001b[0;34m\u001b[0m\u001b[0m\n\u001b[1;32m   1302\u001b[0m \u001b[0;34m\u001b[0m\u001b[0m\n\u001b[0;32m-> 1303\u001b[0;31m         \u001b[0manswer\u001b[0m \u001b[0;34m=\u001b[0m \u001b[0mself\u001b[0m\u001b[0;34m.\u001b[0m\u001b[0mgateway_client\u001b[0m\u001b[0;34m.\u001b[0m\u001b[0msend_command\u001b[0m\u001b[0;34m(\u001b[0m\u001b[0mcommand\u001b[0m\u001b[0;34m)\u001b[0m\u001b[0;34m\u001b[0m\u001b[0;34m\u001b[0m\u001b[0m\n\u001b[0m\u001b[1;32m   1304\u001b[0m         return_value = get_return_value(\n\u001b[1;32m   1305\u001b[0m             answer, self.gateway_client, self.target_id, self.name)\n",
      "\u001b[0;32m/opt/conda/lib/python3.9/site-packages/py4j/java_gateway.py\u001b[0m in \u001b[0;36msend_command\u001b[0;34m(self, command, retry, binary)\u001b[0m\n\u001b[1;32m   1031\u001b[0m         \u001b[0mconnection\u001b[0m \u001b[0;34m=\u001b[0m \u001b[0mself\u001b[0m\u001b[0;34m.\u001b[0m\u001b[0m_get_connection\u001b[0m\u001b[0;34m(\u001b[0m\u001b[0;34m)\u001b[0m\u001b[0;34m\u001b[0m\u001b[0;34m\u001b[0m\u001b[0m\n\u001b[1;32m   1032\u001b[0m         \u001b[0;32mtry\u001b[0m\u001b[0;34m:\u001b[0m\u001b[0;34m\u001b[0m\u001b[0;34m\u001b[0m\u001b[0m\n\u001b[0;32m-> 1033\u001b[0;31m             \u001b[0mresponse\u001b[0m \u001b[0;34m=\u001b[0m \u001b[0mconnection\u001b[0m\u001b[0;34m.\u001b[0m\u001b[0msend_command\u001b[0m\u001b[0;34m(\u001b[0m\u001b[0mcommand\u001b[0m\u001b[0;34m)\u001b[0m\u001b[0;34m\u001b[0m\u001b[0;34m\u001b[0m\u001b[0m\n\u001b[0m\u001b[1;32m   1034\u001b[0m             \u001b[0;32mif\u001b[0m \u001b[0mbinary\u001b[0m\u001b[0;34m:\u001b[0m\u001b[0;34m\u001b[0m\u001b[0;34m\u001b[0m\u001b[0m\n\u001b[1;32m   1035\u001b[0m                 \u001b[0;32mreturn\u001b[0m \u001b[0mresponse\u001b[0m\u001b[0;34m,\u001b[0m \u001b[0mself\u001b[0m\u001b[0;34m.\u001b[0m\u001b[0m_create_connection_guard\u001b[0m\u001b[0;34m(\u001b[0m\u001b[0mconnection\u001b[0m\u001b[0;34m)\u001b[0m\u001b[0;34m\u001b[0m\u001b[0;34m\u001b[0m\u001b[0m\n",
      "\u001b[0;32m/opt/conda/lib/python3.9/site-packages/py4j/java_gateway.py\u001b[0m in \u001b[0;36msend_command\u001b[0;34m(self, command)\u001b[0m\n\u001b[1;32m   1198\u001b[0m \u001b[0;34m\u001b[0m\u001b[0m\n\u001b[1;32m   1199\u001b[0m         \u001b[0;32mtry\u001b[0m\u001b[0;34m:\u001b[0m\u001b[0;34m\u001b[0m\u001b[0;34m\u001b[0m\u001b[0m\n\u001b[0;32m-> 1200\u001b[0;31m             \u001b[0manswer\u001b[0m \u001b[0;34m=\u001b[0m \u001b[0msmart_decode\u001b[0m\u001b[0;34m(\u001b[0m\u001b[0mself\u001b[0m\u001b[0;34m.\u001b[0m\u001b[0mstream\u001b[0m\u001b[0;34m.\u001b[0m\u001b[0mreadline\u001b[0m\u001b[0;34m(\u001b[0m\u001b[0;34m)\u001b[0m\u001b[0;34m[\u001b[0m\u001b[0;34m:\u001b[0m\u001b[0;34m-\u001b[0m\u001b[0;36m1\u001b[0m\u001b[0;34m]\u001b[0m\u001b[0;34m)\u001b[0m\u001b[0;34m\u001b[0m\u001b[0;34m\u001b[0m\u001b[0m\n\u001b[0m\u001b[1;32m   1201\u001b[0m             \u001b[0mlogger\u001b[0m\u001b[0;34m.\u001b[0m\u001b[0mdebug\u001b[0m\u001b[0;34m(\u001b[0m\u001b[0;34m\"Answer received: {0}\"\u001b[0m\u001b[0;34m.\u001b[0m\u001b[0mformat\u001b[0m\u001b[0;34m(\u001b[0m\u001b[0manswer\u001b[0m\u001b[0;34m)\u001b[0m\u001b[0;34m)\u001b[0m\u001b[0;34m\u001b[0m\u001b[0;34m\u001b[0m\u001b[0m\n\u001b[1;32m   1202\u001b[0m             \u001b[0;32mif\u001b[0m \u001b[0manswer\u001b[0m\u001b[0;34m.\u001b[0m\u001b[0mstartswith\u001b[0m\u001b[0;34m(\u001b[0m\u001b[0mproto\u001b[0m\u001b[0;34m.\u001b[0m\u001b[0mRETURN_MESSAGE\u001b[0m\u001b[0;34m)\u001b[0m\u001b[0;34m:\u001b[0m\u001b[0;34m\u001b[0m\u001b[0;34m\u001b[0m\u001b[0m\n",
      "\u001b[0;32m/opt/conda/lib/python3.9/socket.py\u001b[0m in \u001b[0;36mreadinto\u001b[0;34m(self, b)\u001b[0m\n\u001b[1;32m    702\u001b[0m         \u001b[0;32mwhile\u001b[0m \u001b[0;32mTrue\u001b[0m\u001b[0;34m:\u001b[0m\u001b[0;34m\u001b[0m\u001b[0;34m\u001b[0m\u001b[0m\n\u001b[1;32m    703\u001b[0m             \u001b[0;32mtry\u001b[0m\u001b[0;34m:\u001b[0m\u001b[0;34m\u001b[0m\u001b[0;34m\u001b[0m\u001b[0m\n\u001b[0;32m--> 704\u001b[0;31m                 \u001b[0;32mreturn\u001b[0m \u001b[0mself\u001b[0m\u001b[0;34m.\u001b[0m\u001b[0m_sock\u001b[0m\u001b[0;34m.\u001b[0m\u001b[0mrecv_into\u001b[0m\u001b[0;34m(\u001b[0m\u001b[0mb\u001b[0m\u001b[0;34m)\u001b[0m\u001b[0;34m\u001b[0m\u001b[0;34m\u001b[0m\u001b[0m\n\u001b[0m\u001b[1;32m    705\u001b[0m             \u001b[0;32mexcept\u001b[0m \u001b[0mtimeout\u001b[0m\u001b[0;34m:\u001b[0m\u001b[0;34m\u001b[0m\u001b[0;34m\u001b[0m\u001b[0m\n\u001b[1;32m    706\u001b[0m                 \u001b[0mself\u001b[0m\u001b[0;34m.\u001b[0m\u001b[0m_timeout_occurred\u001b[0m \u001b[0;34m=\u001b[0m \u001b[0;32mTrue\u001b[0m\u001b[0;34m\u001b[0m\u001b[0;34m\u001b[0m\u001b[0m\n",
      "\u001b[0;31mKeyboardInterrupt\u001b[0m: "
     ]
    },
    {
     "name": "stderr",
     "output_type": "stream",
     "text": [
      "[Stage 2:======================================================>  (25 + 1) / 26]\r"
     ]
    }
   ],
   "source": [
    "\n",
    "anno_inf = 2010\n",
    "anno_sup = 2021\n",
    "\n",
    "terminos = {\n",
    "    'seguimiento': [r'\\bseguimiento\\b'],\n",
    "    'se ordena': [r'\\bse ordena\\b'],\n",
    "    'plan': [r'\\bplan\\b'],\n",
    "    'plazo': [r'\\bplazo\\b']\n",
    "}\n",
    "\n",
    "\n",
    "seleccion = Seleccion(terminos, spark, parquet_path='../../src/datasets/complete', datasets_path='./datasets/estructurales', filtro=f'anno >= {anno_inf} AND anno < {anno_sup}')\n",
    "seleccion.filtrar_sentencias(preprocess=solo_portanto, keepRowEmpty=True, partition_cols=['anno'], precargar=False)\n",
    "\n",
    "estructurales = SentenciasEstructurales(seleccion)\n",
    "\n",
    "seleccion.sdf.count()"
   ]
  },
  {
   "cell_type": "code",
   "execution_count": 5,
   "id": "3b108727-4f70-4ec4-b389-4eb10908e167",
   "metadata": {},
   "outputs": [
    {
     "name": "stderr",
     "output_type": "stream",
     "text": [
      "                                                                                \r"
     ]
    },
    {
     "data": {
      "text/plain": [
       "96773"
      ]
     },
     "execution_count": 5,
     "metadata": {},
     "output_type": "execute_result"
    }
   ],
   "source": [
    "spark.read.parquet('../../src/datasets/complete').filter('termino_ext == \"Con lugar\" OR  termino_ext == \"Con lugar parcial\" ').count()"
   ]
  },
  {
   "cell_type": "markdown",
   "id": "d77b9686-78ed-4c53-9cf9-694c588b45e6",
   "metadata": {
    "tags": []
   },
   "source": [
    "# Formar dataset de sentencias estructurales"
   ]
  },
  {
   "cell_type": "code",
   "execution_count": 1,
   "id": "87f24ed5-2a71-442a-b40e-af45934cf108",
   "metadata": {
    "tags": []
   },
   "outputs": [
    {
     "ename": "NameError",
     "evalue": "name 'estructurales' is not defined",
     "output_type": "error",
     "traceback": [
      "\u001b[0;31m---------------------------------------------------------------------------\u001b[0m",
      "\u001b[0;31mNameError\u001b[0m                                 Traceback (most recent call last)",
      "\u001b[0;32m/tmp/ipykernel_398/229475936.py\u001b[0m in \u001b[0;36m<module>\u001b[0;34m\u001b[0m\n\u001b[1;32m      9\u001b[0m     \u001b[0;34m'se ordena Ent Pub'\u001b[0m \u001b[0;34m:\u001b[0m \u001b[0mArrayType\u001b[0m\u001b[0;34m(\u001b[0m\u001b[0mStringType\u001b[0m\u001b[0;34m(\u001b[0m\u001b[0;34m)\u001b[0m\u001b[0;34m)\u001b[0m\u001b[0;34m\u001b[0m\u001b[0;34m\u001b[0m\u001b[0m\n\u001b[1;32m     10\u001b[0m }\n\u001b[0;32m---> 11\u001b[0;31m \u001b[0mestructurales\u001b[0m\u001b[0;34m.\u001b[0m\u001b[0msepararSeOrdena\u001b[0m\u001b[0;34m(\u001b[0m\u001b[0mcolumnas\u001b[0m\u001b[0;34m,\u001b[0m \u001b[0;32mTrue\u001b[0m\u001b[0;34m,\u001b[0m \u001b[0;32mTrue\u001b[0m\u001b[0;34m)\u001b[0m\u001b[0;34m\u001b[0m\u001b[0;34m\u001b[0m\u001b[0m\n\u001b[0m\u001b[1;32m     12\u001b[0m \u001b[0;34m\u001b[0m\u001b[0m\n\u001b[1;32m     13\u001b[0m columnas = {\n",
      "\u001b[0;31mNameError\u001b[0m: name 'estructurales' is not defined"
     ]
    }
   ],
   "source": [
    "from pyspark.sql.types import *\n",
    "\n",
    "columnas = {\n",
    "    'se ordena PER' : ArrayType(StringType()),\n",
    "    'se ordena LOC' : ArrayType(StringType()),\n",
    "    'se ordena ORG' : ArrayType(StringType()),\n",
    "    'se ordena MISC' : ArrayType(StringType()),\n",
    "    'se ordena GPE' : ArrayType(StringType()),\n",
    "    'se ordena Ent Pub' : ArrayType(StringType())\n",
    "}\n",
    "estructurales.separarSeOrdena(columnas, True, True)\n",
    "\n",
    "columnas = {\n",
    "    'extension sentencia' : IntegerType(),\n",
    "    'extension por lo tanto' : IntegerType()\n",
    "}\n",
    "estructurales.extraerExtension(columnas, True)\n",
    "\n",
    "columnas = {\n",
    "    'plazosDefinidos' : ArrayType(TimestampType())\n",
    "}\n",
    "estructurales.plazosDefinidos(columnas, True)\n",
    "\n",
    "columnas = {\n",
    "    'FechaSolicitud' : TimestampType(),\n",
    "}\n",
    "\n",
    "estructurales.extrarFechaRecibido(columnas, True)\n",
    "\n",
    "columnas = {\n",
    "    'num resolucion' : StringType()\n",
    "}\n",
    "\n",
    "estructurales.extraerNumeroSentencia(columnas, True)\n",
    "\n",
    "columnas = {\n",
    "    'inst internacionales' : ArrayType(StringType())\n",
    "}\n",
    "\n",
    "estructurales.extraerInstrumentosInternacionales(columnas, True)\n",
    "\n",
    "columnas = {\n",
    "    'derechos Norm' : ArrayType(StringType()),\n",
    "    'derechos GenXPat' : ArrayType(StringType())\n",
    "}\n",
    "estructurales.extraerDerechos(columnas, True)\n",
    "\n",
    "columnas = {\n",
    "    'derechos Acotados' : ArrayType(StringType()),\n",
    "    'derechos General' : ArrayType(StringType()),\n",
    "    'derechos Fundamental' : ArrayType(StringType()),\n",
    "    'derechos Humano' : ArrayType(StringType())\n",
    "}\n",
    "\n",
    "estructurales.extraerDerechosSinNormalizar(columnas, True)\n",
    "#Sobreescribir el dataset de filtro de sentencias con las nuevas columnas"
   ]
  },
  {
   "cell_type": "code",
   "execution_count": 8,
   "id": "6e158ac6-bbd8-4773-b327-29d2fba6f25c",
   "metadata": {
    "tags": []
   },
   "outputs": [
    {
     "name": "stderr",
     "output_type": "stream",
     "text": [
      "21/10/21 16:49:07 WARN MemoryStore: Not enough space to cache rdd_15_20 in memory! (computed 68.2 MiB so far)\n",
      "21/10/21 16:49:07 WARN BlockManager: Persisting block rdd_15_20 to disk instead.\n",
      "21/10/21 16:49:55 WARN MemoryStore: Not enough space to cache rdd_15_20 in memory! (computed 68.2 MiB so far)\n",
      "21/10/21 16:50:20 WARN MemoryStore: Not enough space to cache rdd_15_21 in memory! (computed 133.4 MiB so far)\n",
      "21/10/21 16:50:20 WARN BlockManager: Persisting block rdd_15_21 to disk instead.\n",
      "21/10/21 16:50:46 WARN MemoryStore: Not enough space to cache rdd_15_21 in memory! (computed 133.4 MiB so far)\n",
      "                                                                                \r"
     ]
    }
   ],
   "source": [
    "estructurales.seleccion.guardarDatos(parquet_file='extracciones2', partition_cols=['anno'], borrar=False)"
   ]
  },
  {
   "cell_type": "code",
   "execution_count": null,
   "id": "93e5746d-00f6-4d44-84ca-e4237537a989",
   "metadata": {},
   "outputs": [],
   "source": [
    "estructurales.seleccion.sdf.sample(10).toPandas()"
   ]
  },
  {
   "cell_type": "code",
   "execution_count": null,
   "id": "dc7c6e7a-358d-4e10-ab15-31162736cee8",
   "metadata": {},
   "outputs": [],
   "source": [
    "estructurales.seleccion.sdf.dropNull('FechaSolicitud').groupby('anno').count()"
   ]
  },
  {
   "cell_type": "code",
   "execution_count": null,
   "id": "e4691309-2cb2-4bce-9325-532aba01ad54",
   "metadata": {},
   "outputs": [],
   "source": [
    "estructurales.seleccion.sdf.select('FechaSolicitud', 'anno').filter('FechaSolicitud is not Null').toPandas().count()"
   ]
  },
  {
   "cell_type": "code",
   "execution_count": null,
   "id": "3311da56-481f-47eb-be25-f5db561e0408",
   "metadata": {
    "tags": []
   },
   "outputs": [],
   "source": [
    "estructurales.seleccion.sdf.limit(15).toPandas()"
   ]
  },
  {
   "cell_type": "markdown",
   "id": "be285599-df3e-4e3e-9a91-8e9e594e6386",
   "metadata": {},
   "source": [
    "# Cargar procesamiento de sentencias estructurales."
   ]
  },
  {
   "cell_type": "code",
   "execution_count": 5,
   "id": "b59d71cb-5bc5-46d5-ac7f-76320998da41",
   "metadata": {
    "tags": []
   },
   "outputs": [
    {
     "name": "stderr",
     "output_type": "stream",
     "text": [
      "                                                                                \r"
     ]
    }
   ],
   "source": [
    "terminos = {\n",
    "    'seguimiento': [r'\\bseguimiento\\b'],\n",
    "    'se ordena': [r'\\bse ordena\\b'],\n",
    "    'plan': [r'\\bplan\\b'],\n",
    "    'plazo': [r'\\bplazo\\b']\n",
    "}\n",
    "seleccion = Seleccion(terminos, spark, parquet_path='./datasets', datasets_path='./datasets/estructurales')\n",
    "seleccion.cargarPreprocesados()\n",
    "\n",
    "estructurales = SentenciasEstructurales(seleccion)"
   ]
  },
  {
   "cell_type": "code",
   "execution_count": 7,
   "id": "e9425b42-ff43-44ab-951b-b9c77e6f2999",
   "metadata": {},
   "outputs": [
    {
     "name": "stderr",
     "output_type": "stream",
     "text": [
      "21/10/21 16:45:08 WARN package: Truncated the string representation of a plan since it was too large. This behavior can be adjusted by setting 'spark.sql.debug.maxToStringFields'.\n"
     ]
    },
    {
     "data": {
      "text/plain": [
       "DataFrame[archivo: string, txt: string, cleanText: string, num: bigint, fechahora_ext: timestamp, redactor_ext: string, tipoResolucion_ext: string, termino_ext: string, voto_salvado: boolean, tema: string, Recurrente_ents: array<string>, Cantón_ents: array<string>, Fecha_ents: array<string>, Constitución_ents: array<bigint>, Redactor_ents: array<string>, Ley_ents: array<string>, EntidadPublica_ents: array<string>, tema_prob: double, termino_lst: array<string>, expediente: string, Fechahora_ents: array<string>, CitaSentencias_ents: array<string>, Recurrido_ents: array<string>, Reglamento_ents: array<string>, Magistrado_ents: array<string>, _id: string, seguimiento: int, se_ordena: int, plan: int, plazo: int, se_ordena_PER: array<string>, se_ordena_LOC: array<string>, se_ordena_ORG: array<string>, se_ordena_MISC: array<string>, se_ordena_GPE: array<string>, se_ordena_Ent_Pub: array<string>, extension_sentencia: int, extension_por_lo_tanto: int, plazosDefinidos: array<timestamp>, FechaSolicitud: timestamp, anno: int, num_resolucion: string]"
      ]
     },
     "execution_count": 7,
     "metadata": {},
     "output_type": "execute_result"
    }
   ],
   "source": [
    "from pyspark.sql.types import *\n",
    "columnas = {\n",
    "    'num resolucion' : StringType()\n",
    "}\n",
    "\n",
    "estructurales.extraerNumeroSentencia(columnas, True)"
   ]
  },
  {
   "cell_type": "markdown",
   "id": "d5da6726-dbb8-407a-a037-531bad558316",
   "metadata": {},
   "source": [
    "# Zona de trabajo (ignorar)"
   ]
  },
  {
   "cell_type": "code",
   "execution_count": null,
   "id": "ea9a5164-38c6-4f26-9f4b-91fd49fe2816",
   "metadata": {
    "tags": []
   },
   "outputs": [],
   "source": [
    "s = estructurales.seleccion.sdf\n",
    "#print(solo_portanto(s.where(s.plazosDefinidos.isNotNull()).limit(15).toPandas().loc[1,'txt']))"
   ]
  },
  {
   "cell_type": "code",
   "execution_count": null,
   "id": "4f2324dd-cf90-417b-85c3-22582484236d",
   "metadata": {
    "tags": []
   },
   "outputs": [],
   "source": [
    "#print(s.where(s.plazosDefinidos.isNotNull()).limit(15).toPandas().loc[1,'se_ordena_PER'])"
   ]
  },
  {
   "cell_type": "code",
   "execution_count": null,
   "id": "78981adc-3160-46a4-9c1b-d8a7b3e687c1",
   "metadata": {
    "tags": []
   },
   "outputs": [],
   "source": [
    "#print(s.where(s.plazosDefinidos.isNotNull()).limit(15).toPandas().loc[1,'plazosDefinidos'])"
   ]
  },
  {
   "cell_type": "code",
   "execution_count": null,
   "id": "0d5752b7-7af0-4dd9-b9ea-e3923e87fe8d",
   "metadata": {
    "tags": []
   },
   "outputs": [],
   "source": [
    "#print(s.where(s.plazosDefinidos.isNotNull()).limit(15).toPandas().loc[1])"
   ]
  },
  {
   "cell_type": "code",
   "execution_count": null,
   "id": "76042dbb-d914-4836-8bbe-06c9aef7bddb",
   "metadata": {},
   "outputs": [],
   "source": []
  }
 ],
 "metadata": {
  "kernelspec": {
   "display_name": "Python 3 (ipykernel)",
   "language": "python",
   "name": "python3"
  },
  "language_info": {
   "codemirror_mode": {
    "name": "ipython",
    "version": 3
   },
   "file_extension": ".py",
   "mimetype": "text/x-python",
   "name": "python",
   "nbconvert_exporter": "python",
   "pygments_lexer": "ipython3",
   "version": "3.9.6"
  }
 },
 "nbformat": 4,
 "nbformat_minor": 5
}
