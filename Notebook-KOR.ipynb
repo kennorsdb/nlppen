{
 "cells": [
  {
   "cell_type": "code",
   "execution_count": null,
   "id": "28f56ce3-6a94-4fc2-a051-945ebfb32480",
   "metadata": {},
   "outputs": [],
   "source": []
  },
  {
   "cell_type": "markdown",
   "id": "6a834852-b9fd-483c-93e6-3b80f3e879c5",
   "metadata": {},
   "source": [
    "# Imports"
   ]
  },
  {
   "cell_type": "code",
   "execution_count": 1,
   "id": "cc2ec801-fdee-413e-aca9-8ee8e77e0cac",
   "metadata": {
    "tags": []
   },
   "outputs": [],
   "source": [
    "%load_ext autoreload\n",
    "%autoreload 2\n",
    "import sys\n",
    "from nlppen.extraccion.utils.Txt2Numbers import Txt2Numbers\n",
    "from nlppen.analisis import Analisis\n",
    "from nlppen.seleccion import Seleccion\n",
    "from nlppen.spark_udfs import solo_portanto, spark_get_spacy\n",
    "from nlppen.sentencias_estructurales import SentenciasEstructurales\n",
    "from pyspark.sql import SparkSession\n",
    "from pyspark.sql.functions import length\n",
    "\n",
    "import pandas as pd"
   ]
  },
  {
   "cell_type": "markdown",
   "id": "3106f23a-2bb1-483d-bc31-aa48b9a7db2a",
   "metadata": {
    "tags": []
   },
   "source": [
    "## Initialize spark context"
   ]
  },
  {
   "cell_type": "code",
   "execution_count": 2,
   "id": "b819481b-6ee8-42c7-9add-c19ceba43563",
   "metadata": {
    "tags": []
   },
   "outputs": [
    {
     "name": "stderr",
     "output_type": "stream",
     "text": [
      "21/11/24 16:02:32 WARN NativeCodeLoader: Unable to load native-hadoop library for your platform... using builtin-java classes where applicable\n",
      "Using Spark's default log4j profile: org/apache/spark/log4j-defaults.properties\n",
      "Setting default log level to \"WARN\".\n",
      "To adjust logging level use sc.setLogLevel(newLevel). For SparkR, use setLogLevel(newLevel).\n"
     ]
    },
    {
     "data": {
      "text/plain": [
       "'http://69abb479a5e1:4040'"
      ]
     },
     "execution_count": 2,
     "metadata": {},
     "output_type": "execute_result"
    }
   ],
   "source": [
    "spark = (SparkSession\n",
    "         .builder\n",
    "         .appName(\"Transforming sentences\")\n",
    "         .config(\"spark.num.executors\", \"1\")\n",
    "         .config(\"spark.executor.memory\", \"12g\")\n",
    "         .config(\"spark.executor.cores\", \"2\")\n",
    "         .config(\"spark.driver.memory\", \"10g\")\n",
    "         .config(\"spark.memory.offHeap.enabled\", True)\n",
    "         .config(\"spark.memory.offHeap.size\", \"64g\")\n",
    "         .config(\"spark.sql.execution.arrow.pyspark.enabled\", \"true\")\n",
    "         .config(\"spark.sql.legacy.timeParserPolicy\", \"LEGACY\")\n",
    "         .config(\"spark.sql.legacy.parquet.int96RebaseModeInWrite\", \"CORRECTED\")\n",
    "         .getOrCreate())\n",
    "\n",
    "\n",
    "sc = spark.sparkContext\n",
    "sc.addFile('/home/jovyan/Work/ej/paquetes/nlppen/nlppen.zip')\n",
    "sc.uiWebUrl"
   ]
  },
  {
   "cell_type": "markdown",
   "id": "4ab75fdc-6e47-4671-b06b-4109f7a2bc66",
   "metadata": {},
   "source": [
    "# Buscar terminos en la sección de por lo tanto de la sentencia y aplicar filtro del dataset"
   ]
  },
  {
   "cell_type": "code",
   "execution_count": 5,
   "id": "2a92cddd-4b24-4bdf-85d7-ceabe68d009d",
   "metadata": {
    "tags": []
   },
   "outputs": [
    {
     "name": "stderr",
     "output_type": "stream",
     "text": [
      "                                                                                \r"
     ]
    },
    {
     "data": {
      "text/plain": [
       "151269"
      ]
     },
     "execution_count": 5,
     "metadata": {},
     "output_type": "execute_result"
    }
   ],
   "source": [
    "\n",
    "anno_inf = 2010\n",
    "anno_sup = 2022\n",
    "\n",
    "terminos = {\n",
    "    'seguimiento': [r'\\bseguimiento\\b'],\n",
    "    'se ordena': [r'\\bse ordena\\b', r'\\bse le ordena\\b', r'\\bse les ordena\\b'],\n",
    "    'se condena': [r'\\bse condena\\b', r'\\bse le condena\\b', r'\\bse les condena\\b'],\n",
    "    'plan': [r'\\bplan\\b'],\n",
    "    'plazo': [r'\\bplazo\\b']\n",
    "}\n",
    "\n",
    "\n",
    "seleccion = Seleccion(terminos, spark, parquet_path='../../src/datasets/complete', datasets_path='./datasets/estructurales2', filtro=f'anno >= {anno_inf} AND anno < {anno_sup}')\n",
    "seleccion.filtrar_sentencias(preprocess=solo_portanto, keepRowEmpty=True, partition_cols=['anno'], precargar=False)\n",
    "\n",
    "estructurales = SentenciasEstructurales(seleccion)\n",
    "\n",
    "seleccion.sdf.count()"
   ]
  },
  {
   "cell_type": "code",
   "execution_count": 10,
   "id": "3b108727-4f70-4ec4-b389-4eb10908e167",
   "metadata": {},
   "outputs": [
    {
     "data": {
      "text/plain": [
       "96773"
      ]
     },
     "execution_count": 10,
     "metadata": {},
     "output_type": "execute_result"
    }
   ],
   "source": [
    "spark.read.parquet('../../src/datasets/complete').filter('termino_ext == \"Con lugar\" OR  termino_ext == \"Con lugar parcial\" ').count()"
   ]
  },
  {
   "cell_type": "markdown",
   "id": "d77b9686-78ed-4c53-9cf9-694c588b45e6",
   "metadata": {
    "tags": []
   },
   "source": [
    "# Formar dataset de sentencias estructurales"
   ]
  },
  {
   "cell_type": "code",
   "execution_count": 4,
   "id": "04f4588f-3661-4f06-bcdd-d5b1720c3e92",
   "metadata": {
    "tags": []
   },
   "outputs": [
    {
     "name": "stderr",
     "output_type": "stream",
     "text": [
      "21/11/24 16:05:33 WARN DAGScheduler: Broadcasting large task binary with size 1151.1 KiB\n",
      "21/11/24 16:22:02 WARN MemoryStore: Not enough space to cache rdd_58_10 in memory! (computed 263.5 MiB so far)\n",
      "21/11/24 16:22:02 WARN BlockManager: Persisting block rdd_58_10 to disk instead.\n",
      "21/11/24 16:54:59 WARN MemoryStore: Not enough space to cache rdd_97_6 in memory! (computed 264.1 MiB so far)\n",
      "21/11/24 16:54:59 WARN BlockManager: Persisting block rdd_97_6 to disk instead.\n",
      "21/11/24 21:35:46 WARN DAGScheduler: Broadcasting large task binary with size 1329.3 KiB\n",
      "                                                                                \r"
     ]
    }
   ],
   "source": [
    "from pyspark.sql.types import *\n",
    "columnas = {\n",
    "    'se ordena PER' : ArrayType(StringType()),\n",
    "    'se ordena LOC' : ArrayType(StringType()),\n",
    "    'se ordena ORG' : ArrayType(StringType()),\n",
    "    'se ordena MISC' : ArrayType(StringType()),\n",
    "    'se ordena GPE' : ArrayType(StringType()),\n",
    "    'se ordena Ent Pub' : ArrayType(StringType())\n",
    "}\n",
    "estructurales.separarSeOrdena(columnas, True, True)\n",
    "\n",
    "columnas = {\n",
    "    'se condena PER' : ArrayType(StringType()),\n",
    "    'se condena LOC' : ArrayType(StringType()),\n",
    "    'se condena ORG' : ArrayType(StringType()),\n",
    "    'se condena MISC' : ArrayType(StringType()),\n",
    "    'se condena GPE' : ArrayType(StringType()),\n",
    "    'se condena Ent Pub' : ArrayType(StringType())\n",
    "}\n",
    "estructurales.separarSeCondena(columnas, True, True)\n",
    "\n",
    "columnas = {\n",
    "    'extension sentencia' : IntegerType(),\n",
    "    'extension por lo tanto' : IntegerType()\n",
    "}\n",
    "estructurales.extraerExtension(columnas, True)\n",
    "\n",
    "columnas = {\n",
    "        'plazosDefinidos' : ArrayType(TimestampType())\n",
    "    }\n",
    "    estructurales.plazosDefinidos(columnas, True)\n",
    "\n",
    "columnas = {\n",
    "    'FechaSolicitud' : TimestampType(),\n",
    "}\n",
    "\n",
    "estructurales.extrarFechaRecibido(columnas, True)\n",
    "\n",
    "columnas = {\n",
    "    'num resolucion' : StringType()\n",
    "}\n",
    "\n",
    "estructurales.extraerNumeroSentencia(columnas, True)\n",
    "\n",
    "columnas = {\n",
    "    'inst internacionales' : ArrayType(StringType())\n",
    "}\n",
    "\n",
    "estructurales.extraerInstrumentosInternacionales(columnas, True)\n",
    "\n",
    "columnas = {\n",
    "    'derechos Norm' : ArrayType(StringType()),\n",
    "    'derechos GenXPat' : ArrayType(StringType())\n",
    "}\n",
    "estructurales.extraerDerechos(columnas, True)\n",
    "\n",
    "columnas = {\n",
    "    'derechos Acotados' : ArrayType(StringType()),\n",
    "    'derechos General' : ArrayType(StringType()),\n",
    "    'derechos Fundamental' : ArrayType(StringType()),\n",
    "    'derechos Humano' : ArrayType(StringType())\n",
    "}\n",
    "\n",
    "estructurales.extraerDerechosSinNormalizar(columnas, True)\n",
    "\n",
    "columnas = {\n",
    "    'citasFechas' : MapType(StringType(), TimestampType())\n",
    "}\n",
    "estructurales.extrarCitaSentenciasFecha(columnas, True)\n",
    "\n",
    "sentencias = pd.read_csv(\"listaSentencias.csv\", sep=';', encoding='latin-1')\n",
    "columnas = {\n",
    "    'id_sentencia' : StringType(),\n",
    "    'num_doc_oficial' : StringType(),\n",
    "    'expediente_oficial' : StringType()\n",
    "}\n",
    "estructurales.agregarIDSentencia(columnas, sentencias, True)\n",
    "#Sobreescribir el dataset de filtro de sentencias con las nuevas columnas\n",
    "estructurales.seleccion.guardarDatos(parquet_file='extracciones2', partition_cols=['anno'], borrar=False)"
   ]
  },
  {
   "cell_type": "code",
   "execution_count": 6,
   "id": "93e5746d-00f6-4d44-84ca-e4237537a989",
   "metadata": {},
   "outputs": [
    {
     "data": {
      "text/plain": [
       "Index(['archivo', 'txt', 'cleanText', 'num', 'fechahora_ext', 'redactor_ext',\n",
       "       'tipoResolucion_ext', 'termino_ext', 'voto_salvado', 'tema',\n",
       "       'Recurrente_ents', 'Cantón_ents', 'Fecha_ents', 'Constitución_ents',\n",
       "       'Redactor_ents', 'Ley_ents', 'EntidadPublica_ents', 'tema_prob',\n",
       "       'termino_lst', 'expediente', 'Fechahora_ents', 'CitaSentencias_ents',\n",
       "       'Recurrido_ents', 'Reglamento_ents', 'Magistrado_ents', '_id', 'anno',\n",
       "       'seguimiento', 'se_ordena', 'se_condena', 'plan', 'plazo'],\n",
       "      dtype='object')"
      ]
     },
     "execution_count": 6,
     "metadata": {},
     "output_type": "execute_result"
    }
   ],
   "source": [
    "estructurales.seleccion.sdf.limit(10).toPandas().columns"
   ]
  },
  {
   "cell_type": "code",
   "execution_count": 16,
   "id": "70ca9a82-cad9-4054-a5bb-44de72710053",
   "metadata": {},
   "outputs": [
    {
     "data": {
      "text/plain": [
       "['archivo',\n",
       " 'txt',\n",
       " 'cleanText',\n",
       " 'num',\n",
       " 'fechahora_ext',\n",
       " 'redactor_ext',\n",
       " 'tipoResolucion_ext',\n",
       " 'termino_ext',\n",
       " 'voto_salvado',\n",
       " 'tema',\n",
       " 'Recurrente_ents',\n",
       " 'Cantón_ents',\n",
       " 'Fecha_ents',\n",
       " 'Constitución_ents',\n",
       " 'Redactor_ents',\n",
       " 'Ley_ents',\n",
       " 'EntidadPublica_ents',\n",
       " 'tema_prob',\n",
       " 'termino_lst',\n",
       " 'expediente',\n",
       " 'Fechahora_ents',\n",
       " 'CitaSentencias_ents',\n",
       " 'Recurrido_ents',\n",
       " 'Reglamento_ents',\n",
       " 'Magistrado_ents',\n",
       " '_id',\n",
       " 'seguimiento',\n",
       " 'se_ordena',\n",
       " 'se_condena',\n",
       " 'plan',\n",
       " 'plazo',\n",
       " 'se_ordena_PER',\n",
       " 'se_ordena_LOC',\n",
       " 'se_ordena_ORG',\n",
       " 'se_ordena_MISC',\n",
       " 'se_ordena_GPE',\n",
       " 'se_ordena_Ent_Pub',\n",
       " 'se_condena_PER',\n",
       " 'se_condena_LOC',\n",
       " 'se_condena_ORG',\n",
       " 'se_condena_MISC',\n",
       " 'se_condena_GPE',\n",
       " 'se_condena_Ent_Pub',\n",
       " 'extension_sentencia',\n",
       " 'extension_por_lo_tanto',\n",
       " 'plazosDefinidos',\n",
       " 'FechaSolicitud',\n",
       " 'num_resolucion',\n",
       " 'inst_internacionales',\n",
       " 'derechos_Norm',\n",
       " 'derechos_GenXPat',\n",
       " 'derechos_Acotados',\n",
       " 'derechos_General',\n",
       " 'derechos_Fundamental',\n",
       " 'derechos_Humano',\n",
       " 'citasFechas',\n",
       " 'id_sentencia',\n",
       " 'num_doc_oficial',\n",
       " 'expediente_oficial',\n",
       " 'anno']"
      ]
     },
     "execution_count": 16,
     "metadata": {},
     "output_type": "execute_result"
    }
   ],
   "source": [
    "spark.read.parquet('./datasets/estructurales2/extracciones2').filter('termino_ext == \"Con lugar\" OR  termino_ext == \"Con lugar parcial\" ').columns"
   ]
  },
  {
   "cell_type": "markdown",
   "id": "be285599-df3e-4e3e-9a91-8e9e594e6386",
   "metadata": {},
   "source": [
    "# Cargar procesamiento de sentencias estructurales."
   ]
  },
  {
   "cell_type": "code",
   "execution_count": 14,
   "id": "b59d71cb-5bc5-46d5-ac7f-76320998da41",
   "metadata": {
    "tags": []
   },
   "outputs": [
    {
     "data": {
      "text/plain": [
       "['archivo',\n",
       " 'txt',\n",
       " 'cleanText',\n",
       " 'num',\n",
       " 'fechahora_ext',\n",
       " 'redactor_ext',\n",
       " 'tipoResolucion_ext',\n",
       " 'termino_ext',\n",
       " 'voto_salvado',\n",
       " 'tema',\n",
       " 'Recurrente_ents',\n",
       " 'Cantón_ents',\n",
       " 'Fecha_ents',\n",
       " 'Constitución_ents',\n",
       " 'Redactor_ents',\n",
       " 'Ley_ents',\n",
       " 'EntidadPublica_ents',\n",
       " 'tema_prob',\n",
       " 'termino_lst',\n",
       " 'expediente',\n",
       " 'Fechahora_ents',\n",
       " 'CitaSentencias_ents',\n",
       " 'Recurrido_ents',\n",
       " 'Reglamento_ents',\n",
       " 'Magistrado_ents',\n",
       " '_id',\n",
       " 'anno']"
      ]
     },
     "execution_count": 14,
     "metadata": {},
     "output_type": "execute_result"
    }
   ],
   "source": [
    "terminos = {\n",
    "    'seguimiento': [r'\\bseguimiento\\b'],\n",
    "    'se ordena': [r'\\bse ordena\\b'],\n",
    "    'plan': [r'\\bplan\\b'],\n",
    "    'plazo': [r'\\bplazo\\b']\n",
    "}\n",
    "seleccion = Seleccion(terminos, spark, parquet_path='../../src/datasets/complete', datasets_path='./datasets/estructurales2/extracciones2')\n",
    "seleccion.cargarPreprocesados()\n",
    "\n",
    "estructurales = SentenciasEstructurales(seleccion)\n",
    "seleccion.sdf.columns"
   ]
  },
  {
   "cell_type": "code",
   "execution_count": null,
   "id": "e9425b42-ff43-44ab-951b-b9c77e6f2999",
   "metadata": {},
   "outputs": [],
   "source": [
    "from pyspark.sql.types import *\n",
    "columnas = {\n",
    "    'num resolucion' : StringType()\n",
    "}\n",
    "\n",
    "estructurales.extraerNumeroSentencia(columnas, True)"
   ]
  },
  {
   "cell_type": "markdown",
   "id": "d5da6726-dbb8-407a-a037-531bad558316",
   "metadata": {},
   "source": [
    "# Zona de trabajo (ignorar)"
   ]
  },
  {
   "cell_type": "code",
   "execution_count": null,
   "id": "ea9a5164-38c6-4f26-9f4b-91fd49fe2816",
   "metadata": {
    "tags": []
   },
   "outputs": [],
   "source": [
    "s = estructurales.seleccion.sdf\n",
    "#print(solo_portanto(s.where(s.plazosDefinidos.isNotNull()).limit(15).toPandas().loc[1,'txt']))"
   ]
  },
  {
   "cell_type": "code",
   "execution_count": null,
   "id": "4f2324dd-cf90-417b-85c3-22582484236d",
   "metadata": {
    "tags": []
   },
   "outputs": [],
   "source": [
    "#print(s.where(s.plazosDefinidos.isNotNull()).limit(15).toPandas().loc[1,'se_ordena_PER'])"
   ]
  },
  {
   "cell_type": "code",
   "execution_count": null,
   "id": "78981adc-3160-46a4-9c1b-d8a7b3e687c1",
   "metadata": {
    "tags": []
   },
   "outputs": [],
   "source": [
    "#print(s.where(s.plazosDefinidos.isNotNull()).limit(15).toPandas().loc[1,'plazosDefinidos'])"
   ]
  },
  {
   "cell_type": "code",
   "execution_count": null,
   "id": "0d5752b7-7af0-4dd9-b9ea-e3923e87fe8d",
   "metadata": {
    "tags": []
   },
   "outputs": [],
   "source": [
    "#print(s.where(s.plazosDefinidos.isNotNull()).limit(15).toPandas().loc[1])"
   ]
  },
  {
   "cell_type": "code",
   "execution_count": null,
   "id": "76042dbb-d914-4836-8bbe-06c9aef7bddb",
   "metadata": {},
   "outputs": [],
   "source": []
  }
 ],
 "metadata": {
  "kernelspec": {
   "display_name": "Python 3 (ipykernel)",
   "language": "python",
   "name": "python3"
  },
  "language_info": {
   "codemirror_mode": {
    "name": "ipython",
    "version": 3
   },
   "file_extension": ".py",
   "mimetype": "text/x-python",
   "name": "python",
   "nbconvert_exporter": "python",
   "pygments_lexer": "ipython3",
   "version": "3.9.6"
  }
 },
 "nbformat": 4,
 "nbformat_minor": 5
}
