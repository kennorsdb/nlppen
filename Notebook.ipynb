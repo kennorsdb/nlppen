{
 "cells": [
  {
   "cell_type": "markdown",
   "id": "6a834852-b9fd-483c-93e6-3b80f3e879c5",
   "metadata": {
    "tags": []
   },
   "source": [
    "# Imports"
   ]
  },
  {
   "cell_type": "code",
   "execution_count": 49,
   "id": "cc2ec801-fdee-413e-aca9-8ee8e77e0cac",
   "metadata": {
    "execution": {
     "iopub.execute_input": "2021-11-28T00:01:35.307597Z",
     "iopub.status.busy": "2021-11-28T00:01:35.307161Z",
     "iopub.status.idle": "2021-11-28T00:01:38.495705Z",
     "shell.execute_reply": "2021-11-28T00:01:38.495174Z",
     "shell.execute_reply.started": "2021-11-28T00:01:35.307566Z"
    },
    "tags": []
   },
   "outputs": [
    {
     "name": "stdout",
     "output_type": "stream",
     "text": [
      "The autoreload extension is already loaded. To reload it, use:\n",
      "  %reload_ext autoreload\n"
     ]
    }
   ],
   "source": [
    "%load_ext autoreload\n",
    "%autoreload 2\n",
    "import sys\n",
    "from nlppen.extraccion.utils.Txt2Numbers import Txt2Numbers\n",
    "from nlppen.analisis import Analisis\n",
    "from nlppen.seleccion import Seleccion\n",
    "from nlppen.spark_udfs import solo_portanto, solo_considerando, solo_resultando, solo_encabezado, spark_get_spacy\n",
    "from nlppen.sentencias_estructurales import SentenciasEstructurales\n",
    "from pyspark.sql import SparkSession\n",
    "from nlppen.extraccion.utils.extraerFechaRecibido import ExtraerFecha\n",
    "from pyspark.sql.functions import length\n",
    "from nlppen.extraccion.utils.misc import splitResolucion\n",
    "\n",
    "import pandas as pd\n"
   ]
  },
  {
   "cell_type": "markdown",
   "id": "3106f23a-2bb1-483d-bc31-aa48b9a7db2a",
   "metadata": {
    "tags": []
   },
   "source": [
    "## Configuracion Spark"
   ]
  },
  {
   "cell_type": "code",
   "execution_count": 50,
   "id": "b819481b-6ee8-42c7-9add-c19ceba43563",
   "metadata": {
    "execution": {
     "iopub.execute_input": "2021-11-28T00:01:38.497135Z",
     "iopub.status.busy": "2021-11-28T00:01:38.496936Z",
     "iopub.status.idle": "2021-11-28T00:01:38.545621Z",
     "shell.execute_reply": "2021-11-28T00:01:38.545106Z",
     "shell.execute_reply.started": "2021-11-28T00:01:38.497122Z"
    },
    "tags": []
   },
   "outputs": [
    {
     "data": {
      "text/plain": [
       "'http://7416269fd645:4040'"
      ]
     },
     "execution_count": 50,
     "metadata": {},
     "output_type": "execute_result"
    }
   ],
   "source": [
    "spark = (SparkSession\n",
    "         .builder\n",
    "         .appName(\"Transforming sentences\")\n",
    "         .config(\"spark.num.executors\", \"6\")\n",
    "         .config(\"spark.executor.memory\", \"6g\")\n",
    "         .config(\"spark.executor.cores\", \"12\")\n",
    "         .config(\"spark.driver.memory\", \"12g\")\n",
    "         .config(\"spark.memory.offHeap.enabled\", True)\n",
    "         .config(\"spark.memory.offHeap.size\", \"16g\")\n",
    "         .config(\"spark.sql.execution.arrow.pyspark.enabled\", \"true\")\n",
    "         .getOrCreate())\n",
    "\n",
    "sc = spark.sparkContext\n",
    "sc.uiWebUrl"
   ]
  },
  {
   "cell_type": "markdown",
   "id": "4ab75fdc-6e47-4671-b06b-4109f7a2bc66",
   "metadata": {},
   "source": [
    "# Buscar terminos en la sección de por lo tanto de la sentencia y aplicar filtro del dataset"
   ]
  },
  {
   "cell_type": "code",
   "execution_count": 51,
   "id": "2a92cddd-4b24-4bdf-85d7-ceabe68d009d",
   "metadata": {
    "execution": {
     "iopub.execute_input": "2021-11-28T00:01:38.547033Z",
     "iopub.status.busy": "2021-11-28T00:01:38.546833Z",
     "iopub.status.idle": "2021-11-28T00:01:38.590722Z",
     "shell.execute_reply": "2021-11-28T00:01:38.590230Z",
     "shell.execute_reply.started": "2021-11-28T00:01:38.547019Z"
    },
    "tags": []
   },
   "outputs": [],
   "source": [
    "ejecutar = False\n",
    "if ejecutar:\n",
    "    terminos = {\n",
    "        'se ordena': [r'\\bse ordena\\b', r'\\bse le ordena\\b', r'\\bse les ordena\\b'],\n",
    "        'se condena': [r'\\bse condena\\b', r'\\bse le condena\\b', r'\\bse les condena\\b'],\n",
    "        'plan': [r'\\bplan\\b'],\n",
    "        'plazo': [r'\\bplazo\\b', r'\\bt[éermino (improrrogable)? (de)?\\b']\n",
    "    }\n",
    "    seleccion = Seleccion(terminos, spark, parquet_path='./dataset/partition', datasets_path='./datasets/estructurales')\n",
    "    print(\"Cantidad elementos originales : \" + str(seleccion.sdf.count()))\n",
    "    seleccion.filtrar_sentencias(preprocess=solo_portanto, keepRowEmpty=True)\n",
    "    print(\"Cantidad elementos despues de filtrados : \" + str(seleccion.sdf.count()))\n",
    "    estructurales = SentenciasEstructurales(seleccion)"
   ]
  },
  {
   "cell_type": "markdown",
   "id": "d77b9686-78ed-4c53-9cf9-694c588b45e6",
   "metadata": {
    "tags": []
   },
   "source": [
    "# Procesamiento de todas las variables de sentencias estructurales"
   ]
  },
  {
   "cell_type": "markdown",
   "id": "04a57a91-9fac-4154-bf53-4d7e0f6faf61",
   "metadata": {},
   "source": [
    "## La siguiente celda ejecuta el cálculo de todas las variables definidas para las sentencias estructurales"
   ]
  },
  {
   "cell_type": "markdown",
   "id": "c11d1f9c-2c14-4fe8-a16e-0382c8e260fc",
   "metadata": {},
   "source": [
    "Nota: Modificar la bandera \"ejecutar\" para aplicar todo el procesamiento."
   ]
  },
  {
   "cell_type": "code",
   "execution_count": 52,
   "id": "2efc878d-2fc1-4743-b8ea-c3fecf943042",
   "metadata": {
    "execution": {
     "iopub.execute_input": "2021-11-28T00:01:38.594034Z",
     "iopub.status.busy": "2021-11-28T00:01:38.593668Z",
     "iopub.status.idle": "2021-11-28T00:01:38.644894Z",
     "shell.execute_reply": "2021-11-28T00:01:38.644402Z",
     "shell.execute_reply.started": "2021-11-28T00:01:38.594020Z"
    },
    "tags": []
   },
   "outputs": [],
   "source": [
    "from pyspark.sql.types import *\n",
    "\n",
    "if ejecutar:\n",
    "    columnas = {\n",
    "        'se ordena PER' : ArrayType(StringType()),\n",
    "        'se ordena LOC' : ArrayType(StringType()),\n",
    "        'se ordena ORG' : ArrayType(StringType()),\n",
    "        'se ordena MISC' : ArrayType(StringType()),\n",
    "        'se ordena GPE' : ArrayType(StringType()),\n",
    "        'se ordena Ent Pub' : ArrayType(StringType())\n",
    "    }\n",
    "    estructurales.separarSeOrdena(columnas, True, True)\n",
    "\n",
    "    columnas = {\n",
    "        'se condena PER' : ArrayType(StringType()),\n",
    "        'se condena LOC' : ArrayType(StringType()),\n",
    "        'se condena ORG' : ArrayType(StringType()),\n",
    "        'se condena MISC' : ArrayType(StringType()),\n",
    "        'se condena GPE' : ArrayType(StringType()),\n",
    "        'se condena Ent Pub' : ArrayType(StringType())\n",
    "    }\n",
    "    estructurales.separarSeCondena(columnas, True, True)\n",
    "\n",
    "    columnas = {\n",
    "        'extension sentencia' : IntegerType(),\n",
    "        'extension por lo tanto' : IntegerType()\n",
    "    }\n",
    "    estructurales.extraerExtension(columnas, True)\n",
    "\n",
    "    columnas = {\n",
    "        'plazosDefinidos' : ArrayType(TimestampType()) #Correción día 27-11-2021. Correr de nuevo\n",
    "    }\n",
    "    estructurales.plazosDefinidos(columnas, True)\n",
    "\n",
    "    columnas = {\n",
    "        'FechaSolicitud' : TimestampType(),\n",
    "    }\n",
    "\n",
    "    estructurales.extrarFechaRecibido(columnas, True)\n",
    "\n",
    "    columnas = {\n",
    "        'num resolucion' : StringType()\n",
    "    }\n",
    "\n",
    "    estructurales.extraerNumeroSentencia(columnas, True)\n",
    "\n",
    "    columnas = {\n",
    "        'inst internacionales' : ArrayType(StringType())\n",
    "    }\n",
    "\n",
    "    estructurales.extraerInstrumentosInternacionales(columnas, True)\n",
    "\n",
    "    columnas = {\n",
    "        'derechos Norm' : ArrayType(StringType()),\n",
    "        'derechos GenXPat' : ArrayType(StringType())\n",
    "    }\n",
    "    estructurales.extraerDerechos(columnas, True)\n",
    "\n",
    "    columnas = {\n",
    "        'derechos Acotados' : ArrayType(StringType()),\n",
    "        'derechos General' : ArrayType(StringType()),\n",
    "        'derechos Fundamental' : ArrayType(StringType()),\n",
    "        'derechos Humano' : ArrayType(StringType())\n",
    "    }\n",
    "\n",
    "    estructurales.extraerDerechosSinNormalizar(columnas, True)\n",
    "    \n",
    "    sentencias = pd.read_csv(\"listaSentencias.csv\", sep=';', encoding='latin-1')\n",
    "    columnas = {\n",
    "        'id_sentencia' : StringType(),\n",
    "        'num_doc_oficial' : StringType(),\n",
    "        'expediente_oficial' : StringType()\n",
    "    }\n",
    "    estructurales.agregarIDSentencia(columnas, sentencias, True)\n",
    "    \n",
    "    columnas = {\n",
    "        'citasVotDate' : MapType(StringType(), TimestampType()), #Dicc de Numero de voto y Fecha\n",
    "        'citasIDVoto' : MapType(StringType(), StringType()) #Dicc de id_Sentencia y # de voto\n",
    "    }\n",
    "    estructurales.extrarCitaSentenciasFecha(columnas, sentencias, True)\n",
    "    \n",
    "    columnas = {\n",
    "        'seguimientoExt' : StringType(), #Texto extraido de seguimiento\n",
    "        'seguimientoValue' : IntegerType() #Cantidad de ocurrencias\n",
    "    }\n",
    "    estructurales.extraerSeguimiento(columnas, True)\n",
    "    #estructurales.seleccion.sdf.toPandas().head(5)\n",
    "    #Sobreescribir el dataset de filtro de sentencias con las nuevas columnas\n",
    "    #estructurales.seleccion.guardarDatos()"
   ]
  },
  {
   "cell_type": "code",
   "execution_count": 64,
   "id": "55f4a79a-ee35-4147-bca8-5d0bfd95dc3b",
   "metadata": {
    "execution": {
     "iopub.execute_input": "2021-11-28T00:04:24.073221Z",
     "iopub.status.busy": "2021-11-28T00:04:24.072973Z",
     "iopub.status.idle": "2021-11-28T00:04:25.878257Z",
     "shell.execute_reply": "2021-11-28T00:04:25.877736Z",
     "shell.execute_reply.started": "2021-11-28T00:04:24.073207Z"
    },
    "tags": []
   },
   "outputs": [],
   "source": [
    "#writer = estructurales.seleccion.sdf.write.partitionBy(\"anno\").mode('Overwrite').parquet('./dataset/procesado')"
   ]
  },
  {
   "cell_type": "code",
   "execution_count": 54,
   "id": "e48527a2-2c72-4f99-85f8-4f945ae86a3e",
   "metadata": {
    "execution": {
     "iopub.execute_input": "2021-11-28T00:01:38.688027Z",
     "iopub.status.busy": "2021-11-28T00:01:38.687612Z",
     "iopub.status.idle": "2021-11-28T00:01:38.726947Z",
     "shell.execute_reply": "2021-11-28T00:01:38.726391Z",
     "shell.execute_reply.started": "2021-11-28T00:01:38.688013Z"
    },
    "tags": []
   },
   "outputs": [],
   "source": [
    "#df = spark.read.parquet(\"./dataset/procesado\")\n",
    "#df.toPandas().head()"
   ]
  },
  {
   "cell_type": "markdown",
   "id": "feee2a34-d075-40e0-b2ce-ee1e7ef186ca",
   "metadata": {},
   "source": [
    "## Guardar los resultados del preprocesamiento por año"
   ]
  },
  {
   "cell_type": "code",
   "execution_count": 55,
   "id": "34ce4d81-4441-4045-9594-6e8f6461f6d3",
   "metadata": {
    "execution": {
     "iopub.execute_input": "2021-11-28T00:01:38.727725Z",
     "iopub.status.busy": "2021-11-28T00:01:38.727622Z",
     "iopub.status.idle": "2021-11-28T00:01:38.767185Z",
     "shell.execute_reply": "2021-11-28T00:01:38.766637Z",
     "shell.execute_reply.started": "2021-11-28T00:01:38.727713Z"
    },
    "tags": []
   },
   "outputs": [],
   "source": [
    "#if ejecutar:\n",
    "#    df = spark.read.parquet(seleccion.datasets_path+\"/terminos.parquet\")\n",
    "#    writer = df.write.partitionBy(\"anno\").mode('Overwrite').parquet('./dataset/procesado')\n"
   ]
  },
  {
   "cell_type": "markdown",
   "id": "02e71e10-f321-4773-b46f-c8edf95617ea",
   "metadata": {
    "execution": {
     "iopub.execute_input": "2021-11-08T21:24:54.840143Z",
     "iopub.status.busy": "2021-11-08T21:24:54.839947Z",
     "iopub.status.idle": "2021-11-08T21:24:54.881653Z",
     "shell.execute_reply": "2021-11-08T21:24:54.881133Z",
     "shell.execute_reply.started": "2021-11-08T21:24:54.840130Z"
    }
   },
   "source": [
    "## Cargar los resultados preprocesados y divididos por año"
   ]
  },
  {
   "cell_type": "code",
   "execution_count": 79,
   "id": "911f7eba-fdb3-4bdf-b28a-78203c1c61c8",
   "metadata": {
    "execution": {
     "iopub.execute_input": "2021-11-28T00:19:06.662518Z",
     "iopub.status.busy": "2021-11-28T00:19:06.661497Z",
     "iopub.status.idle": "2021-11-28T00:19:09.100191Z",
     "shell.execute_reply": "2021-11-28T00:19:09.099637Z",
     "shell.execute_reply.started": "2021-11-28T00:19:06.662294Z"
    },
    "tags": []
   },
   "outputs": [
    {
     "name": "stderr",
     "output_type": "stream",
     "text": [
      "                                                                                \r"
     ]
    }
   ],
   "source": [
    "if not ejecutar:\n",
    "    seleccion = Seleccion({}, spark, parquet_path='./dataset/procesado', datasets_path='./datasets/estructuralesx')\n",
    "    estructurales = SentenciasEstructurales(seleccion)"
   ]
  },
  {
   "cell_type": "code",
   "execution_count": 80,
   "id": "08ae0870-db99-42e4-bfe7-41a7f1613665",
   "metadata": {
    "execution": {
     "iopub.execute_input": "2021-11-28T00:19:09.102447Z",
     "iopub.status.busy": "2021-11-28T00:19:09.102246Z",
     "iopub.status.idle": "2021-11-28T00:19:10.358514Z",
     "shell.execute_reply": "2021-11-28T00:19:10.358095Z",
     "shell.execute_reply.started": "2021-11-28T00:19:09.102434Z"
    },
    "tags": []
   },
   "outputs": [
    {
     "data": {
      "text/html": [
       "<div>\n",
       "<style scoped>\n",
       "    .dataframe tbody tr th:only-of-type {\n",
       "        vertical-align: middle;\n",
       "    }\n",
       "\n",
       "    .dataframe tbody tr th {\n",
       "        vertical-align: top;\n",
       "    }\n",
       "\n",
       "    .dataframe thead th {\n",
       "        text-align: right;\n",
       "    }\n",
       "</style>\n",
       "<table border=\"1\" class=\"dataframe\">\n",
       "  <thead>\n",
       "    <tr style=\"text-align: right;\">\n",
       "      <th></th>\n",
       "      <th>id_sentencia</th>\n",
       "      <th>expediente_oficial</th>\n",
       "    </tr>\n",
       "  </thead>\n",
       "  <tbody>\n",
       "    <tr>\n",
       "      <th>0</th>\n",
       "      <td>sen-1-0007-893680</td>\n",
       "      <td>180169790007CO</td>\n",
       "    </tr>\n",
       "    <tr>\n",
       "      <th>1</th>\n",
       "      <td>sen-1-0007-860153</td>\n",
       "      <td>180157550007CO</td>\n",
       "    </tr>\n",
       "    <tr>\n",
       "      <th>2</th>\n",
       "      <td>sen-1-0007-894916</td>\n",
       "      <td>180178880007CO</td>\n",
       "    </tr>\n",
       "    <tr>\n",
       "      <th>3</th>\n",
       "      <td>sen-1-0007-896941</td>\n",
       "      <td>180188180007CO</td>\n",
       "    </tr>\n",
       "    <tr>\n",
       "      <th>4</th>\n",
       "      <td>sen-1-0007-853795</td>\n",
       "      <td>180063820007CO</td>\n",
       "    </tr>\n",
       "  </tbody>\n",
       "</table>\n",
       "</div>"
      ],
      "text/plain": [
       "        id_sentencia expediente_oficial\n",
       "0  sen-1-0007-893680     180169790007CO\n",
       "1  sen-1-0007-860153     180157550007CO\n",
       "2  sen-1-0007-894916     180178880007CO\n",
       "3  sen-1-0007-896941     180188180007CO\n",
       "4  sen-1-0007-853795     180063820007CO"
      ]
     },
     "execution_count": 80,
     "metadata": {},
     "output_type": "execute_result"
    }
   ],
   "source": [
    "estructurales.seleccion.sdf.select(\"id_sentencia\", \"expediente_oficial\").toPandas().head(5)"
   ]
  },
  {
   "cell_type": "markdown",
   "id": "4d642712-45f4-404b-818e-cb2c390fc3f9",
   "metadata": {},
   "source": [
    "## Ejecutar un criterio"
   ]
  },
  {
   "cell_type": "code",
   "execution_count": 82,
   "id": "1b42462a-d0bd-40a1-9aa1-7c077b53c7a4",
   "metadata": {
    "execution": {
     "iopub.execute_input": "2021-11-28T00:20:17.619850Z",
     "iopub.status.busy": "2021-11-28T00:20:17.618597Z",
     "iopub.status.idle": "2021-11-28T00:20:32.266731Z",
     "shell.execute_reply": "2021-11-28T00:20:32.266283Z",
     "shell.execute_reply.started": "2021-11-28T00:20:17.619635Z"
    },
    "tags": []
   },
   "outputs": [
    {
     "name": "stderr",
     "output_type": "stream",
     "text": [
      "                                                                                \r"
     ]
    }
   ],
   "source": [
    "from pyspark.sql.types import *\n",
    "if not ejecutar:\n",
    "    columnas = {\n",
    "        'plazosDefinidos' : ArrayType(TimestampType()) #Correción día 27-11-2021. Correr de nuevo\n",
    "    }\n",
    "    estructurales.plazosDefinidos(columnas, True, True)\n",
    "    s = estructurales.seleccion.sdf\n",
    "    s.toPandas().head(5)"
   ]
  },
  {
   "cell_type": "code",
   "execution_count": 83,
   "id": "c1c5c477-91ef-4c45-9b9a-9ffb0fe35e65",
   "metadata": {
    "execution": {
     "iopub.execute_input": "2021-11-28T00:20:32.267610Z",
     "iopub.status.busy": "2021-11-28T00:20:32.267462Z",
     "iopub.status.idle": "2021-11-28T00:20:32.946539Z",
     "shell.execute_reply": "2021-11-28T00:20:32.946066Z",
     "shell.execute_reply.started": "2021-11-28T00:20:32.267598Z"
    },
    "tags": []
   },
   "outputs": [
    {
     "name": "stdout",
     "output_type": "stream",
     "text": [
      "709\n",
      "631\n"
     ]
    },
    {
     "data": {
      "text/html": [
       "<div>\n",
       "<style scoped>\n",
       "    .dataframe tbody tr th:only-of-type {\n",
       "        vertical-align: middle;\n",
       "    }\n",
       "\n",
       "    .dataframe tbody tr th {\n",
       "        vertical-align: top;\n",
       "    }\n",
       "\n",
       "    .dataframe thead th {\n",
       "        text-align: right;\n",
       "    }\n",
       "</style>\n",
       "<table border=\"1\" class=\"dataframe\">\n",
       "  <thead>\n",
       "    <tr style=\"text-align: right;\">\n",
       "      <th></th>\n",
       "      <th>id_sentencia</th>\n",
       "      <th>plazosDefinidos</th>\n",
       "      <th>plazo</th>\n",
       "    </tr>\n",
       "  </thead>\n",
       "  <tbody>\n",
       "  </tbody>\n",
       "</table>\n",
       "</div>"
      ],
      "text/plain": [
       "Empty DataFrame\n",
       "Columns: [id_sentencia, plazosDefinidos, plazo]\n",
       "Index: []"
      ]
     },
     "execution_count": 83,
     "metadata": {},
     "output_type": "execute_result"
    }
   ],
   "source": [
    "s = estructurales.seleccion.sdf\n",
    "print(s.filter(s.plazo > 0).count())\n",
    "print(s.filter(s.plazosDefinidos.isNotNull()).count())\n",
    "s.filter(s.plazosDefinidos.isNotNull()).filter(s.plazo == 0).select( \"id_sentencia\", \"plazosDefinidos\" , \"plazo\").toPandas()"
   ]
  },
  {
   "cell_type": "markdown",
   "id": "be285599-df3e-4e3e-9a91-8e9e594e6386",
   "metadata": {
    "tags": []
   },
   "source": [
    "# Cargar procesamiento de sentencias estructurales."
   ]
  },
  {
   "cell_type": "markdown",
   "id": "d5da6726-dbb8-407a-a037-531bad558316",
   "metadata": {
    "tags": []
   },
   "source": [
    "# Zona de trabajo y cosas utiles"
   ]
  },
  {
   "cell_type": "markdown",
   "id": "75a0fad4-501c-4c24-9b01-54ff44f0e87c",
   "metadata": {
    "jp-MarkdownHeadingCollapsed": true,
    "tags": []
   },
   "source": [
    "### Sobreescribir el dataset"
   ]
  },
  {
   "cell_type": "code",
   "execution_count": 69,
   "id": "a902622c-9460-467a-b31d-3a144c66a6f1",
   "metadata": {
    "execution": {
     "iopub.execute_input": "2021-11-28T00:10:44.804428Z",
     "iopub.status.busy": "2021-11-28T00:10:44.804163Z",
     "iopub.status.idle": "2021-11-28T00:10:44.848019Z",
     "shell.execute_reply": "2021-11-28T00:10:44.847492Z",
     "shell.execute_reply.started": "2021-11-28T00:10:44.804415Z"
    }
   },
   "outputs": [],
   "source": [
    "#writer = estructurales.seleccion.sdf.write.partitionBy(\"anno\").mode('Overwrite').parquet('./dataset/procesado')"
   ]
  },
  {
   "cell_type": "markdown",
   "id": "4de4ae2c-a3dc-4b42-889d-b96f4778b1cb",
   "metadata": {
    "jp-MarkdownHeadingCollapsed": true,
    "tags": []
   },
   "source": [
    "### Sobreescribir terminos"
   ]
  },
  {
   "cell_type": "code",
   "execution_count": 71,
   "id": "fef17f73-48f7-4d29-85c5-6ee1f97d046e",
   "metadata": {
    "execution": {
     "iopub.execute_input": "2021-11-28T00:13:28.240095Z",
     "iopub.status.busy": "2021-11-28T00:13:28.239833Z",
     "iopub.status.idle": "2021-11-28T00:13:28.286341Z",
     "shell.execute_reply": "2021-11-28T00:13:28.285903Z",
     "shell.execute_reply.started": "2021-11-28T00:13:28.240079Z"
    }
   },
   "outputs": [
    {
     "data": {
      "text/plain": [
       "'terminos = {\\n        \\'se ordena\\': [r\\'\\x08se ordena\\x08\\', r\\'\\x08se le ordena\\x08\\', r\\'\\x08se les ordena\\x08\\'],\\n        \\'se condena\\': [r\\'\\x08se condena\\x08\\', r\\'\\x08se le condena\\x08\\', r\\'\\x08se les condena\\x08\\'],\\n        \\'plan\\': [r\\'\\x08plan\\x08\\'],\\n        \\'plazo\\': [r\\'\\x08plazo\\x08\\', r\\'\\x08t[éermino (improrrogable)? (de)?\\x08\\']\\n    }\\n    seleccion = Seleccion(terminos, spark, parquet_path=\\'./dataset/procesado\\', datasets_path=\\'./datasets/estructuralesx\\')\\n    #seleccion = Seleccion(terminos, spark, parquet_path=\\'./dataset/partition\\', datasets_path=\\'./datasets/estructurales\\')\\n    print(\"Cantidad elementos originales : \" + str(seleccion.sdf.count()))\\n    seleccion.filtrar_sentencias(preprocess=solo_portanto, precargar=False, keepRowEmpty=True, overwriteColumns=True)\\n    estructurales.seleccion = seleccion'"
      ]
     },
     "execution_count": 71,
     "metadata": {},
     "output_type": "execute_result"
    }
   ],
   "source": [
    "\"\"\"terminos = {\n",
    "        'se ordena': [r'\\bse ordena\\b', r'\\bse le ordena\\b', r'\\bse les ordena\\b'],\n",
    "        'se condena': [r'\\bse condena\\b', r'\\bse le condena\\b', r'\\bse les condena\\b'],\n",
    "        'plan': [r'\\bplan\\b'],\n",
    "        'plazo': [r'\\bplazo\\b', r'\\bt[éermino (improrrogable)? (de)?\\b']\n",
    "    }\n",
    "    seleccion = Seleccion(terminos, spark, parquet_path='./dataset/procesado', datasets_path='./datasets/estructuralesx')\n",
    "    #seleccion = Seleccion(terminos, spark, parquet_path='./dataset/partition', datasets_path='./datasets/estructurales')\n",
    "    print(\"Cantidad elementos originales : \" + str(seleccion.sdf.count()))\n",
    "    seleccion.filtrar_sentencias(preprocess=solo_portanto, precargar=False, keepRowEmpty=True, overwriteColumns=True)\n",
    "    estructurales.seleccion = seleccion\"\"\""
   ]
  },
  {
   "cell_type": "markdown",
   "id": "aff44e42-b960-488a-82cb-f245e6ce6bbf",
   "metadata": {
    "jp-MarkdownHeadingCollapsed": true,
    "tags": []
   },
   "source": [
    "### Funciones pandas y visualizacion de datos"
   ]
  },
  {
   "cell_type": "code",
   "execution_count": null,
   "id": "5544abf6-782f-4ca9-b120-ff13a0290558",
   "metadata": {
    "execution": {
     "iopub.status.busy": "2021-11-27T18:45:09.813218Z",
     "iopub.status.idle": "2021-11-27T18:45:09.813605Z",
     "shell.execute_reply": "2021-11-27T18:45:09.813522Z",
     "shell.execute_reply.started": "2021-11-27T18:45:09.813512Z"
    },
    "tags": []
   },
   "outputs": [],
   "source": [
    "\"\"\"from pyspark.sql.functions import explode, desc\n",
    "from pyspark.sql import functions as F\n",
    "import pandas as pd\n",
    "pd.set_option('display.max_rows', 50)\n",
    "pd.set_option('display.max_columns', 30)\n",
    "pd.set_option('display.width', 80)\n",
    "pd.set_option('display.max_colwidth', 80)\n",
    "pd.set_option('display.width', None)\n",
    "\"\"\"\n"
   ]
  },
  {
   "cell_type": "markdown",
   "id": "42f8bca8-2ac4-407a-a5f7-e9bcba82c27a",
   "metadata": {
    "jp-MarkdownHeadingCollapsed": true,
    "tags": []
   },
   "source": [
    "### Funcion de testing"
   ]
  },
  {
   "cell_type": "code",
   "execution_count": 25,
   "id": "2ac3e206-4afb-438c-87e3-dcd3b67ecf7f",
   "metadata": {
    "execution": {
     "iopub.execute_input": "2021-11-27T21:20:02.868647Z",
     "iopub.status.busy": "2021-11-27T21:20:02.868304Z",
     "iopub.status.idle": "2021-11-27T21:20:02.916065Z",
     "shell.execute_reply": "2021-11-27T21:20:02.915588Z",
     "shell.execute_reply.started": "2021-11-27T21:20:02.868630Z"
    },
    "tags": []
   },
   "outputs": [],
   "source": [
    "from spacy.matcher import Matcher\n",
    "from spacy.tokens import Span\n",
    "from nlppen.extraccion.utils.Txt2Numbers import Txt2Numbers\n",
    "from nlppen.extraccion.utils.Txt2Date import Txt2Date\n",
    "import re\n",
    "def testing(res, txt, patterns):\n",
    "    regularExpresion = re.compile(r\"\\.|h[óo]r[aá]s?|d[íi][áa]s|m[ée]s([ée]s)?|[áa]ñ[óo]s?\")\n",
    "\n",
    "    txt = txt.lower()\n",
    "    plazos = []\n",
    "    #No procesar las que son sin lugar.\n",
    "    if res in [\"Con lugar\", \"Con lugar parcial\"]:\n",
    "        doc = nlp(txt)\n",
    "        matcher = Matcher(nlp.vocab)\n",
    "        matcher.add(\"Patron 1 :\", patterns, greedy=\"FIRST\")\n",
    "\n",
    "        matches = matcher(doc)\n",
    "\n",
    "        #Crear los objetos para convertir de texto a número y de para convertir de texto a fechas.\n",
    "        convertToDate = Txt2Date()\n",
    "        convertToNumber = Txt2Numbers()\n",
    "        for _, start, end in matches:\n",
    "            print(\"Match: \", doc[start:end].text)\n",
    "            includeText = False\n",
    "            plazo = \"\"\n",
    "            stringNumber = \"\"\n",
    "            stringNumberFormat = None\n",
    "            for token in doc[start:end]:\n",
    "                # Recolectar todos los token a partir del primer NUM hasta considir con\n",
    "                # algunas de las palabras de: [horas, dias, meses, año]\n",
    "                # eg( tres dias, cuatro meses)\n",
    "                if includeText:\n",
    "                    if token.pos_ == \"PUNCT\":\n",
    "                        break\n",
    "                    if regularExpresion.search(token.text) != None:\n",
    "                        if stringNumberFormat is None:\n",
    "                            number = convertToNumber.number(textToken)\n",
    "                        else:\n",
    "                            number = stringNumberFormat\n",
    "                        if number != None: \n",
    "                            deltaTime = convertToDate.txt2Date(token.text, number)\n",
    "                            # Convierte los delta time a un datatime y se obtiene el timestamp\n",
    "                            plazo = pd.Timestamp(pd.to_datetime('1970-01-01') + deltaTime).to_pydatetime()\n",
    "                        \n",
    "                        break\n",
    "                    stringNumber += \" \" + token.text\n",
    "                else:\n",
    "                    if token.pos_ == \"NUM\":\n",
    "                        textToken = token.text \n",
    "                        print(textToken)\n",
    "                        if textToken.isdigit() == False:\n",
    "                            stringNumber += textToken\n",
    "                            includeText = True\n",
    "                        else:\n",
    "                            stringNumberFormat = int(textToken)\n",
    "                            includeText = True\n",
    "                    else:\n",
    "                        if token.text == \"un\":\n",
    "                            try:\n",
    "                                nextWord = doc[token.i + 1].text\n",
    "                                print(nextWord)\n",
    "                                if regularExpresion.search(nextWord) != None:\n",
    "                                    print(\"si\")\n",
    "                                    stringNumberFormat = 1\n",
    "                                    includeText = True\n",
    "                            except:\n",
    "                                pass\n",
    "            if plazo != \"\":\n",
    "                plazos.append(plazo)\n",
    "        print(plazos)"
   ]
  },
  {
   "cell_type": "markdown",
   "id": "3100db25-6e58-45ae-be9b-73f210be3ee5",
   "metadata": {
    "jp-MarkdownHeadingCollapsed": true,
    "tags": []
   },
   "source": [
    "### Recorrer dataset con una funcion de testing"
   ]
  },
  {
   "cell_type": "code",
   "execution_count": 33,
   "id": "ddbe6418-0fe8-4973-b3cd-40ffa7f5a978",
   "metadata": {
    "execution": {
     "iopub.execute_input": "2021-11-27T21:20:58.151176Z",
     "iopub.status.busy": "2021-11-27T21:20:58.150865Z",
     "iopub.status.idle": "2021-11-27T21:20:58.315929Z",
     "shell.execute_reply": "2021-11-27T21:20:58.315462Z",
     "shell.execute_reply.started": "2021-11-27T21:20:58.151161Z"
    },
    "tags": []
   },
   "outputs": [
    {
     "name": "stdout",
     "output_type": "stream",
     "text": [
      "******************************\n",
      "180087690007CO\n",
      "Match:  por el plazo señalado por su médico tratante,\n",
      "Match:  además en el término de dos años\n",
      "dos\n",
      "[datetime.datetime(1972, 1, 1, 0, 0)]\n"
     ]
    }
   ],
   "source": [
    "citas = s.filter(s.plazosDefinidos.isNull()).filter(s.plazo > 0).filter(s.plazosDefinidos2.isNull()).toPandas()\n",
    "#citas = s.filter(s.CitaSentencias_ents.isNotNull()).toPandas()\n",
    "nlp = spark_get_spacy(\"es_core_news_lg\")\n",
    "#size = len(citas)\n",
    "size = 1\n",
    "for i in range(0, 1):\n",
    "    sent = citas.iloc[i, 4]\n",
    "    txt = citas.iloc[i, 1]\n",
    "    print(\"******************************\")\n",
    "    print(sent)\n",
    "    termino_ext = citas.iloc[i, 8]\n",
    "    plazos_pattern =  [{\"LOWER\": \"dentro\", \"OP\":\"?\"}, \n",
    "                       {\"IS_STOP\": True, \"OP\":\"*\"}, \n",
    "                       {\"LOWER\": {\"IN\":[\"plazo\", \"término\", \"termino\"]}},\n",
    "          {\"TEXT\": {\"REGEX\": \"^(?!,|\\.|h[óo]r[aá]s?|d[íi][áa]s|m[ée]s([ée]s)?|[áa]ñ[óo]s?)\"}, \"OP\": \"+\"},\n",
    "          #{\"TEXT\": {\"REGEX\": \"^(?!\\.|[Hh][OoÓó][Rr][Aa]([Ss])?|[dD][iíIÍ][ÁAaa]([Ss])?|[Mm][EeÉé][Ss]([EeÉé][Ss])?|[ÁáAa][Ññ][OoÓó]([Ss])?)\"}, \"OP\": \"+\"},\n",
    "          #{\"TEXT\": {\"REGEX\": \"\\.|[Hh][OoÓó][Rr][Aa]([Ss])?|[dD][iíIÍ][ÁAaa]([Ss])?|[Mm][EeÉé][Ss]([EeÉé][Ss])?|[ÁáAa][Ññ][OoÓó]([Ss])?\"}},\n",
    "          {\"TEXT\": {\"REGEX\": \",|\\.|h[óo]r[aá]s?|d[íi][áa]s|m[ée]s([ée]s)?|[áa]ñ[óo]s?\"}, \"OP\": \"+\"}\n",
    "          ]\n",
    "    patterns  = [plazos_pattern]\n",
    "    txt += \" además en el término de DOS AÑOS reporte la vara\" \n",
    "    testing(termino_ext, solo_portanto(txt), patterns)"
   ]
  },
  {
   "cell_type": "markdown",
   "id": "e6bed168-0793-4f96-b845-929912af9407",
   "metadata": {
    "jp-MarkdownHeadingCollapsed": true,
    "tags": []
   },
   "source": [
    "### Cargar spacy"
   ]
  },
  {
   "cell_type": "code",
   "execution_count": 68,
   "id": "54936421-9323-4ee8-873f-efdab30aa248",
   "metadata": {
    "execution": {
     "iopub.execute_input": "2021-11-28T00:07:45.746753Z",
     "iopub.status.busy": "2021-11-28T00:07:45.746342Z",
     "iopub.status.idle": "2021-11-28T00:07:45.791562Z",
     "shell.execute_reply": "2021-11-28T00:07:45.791118Z",
     "shell.execute_reply.started": "2021-11-28T00:07:45.746738Z"
    },
    "tags": []
   },
   "outputs": [
    {
     "data": {
      "text/plain": [
       "'nlp = spark_get_spacy(\\'es_core_news_lg\\')\\ndoc = nlp(\"plan remedial\")\\nfor token in doc:\\n    print(token.text, token.lemma_, token.pos_, token.tag_, token.dep_,token.shape_, token.is_alpha, token.is_stop)\\n'"
      ]
     },
     "execution_count": 68,
     "metadata": {},
     "output_type": "execute_result"
    }
   ],
   "source": [
    "\"\"\"nlp = spark_get_spacy('es_core_news_lg')\n",
    "doc = nlp(\"plan remedial\")\n",
    "for token in doc:\n",
    "    print(token.text, token.lemma_, token.pos_, token.tag_, token.dep_,token.shape_, token.is_alpha, token.is_stop)\n",
    "\"\"\""
   ]
  },
  {
   "cell_type": "code",
   "execution_count": null,
   "id": "fc5f5b69-25fb-4d2c-a1e8-231d1240a79b",
   "metadata": {},
   "outputs": [],
   "source": []
  }
 ],
 "metadata": {
  "kernelspec": {
   "display_name": "Python 3 (ipykernel)",
   "language": "python",
   "name": "python3"
  },
  "language_info": {
   "codemirror_mode": {
    "name": "ipython",
    "version": 3
   },
   "file_extension": ".py",
   "mimetype": "text/x-python",
   "name": "python",
   "nbconvert_exporter": "python",
   "pygments_lexer": "ipython3",
   "version": "3.9.6"
  }
 },
 "nbformat": 4,
 "nbformat_minor": 5
}
