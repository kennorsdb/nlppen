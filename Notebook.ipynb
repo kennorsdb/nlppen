{
 "cells": [
  {
   "cell_type": "markdown",
   "id": "6a834852-b9fd-483c-93e6-3b80f3e879c5",
   "metadata": {
    "tags": []
   },
   "source": [
    "# Imports"
   ]
  },
  {
   "cell_type": "code",
   "execution_count": 1,
   "id": "cc2ec801-fdee-413e-aca9-8ee8e77e0cac",
   "metadata": {
    "execution": {
     "iopub.execute_input": "2021-11-30T14:58:50.735235Z",
     "iopub.status.busy": "2021-11-30T14:58:50.734965Z",
     "iopub.status.idle": "2021-11-30T14:58:53.302058Z",
     "shell.execute_reply": "2021-11-30T14:58:53.301586Z",
     "shell.execute_reply.started": "2021-11-30T14:58:50.735193Z"
    },
    "tags": []
   },
   "outputs": [],
   "source": [
    "%load_ext autoreload\n",
    "%autoreload 2\n",
    "import sys\n",
    "from nlppen.extraccion.utils.Txt2Numbers import Txt2Numbers\n",
    "from nlppen.analisis import Analisis\n",
    "from nlppen.seleccion import Seleccion\n",
    "from nlppen.spark_udfs import solo_portanto, solo_considerando, solo_resultando, solo_encabezado, spark_get_spacy\n",
    "from nlppen.sentencias_estructurales import SentenciasEstructurales\n",
    "from pyspark.sql import SparkSession\n",
    "from nlppen.extraccion.utils.extraerFechaRecibido import ExtraerFecha\n",
    "from pyspark.sql.functions import length\n",
    "from nlppen.extraccion.utils.misc import splitResolucion\n",
    "\n",
    "import pandas as pd\n"
   ]
  },
  {
   "cell_type": "markdown",
   "id": "3106f23a-2bb1-483d-bc31-aa48b9a7db2a",
   "metadata": {
    "tags": []
   },
   "source": [
    "## Configuracion Spark"
   ]
  },
  {
   "cell_type": "code",
   "execution_count": 2,
   "id": "b819481b-6ee8-42c7-9add-c19ceba43563",
   "metadata": {
    "execution": {
     "iopub.execute_input": "2021-11-30T14:58:53.303036Z",
     "iopub.status.busy": "2021-11-30T14:58:53.302812Z",
     "iopub.status.idle": "2021-11-30T14:58:55.588729Z",
     "shell.execute_reply": "2021-11-30T14:58:55.588256Z",
     "shell.execute_reply.started": "2021-11-30T14:58:53.303022Z"
    },
    "tags": []
   },
   "outputs": [
    {
     "name": "stderr",
     "output_type": "stream",
     "text": [
      "21/11/30 14:58:54 WARN NativeCodeLoader: Unable to load native-hadoop library for your platform... using builtin-java classes where applicable\n",
      "Using Spark's default log4j profile: org/apache/spark/log4j-defaults.properties\n",
      "Setting default log level to \"WARN\".\n",
      "To adjust logging level use sc.setLogLevel(newLevel). For SparkR, use setLogLevel(newLevel).\n",
      "21/11/30 14:58:54 WARN Utils: Service 'SparkUI' could not bind on port 4040. Attempting port 4041.\n"
     ]
    },
    {
     "data": {
      "text/plain": [
       "'http://7416269fd645:4041'"
      ]
     },
     "execution_count": 2,
     "metadata": {},
     "output_type": "execute_result"
    }
   ],
   "source": [
    "spark = (SparkSession\n",
    "         .builder\n",
    "         .appName(\"Transforming sentences\")\n",
    "         .config(\"spark.num.executors\", \"6\")\n",
    "         .config(\"spark.executor.memory\", \"6g\")\n",
    "         .config(\"spark.executor.cores\", \"12\")\n",
    "         .config(\"spark.driver.memory\", \"12g\")\n",
    "         .config(\"spark.memory.offHeap.enabled\", True)\n",
    "         .config(\"spark.memory.offHeap.size\", \"16g\")\n",
    "         .config(\"spark.sql.execution.arrow.pyspark.enabled\", \"true\")\n",
    "         .getOrCreate())\n",
    "\n",
    "sc = spark.sparkContext\n",
    "sc.uiWebUrl"
   ]
  },
  {
   "cell_type": "markdown",
   "id": "4ab75fdc-6e47-4671-b06b-4109f7a2bc66",
   "metadata": {},
   "source": [
    "# Buscar terminos en la sección de por lo tanto de la sentencia y aplicar filtro del dataset"
   ]
  },
  {
   "cell_type": "code",
   "execution_count": 3,
   "id": "2a92cddd-4b24-4bdf-85d7-ceabe68d009d",
   "metadata": {
    "execution": {
     "iopub.execute_input": "2021-11-30T14:58:55.589803Z",
     "iopub.status.busy": "2021-11-30T14:58:55.589464Z",
     "iopub.status.idle": "2021-11-30T14:58:55.646516Z",
     "shell.execute_reply": "2021-11-30T14:58:55.646067Z",
     "shell.execute_reply.started": "2021-11-30T14:58:55.589788Z"
    },
    "tags": []
   },
   "outputs": [],
   "source": [
    "ejecutar = False\n",
    "if ejecutar:\n",
    "    terminos = {\n",
    "        'se ordena': [r'\\bse ordena\\b', r'\\bse le ordena\\b', r'\\bse les ordena\\b'],\n",
    "        'se condena': [r'\\bse condena\\b', r'\\bse le condena\\b', r'\\bse les condena\\b'],\n",
    "        'plan': [r'\\bplan\\b'],\n",
    "        'plazo': [r'\\bplazo\\b', r'\\bt[éermino (improrrogable)? (de)?\\b']\n",
    "    }\n",
    "    seleccion = Seleccion(terminos, spark, parquet_path='./dataset/partition', datasets_path='./datasets/estructurales')\n",
    "    print(\"Cantidad elementos originales : \" + str(seleccion.sdf.count()))\n",
    "    seleccion.filtrar_sentencias(preprocess=solo_portanto, keepRowEmpty=True)\n",
    "    print(\"Cantidad elementos despues de filtrados : \" + str(seleccion.sdf.count()))\n",
    "    estructurales = SentenciasEstructurales(seleccion)"
   ]
  },
  {
   "cell_type": "markdown",
   "id": "d77b9686-78ed-4c53-9cf9-694c588b45e6",
   "metadata": {
    "tags": []
   },
   "source": [
    "# Procesamiento de todas las variables de sentencias estructurales"
   ]
  },
  {
   "cell_type": "markdown",
   "id": "04a57a91-9fac-4154-bf53-4d7e0f6faf61",
   "metadata": {},
   "source": [
    "## La siguiente celda ejecuta el cálculo de todas las variables definidas para las sentencias estructurales"
   ]
  },
  {
   "cell_type": "markdown",
   "id": "c11d1f9c-2c14-4fe8-a16e-0382c8e260fc",
   "metadata": {},
   "source": [
    "Nota: Modificar la bandera \"ejecutar\" para aplicar todo el procesamiento."
   ]
  },
  {
   "cell_type": "code",
   "execution_count": 4,
   "id": "2efc878d-2fc1-4743-b8ea-c3fecf943042",
   "metadata": {
    "execution": {
     "iopub.execute_input": "2021-11-30T14:59:02.347630Z",
     "iopub.status.busy": "2021-11-30T14:59:02.347305Z",
     "iopub.status.idle": "2021-11-30T14:59:02.396860Z",
     "shell.execute_reply": "2021-11-30T14:59:02.396430Z",
     "shell.execute_reply.started": "2021-11-30T14:59:02.347615Z"
    },
    "tags": []
   },
   "outputs": [],
   "source": [
    "from pyspark.sql.types import *\n",
    "\n",
    "if ejecutar:\n",
    "    columnas = {\n",
    "        'se ordena PER' : ArrayType(StringType()),\n",
    "        'se ordena LOC' : ArrayType(StringType()),\n",
    "        'se ordena ORG' : ArrayType(StringType()),\n",
    "        'se ordena MISC' : ArrayType(StringType()),\n",
    "        'se ordena GPE' : ArrayType(StringType()),\n",
    "        'se ordena Ent Pub' : ArrayType(StringType())\n",
    "    }\n",
    "    estructurales.separarSeOrdena(columnas, True, True)\n",
    "\n",
    "    columnas = {\n",
    "        'se condena PER' : ArrayType(StringType()),\n",
    "        'se condena LOC' : ArrayType(StringType()),\n",
    "        'se condena ORG' : ArrayType(StringType()),\n",
    "        'se condena MISC' : ArrayType(StringType()),\n",
    "        'se condena GPE' : ArrayType(StringType()),\n",
    "        'se condena Ent Pub' : ArrayType(StringType())\n",
    "    }\n",
    "    estructurales.separarSeCondena(columnas, True, True)\n",
    "\n",
    "    columnas = {\n",
    "        'extension sentencia' : IntegerType(),\n",
    "        'extension por lo tanto' : IntegerType()\n",
    "    }\n",
    "    estructurales.extraerExtension(columnas, True)\n",
    "\n",
    "    columnas = {\n",
    "        'plazosDefinidos' : ArrayType(TimestampType()) #Correción día 27-11-2021. Correr de nuevo\n",
    "    }\n",
    "    estructurales.plazosDefinidos(columnas, True)\n",
    "\n",
    "    columnas = {\n",
    "        'FechaSolicitud' : TimestampType(),\n",
    "    }\n",
    "\n",
    "    estructurales.extrarFechaRecibido(columnas, True)\n",
    "\n",
    "    columnas = {\n",
    "        'num resolucion' : StringType()\n",
    "    }\n",
    "\n",
    "    estructurales.extraerNumeroSentencia(columnas, True)\n",
    "\n",
    "    columnas = {\n",
    "        'inst internacionales' : ArrayType(StringType())\n",
    "    }\n",
    "\n",
    "    estructurales.extraerInstrumentosInternacionales(columnas, True)\n",
    "\n",
    "    columnas = {\n",
    "        'derechos Norm' : ArrayType(StringType()),\n",
    "        'derechos GenXPat' : ArrayType(StringType())\n",
    "    }\n",
    "    estructurales.extraerDerechos(columnas, True)\n",
    "\n",
    "    columnas = {\n",
    "        'derechos Acotados' : ArrayType(StringType()),\n",
    "        'derechos General' : ArrayType(StringType()),\n",
    "        'derechos Fundamental' : ArrayType(StringType()),\n",
    "        'derechos Humano' : ArrayType(StringType())\n",
    "    }\n",
    "\n",
    "    estructurales.extraerDerechosSinNormalizar(columnas, True)\n",
    "    \n",
    "    sentencias = pd.read_csv(\"listaSentencias.csv\", sep=';', encoding='latin-1')\n",
    "    columnas = {\n",
    "        'id_sentencia' : StringType(),\n",
    "        'num_doc_oficial' : StringType(),\n",
    "        'expediente_oficial' : StringType()\n",
    "    }\n",
    "    estructurales.agregarIDSentencia(columnas, sentencias, True)\n",
    "    \n",
    "    columnas = {\n",
    "        'citasVotDate' : MapType(StringType(), TimestampType()), #Dicc de Numero de voto y Fecha\n",
    "        'citasIDVoto' : MapType(StringType(), StringType()) #Dicc de id_Sentencia y # de voto\n",
    "    }\n",
    "    estructurales.extrarCitaSentenciasFecha(columnas, sentencias, True)\n",
    "    \n",
    "    columnas = {\n",
    "        'seguimientoExt' : StringType(), #Texto extraido de seguimiento\n",
    "        'seguimientoValue' : IntegerType() #Cantidad de ocurrencias\n",
    "    }\n",
    "    estructurales.extraerSeguimiento(columnas, True)\n",
    "    #estructurales.seleccion.sdf.toPandas().head(5)\n",
    "    #Sobreescribir el dataset de filtro de sentencias con las nuevas columnas\n",
    "    #estructurales.seleccion.guardarDatos()"
   ]
  },
  {
   "cell_type": "code",
   "execution_count": 5,
   "id": "55f4a79a-ee35-4147-bca8-5d0bfd95dc3b",
   "metadata": {
    "execution": {
     "iopub.execute_input": "2021-11-30T14:59:10.370972Z",
     "iopub.status.busy": "2021-11-30T14:59:10.370734Z",
     "iopub.status.idle": "2021-11-30T14:59:10.413771Z",
     "shell.execute_reply": "2021-11-30T14:59:10.413317Z",
     "shell.execute_reply.started": "2021-11-30T14:59:10.370959Z"
    },
    "tags": []
   },
   "outputs": [],
   "source": [
    "#writer = estructurales.seleccion.sdf.write.partitionBy(\"anno\").mode('Overwrite').parquet('./dataset/procesado')"
   ]
  },
  {
   "cell_type": "code",
   "execution_count": 6,
   "id": "e48527a2-2c72-4f99-85f8-4f945ae86a3e",
   "metadata": {
    "execution": {
     "iopub.execute_input": "2021-11-30T14:59:12.687203Z",
     "iopub.status.busy": "2021-11-30T14:59:12.686952Z",
     "iopub.status.idle": "2021-11-30T14:59:12.728996Z",
     "shell.execute_reply": "2021-11-30T14:59:12.728472Z",
     "shell.execute_reply.started": "2021-11-30T14:59:12.687189Z"
    },
    "tags": []
   },
   "outputs": [],
   "source": [
    "#df = spark.read.parquet(\"./dataset/procesado\")\n",
    "#df.toPandas().head()"
   ]
  },
  {
   "cell_type": "markdown",
   "id": "feee2a34-d075-40e0-b2ce-ee1e7ef186ca",
   "metadata": {},
   "source": [
    "## Guardar los resultados del preprocesamiento por año"
   ]
  },
  {
   "cell_type": "code",
   "execution_count": 7,
   "id": "34ce4d81-4441-4045-9594-6e8f6461f6d3",
   "metadata": {
    "execution": {
     "iopub.execute_input": "2021-11-30T14:59:14.751663Z",
     "iopub.status.busy": "2021-11-30T14:59:14.751426Z",
     "iopub.status.idle": "2021-11-30T14:59:14.795656Z",
     "shell.execute_reply": "2021-11-30T14:59:14.795165Z",
     "shell.execute_reply.started": "2021-11-30T14:59:14.751649Z"
    },
    "tags": []
   },
   "outputs": [],
   "source": [
    "#if ejecutar:\n",
    "#    df = spark.read.parquet(seleccion.datasets_path+\"/terminos.parquet\")\n",
    "#    writer = df.write.partitionBy(\"anno\").mode('Overwrite').parquet('./dataset/procesado')\n"
   ]
  },
  {
   "cell_type": "markdown",
   "id": "02e71e10-f321-4773-b46f-c8edf95617ea",
   "metadata": {
    "execution": {
     "iopub.execute_input": "2021-11-08T21:24:54.840143Z",
     "iopub.status.busy": "2021-11-08T21:24:54.839947Z",
     "iopub.status.idle": "2021-11-08T21:24:54.881653Z",
     "shell.execute_reply": "2021-11-08T21:24:54.881133Z",
     "shell.execute_reply.started": "2021-11-08T21:24:54.840130Z"
    }
   },
   "source": [
    "## Cargar los resultados preprocesados y divididos por año"
   ]
  },
  {
   "cell_type": "code",
   "execution_count": 8,
   "id": "911f7eba-fdb3-4bdf-b28a-78203c1c61c8",
   "metadata": {
    "execution": {
     "iopub.execute_input": "2021-11-30T14:59:15.920062Z",
     "iopub.status.busy": "2021-11-30T14:59:15.919818Z",
     "iopub.status.idle": "2021-11-30T14:59:18.348521Z",
     "shell.execute_reply": "2021-11-30T14:59:18.348082Z",
     "shell.execute_reply.started": "2021-11-30T14:59:15.920049Z"
    },
    "tags": []
   },
   "outputs": [],
   "source": [
    "s = estructurales.seleccion.sdf\n",
    "s.filter(s.anno == \"1998\").limit(5).toPandas()"
   ]
  },
  {
   "cell_type": "code",
   "execution_count": 9,
   "id": "08ae0870-db99-42e4-bfe7-41a7f1613665",
   "metadata": {
    "execution": {
     "iopub.execute_input": "2021-11-30T14:59:19.981865Z",
     "iopub.status.busy": "2021-11-30T14:59:19.981563Z",
     "iopub.status.idle": "2021-11-30T14:59:21.471080Z",
     "shell.execute_reply": "2021-11-30T14:59:21.470606Z",
     "shell.execute_reply.started": "2021-11-30T14:59:19.981848Z"
    },
    "tags": []
   },
   "outputs": [
    {
     "name": "stderr",
     "output_type": "stream",
     "text": [
      "                                                                                \r"
     ]
    },
    {
     "data": {
      "text/html": [
       "<div>\n",
       "<style scoped>\n",
       "    .dataframe tbody tr th:only-of-type {\n",
       "        vertical-align: middle;\n",
       "    }\n",
       "\n",
       "    .dataframe tbody tr th {\n",
       "        vertical-align: top;\n",
       "    }\n",
       "\n",
       "    .dataframe thead th {\n",
       "        text-align: right;\n",
       "    }\n",
       "</style>\n",
       "<table border=\"1\" class=\"dataframe\">\n",
       "  <thead>\n",
       "    <tr style=\"text-align: right;\">\n",
       "      <th></th>\n",
       "      <th>id_sentencia</th>\n",
       "      <th>expediente_oficial</th>\n",
       "    </tr>\n",
       "  </thead>\n",
       "  <tbody>\n",
       "    <tr>\n",
       "      <th>0</th>\n",
       "      <td>sen-1-0007-327374</td>\n",
       "      <td>050034420007CO</td>\n",
       "    </tr>\n",
       "    <tr>\n",
       "      <th>1</th>\n",
       "      <td>sen-1-0007-577976</td>\n",
       "      <td>040009040007CO</td>\n",
       "    </tr>\n",
       "    <tr>\n",
       "      <th>2</th>\n",
       "      <td>sen-1-0007-305337</td>\n",
       "      <td>040129030007CO</td>\n",
       "    </tr>\n",
       "    <tr>\n",
       "      <th>3</th>\n",
       "      <td>sen-1-0007-302317</td>\n",
       "      <td>040123680007CO</td>\n",
       "    </tr>\n",
       "    <tr>\n",
       "      <th>4</th>\n",
       "      <td>sen-1-0007-327684</td>\n",
       "      <td>050133110007CO</td>\n",
       "    </tr>\n",
       "  </tbody>\n",
       "</table>\n",
       "</div>"
      ],
      "text/plain": [
       "        id_sentencia expediente_oficial\n",
       "0  sen-1-0007-327374     050034420007CO\n",
       "1  sen-1-0007-577976     040009040007CO\n",
       "2  sen-1-0007-305337     040129030007CO\n",
       "3  sen-1-0007-302317     040123680007CO\n",
       "4  sen-1-0007-327684     050133110007CO"
      ]
     },
     "execution_count": 9,
     "metadata": {},
     "output_type": "execute_result"
    }
   ],
   "source": [
    "estructurales.seleccion.sdf.select(\"id_sentencia\", \"expediente_oficial\").toPandas().head(5)"
   ]
  },
  {
   "cell_type": "code",
   "execution_count": 10,
   "id": "07893ccc-cb9a-4347-bcc4-dc8af82c3596",
   "metadata": {
    "execution": {
     "iopub.execute_input": "2021-11-30T14:59:35.036582Z",
     "iopub.status.busy": "2021-11-30T14:59:35.036325Z",
     "iopub.status.idle": "2021-11-30T14:59:35.080069Z",
     "shell.execute_reply": "2021-11-30T14:59:35.079626Z",
     "shell.execute_reply.started": "2021-11-30T14:59:35.036568Z"
    }
   },
   "outputs": [],
   "source": [
    "s = estructurales.seleccion.sdf"
   ]
  },
  {
   "cell_type": "code",
   "execution_count": 12,
   "id": "aa0a6eb6-5623-43b6-9361-2fe1cc18370f",
   "metadata": {
    "execution": {
     "iopub.execute_input": "2021-11-30T14:59:59.618120Z",
     "iopub.status.busy": "2021-11-30T14:59:59.617795Z",
     "iopub.status.idle": "2021-11-30T15:00:00.305101Z",
     "shell.execute_reply": "2021-11-30T15:00:00.304594Z",
     "shell.execute_reply.started": "2021-11-30T14:59:59.618106Z"
    },
    "tags": []
   },
   "outputs": [
    {
     "data": {
      "text/plain": [
       "631"
      ]
     },
     "execution_count": 12,
     "metadata": {},
     "output_type": "execute_result"
    }
   ],
   "source": [
    "s.filter(s.plazosDefinidos.isNotNull()).count()"
   ]
  },
  {
   "cell_type": "markdown",
   "id": "4d642712-45f4-404b-818e-cb2c390fc3f9",
   "metadata": {},
   "source": [
    "## Ejecutar un criterio"
   ]
  },
  {
   "cell_type": "code",
   "execution_count": 48,
   "id": "1b42462a-d0bd-40a1-9aa1-7c077b53c7a4",
   "metadata": {
    "tags": []
   },
   "outputs": [
    {
     "data": {
      "text/plain": [
       "\"\\nif not ejecutar:\\n    columnas = {\\n        'seguimientoExt2' : StringType(), #Texto extraido de seguimiento\\n        'seguimientoValue2' : IntegerType() #Cantidad de ocurrencias\\n    }\\n    estructurales.extraerSeguimiento(columnas, True, False)\\n    s = estructurales.seleccion.sdf\\n    s.toPandas().head(5)\\n    \""
      ]
     },
     "execution_count": 48,
     "metadata": {},
     "output_type": "execute_result"
    }
   ],
   "source": [
    "from pyspark.sql.types import *\n",
    "\"\"\"\n",
    "if not ejecutar:\n",
    "    columnas = {\n",
    "        'seguimientoExt2' : StringType(), #Texto extraido de seguimiento\n",
    "        'seguimientoValue2' : IntegerType() #Cantidad de ocurrencias\n",
    "    }\n",
    "    estructurales.extraerSeguimiento(columnas, True, False)\n",
    "    s = estructurales.seleccion.sdf\n",
    "    s.toPandas().head(5)\n",
    "    \"\"\""
   ]
  },
  {
   "cell_type": "code",
   "execution_count": 49,
   "id": "316a0649-8a17-4496-9063-a716c66e81ee",
   "metadata": {},
   "outputs": [
    {
     "name": "stderr",
     "output_type": "stream",
     "text": [
      "/opt/conda/lib/python3.9/site-packages/pyspark/sql/pandas/conversion.py:87: UserWarning: toPandas attempted Arrow optimization because 'spark.sql.execution.arrow.pyspark.enabled' is set to true; however, failed by the reason below:\n",
      "  Unsupported type in conversion to Arrow: ArrayType(TimestampType,true)\n",
      "Attempting non-optimization as 'spark.sql.execution.arrow.pyspark.fallback.enabled' is set to true.\n",
      "  warnings.warn(msg)\n"
     ]
    },
    {
     "data": {
      "text/html": [
       "<div>\n",
       "<style scoped>\n",
       "    .dataframe tbody tr th:only-of-type {\n",
       "        vertical-align: middle;\n",
       "    }\n",
       "\n",
       "    .dataframe tbody tr th {\n",
       "        vertical-align: top;\n",
       "    }\n",
       "\n",
       "    .dataframe thead th {\n",
       "        text-align: right;\n",
       "    }\n",
       "</style>\n",
       "<table border=\"1\" class=\"dataframe\">\n",
       "  <thead>\n",
       "    <tr style=\"text-align: right;\">\n",
       "      <th></th>\n",
       "      <th>archivo</th>\n",
       "      <th>txt</th>\n",
       "      <th>tema</th>\n",
       "      <th>tema_prob</th>\n",
       "      <th>expediente</th>\n",
       "      <th>fechahora_ext</th>\n",
       "      <th>redactor_ext</th>\n",
       "      <th>tipoResolucion_ext</th>\n",
       "      <th>termino_ext</th>\n",
       "      <th>voto_salvado</th>\n",
       "      <th>...</th>\n",
       "      <th>derechos_Fundamental</th>\n",
       "      <th>derechos_Humano</th>\n",
       "      <th>id_sentencia</th>\n",
       "      <th>num_doc_oficial</th>\n",
       "      <th>expediente_oficial</th>\n",
       "      <th>citasVotDate</th>\n",
       "      <th>citasIDVoto</th>\n",
       "      <th>seguimientoExt</th>\n",
       "      <th>seguimientoValue</th>\n",
       "      <th>anno</th>\n",
       "    </tr>\n",
       "  </thead>\n",
       "  <tbody>\n",
       "    <tr>\n",
       "      <th>0</th>\n",
       "      <td>6E317.html</td>\n",
       "      <td>*050034420007CO* Exp: 05-003442-0007-CO Res. N...</td>\n",
       "      <td>TRABAJO</td>\n",
       "      <td>0.457667</td>\n",
       "      <td>050034420007CO</td>\n",
       "      <td>NaT</td>\n",
       "      <td>Cruz Castro</td>\n",
       "      <td>Recurso de Amparo</td>\n",
       "      <td>Con lugar</td>\n",
       "      <td>False</td>\n",
       "      <td>...</td>\n",
       "      <td>None</td>\n",
       "      <td>None</td>\n",
       "      <td>sen-1-0007-327374</td>\n",
       "      <td>14244</td>\n",
       "      <td>050034420007CO</td>\n",
       "      <td>None</td>\n",
       "      <td>None</td>\n",
       "      <td>None</td>\n",
       "      <td>0</td>\n",
       "      <td>2005</td>\n",
       "    </tr>\n",
       "    <tr>\n",
       "      <th>1</th>\n",
       "      <td>C27B5.html</td>\n",
       "      <td>Exp: 04-000904-0007-CO Res: 2005-07158 SALA CO...</td>\n",
       "      <td>PETICION</td>\n",
       "      <td>0.086251</td>\n",
       "      <td>040009040007CO</td>\n",
       "      <td>2005-06-08 08:42:00</td>\n",
       "      <td>Solano Carrera</td>\n",
       "      <td>Acción de Inconstitucionalidad</td>\n",
       "      <td>Con lugar</td>\n",
       "      <td>False</td>\n",
       "      <td>...</td>\n",
       "      <td>[derecho fundamental a un ambiente sano y]</td>\n",
       "      <td>None</td>\n",
       "      <td>sen-1-0007-577976</td>\n",
       "      <td>7158</td>\n",
       "      <td>040009040007CO</td>\n",
       "      <td>{'1413—98': None, '440—00': None, '2345—96': N...</td>\n",
       "      <td>{'sen-1-0007-81976': '2345', 'sen-1-0007-23715...</td>\n",
       "      <td>None</td>\n",
       "      <td>0</td>\n",
       "      <td>2005</td>\n",
       "    </tr>\n",
       "    <tr>\n",
       "      <th>2</th>\n",
       "      <td>65301.html</td>\n",
       "      <td>Exp: 04-012903-0007-CO Res: 2005-03407 SALA CO...</td>\n",
       "      <td>TRABAJO</td>\n",
       "      <td>0.465011</td>\n",
       "      <td>040129030007CO</td>\n",
       "      <td>2005-03-29 18:32:00</td>\n",
       "      <td>Jinesta Lobo</td>\n",
       "      <td>Recurso de Amparo</td>\n",
       "      <td>Con lugar</td>\n",
       "      <td>False</td>\n",
       "      <td>...</td>\n",
       "      <td>None</td>\n",
       "      <td>None</td>\n",
       "      <td>sen-1-0007-305337</td>\n",
       "      <td>3407</td>\n",
       "      <td>040129030007CO</td>\n",
       "      <td>None</td>\n",
       "      <td>None</td>\n",
       "      <td>None</td>\n",
       "      <td>0</td>\n",
       "      <td>2005</td>\n",
       "    </tr>\n",
       "    <tr>\n",
       "      <th>3</th>\n",
       "      <td>63F90.html</td>\n",
       "      <td>Exp: 04-012368-0007-CO Res: 2005-00764 SALA CO...</td>\n",
       "      <td>TRABAJO</td>\n",
       "      <td>0.839489</td>\n",
       "      <td>040123680007CO</td>\n",
       "      <td>2005-01-28 10:06:00</td>\n",
       "      <td>Jinesta Lobo</td>\n",
       "      <td>Recurso de Amparo</td>\n",
       "      <td>Con lugar</td>\n",
       "      <td>False</td>\n",
       "      <td>...</td>\n",
       "      <td>None</td>\n",
       "      <td>None</td>\n",
       "      <td>sen-1-0007-302317</td>\n",
       "      <td>764</td>\n",
       "      <td>040123680007CO</td>\n",
       "      <td>{'2001-7309': None, '2002-4842': 2002-05-21 16...</td>\n",
       "      <td>{'sen-1-0007-201367': '4842', 'sen-1-0007-1692...</td>\n",
       "      <td>None</td>\n",
       "      <td>0</td>\n",
       "      <td>2005</td>\n",
       "    </tr>\n",
       "    <tr>\n",
       "      <th>4</th>\n",
       "      <td>6E46E.html</td>\n",
       "      <td>*050133110007CO* Exp: 05-013311-0007-CO Res. N...</td>\n",
       "      <td>TRABAJO</td>\n",
       "      <td>0.590432</td>\n",
       "      <td>050133110007CO</td>\n",
       "      <td>2005-11-09 12:05:00</td>\n",
       "      <td>Cruz Castro</td>\n",
       "      <td>Recurso de Amparo</td>\n",
       "      <td>Con lugar</td>\n",
       "      <td>False</td>\n",
       "      <td>...</td>\n",
       "      <td>None</td>\n",
       "      <td>None</td>\n",
       "      <td>sen-1-0007-327684</td>\n",
       "      <td>15447</td>\n",
       "      <td>050133110007CO</td>\n",
       "      <td>None</td>\n",
       "      <td>None</td>\n",
       "      <td>None</td>\n",
       "      <td>0</td>\n",
       "      <td>2005</td>\n",
       "    </tr>\n",
       "  </tbody>\n",
       "</table>\n",
       "<p>5 rows × 56 columns</p>\n",
       "</div>"
      ],
      "text/plain": [
       "      archivo                                                txt      tema  \\\n",
       "0  6E317.html  *050034420007CO* Exp: 05-003442-0007-CO Res. N...   TRABAJO   \n",
       "1  C27B5.html  Exp: 04-000904-0007-CO Res: 2005-07158 SALA CO...  PETICION   \n",
       "2  65301.html  Exp: 04-012903-0007-CO Res: 2005-03407 SALA CO...   TRABAJO   \n",
       "3  63F90.html  Exp: 04-012368-0007-CO Res: 2005-00764 SALA CO...   TRABAJO   \n",
       "4  6E46E.html  *050133110007CO* Exp: 05-013311-0007-CO Res. N...   TRABAJO   \n",
       "\n",
       "   tema_prob      expediente       fechahora_ext    redactor_ext  \\\n",
       "0   0.457667  050034420007CO                 NaT     Cruz Castro   \n",
       "1   0.086251  040009040007CO 2005-06-08 08:42:00  Solano Carrera   \n",
       "2   0.465011  040129030007CO 2005-03-29 18:32:00    Jinesta Lobo   \n",
       "3   0.839489  040123680007CO 2005-01-28 10:06:00    Jinesta Lobo   \n",
       "4   0.590432  050133110007CO 2005-11-09 12:05:00     Cruz Castro   \n",
       "\n",
       "               tipoResolucion_ext termino_ext  voto_salvado  ...  \\\n",
       "0               Recurso de Amparo   Con lugar         False  ...   \n",
       "1  Acción de Inconstitucionalidad   Con lugar         False  ...   \n",
       "2               Recurso de Amparo   Con lugar         False  ...   \n",
       "3               Recurso de Amparo   Con lugar         False  ...   \n",
       "4               Recurso de Amparo   Con lugar         False  ...   \n",
       "\n",
       "                         derechos_Fundamental derechos_Humano  \\\n",
       "0                                        None            None   \n",
       "1  [derecho fundamental a un ambiente sano y]            None   \n",
       "2                                        None            None   \n",
       "3                                        None            None   \n",
       "4                                        None            None   \n",
       "\n",
       "        id_sentencia num_doc_oficial expediente_oficial  \\\n",
       "0  sen-1-0007-327374           14244     050034420007CO   \n",
       "1  sen-1-0007-577976            7158     040009040007CO   \n",
       "2  sen-1-0007-305337            3407     040129030007CO   \n",
       "3  sen-1-0007-302317             764     040123680007CO   \n",
       "4  sen-1-0007-327684           15447     050133110007CO   \n",
       "\n",
       "                                        citasVotDate  \\\n",
       "0                                               None   \n",
       "1  {'1413—98': None, '440—00': None, '2345—96': N...   \n",
       "2                                               None   \n",
       "3  {'2001-7309': None, '2002-4842': 2002-05-21 16...   \n",
       "4                                               None   \n",
       "\n",
       "                                         citasIDVoto seguimientoExt  \\\n",
       "0                                               None           None   \n",
       "1  {'sen-1-0007-81976': '2345', 'sen-1-0007-23715...           None   \n",
       "2                                               None           None   \n",
       "3  {'sen-1-0007-201367': '4842', 'sen-1-0007-1692...           None   \n",
       "4                                               None           None   \n",
       "\n",
       "  seguimientoValue  anno  \n",
       "0                0  2005  \n",
       "1                0  2005  \n",
       "2                0  2005  \n",
       "3                0  2005  \n",
       "4                0  2005  \n",
       "\n",
       "[5 rows x 56 columns]"
      ]
     },
     "execution_count": 49,
     "metadata": {},
     "output_type": "execute_result"
    }
   ],
   "source": [
    "s.toPandas().head(5)"
   ]
  },
  {
   "cell_type": "code",
   "execution_count": 83,
   "id": "c1c5c477-91ef-4c45-9b9a-9ffb0fe35e65",
   "metadata": {
    "execution": {
     "iopub.execute_input": "2021-11-28T00:20:32.267610Z",
     "iopub.status.busy": "2021-11-28T00:20:32.267462Z",
     "iopub.status.idle": "2021-11-28T00:20:32.946539Z",
     "shell.execute_reply": "2021-11-28T00:20:32.946066Z",
     "shell.execute_reply.started": "2021-11-28T00:20:32.267598Z"
    },
    "tags": []
   },
   "outputs": [
    {
     "name": "stdout",
     "output_type": "stream",
     "text": [
      "709\n",
      "631\n"
     ]
    },
    {
     "data": {
      "text/html": [
       "<div>\n",
       "<style scoped>\n",
       "    .dataframe tbody tr th:only-of-type {\n",
       "        vertical-align: middle;\n",
       "    }\n",
       "\n",
       "    .dataframe tbody tr th {\n",
       "        vertical-align: top;\n",
       "    }\n",
       "\n",
       "    .dataframe thead th {\n",
       "        text-align: right;\n",
       "    }\n",
       "</style>\n",
       "<table border=\"1\" class=\"dataframe\">\n",
       "  <thead>\n",
       "    <tr style=\"text-align: right;\">\n",
       "      <th></th>\n",
       "      <th>id_sentencia</th>\n",
       "      <th>plazosDefinidos</th>\n",
       "      <th>plazo</th>\n",
       "    </tr>\n",
       "  </thead>\n",
       "  <tbody>\n",
       "  </tbody>\n",
       "</table>\n",
       "</div>"
      ],
      "text/plain": [
       "Empty DataFrame\n",
       "Columns: [id_sentencia, plazosDefinidos, plazo]\n",
       "Index: []"
      ]
     },
     "execution_count": 83,
     "metadata": {},
     "output_type": "execute_result"
    }
   ],
   "source": [
    "s = estructurales.seleccion.sdf\n",
    "print(s.filter(s.plazo > 0).count())\n",
    "print(s.filter(s.plazosDefinidos.isNotNull()).count())\n",
    "s.filter(s.plazosDefinidos.isNotNull()).filter(s.plazo == 0).select( \"id_sentencia\", \"plazosDefinidos\" , \"plazo\").toPandas()"
   ]
  },
  {
   "cell_type": "markdown",
   "id": "be285599-df3e-4e3e-9a91-8e9e594e6386",
   "metadata": {
    "tags": []
   },
   "source": [
    "# Cargar procesamiento de sentencias estructurales."
   ]
  },
  {
   "cell_type": "markdown",
   "id": "d5da6726-dbb8-407a-a037-531bad558316",
   "metadata": {
    "tags": []
   },
   "source": [
    "# Zona de trabajo y cosas utiles"
   ]
  },
  {
   "cell_type": "markdown",
   "id": "75a0fad4-501c-4c24-9b01-54ff44f0e87c",
   "metadata": {
    "jp-MarkdownHeadingCollapsed": true,
    "tags": []
   },
   "source": [
    "### Sobreescribir el dataset"
   ]
  },
  {
   "cell_type": "code",
   "execution_count": 69,
   "id": "a902622c-9460-467a-b31d-3a144c66a6f1",
   "metadata": {
    "execution": {
     "iopub.execute_input": "2021-11-28T00:10:44.804428Z",
     "iopub.status.busy": "2021-11-28T00:10:44.804163Z",
     "iopub.status.idle": "2021-11-28T00:10:44.848019Z",
     "shell.execute_reply": "2021-11-28T00:10:44.847492Z",
     "shell.execute_reply.started": "2021-11-28T00:10:44.804415Z"
    }
   },
   "outputs": [],
   "source": [
    "#writer = estructurales.seleccion.sdf.write.partitionBy(\"anno\").mode('Overwrite').parquet('./dataset/procesado')"
   ]
  },
  {
   "cell_type": "markdown",
   "id": "4de4ae2c-a3dc-4b42-889d-b96f4778b1cb",
   "metadata": {
    "jp-MarkdownHeadingCollapsed": true,
    "tags": []
   },
   "source": [
    "### Sobreescribir terminos"
   ]
  },
  {
   "cell_type": "code",
   "execution_count": 71,
   "id": "fef17f73-48f7-4d29-85c5-6ee1f97d046e",
   "metadata": {
    "execution": {
     "iopub.execute_input": "2021-11-28T00:13:28.240095Z",
     "iopub.status.busy": "2021-11-28T00:13:28.239833Z",
     "iopub.status.idle": "2021-11-28T00:13:28.286341Z",
     "shell.execute_reply": "2021-11-28T00:13:28.285903Z",
     "shell.execute_reply.started": "2021-11-28T00:13:28.240079Z"
    }
   },
   "outputs": [
    {
     "data": {
      "text/plain": [
       "'terminos = {\\n        \\'se ordena\\': [r\\'\\x08se ordena\\x08\\', r\\'\\x08se le ordena\\x08\\', r\\'\\x08se les ordena\\x08\\'],\\n        \\'se condena\\': [r\\'\\x08se condena\\x08\\', r\\'\\x08se le condena\\x08\\', r\\'\\x08se les condena\\x08\\'],\\n        \\'plan\\': [r\\'\\x08plan\\x08\\'],\\n        \\'plazo\\': [r\\'\\x08plazo\\x08\\', r\\'\\x08t[éermino (improrrogable)? (de)?\\x08\\']\\n    }\\n    seleccion = Seleccion(terminos, spark, parquet_path=\\'./dataset/procesado\\', datasets_path=\\'./datasets/estructuralesx\\')\\n    #seleccion = Seleccion(terminos, spark, parquet_path=\\'./dataset/partition\\', datasets_path=\\'./datasets/estructurales\\')\\n    print(\"Cantidad elementos originales : \" + str(seleccion.sdf.count()))\\n    seleccion.filtrar_sentencias(preprocess=solo_portanto, precargar=False, keepRowEmpty=True, overwriteColumns=True)\\n    estructurales.seleccion = seleccion'"
      ]
     },
     "execution_count": 71,
     "metadata": {},
     "output_type": "execute_result"
    }
   ],
   "source": [
    "\"\"\"terminos = {\n",
    "        'se ordena': [r'\\bse ordena\\b', r'\\bse le ordena\\b', r'\\bse les ordena\\b'],\n",
    "        'se condena': [r'\\bse condena\\b', r'\\bse le condena\\b', r'\\bse les condena\\b'],\n",
    "        'plan': [r'\\bplan\\b'],\n",
    "        'plazo': [r'\\bplazo\\b', r'\\bt[éermino (improrrogable)? (de)?\\b']\n",
    "    }\n",
    "    seleccion = Seleccion(terminos, spark, parquet_path='./dataset/procesado', datasets_path='./datasets/estructuralesx')\n",
    "    #seleccion = Seleccion(terminos, spark, parquet_path='./dataset/partition', datasets_path='./datasets/estructurales')\n",
    "    print(\"Cantidad elementos originales : \" + str(seleccion.sdf.count()))\n",
    "    seleccion.filtrar_sentencias(preprocess=solo_portanto, precargar=False, keepRowEmpty=True, overwriteColumns=True)\n",
    "    estructurales.seleccion = seleccion\"\"\""
   ]
  },
  {
   "cell_type": "markdown",
   "id": "aff44e42-b960-488a-82cb-f245e6ce6bbf",
   "metadata": {
    "tags": []
   },
   "source": [
    "### Funciones pandas y visualizacion de datos"
   ]
  },
  {
   "cell_type": "code",
   "execution_count": null,
   "id": "5544abf6-782f-4ca9-b120-ff13a0290558",
   "metadata": {
    "execution": {
     "iopub.status.busy": "2021-11-27T18:45:09.813218Z",
     "iopub.status.idle": "2021-11-27T18:45:09.813605Z",
     "shell.execute_reply": "2021-11-27T18:45:09.813522Z",
     "shell.execute_reply.started": "2021-11-27T18:45:09.813512Z"
    },
    "tags": []
   },
   "outputs": [],
   "source": [
    "\"\"\"from pyspark.sql.functions import explode, desc\n",
    "from pyspark.sql import functions as F\n",
    "import pandas as pd\n",
    "pd.set_option('display.max_rows', 50)\n",
    "pd.set_option('display.max_columns', 30)\n",
    "pd.set_option('display.width', 80)\n",
    "pd.set_option('display.max_colwidth', 80)\n",
    "pd.set_option('display.width', None)\n",
    "\"\"\"\n"
   ]
  },
  {
   "cell_type": "markdown",
   "id": "42f8bca8-2ac4-407a-a5f7-e9bcba82c27a",
   "metadata": {
    "tags": []
   },
   "source": [
    "### Funcion de testing"
   ]
  },
  {
   "cell_type": "code",
   "execution_count": 115,
   "id": "2ac3e206-4afb-438c-87e3-dcd3b67ecf7f",
   "metadata": {
    "tags": []
   },
   "outputs": [],
   "source": [
    "from spacy.matcher import Matcher\n",
    "from spacy.tokens import Span\n",
    "from nlppen.extraccion.utils.Txt2Numbers import Txt2Numbers\n",
    "from nlppen.extraccion.utils.Txt2Date import Txt2Date\n",
    "import re\n",
    "def testing(txt):\n",
    "    #print(txt)\n",
    "    regularExpresion = re.compile(r\"[MDCLXVI]+[\\.-]+.+?(?=\\.)\")\n",
    "    extraccion = regularExpresion.findall(txt)\n",
    "    for match in extraccion:\n",
    "        print(\"-*-*-*-*-*\")\n",
    "        print(match)\n",
    "    \n",
    "    "
   ]
  },
  {
   "cell_type": "markdown",
   "id": "3100db25-6e58-45ae-be9b-73f210be3ee5",
   "metadata": {
    "tags": []
   },
   "source": [
    "### Recorrer dataset con una funcion de testing"
   ]
  },
  {
   "cell_type": "code",
   "execution_count": 117,
   "id": "ddbe6418-0fe8-4973-b3cd-40ffa7f5a978",
   "metadata": {
    "tags": []
   },
   "outputs": [
    {
     "name": "stdout",
     "output_type": "stream",
     "text": [
      "******************************\n",
      "000015690007CO\n",
      "sen-1-0007-128196\n",
      "-*-*-*-*-*\n",
      "I.- Hechos probados\n",
      "-*-*-*-*-*\n",
      "II.- Sobre el fondo\n"
     ]
    },
    {
     "name": "stderr",
     "output_type": "stream",
     "text": [
      "21/12/03 04:08:31 WARN HeartbeatReceiver: Removing executor driver with no recent heartbeats: 18602409 ms exceeds timeout 120000 ms\n",
      "21/12/03 04:08:31 WARN SparkContext: Killing executors is not supported by current scheduler.\n"
     ]
    }
   ],
   "source": [
    "citas = s.filter(s.anno == \"2000\").toPandas()\n",
    "#citas = s.filter(s.CitaSentencias_ents.isNotNull()).toPandas()\n",
    "#nlp = spark_get_spacy(\"es_core_news_lg\")\n",
    "#size = len(citas)\n",
    "size = 1\n",
    "#print(citas.columns)\n",
    "for i in range(1, 2):\n",
    "    sent = citas.iloc[i, 4]\n",
    "    id_sentencia = citas.iloc[i, -8]\n",
    "    txt = citas.iloc[i, 1]\n",
    "    print(\"******************************\")\n",
    "    print(sent)\n",
    "    print(id_sentencia)\n",
    "    termino_ext = citas.iloc[i, 8]\n",
    "    txt += \" además en el término de DOS AÑOS reporte la vara\" \n",
    "    testing(solo_considerando(txt))"
   ]
  },
  {
   "cell_type": "markdown",
   "id": "e6bed168-0793-4f96-b845-929912af9407",
   "metadata": {
    "tags": []
   },
   "source": [
    "### Cargar spacy"
   ]
  },
  {
   "cell_type": "code",
   "execution_count": 68,
   "id": "54936421-9323-4ee8-873f-efdab30aa248",
   "metadata": {
    "execution": {
     "iopub.execute_input": "2021-11-28T00:07:45.746753Z",
     "iopub.status.busy": "2021-11-28T00:07:45.746342Z",
     "iopub.status.idle": "2021-11-28T00:07:45.791562Z",
     "shell.execute_reply": "2021-11-28T00:07:45.791118Z",
     "shell.execute_reply.started": "2021-11-28T00:07:45.746738Z"
    },
    "tags": []
   },
   "outputs": [
    {
     "data": {
      "text/plain": [
       "'nlp = spark_get_spacy(\\'es_core_news_lg\\')\\ndoc = nlp(\"plan remedial\")\\nfor token in doc:\\n    print(token.text, token.lemma_, token.pos_, token.tag_, token.dep_,token.shape_, token.is_alpha, token.is_stop)\\n'"
      ]
     },
     "execution_count": 68,
     "metadata": {},
     "output_type": "execute_result"
    }
   ],
   "source": [
    "\"\"\"nlp = spark_get_spacy('es_core_news_lg')\n",
    "doc = nlp(\"plan remedial\")\n",
    "for token in doc:\n",
    "    print(token.text, token.lemma_, token.pos_, token.tag_, token.dep_,token.shape_, token.is_alpha, token.is_stop)\n",
    "\"\"\""
   ]
  },
  {
   "cell_type": "code",
   "execution_count": null,
   "id": "fc5f5b69-25fb-4d2c-a1e8-231d1240a79b",
   "metadata": {},
   "outputs": [],
   "source": []
  }
 ],
 "metadata": {
  "kernelspec": {
   "display_name": "Python 3 (ipykernel)",
   "language": "python",
   "name": "python3"
  },
  "language_info": {
   "codemirror_mode": {
    "name": "ipython",
    "version": 3
   },
   "file_extension": ".py",
   "mimetype": "text/x-python",
   "name": "python",
   "nbconvert_exporter": "python",
   "pygments_lexer": "ipython3",
   "version": "3.9.6"
  },
  "toc-showmarkdowntxt": true
 },
 "nbformat": 4,
 "nbformat_minor": 5
}
