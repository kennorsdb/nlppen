{
 "cells": [
  {
   "cell_type": "markdown",
   "id": "6a834852-b9fd-483c-93e6-3b80f3e879c5",
   "metadata": {},
   "source": [
    "# Imports"
   ]
  },
  {
   "cell_type": "code",
   "execution_count": 1,
   "id": "cc2ec801-fdee-413e-aca9-8ee8e77e0cac",
   "metadata": {
    "execution": {
     "iopub.execute_input": "2021-10-15T05:46:13.014836Z",
     "iopub.status.busy": "2021-10-15T05:46:13.014558Z",
     "iopub.status.idle": "2021-10-15T05:46:15.434303Z",
     "shell.execute_reply": "2021-10-15T05:46:15.433874Z",
     "shell.execute_reply.started": "2021-10-15T05:46:13.014772Z"
    },
    "tags": []
   },
   "outputs": [],
   "source": [
    "%load_ext autoreload\n",
    "%autoreload 2\n",
    "import sys\n",
    "from nlppen.extraccion.utils.Txt2Numbers import Txt2Numbers\n",
    "from nlppen.analisis import Analisis\n",
    "from nlppen.seleccion import Seleccion\n",
    "from nlppen.spark_udfs import solo_portanto, solo_considerando, solo_resultando, solo_encabezado, spark_get_spacy\n",
    "from nlppen.sentencias_estructurales import SentenciasEstructurales\n",
    "from pyspark.sql import SparkSession\n",
    "from pyspark.sql.functions import length"
   ]
  },
  {
   "cell_type": "markdown",
   "id": "3106f23a-2bb1-483d-bc31-aa48b9a7db2a",
   "metadata": {
    "tags": []
   },
   "source": [
    "## Initialize spark context"
   ]
  },
  {
   "cell_type": "code",
   "execution_count": 2,
   "id": "b819481b-6ee8-42c7-9add-c19ceba43563",
   "metadata": {
    "execution": {
     "iopub.execute_input": "2021-10-15T05:46:18.193622Z",
     "iopub.status.busy": "2021-10-15T05:46:18.193348Z",
     "iopub.status.idle": "2021-10-15T05:46:20.384475Z",
     "shell.execute_reply": "2021-10-15T05:46:20.383969Z",
     "shell.execute_reply.started": "2021-10-15T05:46:18.193607Z"
    },
    "tags": []
   },
   "outputs": [
    {
     "name": "stderr",
     "output_type": "stream",
     "text": [
      "21/10/15 05:46:19 WARN NativeCodeLoader: Unable to load native-hadoop library for your platform... using builtin-java classes where applicable\n",
      "Using Spark's default log4j profile: org/apache/spark/log4j-defaults.properties\n",
      "Setting default log level to \"WARN\".\n",
      "To adjust logging level use sc.setLogLevel(newLevel). For SparkR, use setLogLevel(newLevel).\n"
     ]
    },
    {
     "data": {
      "text/plain": [
       "'http://7416269fd645:4040'"
      ]
     },
     "execution_count": 2,
     "metadata": {},
     "output_type": "execute_result"
    }
   ],
   "source": [
    "spark = (SparkSession\n",
    "         .builder\n",
    "         .appName(\"Transforming sentences\")\n",
    "         .config(\"spark.num.executors\", \"8\")\n",
    "         .config(\"spark.executor.memory\", \"10g\")\n",
    "         .config(\"spark.executor.cores\", \"6\")\n",
    "         .config(\"spark.driver.memory\", \"10g\")\n",
    "         .config(\"spark.memory.offHeap.enabled\", True)\n",
    "         .config(\"spark.memory.offHeap.size\", \"25g\")\n",
    "         .config(\"spark.sql.execution.arrow.pyspark.enabled\", \"true\")\n",
    "         .getOrCreate())\n",
    "\n",
    "sc = spark.sparkContext\n",
    "sc.uiWebUrl"
   ]
  },
  {
   "cell_type": "markdown",
   "id": "4ab75fdc-6e47-4671-b06b-4109f7a2bc66",
   "metadata": {},
   "source": [
    "# Buscar terminos en la sección de por lo tanto de la sentencia y aplicar filtro del dataset"
   ]
  },
  {
   "cell_type": "code",
   "execution_count": 8,
   "id": "2a92cddd-4b24-4bdf-85d7-ceabe68d009d",
   "metadata": {
    "execution": {
     "iopub.execute_input": "2021-10-15T05:50:58.802826Z",
     "iopub.status.busy": "2021-10-15T05:50:58.802441Z",
     "iopub.status.idle": "2021-10-15T05:51:02.750455Z",
     "shell.execute_reply": "2021-10-15T05:51:02.750043Z",
     "shell.execute_reply.started": "2021-10-15T05:50:58.802811Z"
    },
    "tags": []
   },
   "outputs": [
    {
     "name": "stderr",
     "output_type": "stream",
     "text": [
      "                                                                                \r"
     ]
    },
    {
     "name": "stdout",
     "output_type": "stream",
     "text": [
      "Cantidad elementos originales : 1365\n"
     ]
    },
    {
     "name": "stderr",
     "output_type": "stream",
     "text": [
      "[Stage 17:=============================>                            (1 + 1) / 2]\r"
     ]
    },
    {
     "name": "stdout",
     "output_type": "stream",
     "text": [
      "Cantidad elementos despues de filtrados : 1365\n"
     ]
    },
    {
     "name": "stderr",
     "output_type": "stream",
     "text": [
      "                                                                                \r"
     ]
    }
   ],
   "source": [
    "terminos = {\n",
    "    'seguimiento': [r'\\bseguimiento\\b'],\n",
    "    'se ordena': [r'\\bse ordena\\b', r'\\bse le ordena\\b', r'\\bse les ordena\\b'],\n",
    "    'plan': [r'\\bplan\\b'],\n",
    "    'plazo': [r'\\bplazo\\b']\n",
    "}\n",
    "seleccion = Seleccion(terminos, spark, parquet_path='./dataset', datasets_path='./datasets/estructurales')\n",
    "print(\"Cantidad elementos originales : \" + str(seleccion.sdf.count()))\n",
    "seleccion.filtrar_sentencias(preprocess=solo_portanto, keepRowEmpty=True)\n",
    "print(\"Cantidad elementos despues de filtrados : \" + str(seleccion.sdf.count()))\n",
    "estructurales = SentenciasEstructurales(seleccion)"
   ]
  },
  {
   "cell_type": "markdown",
   "id": "d77b9686-78ed-4c53-9cf9-694c588b45e6",
   "metadata": {
    "tags": []
   },
   "source": [
    "# Formar dataset de sentencias estructurales"
   ]
  },
  {
   "cell_type": "code",
   "execution_count": 9,
   "id": "2efc878d-2fc1-4743-b8ea-c3fecf943042",
   "metadata": {
    "execution": {
     "iopub.execute_input": "2021-10-15T05:51:02.751529Z",
     "iopub.status.busy": "2021-10-15T05:51:02.751380Z",
     "iopub.status.idle": "2021-10-15T05:54:25.496092Z",
     "shell.execute_reply": "2021-10-15T05:54:25.495643Z",
     "shell.execute_reply.started": "2021-10-15T05:51:02.751496Z"
    },
    "tags": []
   },
   "outputs": [
    {
     "name": "stderr",
     "output_type": "stream",
     "text": [
      "                                                                                \r"
     ]
    }
   ],
   "source": [
    "from pyspark.sql.types import *\n",
    "\n",
    "columnas = {\n",
    "    'se ordena PER' : ArrayType(StringType()),\n",
    "    'se ordena LOC' : ArrayType(StringType()),\n",
    "    'se ordena ORG' : ArrayType(StringType()),\n",
    "    'se ordena MISC' : ArrayType(StringType()),\n",
    "    'se ordena GPE' : ArrayType(StringType()),\n",
    "    'se ordena Ent Pub' : ArrayType(StringType())\n",
    "}\n",
    "estructurales.separarSeOrdena(columnas, True, True)\n",
    "\n",
    "columnas = {\n",
    "    'extension sentencia' : IntegerType(),\n",
    "    'extension por lo tanto' : IntegerType()\n",
    "}\n",
    "estructurales.extraerExtension(columnas, True)\n",
    "\n",
    "columnas = {\n",
    "    'plazosDefinidos' : ArrayType(TimestampType())\n",
    "}\n",
    "estructurales.plazosDefinidos(columnas, True)\n",
    "\n",
    "columnas = {\n",
    "    'FechaSolicitud' : TimestampType(),\n",
    "}\n",
    "\n",
    "estructurales.extrarFechaRecibido(columnas, True)\n",
    "columnas = {\n",
    "    'num resolucion' : StringType()\n",
    "}\n",
    "\n",
    "estructurales.extraerNumeroSentencia(columnas, True)\n",
    "#Sobreescribir el dataset de filtro de sentencias con las nuevas columnas\n",
    "estructurales.seleccion.guardarDatos()"
   ]
  },
  {
   "cell_type": "markdown",
   "id": "be285599-df3e-4e3e-9a91-8e9e594e6386",
   "metadata": {},
   "source": [
    "# Cargar procesamiento de sentencias estructurales."
   ]
  },
  {
   "cell_type": "code",
   "execution_count": 12,
   "id": "9faee8a1-7740-448a-9603-b5bc03ddedcb",
   "metadata": {
    "execution": {
     "iopub.execute_input": "2021-10-15T06:10:07.784999Z",
     "iopub.status.busy": "2021-10-15T06:10:07.784547Z",
     "iopub.status.idle": "2021-10-15T06:10:08.175681Z",
     "shell.execute_reply": "2021-10-15T06:10:08.175219Z",
     "shell.execute_reply.started": "2021-10-15T06:10:07.784984Z"
    },
    "tags": []
   },
   "outputs": [
    {
     "name": "stderr",
     "output_type": "stream",
     "text": [
      "/opt/conda/lib/python3.9/site-packages/pyspark/sql/pandas/conversion.py:87: UserWarning: toPandas attempted Arrow optimization because 'spark.sql.execution.arrow.pyspark.enabled' is set to true; however, failed by the reason below:\n",
      "  Unsupported type in conversion to Arrow: ArrayType(TimestampType,true)\n",
      "Attempting non-optimization as 'spark.sql.execution.arrow.pyspark.fallback.enabled' is set to true.\n",
      "  warnings.warn(msg)\n"
     ]
    },
    {
     "data": {
      "text/html": [
       "<div>\n",
       "<style scoped>\n",
       "    .dataframe tbody tr th:only-of-type {\n",
       "        vertical-align: middle;\n",
       "    }\n",
       "\n",
       "    .dataframe tbody tr th {\n",
       "        vertical-align: top;\n",
       "    }\n",
       "\n",
       "    .dataframe thead th {\n",
       "        text-align: right;\n",
       "    }\n",
       "</style>\n",
       "<table border=\"1\" class=\"dataframe\">\n",
       "  <thead>\n",
       "    <tr style=\"text-align: right;\">\n",
       "      <th></th>\n",
       "      <th>archivo</th>\n",
       "      <th>txt</th>\n",
       "      <th>tema</th>\n",
       "      <th>tema_prob</th>\n",
       "      <th>expediente</th>\n",
       "      <th>fechahora_ext</th>\n",
       "      <th>redactor_ext</th>\n",
       "      <th>tipoResolucion_ext</th>\n",
       "      <th>termino_ext</th>\n",
       "      <th>voto_salvado</th>\n",
       "      <th>...</th>\n",
       "      <th>se_ordena_LOC</th>\n",
       "      <th>se_ordena_ORG</th>\n",
       "      <th>se_ordena_MISC</th>\n",
       "      <th>se_ordena_GPE</th>\n",
       "      <th>se_ordena_Ent_Pub</th>\n",
       "      <th>extension_sentencia</th>\n",
       "      <th>extension_por_lo_tanto</th>\n",
       "      <th>plazosDefinidos</th>\n",
       "      <th>FechaSolicitud</th>\n",
       "      <th>num_resolucion</th>\n",
       "    </tr>\n",
       "  </thead>\n",
       "  <tbody>\n",
       "    <tr>\n",
       "      <th>0</th>\n",
       "      <td>784F6.html</td>\n",
       "      <td>*050151950007CO* Exp: 05-015195-0007-CO Res. N...</td>\n",
       "      <td>PETICION</td>\n",
       "      <td>0.086251</td>\n",
       "      <td>291C05</td>\n",
       "      <td>2006-05-30 17:14:00</td>\n",
       "      <td>Armijo Sancho</td>\n",
       "      <td>Recurso de Amparo</td>\n",
       "      <td>Con lugar parcial</td>\n",
       "      <td>False</td>\n",
       "      <td>...</td>\n",
       "      <td>[Circuito 02 de la, Colegio Líder INVU Las Cañas]</td>\n",
       "      <td>[Directora de la Escuela, Dirección Regional d...</td>\n",
       "      <td>[Director Regional de Educación de Alajuela, I]</td>\n",
       "      <td>None</td>\n",
       "      <td>[Instituto Nacional de Vivienda y Urbanismo, I...</td>\n",
       "      <td>24112</td>\n",
       "      <td>2582</td>\n",
       "      <td>None</td>\n",
       "      <td>2005-11-24 10:05:00</td>\n",
       "      <td>2006-07804</td>\n",
       "    </tr>\n",
       "    <tr>\n",
       "      <th>1</th>\n",
       "      <td>72C2E.html</td>\n",
       "      <td>*060010870007CO* Exp: 06-001087-0007-CO Res. N...</td>\n",
       "      <td>TRABAJO</td>\n",
       "      <td>0.451749</td>\n",
       "      <td>060010870007CO</td>\n",
       "      <td>2006-02-22 14:44:00</td>\n",
       "      <td>Vargas Benavides</td>\n",
       "      <td>Recurso de Amparo</td>\n",
       "      <td>Con lugar</td>\n",
       "      <td>False</td>\n",
       "      <td>...</td>\n",
       "      <td>[Ministerio de Educación Pública, Ministro de ...</td>\n",
       "      <td>None</td>\n",
       "      <td>None</td>\n",
       "      <td>None</td>\n",
       "      <td>[Ministerio de Educacion Publica]</td>\n",
       "      <td>6022</td>\n",
       "      <td>1394</td>\n",
       "      <td>[1970-01-03 00:00:00]</td>\n",
       "      <td>2006-01-31 12:27:00</td>\n",
       "      <td>2006-02200</td>\n",
       "    </tr>\n",
       "    <tr>\n",
       "      <th>2</th>\n",
       "      <td>7865A.html</td>\n",
       "      <td>*060032250007CO* Exp: 06-003225-0007-CO Res. N...</td>\n",
       "      <td>PENITENCIARIO</td>\n",
       "      <td>0.335066</td>\n",
       "      <td>060032250007CO</td>\n",
       "      <td>2006-07-19 19:41:00</td>\n",
       "      <td>Cruz Castro</td>\n",
       "      <td>Hábeas Corpus</td>\n",
       "      <td>Con lugar</td>\n",
       "      <td>False</td>\n",
       "      <td>...</td>\n",
       "      <td>None</td>\n",
       "      <td>None</td>\n",
       "      <td>None</td>\n",
       "      <td>None</td>\n",
       "      <td>None</td>\n",
       "      <td>4704</td>\n",
       "      <td>1297</td>\n",
       "      <td>None</td>\n",
       "      <td>2005-04-28 14:13:00</td>\n",
       "      <td>2006-010418</td>\n",
       "    </tr>\n",
       "    <tr>\n",
       "      <th>3</th>\n",
       "      <td>79A74.html</td>\n",
       "      <td>*060096310007CO* Exp: 06-009631-0007-CO Res. N...</td>\n",
       "      <td>PETICION</td>\n",
       "      <td>0.252051</td>\n",
       "      <td>060096310007CO</td>\n",
       "      <td>2006-08-23 16:26:00</td>\n",
       "      <td>Calzada Miranda</td>\n",
       "      <td>Recurso de Amparo</td>\n",
       "      <td>Con lugar</td>\n",
       "      <td>False</td>\n",
       "      <td>...</td>\n",
       "      <td>None</td>\n",
       "      <td>None</td>\n",
       "      <td>None</td>\n",
       "      <td>None</td>\n",
       "      <td>None</td>\n",
       "      <td>6041</td>\n",
       "      <td>457</td>\n",
       "      <td>None</td>\n",
       "      <td>2006-08-07 14:05:00</td>\n",
       "      <td>2006012365</td>\n",
       "    </tr>\n",
       "    <tr>\n",
       "      <th>4</th>\n",
       "      <td>72D53.html</td>\n",
       "      <td>*050165730007CO* Exp: 05-016573-0007-CO Res: 2...</td>\n",
       "      <td>TRABAJO</td>\n",
       "      <td>0.445111</td>\n",
       "      <td>050165730007CO</td>\n",
       "      <td>2006-03-10 13:10:00</td>\n",
       "      <td>Cruz Castro</td>\n",
       "      <td>Recurso de Amparo</td>\n",
       "      <td>Con lugar</td>\n",
       "      <td>False</td>\n",
       "      <td>...</td>\n",
       "      <td>None</td>\n",
       "      <td>None</td>\n",
       "      <td>None</td>\n",
       "      <td>None</td>\n",
       "      <td>None</td>\n",
       "      <td>4824</td>\n",
       "      <td>403</td>\n",
       "      <td>None</td>\n",
       "      <td>2005-12-23 14:20:00</td>\n",
       "      <td>2006-03283</td>\n",
       "    </tr>\n",
       "    <tr>\n",
       "      <th>5</th>\n",
       "      <td>7B98B.html</td>\n",
       "      <td>*060035870007CO* Exp: 06-003587-0007-CO Res. N...</td>\n",
       "      <td>PETICION</td>\n",
       "      <td>0.086251</td>\n",
       "      <td>060035870007CO</td>\n",
       "      <td>NaT</td>\n",
       "      <td>Sosto López</td>\n",
       "      <td>Recurso de Amparo</td>\n",
       "      <td>Con lugar</td>\n",
       "      <td>False</td>\n",
       "      <td>...</td>\n",
       "      <td>[Ministra de Obras Publicas y Transportes, Min...</td>\n",
       "      <td>None</td>\n",
       "      <td>[Dependencias Técnicas]</td>\n",
       "      <td>None</td>\n",
       "      <td>None</td>\n",
       "      <td>19759</td>\n",
       "      <td>1575</td>\n",
       "      <td>[1970-04-01 00:00:00]</td>\n",
       "      <td>2006-03-28 09:41:00</td>\n",
       "      <td>2006010069</td>\n",
       "    </tr>\n",
       "    <tr>\n",
       "      <th>6</th>\n",
       "      <td>7DA84.html</td>\n",
       "      <td>*060142170007CO* Exp: 06-014217-0007-CO Res. N...</td>\n",
       "      <td>TRABAJO</td>\n",
       "      <td>0.644294</td>\n",
       "      <td>060142170007CO</td>\n",
       "      <td>2006-12-12 17:22:00</td>\n",
       "      <td>Jinesta Lobo</td>\n",
       "      <td>Recurso de Amparo</td>\n",
       "      <td>Con lugar</td>\n",
       "      <td>False</td>\n",
       "      <td>...</td>\n",
       "      <td>[Ministerio de Trabajo y Seguridad]</td>\n",
       "      <td>[Director Nacional de Pensiones]</td>\n",
       "      <td>None</td>\n",
       "      <td>None</td>\n",
       "      <td>None</td>\n",
       "      <td>14270</td>\n",
       "      <td>1466</td>\n",
       "      <td>None</td>\n",
       "      <td>2006-11-20 11:00:00</td>\n",
       "      <td>2006-017920</td>\n",
       "    </tr>\n",
       "    <tr>\n",
       "      <th>7</th>\n",
       "      <td>7544C.html</td>\n",
       "      <td>*060045980007CO* Exp: 06-004598-0007-CO Res. N...</td>\n",
       "      <td>TRABAJO</td>\n",
       "      <td>0.371132</td>\n",
       "      <td>060045980007CO</td>\n",
       "      <td>2006-05-16 15:54:00</td>\n",
       "      <td>Armijo Sancho</td>\n",
       "      <td>Recurso de Amparo</td>\n",
       "      <td>Con lugar</td>\n",
       "      <td>False</td>\n",
       "      <td>...</td>\n",
       "      <td>None</td>\n",
       "      <td>None</td>\n",
       "      <td>None</td>\n",
       "      <td>None</td>\n",
       "      <td>None</td>\n",
       "      <td>6579</td>\n",
       "      <td>401</td>\n",
       "      <td>None</td>\n",
       "      <td>2006-04-24 13:06:00</td>\n",
       "      <td>2006-006683</td>\n",
       "    </tr>\n",
       "    <tr>\n",
       "      <th>8</th>\n",
       "      <td>715B6.html</td>\n",
       "      <td>*050147230007CO* Exp: 05-014723-0007-CO Res. N...</td>\n",
       "      <td>PETICION</td>\n",
       "      <td>0.273704</td>\n",
       "      <td>050147230007CO</td>\n",
       "      <td>2006-02-10 11:51:00</td>\n",
       "      <td>Rodríguez Arroyo</td>\n",
       "      <td>Recurso de Amparo</td>\n",
       "      <td>Con lugar</td>\n",
       "      <td>False</td>\n",
       "      <td>...</td>\n",
       "      <td>[Alcaldesa Municipal de Montes de Oca]</td>\n",
       "      <td>None</td>\n",
       "      <td>None</td>\n",
       "      <td>None</td>\n",
       "      <td>None</td>\n",
       "      <td>9301</td>\n",
       "      <td>1275</td>\n",
       "      <td>None</td>\n",
       "      <td>2005-11-15 08:52:00</td>\n",
       "      <td>2006-001463</td>\n",
       "    </tr>\n",
       "    <tr>\n",
       "      <th>9</th>\n",
       "      <td>6FF2A.html</td>\n",
       "      <td>*050143170007CO* Exp: 05-014317-0007-CO Res. N...</td>\n",
       "      <td>PENSION</td>\n",
       "      <td>0.680464</td>\n",
       "      <td>050143170007CO</td>\n",
       "      <td>2006-01-27 12:25:00</td>\n",
       "      <td>Molina Quesada</td>\n",
       "      <td>Recurso de Amparo</td>\n",
       "      <td>Con lugar</td>\n",
       "      <td>False</td>\n",
       "      <td>...</td>\n",
       "      <td>None</td>\n",
       "      <td>[Director Nacional de Pensiones]</td>\n",
       "      <td>[DNP-RE-2888-05, Ley de la Jurisdicción Consti...</td>\n",
       "      <td>None</td>\n",
       "      <td>None</td>\n",
       "      <td>6599</td>\n",
       "      <td>1453</td>\n",
       "      <td>[1970-06-30 00:00:00]</td>\n",
       "      <td>2005-11-07 08:10:00</td>\n",
       "      <td>2006-00694</td>\n",
       "    </tr>\n",
       "  </tbody>\n",
       "</table>\n",
       "<p>10 rows × 36 columns</p>\n",
       "</div>"
      ],
      "text/plain": [
       "      archivo                                                txt  \\\n",
       "0  784F6.html  *050151950007CO* Exp: 05-015195-0007-CO Res. N...   \n",
       "1  72C2E.html  *060010870007CO* Exp: 06-001087-0007-CO Res. N...   \n",
       "2  7865A.html  *060032250007CO* Exp: 06-003225-0007-CO Res. N...   \n",
       "3  79A74.html  *060096310007CO* Exp: 06-009631-0007-CO Res. N...   \n",
       "4  72D53.html  *050165730007CO* Exp: 05-016573-0007-CO Res: 2...   \n",
       "5  7B98B.html  *060035870007CO* Exp: 06-003587-0007-CO Res. N...   \n",
       "6  7DA84.html  *060142170007CO* Exp: 06-014217-0007-CO Res. N...   \n",
       "7  7544C.html  *060045980007CO* Exp: 06-004598-0007-CO Res. N...   \n",
       "8  715B6.html  *050147230007CO* Exp: 05-014723-0007-CO Res. N...   \n",
       "9  6FF2A.html  *050143170007CO* Exp: 05-014317-0007-CO Res. N...   \n",
       "\n",
       "            tema  tema_prob      expediente       fechahora_ext  \\\n",
       "0       PETICION   0.086251          291C05 2006-05-30 17:14:00   \n",
       "1        TRABAJO   0.451749  060010870007CO 2006-02-22 14:44:00   \n",
       "2  PENITENCIARIO   0.335066  060032250007CO 2006-07-19 19:41:00   \n",
       "3       PETICION   0.252051  060096310007CO 2006-08-23 16:26:00   \n",
       "4        TRABAJO   0.445111  050165730007CO 2006-03-10 13:10:00   \n",
       "5       PETICION   0.086251  060035870007CO                 NaT   \n",
       "6        TRABAJO   0.644294  060142170007CO 2006-12-12 17:22:00   \n",
       "7        TRABAJO   0.371132  060045980007CO 2006-05-16 15:54:00   \n",
       "8       PETICION   0.273704  050147230007CO 2006-02-10 11:51:00   \n",
       "9        PENSION   0.680464  050143170007CO 2006-01-27 12:25:00   \n",
       "\n",
       "       redactor_ext tipoResolucion_ext        termino_ext  voto_salvado  ...  \\\n",
       "0     Armijo Sancho  Recurso de Amparo  Con lugar parcial         False  ...   \n",
       "1  Vargas Benavides  Recurso de Amparo          Con lugar         False  ...   \n",
       "2       Cruz Castro      Hábeas Corpus          Con lugar         False  ...   \n",
       "3   Calzada Miranda  Recurso de Amparo          Con lugar         False  ...   \n",
       "4       Cruz Castro  Recurso de Amparo          Con lugar         False  ...   \n",
       "5       Sosto López  Recurso de Amparo          Con lugar         False  ...   \n",
       "6      Jinesta Lobo  Recurso de Amparo          Con lugar         False  ...   \n",
       "7     Armijo Sancho  Recurso de Amparo          Con lugar         False  ...   \n",
       "8  Rodríguez Arroyo  Recurso de Amparo          Con lugar         False  ...   \n",
       "9    Molina Quesada  Recurso de Amparo          Con lugar         False  ...   \n",
       "\n",
       "                                       se_ordena_LOC  \\\n",
       "0  [Circuito 02 de la, Colegio Líder INVU Las Cañas]   \n",
       "1  [Ministerio de Educación Pública, Ministro de ...   \n",
       "2                                               None   \n",
       "3                                               None   \n",
       "4                                               None   \n",
       "5  [Ministra de Obras Publicas y Transportes, Min...   \n",
       "6                [Ministerio de Trabajo y Seguridad]   \n",
       "7                                               None   \n",
       "8             [Alcaldesa Municipal de Montes de Oca]   \n",
       "9                                               None   \n",
       "\n",
       "                                       se_ordena_ORG  \\\n",
       "0  [Directora de la Escuela, Dirección Regional d...   \n",
       "1                                               None   \n",
       "2                                               None   \n",
       "3                                               None   \n",
       "4                                               None   \n",
       "5                                               None   \n",
       "6                   [Director Nacional de Pensiones]   \n",
       "7                                               None   \n",
       "8                                               None   \n",
       "9                   [Director Nacional de Pensiones]   \n",
       "\n",
       "                                      se_ordena_MISC se_ordena_GPE  \\\n",
       "0    [Director Regional de Educación de Alajuela, I]          None   \n",
       "1                                               None          None   \n",
       "2                                               None          None   \n",
       "3                                               None          None   \n",
       "4                                               None          None   \n",
       "5                            [Dependencias Técnicas]          None   \n",
       "6                                               None          None   \n",
       "7                                               None          None   \n",
       "8                                               None          None   \n",
       "9  [DNP-RE-2888-05, Ley de la Jurisdicción Consti...          None   \n",
       "\n",
       "                                   se_ordena_Ent_Pub extension_sentencia  \\\n",
       "0  [Instituto Nacional de Vivienda y Urbanismo, I...               24112   \n",
       "1                  [Ministerio de Educacion Publica]                6022   \n",
       "2                                               None                4704   \n",
       "3                                               None                6041   \n",
       "4                                               None                4824   \n",
       "5                                               None               19759   \n",
       "6                                               None               14270   \n",
       "7                                               None                6579   \n",
       "8                                               None                9301   \n",
       "9                                               None                6599   \n",
       "\n",
       "  extension_por_lo_tanto        plazosDefinidos      FechaSolicitud  \\\n",
       "0                   2582                   None 2005-11-24 10:05:00   \n",
       "1                   1394  [1970-01-03 00:00:00] 2006-01-31 12:27:00   \n",
       "2                   1297                   None 2005-04-28 14:13:00   \n",
       "3                    457                   None 2006-08-07 14:05:00   \n",
       "4                    403                   None 2005-12-23 14:20:00   \n",
       "5                   1575  [1970-04-01 00:00:00] 2006-03-28 09:41:00   \n",
       "6                   1466                   None 2006-11-20 11:00:00   \n",
       "7                    401                   None 2006-04-24 13:06:00   \n",
       "8                   1275                   None 2005-11-15 08:52:00   \n",
       "9                   1453  [1970-06-30 00:00:00] 2005-11-07 08:10:00   \n",
       "\n",
       "  num_resolucion  \n",
       "0     2006-07804  \n",
       "1     2006-02200  \n",
       "2    2006-010418  \n",
       "3     2006012365  \n",
       "4     2006-03283  \n",
       "5     2006010069  \n",
       "6    2006-017920  \n",
       "7    2006-006683  \n",
       "8    2006-001463  \n",
       "9     2006-00694  \n",
       "\n",
       "[10 rows x 36 columns]"
      ]
     },
     "execution_count": 12,
     "metadata": {},
     "output_type": "execute_result"
    }
   ],
   "source": [
    "terminos = {\n",
    "    'seguimiento': [r'\\bseguimiento\\b'],\n",
    "    'se ordena': [r'\\bse ordena\\b', r'\\bse le ordena\\b', r'\\bse les ordena\\b'],\n",
    "    'plan': [r'\\bplan\\b'],\n",
    "    'plazo': [r'\\bplazo\\b']\n",
    "}\n",
    "seleccion = Seleccion(terminos, spark, parquet_path='./dataset', datasets_path='./datasets/estructurales')\n",
    "seleccion.cargarPreprocesados()\n",
    "\n",
    "estructurales = SentenciasEstructurales(seleccion)\n",
    "s = estructurales.seleccion.sdf\n",
    "s.limit(10).toPandas()"
   ]
  },
  {
   "cell_type": "markdown",
   "id": "d5da6726-dbb8-407a-a037-531bad558316",
   "metadata": {
    "tags": []
   },
   "source": [
    "# Zona de trabajo (ignorar)"
   ]
  },
  {
   "cell_type": "code",
   "execution_count": 14,
   "id": "5d2c7a8f-34cf-4118-941d-c55c6a869c51",
   "metadata": {
    "execution": {
     "iopub.execute_input": "2021-10-15T06:10:26.320581Z",
     "iopub.status.busy": "2021-10-15T06:10:26.320182Z",
     "iopub.status.idle": "2021-10-15T06:10:26.721796Z",
     "shell.execute_reply": "2021-10-15T06:10:26.721302Z",
     "shell.execute_reply.started": "2021-10-15T06:10:26.320566Z"
    },
    "tags": []
   },
   "outputs": [
    {
     "name": "stdout",
     "output_type": "stream",
     "text": [
      "Totales : 1365\n",
      "Nulos :  3\n",
      "Completos :  1362\n",
      "Accuracy :  0.9978021978021978\n"
     ]
    }
   ],
   "source": [
    "s = estructurales.seleccion.sdf\n",
    "print(\"Totales :\", str(s.count()))\n",
    "print(\"Nulos : \", str(s.filter(s.num_resolucion.isNull()).count()))\n",
    "print(\"Completos : \", str(s.filter(s.num_resolucion.isNotNull()).count()))\n",
    "print(\"Accuracy : \" ,s.filter(s.num_resolucion.isNotNull()).count()/s.count())\n",
    "\n",
    "s = s.filter(s.num_resolucion.isNull())\n",
    "#s = estructurales.seleccion.sdf"
   ]
  },
  {
   "cell_type": "code",
   "execution_count": 16,
   "id": "3033a166-aceb-45a4-b747-601759b3923e",
   "metadata": {
    "execution": {
     "iopub.execute_input": "2021-10-15T06:10:45.767708Z",
     "iopub.status.busy": "2021-10-15T06:10:45.767291Z",
     "iopub.status.idle": "2021-10-15T06:10:46.048507Z",
     "shell.execute_reply": "2021-10-15T06:10:46.047893Z",
     "shell.execute_reply.started": "2021-10-15T06:10:45.767681Z"
    },
    "tags": []
   },
   "outputs": [
    {
     "data": {
      "text/html": [
       "<div>\n",
       "<style scoped>\n",
       "    .dataframe tbody tr th:only-of-type {\n",
       "        vertical-align: middle;\n",
       "    }\n",
       "\n",
       "    .dataframe tbody tr th {\n",
       "        vertical-align: top;\n",
       "    }\n",
       "\n",
       "    .dataframe thead th {\n",
       "        text-align: right;\n",
       "    }\n",
       "</style>\n",
       "<table border=\"1\" class=\"dataframe\">\n",
       "  <thead>\n",
       "    <tr style=\"text-align: right;\">\n",
       "      <th></th>\n",
       "      <th>anno</th>\n",
       "      <th>count</th>\n",
       "    </tr>\n",
       "  </thead>\n",
       "  <tbody>\n",
       "    <tr>\n",
       "      <th>2</th>\n",
       "      <td>1993</td>\n",
       "      <td>1</td>\n",
       "    </tr>\n",
       "    <tr>\n",
       "      <th>0</th>\n",
       "      <td>1997</td>\n",
       "      <td>1</td>\n",
       "    </tr>\n",
       "    <tr>\n",
       "      <th>1</th>\n",
       "      <td>2019</td>\n",
       "      <td>1</td>\n",
       "    </tr>\n",
       "  </tbody>\n",
       "</table>\n",
       "</div>"
      ],
      "text/plain": [
       "   anno  count\n",
       "2  1993      1\n",
       "0  1997      1\n",
       "1  2019      1"
      ]
     },
     "execution_count": 16,
     "metadata": {},
     "output_type": "execute_result"
    }
   ],
   "source": [
    "s.filter(s.num_resolucion.isNull()).groupby(s.anno).count().toPandas().sort_values('anno')"
   ]
  },
  {
   "cell_type": "code",
   "execution_count": 41,
   "id": "24f14140-17c2-42be-8ccd-75331886b08c",
   "metadata": {
    "collapsed": true,
    "execution": {
     "iopub.execute_input": "2021-10-15T05:36:50.498493Z",
     "iopub.status.busy": "2021-10-15T05:36:50.498246Z",
     "iopub.status.idle": "2021-10-15T05:36:50.719825Z",
     "shell.execute_reply": "2021-10-15T05:36:50.719298Z",
     "shell.execute_reply.started": "2021-10-15T05:36:50.498478Z"
    },
    "jupyter": {
     "outputs_hidden": true
    },
    "tags": []
   },
   "outputs": [
    {
     "data": {
      "text/html": [
       "<div>\n",
       "<style scoped>\n",
       "    .dataframe tbody tr th:only-of-type {\n",
       "        vertical-align: middle;\n",
       "    }\n",
       "\n",
       "    .dataframe tbody tr th {\n",
       "        vertical-align: top;\n",
       "    }\n",
       "\n",
       "    .dataframe thead th {\n",
       "        text-align: right;\n",
       "    }\n",
       "</style>\n",
       "<table border=\"1\" class=\"dataframe\">\n",
       "  <thead>\n",
       "    <tr style=\"text-align: right;\">\n",
       "      <th></th>\n",
       "      <th>anno</th>\n",
       "      <th>count</th>\n",
       "    </tr>\n",
       "  </thead>\n",
       "  <tbody>\n",
       "    <tr>\n",
       "      <th>2</th>\n",
       "      <td>1993</td>\n",
       "      <td>1</td>\n",
       "    </tr>\n",
       "    <tr>\n",
       "      <th>0</th>\n",
       "      <td>1997</td>\n",
       "      <td>1</td>\n",
       "    </tr>\n",
       "    <tr>\n",
       "      <th>1</th>\n",
       "      <td>2019</td>\n",
       "      <td>1</td>\n",
       "    </tr>\n",
       "  </tbody>\n",
       "</table>\n",
       "</div>"
      ],
      "text/plain": [
       "   anno  count\n",
       "2  1993      1\n",
       "0  1997      1\n",
       "1  2019      1"
      ]
     },
     "execution_count": 41,
     "metadata": {},
     "output_type": "execute_result"
    }
   ],
   "source": [
    "s.filter(s.num_resolucion.isNull()).groupby(s.anno).count().toPandas().sort_values('anno')"
   ]
  }
 ],
 "metadata": {
  "kernelspec": {
   "display_name": "Python 3 (ipykernel)",
   "language": "python",
   "name": "python3"
  },
  "language_info": {
   "codemirror_mode": {
    "name": "ipython",
    "version": 3
   },
   "file_extension": ".py",
   "mimetype": "text/x-python",
   "name": "python",
   "nbconvert_exporter": "python",
   "pygments_lexer": "ipython3",
   "version": "3.9.6"
  }
 },
 "nbformat": 4,
 "nbformat_minor": 5
}
