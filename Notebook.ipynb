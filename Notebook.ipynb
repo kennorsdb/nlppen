{
 "cells": [
  {
   "cell_type": "code",
   "execution_count": null,
   "id": "28f56ce3-6a94-4fc2-a051-945ebfb32480",
   "metadata": {},
   "outputs": [],
   "source": []
  },
  {
   "cell_type": "markdown",
   "id": "6a834852-b9fd-483c-93e6-3b80f3e879c5",
   "metadata": {},
   "source": [
    "# Imports"
   ]
  },
  {
   "cell_type": "code",
   "execution_count": 1,
   "id": "cc2ec801-fdee-413e-aca9-8ee8e77e0cac",
   "metadata": {
    "tags": []
   },
   "outputs": [],
   "source": [
    "%load_ext autoreload\n",
    "%autoreload 2\n",
    "import sys\n",
    "from nlppen.extraccion.utils.Txt2Numbers import Txt2Numbers\n",
    "from nlppen.analisis import Analisis\n",
    "from nlppen.seleccion import Seleccion\n",
    "from nlppen.spark_udfs import solo_portanto, spark_get_spacy\n",
    "from nlppen.sentencias_estructurales import SentenciasEstructurales\n",
    "from pyspark.sql import SparkSession\n",
    "from pyspark.sql.functions import length"
   ]
  },
  {
   "cell_type": "markdown",
   "id": "3106f23a-2bb1-483d-bc31-aa48b9a7db2a",
   "metadata": {
    "tags": []
   },
   "source": [
    "## Initialize spark context"
   ]
  },
  {
   "cell_type": "code",
   "execution_count": 2,
   "id": "b819481b-6ee8-42c7-9add-c19ceba43563",
   "metadata": {
    "tags": []
   },
   "outputs": [
    {
     "name": "stderr",
     "output_type": "stream",
     "text": [
      "21/10/05 20:08:51 WARN NativeCodeLoader: Unable to load native-hadoop library for your platform... using builtin-java classes where applicable\n",
      "Using Spark's default log4j profile: org/apache/spark/log4j-defaults.properties\n",
      "Setting default log level to \"WARN\".\n",
      "To adjust logging level use sc.setLogLevel(newLevel). For SparkR, use setLogLevel(newLevel).\n"
     ]
    },
    {
     "data": {
      "text/plain": [
       "'http://69abb479a5e1:4040'"
      ]
     },
     "execution_count": 2,
     "metadata": {},
     "output_type": "execute_result"
    }
   ],
   "source": [
    "spark = (SparkSession\n",
    "         .builder\n",
    "         .appName(\"Transforming sentences\")\n",
    "         .config(\"spark.num.executors\", \"1\")\n",
    "         .config(\"spark.executor.memory\", \"5g\")\n",
    "         .config(\"spark.executor.cores\", \"1\")\n",
    "         .config(\"spark.driver.memory\", \"5g\")\n",
    "         .config(\"spark.memory.offHeap.enabled\", True)\n",
    "         .config(\"spark.memory.offHeap.size\", \"10g\")\n",
    "         .config(\"spark.sql.execution.arrow.pyspark.enabled\", \"true\")\n",
    "         .getOrCreate())\n",
    "\n",
    "\n",
    "sc = spark.sparkContext\n",
    "sc.uiWebUrl"
   ]
  },
  {
   "cell_type": "markdown",
   "id": "4ab75fdc-6e47-4671-b06b-4109f7a2bc66",
   "metadata": {},
   "source": [
    "# Buscar terminos en la sección de por lo tanto de la sentencia y aplicar filtro del dataset"
   ]
  },
  {
   "cell_type": "code",
   "execution_count": 3,
   "id": "2a92cddd-4b24-4bdf-85d7-ceabe68d009d",
   "metadata": {
    "tags": []
   },
   "outputs": [
    {
     "ename": "AnalysisException",
     "evalue": "Path does not exist: file:/home/jovyan/Work/ej/paquetes/nlppen/dataset",
     "output_type": "error",
     "traceback": [
      "\u001b[0;31m---------------------------------------------------------------------------\u001b[0m",
      "\u001b[0;31mAnalysisException\u001b[0m                         Traceback (most recent call last)",
      "\u001b[0;32m/tmp/ipykernel_326/1520151674.py\u001b[0m in \u001b[0;36m<module>\u001b[0;34m\u001b[0m\n\u001b[1;32m      7\u001b[0m \u001b[0;34m\u001b[0m\u001b[0m\n\u001b[1;32m      8\u001b[0m \u001b[0;34m\u001b[0m\u001b[0m\n\u001b[0;32m----> 9\u001b[0;31m \u001b[0mseleccion\u001b[0m \u001b[0;34m=\u001b[0m \u001b[0mSeleccion\u001b[0m\u001b[0;34m(\u001b[0m\u001b[0mterminos\u001b[0m\u001b[0;34m,\u001b[0m \u001b[0mspark\u001b[0m\u001b[0;34m,\u001b[0m \u001b[0mparquet_path\u001b[0m\u001b[0;34m=\u001b[0m\u001b[0;34m'./dataset'\u001b[0m\u001b[0;34m,\u001b[0m \u001b[0mdatasets_path\u001b[0m\u001b[0;34m=\u001b[0m\u001b[0;34m'./datasets/estructurales'\u001b[0m\u001b[0;34m)\u001b[0m\u001b[0;34m\u001b[0m\u001b[0;34m\u001b[0m\u001b[0m\n\u001b[0m\u001b[1;32m     10\u001b[0m \u001b[0mseleccion\u001b[0m\u001b[0;34m.\u001b[0m\u001b[0mfiltrar_sentencias\u001b[0m\u001b[0;34m(\u001b[0m\u001b[0mpreprocess\u001b[0m\u001b[0;34m=\u001b[0m\u001b[0msolo_portanto\u001b[0m\u001b[0;34m)\u001b[0m\u001b[0;34m\u001b[0m\u001b[0;34m\u001b[0m\u001b[0m\n\u001b[1;32m     11\u001b[0m \u001b[0;34m\u001b[0m\u001b[0m\n",
      "\u001b[0;32m~/Work/ej/paquetes/nlppen/nlppen/seleccion.py\u001b[0m in \u001b[0;36m__init__\u001b[0;34m(self, terminos, spark, parquet_path, cambios_path, datasets_path)\u001b[0m\n\u001b[1;32m     53\u001b[0m             \u001b[0mos\u001b[0m\u001b[0;34m.\u001b[0m\u001b[0mmakedirs\u001b[0m\u001b[0;34m(\u001b[0m\u001b[0mdatasets_path\u001b[0m\u001b[0;34m)\u001b[0m\u001b[0;34m\u001b[0m\u001b[0;34m\u001b[0m\u001b[0m\n\u001b[1;32m     54\u001b[0m \u001b[0;34m\u001b[0m\u001b[0m\n\u001b[0;32m---> 55\u001b[0;31m         \u001b[0mself\u001b[0m\u001b[0;34m.\u001b[0m\u001b[0msdf\u001b[0m \u001b[0;34m=\u001b[0m \u001b[0mself\u001b[0m\u001b[0;34m.\u001b[0m\u001b[0mspark\u001b[0m\u001b[0;34m.\u001b[0m\u001b[0mread\u001b[0m\u001b[0;34m.\u001b[0m\u001b[0mparquet\u001b[0m\u001b[0;34m(\u001b[0m\u001b[0mself\u001b[0m\u001b[0;34m.\u001b[0m\u001b[0mparquet_path\u001b[0m\u001b[0;34m)\u001b[0m\u001b[0;34m\u001b[0m\u001b[0;34m\u001b[0m\u001b[0m\n\u001b[0m\u001b[1;32m     56\u001b[0m \u001b[0;34m\u001b[0m\u001b[0m\n\u001b[1;32m     57\u001b[0m     \u001b[0;32mdef\u001b[0m \u001b[0mcargar_datos\u001b[0m\u001b[0;34m(\u001b[0m\u001b[0mself\u001b[0m\u001b[0;34m)\u001b[0m\u001b[0;34m:\u001b[0m\u001b[0;34m\u001b[0m\u001b[0;34m\u001b[0m\u001b[0m\n",
      "\u001b[0;32m/opt/conda/lib/python3.9/site-packages/pyspark/sql/readwriter.py\u001b[0m in \u001b[0;36mparquet\u001b[0;34m(self, *paths, **options)\u001b[0m\n\u001b[1;32m    456\u001b[0m                        modifiedAfter=modifiedAfter)\n\u001b[1;32m    457\u001b[0m \u001b[0;34m\u001b[0m\u001b[0m\n\u001b[0;32m--> 458\u001b[0;31m         \u001b[0;32mreturn\u001b[0m \u001b[0mself\u001b[0m\u001b[0;34m.\u001b[0m\u001b[0m_df\u001b[0m\u001b[0;34m(\u001b[0m\u001b[0mself\u001b[0m\u001b[0;34m.\u001b[0m\u001b[0m_jreader\u001b[0m\u001b[0;34m.\u001b[0m\u001b[0mparquet\u001b[0m\u001b[0;34m(\u001b[0m\u001b[0m_to_seq\u001b[0m\u001b[0;34m(\u001b[0m\u001b[0mself\u001b[0m\u001b[0;34m.\u001b[0m\u001b[0m_spark\u001b[0m\u001b[0;34m.\u001b[0m\u001b[0m_sc\u001b[0m\u001b[0;34m,\u001b[0m \u001b[0mpaths\u001b[0m\u001b[0;34m)\u001b[0m\u001b[0;34m)\u001b[0m\u001b[0;34m)\u001b[0m\u001b[0;34m\u001b[0m\u001b[0;34m\u001b[0m\u001b[0m\n\u001b[0m\u001b[1;32m    459\u001b[0m \u001b[0;34m\u001b[0m\u001b[0m\n\u001b[1;32m    460\u001b[0m     def text(self, paths, wholetext=False, lineSep=None, pathGlobFilter=None,\n",
      "\u001b[0;32m/opt/conda/lib/python3.9/site-packages/py4j/java_gateway.py\u001b[0m in \u001b[0;36m__call__\u001b[0;34m(self, *args)\u001b[0m\n\u001b[1;32m   1302\u001b[0m \u001b[0;34m\u001b[0m\u001b[0m\n\u001b[1;32m   1303\u001b[0m         \u001b[0manswer\u001b[0m \u001b[0;34m=\u001b[0m \u001b[0mself\u001b[0m\u001b[0;34m.\u001b[0m\u001b[0mgateway_client\u001b[0m\u001b[0;34m.\u001b[0m\u001b[0msend_command\u001b[0m\u001b[0;34m(\u001b[0m\u001b[0mcommand\u001b[0m\u001b[0;34m)\u001b[0m\u001b[0;34m\u001b[0m\u001b[0;34m\u001b[0m\u001b[0m\n\u001b[0;32m-> 1304\u001b[0;31m         return_value = get_return_value(\n\u001b[0m\u001b[1;32m   1305\u001b[0m             answer, self.gateway_client, self.target_id, self.name)\n\u001b[1;32m   1306\u001b[0m \u001b[0;34m\u001b[0m\u001b[0m\n",
      "\u001b[0;32m/opt/conda/lib/python3.9/site-packages/pyspark/sql/utils.py\u001b[0m in \u001b[0;36mdeco\u001b[0;34m(*a, **kw)\u001b[0m\n\u001b[1;32m    115\u001b[0m                 \u001b[0;31m# Hide where the exception came from that shows a non-Pythonic\u001b[0m\u001b[0;34m\u001b[0m\u001b[0;34m\u001b[0m\u001b[0;34m\u001b[0m\u001b[0m\n\u001b[1;32m    116\u001b[0m                 \u001b[0;31m# JVM exception message.\u001b[0m\u001b[0;34m\u001b[0m\u001b[0;34m\u001b[0m\u001b[0;34m\u001b[0m\u001b[0m\n\u001b[0;32m--> 117\u001b[0;31m                 \u001b[0;32mraise\u001b[0m \u001b[0mconverted\u001b[0m \u001b[0;32mfrom\u001b[0m \u001b[0;32mNone\u001b[0m\u001b[0;34m\u001b[0m\u001b[0;34m\u001b[0m\u001b[0m\n\u001b[0m\u001b[1;32m    118\u001b[0m             \u001b[0;32melse\u001b[0m\u001b[0;34m:\u001b[0m\u001b[0;34m\u001b[0m\u001b[0;34m\u001b[0m\u001b[0m\n\u001b[1;32m    119\u001b[0m                 \u001b[0;32mraise\u001b[0m\u001b[0;34m\u001b[0m\u001b[0;34m\u001b[0m\u001b[0m\n",
      "\u001b[0;31mAnalysisException\u001b[0m: Path does not exist: file:/home/jovyan/Work/ej/paquetes/nlppen/dataset"
     ]
    }
   ],
   "source": [
    "terminos = {\n",
    "    'seguimiento': [r'\\bseguimiento\\b'],\n",
    "    'se ordena': [r'\\bse ordena\\b'],\n",
    "    'plan': [r'\\bplan\\b'],\n",
    "    'plazo': [r'\\bplazo\\b']\n",
    "}\n",
    "\n",
    "\n",
    "seleccion = Seleccion(terminos, spark, parquet_path='./dataset', datasets_path='./datasets/estructurales')\n",
    "seleccion.filtrar_sentencias(preprocess=solo_portanto)\n",
    "\n",
    "estructurales = SentenciasEstructurales(seleccion)"
   ]
  },
  {
   "cell_type": "markdown",
   "id": "d77b9686-78ed-4c53-9cf9-694c588b45e6",
   "metadata": {
    "tags": []
   },
   "source": [
    "# Formar dataset de sentencias estructurales"
   ]
  },
  {
   "cell_type": "code",
   "execution_count": null,
   "id": "2efc878d-2fc1-4743-b8ea-c3fecf943042",
   "metadata": {
    "tags": []
   },
   "outputs": [],
   "source": [
    "from pyspark.sql.types import *\n",
    "\n",
    "columnas = {\n",
    "    'se ordena PER' : ArrayType(StringType()),\n",
    "    'se ordena LOC' : ArrayType(StringType()),\n",
    "    'se ordena ORG' : ArrayType(StringType()),\n",
    "    'se ordena MISC' : ArrayType(StringType()),\n",
    "    'se ordena GPE' : ArrayType(StringType())\n",
    "}\n",
    "estructurales.separarSeOrdena(columnas, True, True)\n",
    "\n",
    "columnas = {\n",
    "    'extension sentencia' : IntegerType(),\n",
    "    'extension por lo tanto' : IntegerType()\n",
    "}\n",
    "estructurales.extraerExtension(columnas, True)\n",
    "\n",
    "columnas = {\n",
    "    'plazosDefinidos' : ArrayType(TimestampType())\n",
    "}\n",
    "estructurales.plazosDefinidos(columnas, True)\n",
    "\n",
    "#Sobreescribir el dataset de filtro de sentencias con las nuevas columnas\n",
    "estructurales.seleccion.guardarDatos()"
   ]
  },
  {
   "cell_type": "code",
   "execution_count": null,
   "id": "3311da56-481f-47eb-be25-f5db561e0408",
   "metadata": {
    "tags": []
   },
   "outputs": [],
   "source": [
    "estructurales.seleccion.sdf.limit(15).toPandas()"
   ]
  },
  {
   "cell_type": "markdown",
   "id": "be285599-df3e-4e3e-9a91-8e9e594e6386",
   "metadata": {},
   "source": [
    "# Cargar procesamiento de sentencias estructurales."
   ]
  },
  {
   "cell_type": "code",
   "execution_count": null,
   "id": "9faee8a1-7740-448a-9603-b5bc03ddedcb",
   "metadata": {
    "tags": []
   },
   "outputs": [],
   "source": [
    "terminos = {\n",
    "    'seguimiento': [r'\\bseguimiento\\b'],\n",
    "    'se ordena': [r'\\bse ordena\\b'],\n",
    "    'plan': [r'\\bplan\\b'],\n",
    "    'plazo': [r'\\bplazo\\b']\n",
    "}\n",
    "seleccion = Seleccion(terminos, spark, parquet_path='./dataset', datasets_path='./datasets/estructurales')\n",
    "seleccion.cargarPreprocesados()\n",
    "\n",
    "estructurales = SentenciasEstructurales(seleccion)"
   ]
  },
  {
   "cell_type": "code",
   "execution_count": null,
   "id": "e9425b42-ff43-44ab-951b-b9c77e6f2999",
   "metadata": {},
   "outputs": [],
   "source": []
  },
  {
   "cell_type": "markdown",
   "id": "d5da6726-dbb8-407a-a037-531bad558316",
   "metadata": {},
   "source": [
    "# Zona de trabajo (ignorar)"
   ]
  },
  {
   "cell_type": "code",
   "execution_count": null,
   "id": "ea9a5164-38c6-4f26-9f4b-91fd49fe2816",
   "metadata": {
    "tags": []
   },
   "outputs": [],
   "source": [
    "s = estructurales.seleccion.sdf\n",
    "#print(solo_portanto(s.where(s.plazosDefinidos.isNotNull()).limit(15).toPandas().loc[1,'txt']))"
   ]
  },
  {
   "cell_type": "code",
   "execution_count": null,
   "id": "4f2324dd-cf90-417b-85c3-22582484236d",
   "metadata": {
    "tags": []
   },
   "outputs": [],
   "source": [
    "#print(s.where(s.plazosDefinidos.isNotNull()).limit(15).toPandas().loc[1,'se_ordena_PER'])"
   ]
  },
  {
   "cell_type": "code",
   "execution_count": null,
   "id": "78981adc-3160-46a4-9c1b-d8a7b3e687c1",
   "metadata": {
    "tags": []
   },
   "outputs": [],
   "source": [
    "#print(s.where(s.plazosDefinidos.isNotNull()).limit(15).toPandas().loc[1,'plazosDefinidos'])"
   ]
  },
  {
   "cell_type": "code",
   "execution_count": null,
   "id": "0d5752b7-7af0-4dd9-b9ea-e3923e87fe8d",
   "metadata": {
    "tags": []
   },
   "outputs": [],
   "source": [
    "#print(s.where(s.plazosDefinidos.isNotNull()).limit(15).toPandas().loc[1])"
   ]
  },
  {
   "cell_type": "code",
   "execution_count": null,
   "id": "76042dbb-d914-4836-8bbe-06c9aef7bddb",
   "metadata": {},
   "outputs": [],
   "source": []
  }
 ],
 "metadata": {
  "kernelspec": {
   "display_name": "Python 3 (ipykernel)",
   "language": "python",
   "name": "python3"
  },
  "language_info": {
   "codemirror_mode": {
    "name": "ipython",
    "version": 3
   },
   "file_extension": ".py",
   "mimetype": "text/x-python",
   "name": "python",
   "nbconvert_exporter": "python",
   "pygments_lexer": "ipython3",
   "version": "3.9.6"
  }
 },
 "nbformat": 4,
 "nbformat_minor": 5
}
