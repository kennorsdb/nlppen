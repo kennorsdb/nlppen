{
 "cells": [
  {
   "cell_type": "markdown",
   "id": "6a834852-b9fd-483c-93e6-3b80f3e879c5",
   "metadata": {},
   "source": [
    "# Imports"
   ]
  },
  {
   "cell_type": "code",
   "execution_count": 1,
   "id": "cc2ec801-fdee-413e-aca9-8ee8e77e0cac",
   "metadata": {
    "execution": {
     "iopub.execute_input": "2021-09-03T16:03:37.700399Z",
     "iopub.status.busy": "2021-09-03T16:03:37.699975Z",
     "iopub.status.idle": "2021-09-03T16:03:40.527717Z",
     "shell.execute_reply": "2021-09-03T16:03:40.527053Z",
     "shell.execute_reply.started": "2021-09-03T16:03:37.700349Z"
    },
    "tags": []
   },
   "outputs": [],
   "source": [
    "%load_ext autoreload\n",
    "%autoreload 2\n",
    "import sys\n",
    "sys.path.insert(0, \"/home/jovyan/Work/ej/paquetes/nlppen/\")\n",
    "\n",
    "import sys\n",
    "from nlppen.analisis import Analisis\n",
    "from nlppen.seleccion import Seleccion\n",
    "#from nlppen.spark_udfs import solo_portanto\n",
    "from pyspark.sql import SparkSession"
   ]
  },
  {
   "cell_type": "markdown",
   "id": "3106f23a-2bb1-483d-bc31-aa48b9a7db2a",
   "metadata": {
    "tags": []
   },
   "source": [
    "## Initialize spark context"
   ]
  },
  {
   "cell_type": "code",
   "execution_count": 2,
   "id": "b819481b-6ee8-42c7-9add-c19ceba43563",
   "metadata": {
    "execution": {
     "iopub.execute_input": "2021-09-03T16:03:40.528695Z",
     "iopub.status.busy": "2021-09-03T16:03:40.528559Z",
     "iopub.status.idle": "2021-09-03T16:03:43.082733Z",
     "shell.execute_reply": "2021-09-03T16:03:43.082118Z",
     "shell.execute_reply.started": "2021-09-03T16:03:40.528682Z"
    },
    "tags": []
   },
   "outputs": [
    {
     "name": "stderr",
     "output_type": "stream",
     "text": [
      "21/09/03 16:03:41 WARN NativeCodeLoader: Unable to load native-hadoop library for your platform... using builtin-java classes where applicable\n",
      "Using Spark's default log4j profile: org/apache/spark/log4j-defaults.properties\n",
      "Setting default log level to \"WARN\".\n",
      "To adjust logging level use sc.setLogLevel(newLevel). For SparkR, use setLogLevel(newLevel).\n"
     ]
    },
    {
     "data": {
      "text/plain": [
       "'http://7416269fd645:4040'"
      ]
     },
     "execution_count": 2,
     "metadata": {},
     "output_type": "execute_result"
    }
   ],
   "source": [
    "spark = (SparkSession\n",
    "         .builder\n",
    "         .appName(\"Transforming sentences\")\n",
    "         .config(\"spark.num.executors\", \"2\")\n",
    "         .config(\"spark.executor.memory\", \"5g\")\n",
    "         .config(\"spark.executor.cores\", \"1\")\n",
    "         .config(\"spark.driver.memory\", \"5g\")\n",
    "         .config(\"spark.memory.offHeap.enabled\", True)\n",
    "         .config(\"spark.memory.offHeap.size\", \"10g\")\n",
    "         .config(\"spark.sql.execution.arrow.pyspark.enabled\", \"true\")\n",
    "         .getOrCreate())\n",
    "\n",
    "sc = spark.sparkContext\n",
    "sc.uiWebUrl"
   ]
  },
  {
   "cell_type": "code",
   "execution_count": 3,
   "id": "2a92cddd-4b24-4bdf-85d7-ceabe68d009d",
   "metadata": {
    "execution": {
     "iopub.execute_input": "2021-09-03T16:03:48.795989Z",
     "iopub.status.busy": "2021-09-03T16:03:48.795569Z",
     "iopub.status.idle": "2021-09-03T16:03:50.547188Z",
     "shell.execute_reply": "2021-09-03T16:03:50.546662Z",
     "shell.execute_reply.started": "2021-09-03T16:03:48.795972Z"
    },
    "tags": []
   },
   "outputs": [],
   "source": [
    "terminos = {\n",
    "    'seguimiento': ['seguimiento']\n",
    "}\n",
    "selectionObject = Seleccion(terminos, spark, parquet_path='./dataset')"
   ]
  },
  {
   "cell_type": "code",
   "execution_count": 4,
   "id": "ba4718cf-9f09-4426-86fc-effdcf8eaa07",
   "metadata": {
    "execution": {
     "iopub.execute_input": "2021-09-03T16:03:51.889653Z",
     "iopub.status.busy": "2021-09-03T16:03:51.889421Z",
     "iopub.status.idle": "2021-09-03T16:03:54.821638Z",
     "shell.execute_reply": "2021-09-03T16:03:54.821070Z",
     "shell.execute_reply.started": "2021-09-03T16:03:51.889636Z"
    },
    "tags": []
   },
   "outputs": [
    {
     "name": "stderr",
     "output_type": "stream",
     "text": [
      "                                                                                \r"
     ]
    },
    {
     "data": {
      "text/plain": [
       "(150, 24)"
      ]
     },
     "execution_count": 4,
     "metadata": {},
     "output_type": "execute_result"
    }
   ],
   "source": [
    "\n",
    "selectionObject.sdf.toPandas()[selectionObject.sdf.toPandas()['txt'].str.contains(\"seguimiento\")].shape"
   ]
  },
  {
   "cell_type": "code",
   "execution_count": 5,
   "id": "3d6cd4b8-9aa2-4ff1-b732-7817ea8603ee",
   "metadata": {
    "execution": {
     "iopub.execute_input": "2021-09-03T16:04:01.337827Z",
     "iopub.status.busy": "2021-09-03T16:04:01.337517Z",
     "iopub.status.idle": "2021-09-03T16:04:07.441138Z",
     "shell.execute_reply": "2021-09-03T16:04:07.440489Z",
     "shell.execute_reply.started": "2021-09-03T16:04:01.337812Z"
    },
    "tags": []
   },
   "outputs": [
    {
     "name": "stderr",
     "output_type": "stream",
     "text": [
      "                                                                                \r"
     ]
    },
    {
     "data": {
      "text/plain": [
       "DataFrame[archivo: string, txt: string, tema: string, tema_prob: double, expediente: string, fechahora_ext: timestamp, redactor_ext: string, tipoResolucion_ext: string, termino_ext: string, voto_salvado: boolean, magistrados_ext: array<string>, Fechahora_ents: array<string>, Redactor_ents: array<string>, CitaSentencias_ents: array<string>, Reglamento_ents: array<string>, termino_lst: array<string>, subtema: string, Cantón_ents: array<string>, Ley_ents: array<string>, EntidadPublica_ents: array<string>, subtema_prob: double, Constitución_ents: array<string>, Fecha_ents: array<string>, anno: int, seguimiento: int]"
      ]
     },
     "execution_count": 5,
     "metadata": {},
     "output_type": "execute_result"
    }
   ],
   "source": [
    "selectionObject.filtrar_sentencias()"
   ]
  },
  {
   "cell_type": "code",
   "execution_count": 19,
   "id": "400c3e60-bcfa-471d-9353-a6a86cb3cacc",
   "metadata": {},
   "outputs": [
    {
     "data": {
      "text/plain": [
       "9    *060127740007CO* Exp: 06-012774-0007-CO Res. N...\n",
       "Name: txt, dtype: object"
      ]
     },
     "execution_count": 19,
     "metadata": {},
     "output_type": "execute_result"
    }
   ],
   "source": [
    "selectionObject.sdf.toPandas()[selectionObject.sdf.toPandas()['Se_ordena'] >= 2]['txt'][1:2]"
   ]
  },
  {
   "cell_type": "code",
   "execution_count": 16,
   "id": "f35f7bf8-b1df-40a5-8d23-80fc045475fc",
   "metadata": {
    "execution": {
     "iopub.execute_input": "2021-09-03T16:39:56.094707Z",
     "iopub.status.busy": "2021-09-03T16:39:56.094495Z",
     "iopub.status.idle": "2021-09-03T16:39:56.208603Z",
     "shell.execute_reply": "2021-09-03T16:39:56.207910Z",
     "shell.execute_reply.started": "2021-09-03T16:39:56.094692Z"
    },
    "tags": []
   },
   "outputs": [
    {
     "name": "stdout",
     "output_type": "stream",
     "text": [
      "txt           *160140100007CO* Exp: 16-014010-0007-CO Res. N...\n",
      "expediente                                       160140100007CO\n",
      "Name: 20, dtype: object\n"
     ]
    }
   ],
   "source": [
    "print(selectionObject.sdf.where('termino_ext == \"Con lugar\"').toPandas()[['txt', 'expediente']].loc[20])"
   ]
  },
  {
   "cell_type": "code",
   "execution_count": null,
   "id": "ed3911a2-acb4-4d56-82ce-9e0e1acabc51",
   "metadata": {},
   "outputs": [],
   "source": []
  }
 ],
 "metadata": {
  "kernelspec": {
   "display_name": "Python 3 (ipykernel)",
   "language": "python",
   "name": "python3"
  },
  "language_info": {
   "codemirror_mode": {
    "name": "ipython",
    "version": 3
   },
   "file_extension": ".py",
   "mimetype": "text/x-python",
   "name": "python",
   "nbconvert_exporter": "python",
   "pygments_lexer": "ipython3",
   "version": "3.9.6"
  }
 },
 "nbformat": 4,
 "nbformat_minor": 5
}
